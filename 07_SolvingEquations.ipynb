{
 "cells": [
  {
   "cell_type": "markdown",
   "metadata": {
    "slideshow": {
     "slide_type": "slide"
    }
   },
   "source": [
    "# 07_Solving_Equations \n",
    "### Rescheduled Class\n",
    "You should all have received an email concerning the 2 rescheduled class.\n",
    "<br>Rescheduled classes will be held on: \n",
    "- 06/26 (June 26, Tuesday ), period 1, room CALL 23 \n",
    "- 06/29 (June 29, Friday ), period 5, room CALL 23 \n",
    "\n",
    "You may attend either class. \n",
    "<br>The content will be identical. \n",
    "\n",
    "__THERE IS A CLASS ON JUNE 25, MONDAY AS USUAL__"
   ]
  },
  {
   "cell_type": "markdown",
   "metadata": {
    "slideshow": {
     "slide_type": "slide"
    }
   },
   "source": [
    "### Rescheduled Class\n",
    "All classes on June 18, Monday are cancelled for University's Foundation Day.\n",
    "\n",
    "<br>The rescheduled class will be on June 20, period 5, Wednesday, room CALL 23.\n",
    "\n",
    "<br>(Normal Wednesday classes have been rescheduled)"
   ]
  },
  {
   "cell_type": "markdown",
   "metadata": {
    "slideshow": {
     "slide_type": "slide"
    }
   },
   "source": [
    "## Exam\n",
    "A take-home exam with a time limit of 1 week will be issued on July 16 *instead of* the previously sheduled exam on July 23.\n",
    "\n",
    "The deadline for the take-home exam will be July 23.\n",
    "\n",
    "Please submit your exam solution by email."
   ]
  },
  {
   "cell_type": "markdown",
   "metadata": {
    "slideshow": {
     "slide_type": "slide"
    }
   },
   "source": [
    "## Please download the new class notes.\n",
    "### Step 1 : Navigate to the directory where your files are stored.  \n",
    "Open a terminal. \n",
    "<br>Using `cd`, navigate to *inside* the ILAS_Python_for_engineers folder on your computer. \n",
    "### Step 3 : Update the course notes by downloading the changes\n",
    "In the terminal type:\n",
    "\n",
    ">`git add -A\n",
    "git commit -m \"commit\"\n",
    "git fetch upstream\n",
    "git merge -X theirs upstream/master`\n"
   ]
  },
  {
   "cell_type": "markdown",
   "metadata": {
    "collapsed": true,
    "slideshow": {
     "slide_type": "slide"
    }
   },
   "source": [
    "# Working with Data\n",
    "\n",
    "<br> <a href='#Pandas'>Pandas</a>\n",
    "<br> <a href='#Installation'>Installation</a> \n",
    "<br> <a href='#ImportingData'>Importing Data</a> \n",
    "\t<br> &emsp;&emsp; <a href='#ConvertingPythonObject'>Converting a Python Object</a> \n",
    "    <br> &emsp;&emsp; <a href='#ImportingDataExternalFile'>Importing Data from an External File</a> \n",
    "        <br> &emsp;&emsp; &emsp;&emsp; <a href='#AssigningNamesUnlabelledData'>Assigning Names to Unlabelled Data</a> \n",
    "        <br> &emsp;&emsp; &emsp;&emsp; <a href='#RenamingColumns'>Renaming Columns</a> \n",
    "        <br> &emsp;&emsp; &emsp;&emsp; <a href='#RenamingRows'>Renaming Rows</a> \n",
    "        <br> &emsp;&emsp; &emsp;&emsp; <a href='#RenamingRowHeader'>Renaming Row Header</a> \n",
    "        <br> &emsp;&emsp; &emsp;&emsp; <a href='#ImportOptions'>Import Options</a> \n",
    "<br> <a href='#ViewingInspectingData'>ViewingInspectingData</a> \n",
    "<br> <a href='#SelectingData'>Selecting Data</a> \n",
    "<br> <a href='#Indexing'>Indexing</a> \n",
    "<br> <a href='#NumpyFunctionsDataFrames'>Numpy Functions for Data Frames</a>\n",
    "<br> <a href='#BooleanDataFrameIndexing'>Boolean Data Frame Indexing</a>\n",
    "<br> <a href='#ChangingValues'>Changing Values</a>\n",
    "<br> <a href='#ApplyingFunctionWholeSeries'>Applying a Function to a Whole Series</a>\n",
    "<br> <a href='#SortingDataFrames'>Sorting Data Frames</a>\n",
    "<br> <a href='#DataCleaning'>Data Cleaning</a>\n",
    "<br> <a href='#Iterating'>Iterating</a>\n",
    "<br> <a href='#PlottingDataFrames'>Plotting Data Frames</a>\n",
    "<br> <a href='#AddingRemovingJoining'>Adding, Removing and Joining</a>  \n",
    "    &emsp;&emsp; <a href='#AddingColumnDataFrame'>Adding a Column to a Data Frame</a> \n",
    "    <br> &emsp;&emsp; <a href='#InsertingColumnDataFrame'>Inserting a Column to a Data Frame</a> \n",
    "    <br> &emsp;&emsp; <a href='#AddingRowDataFrame'>Adding a Row to a Data Frame</a> \n",
    "<br> <a href='#Resampling'>Resampling</a> \n",
    "<br> <a href='#SavingDataFrame'>Saving a Data Frame</a>\n",
    "<br> <a href='#OtherWaysSaveProgramOutput'>Other Ways to Save Program Output</a> \n",
    "<br> <a href='#ReadingWritingTextFiles'>Reading and Writing Text Files</a> \n",
    "    <br> &emsp;&emsp; <a href='#WritingFiles'>Writing Files</a> \n",
    "    <br> &emsp;&emsp; <a href='#ReadingEditingFiles'>Reading and Editing Files</a> \n",
    "    <br> &emsp;&emsp; <a href='#BinaryFilesPicklingData'>Binary Files (\"Pickling\" Data)</a>\n",
    "        <br> &emsp;&emsp; &emsp;&emsp; <a href='#PicklingPandasDataFrame'>Pickling a Pandas Data Frame</a>\n",
    "    <br> &emsp;&emsp; <a href='#SavingDataNumpy'>Saving Data with Numpy</a>\n",
    "<br> <a href='#Summary'>Summary</a> \n",
    "<br> <a href='#TestYourselfExercises'>Test-Yourself Exercises</a>\n"
   ]
  },
  {
   "cell_type": "markdown",
   "metadata": {
    "slideshow": {
     "slide_type": "slide"
    }
   },
   "source": [
    "### Lesson Goal\n",
    "\n",
    "1. Represent data in a way that is easier to manipulate.\n",
    "1. Save data from your programs to output files. \n",
    "\n",
    "### Fundamental programming concepts\n",
    " - Computational methods for handling medium-large data sets\n",
    " - Storing the output data from your programs"
   ]
  },
  {
   "cell_type": "markdown",
   "metadata": {},
   "source": [
    "Solving mathematical problems programmatically can help you to reach an answer faster when compared to analytical methods. \n",
    "\n",
    "A simple example to demonstrate this point is solving a coupled set of equations."
   ]
  },
  {
   "cell_type": "code",
   "execution_count": 241,
   "metadata": {},
   "outputs": [],
   "source": [
    "import numpy as np\n",
    "import matplotlib.pyplot as plt\n",
    "import random\n",
    "import scipy\n",
    "\n"
   ]
  },
  {
   "cell_type": "markdown",
   "metadata": {},
   "source": [
    "## Systems of Coupled Equations\n",
    "### Linear Equations"
   ]
  },
  {
   "cell_type": "markdown",
   "metadata": {},
   "source": [
    "__Example :__ Given the equations below, find $x_1$, $x_2$ and $x_3$.\n",
    "\n",
    "\\begin{align*}\n",
    "x_1 - x_2 + x_3 &= 0\\\\\n",
    "10x_2 + 25x_3 &= 90\\\\\n",
    "20x_1 + 10x_2 &= 80\\\\\n",
    "\\end{align*}\n",
    "\n"
   ]
  },
  {
   "cell_type": "markdown",
   "metadata": {},
   "source": [
    "We have three equations and three unknown values so we can solve the equations, for example using substitution or elimitaion."
   ]
  },
  {
   "cell_type": "markdown",
   "metadata": {},
   "source": [
    "A faster way to solve this problem is to use the function `solve` from the Numpy linear algebra module. \n",
    "\n",
    "First the values from the right-hand-side and the coefficients from the left-hand-side are arranged as Numpy arrays.\n",
    "\n"
   ]
  },
  {
   "cell_type": "code",
   "execution_count": 242,
   "metadata": {},
   "outputs": [],
   "source": [
    "A = np.array([[1, -1, 1],\n",
    "              [0, 10, 25],\n",
    "              [20, 10, 0]])\n",
    "\n",
    "B = np.array([0, 90, 80])\n"
   ]
  },
  {
   "cell_type": "markdown",
   "metadata": {},
   "source": [
    "If you are familiar with matrices, this is equivalent to expressing the form: "
   ]
  },
  {
   "cell_type": "markdown",
   "metadata": {},
   "source": [
    "\\begin{equation*}\n",
    "\\underbrace{\n",
    "\\begin{bmatrix}\n",
    "1 & -1 & 1  \\\\\n",
    "0 & 10 & 25 \\\\\n",
    "20 & 10 & 0 \\\\\n",
    "\\end{bmatrix}\n",
    "}_{\\mathbf{A}}\n",
    "\\cdot\n",
    "\\underbrace{\n",
    "\\begin{bmatrix}\n",
    "x_1 \\\\\n",
    "x_2 \\\\\n",
    "x_3 \\\\\n",
    "\\end{bmatrix}\n",
    "}_{\\mathbf{x}}\n",
    "=\\underbrace{\n",
    "\\begin{bmatrix}\n",
    "0 \\\\\n",
    "90 \\\\\n",
    "80 \\\\\n",
    "\\end{bmatrix}\n",
    "}_{\\mathbf{B}}\n",
    "\\end{equation*}"
   ]
  },
  {
   "cell_type": "markdown",
   "metadata": {},
   "source": [
    "Notice that B appears in code as a horizontal array.\n",
    "\n",
    "In Python, 1D arrays are ALWAYS represented horizontally. \n",
    "\n",
    "The array is treated as a row or column vector depending on the equation in which it appears."
   ]
  },
  {
   "cell_type": "markdown",
   "metadata": {},
   "source": [
    "`solve` solves linear equations of the form `ax = b` for x.\n",
    "\n"
   ]
  },
  {
   "cell_type": "code",
   "execution_count": 243,
   "metadata": {
    "scrolled": true
   },
   "outputs": [
    {
     "name": "stdout",
     "output_type": "stream",
     "text": [
      "[2. 4. 2.]\n"
     ]
    }
   ],
   "source": [
    "x = np.linalg.solve(A, B)\n",
    "print(x)\n"
   ]
  },
  {
   "cell_type": "markdown",
   "metadata": {},
   "source": [
    "$x_1 = 2$\n",
    "<br>$x_2 = 4$\n",
    "<br>$x_3 = 2$\n",
    "\n",
    "To verify that this is correct, we can find the matrix product or dot product of $\\mathbf{A}$ and $\\mathbf{x}$. \n",
    "\n",
    "(see 02_DataStructures_LibraryFunctions.ipynb for the dot product)"
   ]
  },
  {
   "cell_type": "code",
   "execution_count": 244,
   "metadata": {},
   "outputs": [
    {
     "name": "stdout",
     "output_type": "stream",
     "text": [
      "[ 0. 90. 80.]\n"
     ]
    }
   ],
   "source": [
    "print(np.dot(A,x))\n"
   ]
  },
  {
   "cell_type": "markdown",
   "metadata": {},
   "source": [
    "The solution matches the original equation, which we can confim in code:"
   ]
  },
  {
   "cell_type": "code",
   "execution_count": 245,
   "metadata": {},
   "outputs": [
    {
     "name": "stdout",
     "output_type": "stream",
     "text": [
      "[ True  True  True]\n"
     ]
    }
   ],
   "source": [
    "print(np.dot(A,x) == B)\n"
   ]
  },
  {
   "cell_type": "markdown",
   "metadata": {
    "slideshow": {
     "slide_type": "subslide"
    }
   },
   "source": [
    "Example engineering problems with systems of coupled linear equations:\n",
    " - the force distribution in a truss structure \n",
    " - the electrical current flowing in and out of each node in a circuit.\n",
    "<img src=\"img/truss.gif\" alt=\"Drawing\" style=\"width: 300px;\"/> "
   ]
  },
  {
   "cell_type": "markdown",
   "metadata": {
    "slideshow": {
     "slide_type": "slide"
    }
   },
   "source": [
    "### Systems of Equations Example: An Electrical Circuit\n",
    "\n",
    "In electrical systems, network theory is the study of how to solve circuit problems. \n",
    "<br>The voltage and current in a closed circuit obey two simple rules;  \n",
    "- Kirchoff's current law (first law)\n",
    "- Kirchhoff's voltage law (second law)\n",
    "<img src=\"img/kirchhoffLaws.png\" alt=\"Drawing\" style=\"width: 300px;\"/> \n"
   ]
  },
  {
   "cell_type": "markdown",
   "metadata": {
    "slideshow": {
     "slide_type": "subslide"
    }
   },
   "source": [
    "#### Kichoff's Current Law\n",
    "\n",
    "The algebraic sum of ALL the currents entering and leaving a junction must be equal to zero.\n",
    "\n",
    "$\\sum i_{in} - \\sum i_{out} = 0 $\n",
    "\n",
    "\n",
    "<img src=\"img/kirchhoffCurrentLaw.png\" alt=\"Drawing\" style=\"width: 200px;\"/>"
   ]
  },
  {
   "cell_type": "markdown",
   "metadata": {
    "slideshow": {
     "slide_type": "subslide"
    }
   },
   "source": [
    "#### Kirchhoff's Voltage Law\n",
    "For a closed loop series path the algebraic sum of all the *voltages* and *voltage drops* around any closed loop in a circuit is equal to zero.\n",
    "\n",
    "$\\sum E - \\sum V = 0 $\n",
    "\n",
    "<img src=\"img/kirchhoffVoltageLaw.png\" alt=\"Drawing\" style=\"width: 200px;\"/> \n"
   ]
  },
  {
   "cell_type": "markdown",
   "metadata": {
    "slideshow": {
     "slide_type": "subslide"
    }
   },
   "source": [
    "#### Electrical Elements Obey Ohm's Law \n",
    "The current through a conductor (I, units amps) is the voltage measured across the conductor (V, units volts) divided by the resistance (R, units Ohms).\n",
    "\n",
    "$$V = IR$$\n"
   ]
  },
  {
   "cell_type": "markdown",
   "metadata": {
    "slideshow": {
     "slide_type": "subslide"
    }
   },
   "source": [
    "A Wheatstone bridge circuit is a very widely used circuit in scientific equipment.\n",
    "\n",
    "<img src=\"img/Wheat4.png\" alt=\"Drawing\" style=\"width: 200px;\"/> \n",
    "\n",
    "\n"
   ]
  },
  {
   "cell_type": "markdown",
   "metadata": {},
   "source": [
    "It is found in strain gauges, heart rate monitors, wind tunnels....etc.\n",
    "\n",
    "Fundamentally, it is used to measure resistance.\n"
   ]
  },
  {
   "cell_type": "markdown",
   "metadata": {
    "slideshow": {
     "slide_type": "subslide"
    }
   },
   "source": [
    "<img src=\"img/Wheat1.png\" alt=\"Drawing\" style=\"width: 200px;\"/> \n",
    "\n",
    "It has one voltage source, $E$.  \n",
    "\n",
    "It has six branches with resistance: $R_1, R_2, R_3, R_4, R_5, R_6$.\n",
    "\n",
    "__What is the current in each branch of the circuit?__\n",
    "\n"
   ]
  },
  {
   "cell_type": "markdown",
   "metadata": {
    "slideshow": {
     "slide_type": "subslide"
    }
   },
   "source": [
    "The circuit has:\n",
    " - 4 loops (A-D)\n",
    " - 4 nodes (a-d)\n",
    " \n",
    "\n",
    "<img src=\"img/Wheat2.png\" alt=\"Drawing\" style=\"width: 200px;\"/> \n",
    "\n",
    " \n"
   ]
  },
  {
   "cell_type": "markdown",
   "metadata": {
    "slideshow": {
     "slide_type": "subslide"
    }
   },
   "source": [
    "We can use Kirchhoff's current law to equate the current flowing in and out of each node:\n",
    "\n",
    "$\\sum i_{in} - \\sum i_{out} = 0 $\n",
    "\n",
    "__Node a:__ &nbsp; $i_2 - i_4 - i_5 = 0$<br>\n",
    "__Node b:__ &nbsp; $i_1 - i_2 - i_3 = 0$<br>\n",
    "__Node c:__ &nbsp; $i_5 + i_6 - i_1 = 0$<br>\n",
    "__Node d:__ &nbsp; $i_3 + i_4 - i_6 = 0$<br>"
   ]
  },
  {
   "cell_type": "markdown",
   "metadata": {
    "slideshow": {
     "slide_type": "subslide"
    }
   },
   "source": [
    "We can use Kirchoff's voltage law to equate the voltage and voltage drop in each loop: \n",
    "<br>$\\sum V = \\sum E$ \n",
    "\n",
    "__Loop A:__ &nbsp; $R_1 i_1 + R_2 i_2 + R_5 i_5 = E$<br>\n",
    "__Loop B:__ &nbsp; $R_4 i_4 - R_5 i_5 + R_6 i_6 = 0$<br>\n",
    "__Loop C:__ &nbsp; $R_2 i_2 - R_3 i_3 + R_4 i_4 = 0$<br>\n",
    "__Loop D:__ &nbsp; $R_1 i_1 + R_2 i_2 + R_5 i_5 = E$\n",
    "\n",
    "Where, $V=IR$ (Ohm's law)\n",
    "\n"
   ]
  },
  {
   "cell_type": "markdown",
   "metadata": {
    "slideshow": {
     "slide_type": "slide"
    }
   },
   "source": [
    "We only need six equations to find the six unknown values $R_{1-6}$."
   ]
  },
  {
   "cell_type": "markdown",
   "metadata": {
    "slideshow": {
     "slide_type": "subslide"
    }
   },
   "source": [
    "We can express the Loops A-C and Nodes a-c as coupled equations:\n",
    "<br>$\\sum E = \\sum V = \\sum iR$\n",
    "<br>in the form:\n",
    "\n",
    "\n",
    "\\begin{equation*}\n",
    "\\underbrace{\n",
    "\\begin{bmatrix}\n",
    "R_1 & R_2 & 0    & 0   &  R_5 & 0   \\\\\n",
    "0   & 0   & 0    & R_4 & -R_5 & R_6 \\\\\n",
    "0   & R_2 & -R_3 & R_4 &  0   & 0   \\\\\n",
    "0   & 1   & 0    & -1  &  -1  & 0   \\\\\n",
    "1   & -1  & -1   & 0   &  0   & 0   \\\\\n",
    "-1  & 0   & 0    & 0   &  1   & 1   \\\\\n",
    "\\end{bmatrix}\n",
    "}_{\\mathbf{R}}\n",
    "\\cdot\n",
    "\\underbrace{\n",
    "\\begin{bmatrix}\n",
    "i_1 \\\\\n",
    "i_2 \\\\\n",
    "i_3 \\\\\n",
    "i_4 \\\\\n",
    "i_5 \\\\\n",
    "i_6 \\\\\n",
    "\\end{bmatrix}\n",
    "}_{\\mathbf{I}}\n",
    "=\\underbrace{\n",
    "\\begin{bmatrix}\n",
    "E \\\\\n",
    "0 \\\\\n",
    "0 \\\\\n",
    "0 \\\\\n",
    "0 \\\\\n",
    "0 \\\\\n",
    "\\end{bmatrix}\n",
    "}_{\\mathbf{V}}\n",
    "\\end{equation*}"
   ]
  },
  {
   "cell_type": "code",
   "execution_count": 246,
   "metadata": {
    "slideshow": {
     "slide_type": "subslide"
    }
   },
   "outputs": [],
   "source": [
    "# Let's assign some values to our known variables:\n",
    "R1, R2, R3, R4, R5, R6 = 300, 500, 1000, 500, 1000, 500\n",
    "E = 5\n",
    "\n",
    "# And create an array for R and V\n",
    "R = np.array([[R1, R2,  0,   0,   R5, 0 ],\n",
    "              [0,  0,   0,   R4, -R5, R6],\n",
    "              [0,  R2, -R3,  R4,  0,  0 ], \n",
    "              [0,  1,   0,  -1,  -1,  0 ],\n",
    "              [1, -1,  -1,   0,   0,  0 ],              \n",
    "              [-1, 0,   0,   0,   1,  1]])\n",
    "\n",
    "V = np.array([E, 0, 0, 0, 0, 0])\n",
    "\n"
   ]
  },
  {
   "cell_type": "code",
   "execution_count": 247,
   "metadata": {},
   "outputs": [
    {
     "name": "stdout",
     "output_type": "stream",
     "text": [
      "[0.005 0.003 0.002 0.001 0.002 0.003]\n"
     ]
    }
   ],
   "source": [
    "I = np.linalg.solve(R, V)\n",
    "print(I)\n"
   ]
  },
  {
   "cell_type": "markdown",
   "metadata": {},
   "source": [
    "Check your solution.\n",
    "<br>The `@` symbol can be used as shorthand for `np.dot` to find the dot product. "
   ]
  },
  {
   "cell_type": "code",
   "execution_count": 248,
   "metadata": {
    "slideshow": {
     "slide_type": "subslide"
    }
   },
   "outputs": [
    {
     "name": "stdout",
     "output_type": "stream",
     "text": [
      "[ 5.00000000e+00  0.00000000e+00  0.00000000e+00  1.30104261e-18\n",
      "  2.16840434e-18 -2.16840434e-18]\n",
      "[ 5.  0.  0.  0.  0. -0.]\n"
     ]
    }
   ],
   "source": [
    "print(R @ I)\n",
    "print(np.around(R @ I, 2))\n"
   ]
  },
  {
   "cell_type": "markdown",
   "metadata": {
    "slideshow": {
     "slide_type": "subslide"
    }
   },
   "source": [
    "This process is a fast and simple way to solve simultaneous linear equations, for example when compared to eilimination methods. "
   ]
  },
  {
   "cell_type": "markdown",
   "metadata": {
    "slideshow": {
     "slide_type": "subslide"
    }
   },
   "source": [
    "##### Alternative Solution\n",
    "We can find $\\mathbf{I}$ by matrix multiplication:\n",
    "\\begin{align*}\n",
    "\\mathbf{R}\\cdot\\mathbf{I}&=\\mathbf{V}\\\\\n",
    "\\end{align*}\n",
    "\n",
    "but we have to rearrange the equation.\n",
    "\n",
    "\\begin{align*}\n",
    "\\mathbf{I}  &=\\frac{\\mathbf{V}}{\\mathbf{R}}\\\\\n",
    "            &=\\mathbf{R^{-1}}\\cdot\\mathbf{V}\\\\\n",
    "\\end{align*}\n",
    "\n"
   ]
  },
  {
   "cell_type": "markdown",
   "metadata": {},
   "source": [
    "The Numpy linear algebra module can be used to find the inverse of matrix $\\mathbf{R}$."
   ]
  },
  {
   "cell_type": "code",
   "execution_count": 249,
   "metadata": {
    "scrolled": true,
    "slideshow": {
     "slide_type": "subslide"
    }
   },
   "outputs": [
    {
     "name": "stdout",
     "output_type": "stream",
     "text": [
      "[0.005 0.003 0.002 0.001 0.002 0.003]\n"
     ]
    }
   ],
   "source": [
    "R_inv = np.linalg.inv(R)\n",
    "\n",
    "I = np.dot(R_inv, V)\n",
    "\n",
    "print(I)\n"
   ]
  },
  {
   "cell_type": "markdown",
   "metadata": {
    "slideshow": {
     "slide_type": "subslide"
    }
   },
   "source": [
    "### Non-linear Equations\n",
    "\n",
    "An example application of solving a coupled set of non-linear equations is finding the coefficients of a quadratic polynomial function, using three points that lie on the curve of the function.\n",
    "\n",
    "The equation for a parabola is $y=ax^2+bx+c$, where $a$, $b$, and $c$ are constants.\n",
    "\n",
    "The equation of a parabola can be fully defined using three points that lie on the curve (provided the curve is not a  straight line). \n",
    "\n",
    "Given three points $(x_1,y_1)$, $(x_2,y_2)$, $(x_3,y_3)$,\n",
    "<br>three simultaneous equation may be written: \n",
    "$$\n",
    "\\begin{split}\n",
    "x_1^2a+x_1b+c&=y_1 \\\\\n",
    "x_2^2a+x_2b+c&=y_2 \\\\\n",
    "x_3^2a+x_3b+c&=y_3 \\\\\n",
    "\\end{split}\n",
    "$$\n",
    "\n",
    "Given that:\n",
    "<br>$(x_1,y_1)=(-2,2)$ \n",
    "<br>$(x_2,y_2)=(1,-1)$ \n",
    "<br>$(x_3,y_3)=(4,4)$\n",
    "\n",
    "find $a$,$b$ and $c$.\n",
    "\n",
    "\n",
    "Hint: \n",
    "<br>Build a 1D array, `y`,  containing values $y_1$, $y_2$ and $y_3$.\n",
    "<br>Build a 2D array, `x`, with which to multiply `y` to find a 1D array containing $a$, $b$ and $c$.\n",
    "\n",
    "\n",
    "__(B)__ Show that your solution is correct by:\n",
    " - plotting a graph of $y=ax^2+bx+c$ against $x$ for range of x.\n",
    " - plotting the three points: <br>$(x_1,y_1)=(-2,2)$ <br>$(x_2,y_2)=(1,-1)$ <br>$(x_3,y_3)=(4,4)$ <br>as points to check that they lie on the curve.\n",
    "\n",
    "\n",
    "\n"
   ]
  },
  {
   "cell_type": "markdown",
   "metadata": {
    "collapsed": true
   },
   "source": [
    "\n",
    "\\begin{equation*}\n",
    "\\underbrace{\n",
    "\\begin{bmatrix}\n",
    "-2^2 & -2 & 1  \\\\\n",
    "1^2 & 1 & 1 \\\\\n",
    "4^2 & 4 & 1 \\\\\n",
    "\\end{bmatrix}\n",
    "}_{\\mathbf{x}}\n",
    "\\cdot\n",
    "\\begin{bmatrix}\n",
    "a \\\\\n",
    "b \\\\\n",
    "c \\\\\n",
    "\\end{bmatrix}\n",
    "=\\underbrace{\n",
    "\\begin{bmatrix}\n",
    "2 \\\\\n",
    "-1 \\\\\n",
    "4 \\\\\n",
    "\\end{bmatrix}\n",
    "}_{\\mathbf{y}}\n",
    "\\end{equation*}"
   ]
  },
  {
   "cell_type": "code",
   "execution_count": 121,
   "metadata": {},
   "outputs": [
    {
     "name": "stdout",
     "output_type": "stream",
     "text": [
      "[ 0.8        -2.33333333  0.53333333]\n"
     ]
    }
   ],
   "source": [
    "# 1D array, y\n",
    "y = np.array([2, -1, 4])\n",
    "\n",
    "# 2D array, x\n",
    "x = np.array([[(-2**2), -2, 1],\n",
    "              [(1**2),   1, 1],\n",
    "              [(4**2),   4, 1]])\n",
    "\n",
    "abc = np.linalg.solve(x, y)\n",
    "print(abc)"
   ]
  },
  {
   "cell_type": "markdown",
   "metadata": {},
   "source": [
    "Another way to create matrix x without writing it out explicitly is to use:\n",
    "- broadcasting\n",
    "- the numpy function, `power()` (raises first argument to power of second)\n"
   ]
  },
  {
   "cell_type": "code",
   "execution_count": null,
   "metadata": {},
   "outputs": [],
   "source": [
    "xs = np.array([-2, 1, 4])\n",
    "xs = xs.reshape((3,1))\n",
    "power = np.array([2, 1, 0])\n",
    "x = np.power(xs, power)"
   ]
  },
  {
   "cell_type": "markdown",
   "metadata": {},
   "source": [
    "## Root Finding \n",
    "In a previous seminar we looked at fitting polynimal functions to data points. \n",
    "\n"
   ]
  },
  {
   "cell_type": "code",
   "execution_count": 250,
   "metadata": {},
   "outputs": [],
   "source": [
    "# Example data set with noise\n",
    "x = np.linspace(-6, 10, 100)\n",
    "y = (2*x**3-8*x**2-96*x)* np.random.random(size=x.shape)"
   ]
  },
  {
   "cell_type": "code",
   "execution_count": 251,
   "metadata": {},
   "outputs": [
    {
     "name": "stdout",
     "output_type": "stream",
     "text": [
      "[  0.94414823  -3.74571891 -44.41600766  -1.27339876]\n"
     ]
    },
    {
     "data": {
      "image/png": "[encoded data removed]",
      "text/plain": [
       "<Figure size 432x288 with 1 Axes>"
      ]
     },
     "metadata": {},
     "output_type": "display_data"
    }
   ],
   "source": [
    "# Choose a rnadom sample\n",
    "x_sub, y_sub = zip(*random.sample(list(zip(x, y)), 50))\n",
    "\n",
    "# Plot the data\n",
    "plt.plot(x_sub, y_sub, 'ro')\n",
    "\n",
    "# Find the coefficients of a polynomial curve fitted to the data\n",
    "a = np.polyfit(x_sub, y_sub, 3)\n",
    "\n",
    "# Generate the points of the curve for the given input data\n",
    "yfit3 = a[0]*x**3 + a[1]*x**2 + a[2]*x + a[3]\n",
    "\n",
    "print(a)"
   ]
  },
  {
   "cell_type": "markdown",
   "metadata": {},
   "source": [
    "Many applications involve finding the roots of a function $f(x)$.\n",
    "\n",
    "That is, we want to find a value or values for $x$ such that $f(x)=0$."
   ]
  },
  {
   "cell_type": "markdown",
   "metadata": {},
   "source": [
    "For some functions, the roots are easy to find analytically.\n",
    "<br>For example, the function used to generate the data above is:\n",
    "\n",
    "$f(x) = 2x^3 - 8x^2 - 96x$\n",
    "\n",
    "As each term is divisible by $2x$, we can easily factorise this function to:\n",
    "\n",
    "$f(x)=(2x)(x + 4)(x - 8)$\n",
    "\n",
    "giving us roots as 0, -4, and 8.\n",
    "\n"
   ]
  },
  {
   "cell_type": "markdown",
   "metadata": {},
   "source": [
    "After adding some noise to the data set, the derived function is not so atrightforward."
   ]
  },
  {
   "cell_type": "markdown",
   "metadata": {},
   "source": [
    "We can use the functions `roots` to find the roots of a polynomial function."
   ]
  },
  {
   "cell_type": "code",
   "execution_count": 252,
   "metadata": {},
   "outputs": [
    {
     "name": "stdout",
     "output_type": "stream",
     "text": [
      "[ 9.13389436 -5.13785476 -0.02873998]\n"
     ]
    }
   ],
   "source": [
    "r = np.roots(a)\n",
    "print(r)"
   ]
  },
  {
   "cell_type": "markdown",
   "metadata": {},
   "source": [
    "We can plot the polynomial equation and the roots to check the solution:"
   ]
  },
  {
   "cell_type": "code",
   "execution_count": 253,
   "metadata": {},
   "outputs": [
    {
     "data": {
      "text/plain": [
       "[<matplotlib.lines.Line2D at 0x1017bc5ac8>]"
      ]
     },
     "execution_count": 253,
     "metadata": {},
     "output_type": "execute_result"
    },
    {
     "data": {
      "image/png": "[encoded data removed]",
      "text/plain": [
       "<Figure size 432x288 with 1 Axes>"
      ]
     },
     "metadata": {},
     "output_type": "display_data"
    }
   ],
   "source": [
    "z = np.zeros(len(r))     \n",
    "plt.plot(x, yfit3, 'r--')\n",
    "plt.plot(r, z, 'ks', markersize=10)"
   ]
  },
  {
   "cell_type": "markdown",
   "metadata": {},
   "source": [
    "`roots` ony works for polynomials, it does not work for any other nonlinear function.\n"
   ]
  },
  {
   "cell_type": "markdown",
   "metadata": {},
   "source": [
    "For a polynomial function, we know that there will be many roots as the order of the function e.g. the cubic function above will have three roots.\n",
    "\n",
    "It is easy to verify this visually from the plot above."
   ]
  },
  {
   "cell_type": "markdown",
   "metadata": {},
   "source": [
    "To count the number of roots in a function *computationally* we can:\n",
    "- find the number of solutions if we are using `root` i.e. ```python len(r)```\n",
    "- count the number of times that the sign changes in the interval.\n"
   ]
  },
  {
   "cell_type": "markdown",
   "metadata": {},
   "source": [
    "#### Counting roots using sign changes.\n",
    "If we multiply each pair of neightbouring elements together, wherever the product is a negative value, this indicates a sign change.\n",
    "\n",
    "*(You only get a negative number from the product of a positive and negative number).*"
   ]
  },
  {
   "cell_type": "code",
   "execution_count": 254,
   "metadata": {},
   "outputs": [
    {
     "name": "stdout",
     "output_type": "stream",
     "text": [
      "3\n"
     ]
    }
   ],
   "source": [
    "print(np.sum(y[:-1] * y[1:] < 0))"
   ]
  },
  {
   "cell_type": "markdown",
   "metadata": {},
   "source": [
    "##### What does this code do?\n",
    ">`y[:-1] * y[1:]`\n",
    "\n",
    "This gives us a new array with the product of each neighbouring pair.\n",
    "\n",
    "<br>\n",
    ">`y[:-1] * y[1:] < 0`\n",
    "\n",
    "We then remove all non-negative values...\n",
    "\n",
    "<br>\n",
    ">`np.sum(y[:-1] * y[1:] < 0)`\n",
    "\n",
    "...and finally count how many values are left."
   ]
  },
  {
   "cell_type": "markdown",
   "metadata": {},
   "source": [
    "## Iterative Solutions\n",
    "\n",
    "Nonlinear algebra problems are typically solved using an iterative process that terminates when the solution is found within a specified tolerance. \n",
    "\n",
    "This process is hidden from the user. \n",
    "\n",
    "For the iteration to work, an initial guess is usually required from the user."
   ]
  },
  {
   "cell_type": "markdown",
   "metadata": {},
   "source": [
    "For example, consider the following electro-chemical equation.\n",
    "\n",
    "The product is a function of the ratio of the reactants:\n",
    "\n",
    "$f(Ca) = V - \\frac{(Ca0 - Ca)}{(k * Ca^2)}$\n"
   ]
  },
  {
   "cell_type": "markdown",
   "metadata": {},
   "source": [
    "We can define a function for the reaction:"
   ]
  },
  {
   "cell_type": "code",
   "execution_count": 255,
   "metadata": {
    "scrolled": true
   },
   "outputs": [],
   "source": [
    "def func(Ca):\n",
    "    return V - (Cao - Ca)/(k * Ca**2)"
   ]
  },
  {
   "cell_type": "markdown",
   "metadata": {},
   "source": [
    "By plotting the function for a range of values and setting the lower y-limit to zero we can make a guess at the root of the function."
   ]
  },
  {
   "cell_type": "code",
   "execution_count": 256,
   "metadata": {},
   "outputs": [],
   "source": [
    "# unit definitions\n",
    "m=1.0\n",
    "L = m**3 / 1000.0\n",
    "mol = 1.0\n",
    "s=1.0\n",
    "\n",
    "# example data\n",
    "Cao=2.0*mol/L\n",
    "V=10.0*L\n",
    "k= 16\n",
    "\n",
    "# a range of input values\n",
    "c = np.linspace(0.001, 2) * mol / L"
   ]
  },
  {
   "cell_type": "code",
   "execution_count": 257,
   "metadata": {},
   "outputs": [
    {
     "data": {
      "text/plain": [
       "(0, 0.012)"
      ]
     },
     "execution_count": 257,
     "metadata": {},
     "output_type": "execute_result"
    },
    {
     "data": {
      "image/png": "[encoded data removed]",
      "text/plain": [
       "<Figure size 432x288 with 1 Axes>"
      ]
     },
     "metadata": {},
     "output_type": "display_data"
    }
   ],
   "source": [
    "plt.plot(c, func(c))\n",
    "plt.xlabel('Ca (mol/m^3)')\n",
    "plt.xlabel('f(Ca)')\n",
    "\n",
    "# set the lower limit\n",
    "plt.ylim([0, 0.012])"
   ]
  },
  {
   "cell_type": "markdown",
   "metadata": {},
   "source": [
    "It looks like the answer is near `Ca = 125`"
   ]
  },
  {
   "cell_type": "markdown",
   "metadata": {},
   "source": [
    "We can now use the function `fsolve` to run an iterative solver on the input data."
   ]
  },
  {
   "cell_type": "code",
   "execution_count": 258,
   "metadata": {},
   "outputs": [
    {
     "name": "stdout",
     "output_type": "stream",
     "text": [
      "[108.72206355]\n"
     ]
    }
   ],
   "source": [
    "from scipy.optimize import fsolve\n",
    "\n",
    "cguess = 125\n",
    "\n",
    "c_root = fsolve(func, cguess)\n",
    "\n",
    "print(c_root)"
   ]
  },
  {
   "cell_type": "markdown",
   "metadata": {},
   "source": [
    "We can check our solution by finding the value of the function at the value returned as the estimate for the root."
   ]
  },
  {
   "cell_type": "code",
   "execution_count": 259,
   "metadata": {},
   "outputs": [
    {
     "name": "stdout",
     "output_type": "stream",
     "text": [
      "[6.38378239e-16]\n"
     ]
    }
   ],
   "source": [
    "print(func(c_root))               "
   ]
  },
  {
   "cell_type": "markdown",
   "metadata": {},
   "source": [
    "The answer is very close to zero."
   ]
  },
  {
   "cell_type": "markdown",
   "metadata": {},
   "source": [
    "The *tolerance* of the iterative solver can be set by the user using the argument `xtol` which has a default value of `xtol=1.49012e-08`.\n",
    "\n",
    "*__Tolerance:__ The calculation will terminate if the relative error between two consecutive iteration is at most xtol.*"
   ]
  },
  {
   "cell_type": "markdown",
   "metadata": {},
   "source": [
    "What is actually happening when the solver is run?\n",
    "\n",
    "Many mathematical algorithms exist for estimating a root of a function."
   ]
  },
  {
   "cell_type": "markdown",
   "metadata": {},
   "source": [
    "One such algorithm is the Bisection method."
   ]
  },
  {
   "cell_type": "markdown",
   "metadata": {},
   "source": [
    "## Bisection (using `while` loops) \n",
    "\n",
    "Bisection is an iterative method for approximating a root of a function $y = F(x)$ \n",
    "\n",
    "We know the roots are found where the line of the function F(x) __crosses__ the x axis (red dot).\n",
    "\n",
    "We also know that a crossing point is found where the product of two neighbouring values id equal to zero.\n",
    "\n",
    "<img src=\"img/bisection_method.png\" alt=\"Drawing\" style=\"width: 300px;\"/>\n",
    "\n",
    "\n"
   ]
  },
  {
   "cell_type": "markdown",
   "metadata": {},
   "source": [
    "For example, the initial interval can be determined by multiplying all neighbouring points. \n",
    "\n",
    "Earlier, we found the *number* of roots using:\n",
    "\n",
    "    np.sum(y[:-1] * y[1:] < 0)\n",
    "\n",
    "If `y` is the value of $f(x)$:\n",
    "\n",
    "    # index of crossing points\n",
    "    i = np.argwhere(y[:-1] * y[1:] < 0)\n",
    "    \n",
    "    # lower value of each interval\n",
    "    int_low = x[:-1][i]\n",
    "    \n",
    "    # upper value of each interval\n",
    "    int_high = x[1:][i]\n",
    "\n"
   ]
  },
  {
   "cell_type": "markdown",
   "metadata": {
    "collapsed": true
   },
   "source": [
    "An initial interval is determined within which the crossing point lies.\n",
    "\n",
    "The value of the function at the mid-point or *bisection* of the interval is found.\n",
    "\n",
    "If it is not close enough (within a defined tolerance) to zero (i.e. the crossing point), we find wether the crossing point lies in the top or bottom half of the interval. \n",
    "\n",
    "The top or bottom half (containig the crossing point) becomes the new interval.\n",
    "\n",
    "The function repeats."
   ]
  },
  {
   "cell_type": "markdown",
   "metadata": {},
   "source": [
    "<img src=\"img/bisection_method_simple.png\" alt=\"Drawing\" style=\"width: 300px;\"/>\n",
    "\n",
    "In the example shown, the midpoint (x$_{mid}$) of a$_1$  and b$_1$ is b$_2$ \n",
    "<br>$F(a_1) \\times F(b_2) =$ negative\n",
    "<br>$F(b_1) \\times F(b_2) =$ positive\n",
    "\n",
    "So the new increment is between a$_1$ and b$_2$.\n",
    "\n",
    "By repeating this process, the value of F(x$_{mid}$) should become closer to zero with each iteration.\n",
    "\n"
   ]
  },
  {
   "cell_type": "markdown",
   "metadata": {},
   "source": [
    "Consider the function:\n",
    "\n",
    "$$\n",
    "F(x) = 4x^3 - 3x^2 - 25x - 6\n",
    "$$"
   ]
  },
  {
   "cell_type": "code",
   "execution_count": 260,
   "metadata": {
    "scrolled": false
   },
   "outputs": [
    {
     "data": {
      "image/png": "[encoded data removed]",
      "text/plain": [
       "<Figure size 432x288 with 1 Axes>"
      ]
     },
     "metadata": {},
     "output_type": "display_data"
    }
   ],
   "source": [
    "def F(x):\n",
    "    return (4*x**3) - (3*x**2) - (25*x) - 6\n",
    "\n",
    "x = np.linspace(-4, 5)\n",
    "y = F(x)\n",
    "plt.plot(x,y)\n",
    "plt.grid(color='k', linestyle='-', linewidth=0.5)"
   ]
  },
  {
   "cell_type": "markdown",
   "metadata": {},
   "source": [
    "We can see that a root exists between 2 and 4.\n",
    "\n",
    "We can also show this programmatically:"
   ]
  },
  {
   "cell_type": "code",
   "execution_count": 261,
   "metadata": {},
   "outputs": [
    {
     "name": "stdout",
     "output_type": "stream",
     "text": [
      "[[-2.16326531]\n",
      " [-0.32653061]\n",
      " [ 2.97959184]]\n",
      "\n",
      "[[-1.97959184]\n",
      " [-0.14285714]\n",
      " [ 3.16326531]]\n"
     ]
    }
   ],
   "source": [
    "i = np.argwhere(y[:-1] * y[1:] < 0)\n",
    "                \n",
    "int_low  = x[:-1][i]\n",
    "int_hi = x[1:][i]\n",
    "                \n",
    "print(int_low)\n",
    "print()\n",
    "print(int_hi)"
   ]
  },
  {
   "cell_type": "markdown",
   "metadata": {},
   "source": [
    "We can write a function to find the root solving the bisection method.\n",
    "1. Check that the upper and lower initial values are of opposite sign.\n",
    "1. "
   ]
  },
  {
   "cell_type": "code",
   "execution_count": 262,
   "metadata": {
    "scrolled": true
   },
   "outputs": [
    {
     "name": "stdout",
     "output_type": "stream",
     "text": [
      "root =  3.0\n"
     ]
    }
   ],
   "source": [
    "def bisection(f, lo, hi, tol=1e-6, nmax=30):\n",
    "    \"\"\"\n",
    "    Estimates the root of a function, F(x), using two initial values; x = a and x = b, where F(a)F(b) < 0\n",
    "    \"\"\"\n",
    "    # check lo and hi are of opposite sign\n",
    "    if (f(lo) * f(hi) < 0): \n",
    "        \n",
    "        # find the midpoint of lo and hi\n",
    "        xmid = (lo + hi) / 2\n",
    "\n",
    "        # loop until max iterations reached\n",
    "        for i in range(nmax):\n",
    "\n",
    "            # show value of function at mid point\n",
    "            # print(round(f(xmid), 5))\n",
    "\n",
    "            # if value within tolerance return solution\n",
    "            if (abs(f(xmid)) < tol):\n",
    "                return xmid\n",
    "\n",
    "            # if crossing point between mid and lo, mid is new hi\n",
    "            elif f(xmid) * f(lo) < 0:\n",
    "                hi = xmid\n",
    "                xmid = (lo + hi)/2\n",
    "                \n",
    "            # if crossing point between mid and hi, mid is new lo \n",
    "            else:\n",
    "                lo = xmid\n",
    "                xmid = (lo + hi)/2  \n",
    "                \n",
    "    else:\n",
    "        print(\"invalid starting values, must be of opposite sign\")\n",
    " \n",
    "\n",
    "r = bisection(F, int_low[2][0], int_hi[2][0])\n",
    "print(\"root = \", round(r, 4))\n",
    "\n",
    "# for low, high in zip(int_low, int_hi):\n",
    "#     r = bisection(F, low[0], high[0])\n",
    "#     print(\"root = \", round(r, 4))\n"
   ]
  },
  {
   "cell_type": "markdown",
   "metadata": {},
   "source": [
    "Compare this solution to the numpy function:"
   ]
  },
  {
   "cell_type": "code",
   "execution_count": 263,
   "metadata": {},
   "outputs": [
    {
     "name": "stdout",
     "output_type": "stream",
     "text": [
      "[ 3.   -2.   -0.25]\n"
     ]
    }
   ],
   "source": [
    "r = np.roots([4, -3, -25, -6])\n",
    "print(r)"
   ]
  },
  {
   "cell_type": "markdown",
   "metadata": {
    "slideshow": {
     "slide_type": "slide"
    }
   },
   "source": [
    "<a id='ImportingAlgorithms'></a>\n",
    "## Importing Specific Algorithms  \n",
    "\n",
    "Specific root finding algorithms, including bisection, can also be imported from libraries such as Scipy. \n",
    "\n",
    "The package `scipy.optimize` contains a number of functions for estimating the roots of a function given an initial estimate or interval:\n",
    " - `scipy.optimize.bisect`\n",
    " - `scipy.optimize.fsolve` \n",
    " - `scipy.optimize.brentq`"
   ]
  },
  {
   "cell_type": "code",
   "execution_count": 264,
   "metadata": {},
   "outputs": [
    {
     "name": "stdout",
     "output_type": "stream",
     "text": [
      "3.0000000000010396\n",
      "2.9999999999999982\n"
     ]
    }
   ],
   "source": [
    "import scipy\n",
    "from scipy.optimize import bisect\n",
    "from scipy.optimize import brentq\n",
    "\n",
    "root = scipy.optimize.bisect(F, int_low[2][0], int_hi[2][0])\n",
    "print(root)\n",
    "\n",
    "root = scipy.optimize.brentq(F, int_low[2][0], int_hi[2][0])\n",
    "print(root)"
   ]
  },
  {
   "cell_type": "markdown",
   "metadata": {},
   "source": [
    "## Finding the nth root of a periodic function \n",
    "\n",
    "For periodic functions, the number of roots can be infinite. \n",
    "\n",
    "Methods such as bisection can be useful for finding:\n",
    "- the closest root to a specific point.\n",
    "- the $n$th root, where $n$ is a specific value."
   ]
  },
  {
   "cell_type": "markdown",
   "metadata": {},
   "source": [
    "For today, we will choose a point by visually considering a graph.\n",
    "\n",
    "In a later seminar we will study how to find the $n$th root computaionally."
   ]
  },
  {
   "cell_type": "markdown",
   "metadata": {
    "slideshow": {
     "slide_type": "subslide"
    }
   },
   "source": [
    "__Example:__ Find the root of the cosine function in the vicinity of -5."
   ]
  },
  {
   "cell_type": "markdown",
   "metadata": {
    "slideshow": {
     "slide_type": "subslide"
    }
   },
   "source": [
    "<img src=\"img/cos_graph.png\" alt=\"Drawing\" style=\"width: 500px;\"/> \n"
   ]
  },
  {
   "cell_type": "code",
   "execution_count": 233,
   "metadata": {},
   "outputs": [
    {
     "name": "stdout",
     "output_type": "stream",
     "text": [
      "-1.4999999999999407 pi\n",
      "-1.5 pi\n"
     ]
    }
   ],
   "source": [
    "from numpy import pi as pi\n",
    "\n",
    "root = scipy.optimize.bisect(np.cos, -5, -2.5)\n",
    "print(root/pi, 'pi')\n",
    "\n",
    "root = scipy.optimize.brentq(np.cos, -5, -2.5)\n",
    "print(root/pi, 'pi')"
   ]
  },
  {
   "cell_type": "markdown",
   "metadata": {},
   "source": [
    "## Coupled Non-linear Equations \n",
    "Finally, we can use the function `fsolve` to solve higher order equivalents to the coupled systems of linear equations we started at the beginning of today's class."
   ]
  },
  {
   "cell_type": "markdown",
   "metadata": {},
   "source": [
    "Consider the equations:\n",
    "\n",
    "\\begin{align*}\n",
    "y &= x^2\\\\\n",
    "y &= 8-x^2\\\\\n",
    "\\end{align*}\n"
   ]
  },
  {
   "cell_type": "markdown",
   "metadata": {},
   "source": [
    "We need to setup a function that is equal to zero at the solution. \n",
    "\n",
    "We have two equations, so the function must return two values. \n",
    "\n",
    "There are two variables, so the argument to the function will be an array of values."
   ]
  },
  {
   "cell_type": "code",
   "execution_count": 237,
   "metadata": {},
   "outputs": [
    {
     "name": "stdout",
     "output_type": "stream",
     "text": [
      "[-2.  4.]\n"
     ]
    }
   ],
   "source": [
    "from scipy.optimize import fsolve\n",
    "\n",
    "def objective(X): \n",
    "    x, y = X             # unpack the array into the arguments\n",
    "    z1 = y - x**2        # first equation\n",
    "    z2 = y - 8 + x**2    # second equation\n",
    "    return [z1, z2]      # list of zeros\n",
    "\n",
    "\n"
   ]
  },
  {
   "cell_type": "markdown",
   "metadata": {},
   "source": [
    "We can then use `fsolve` we did for root finding.\n",
    "\n",
    "Again, we need an initial guess for the solution."
   ]
  },
  {
   "cell_type": "code",
   "execution_count": 238,
   "metadata": {},
   "outputs": [
    {
     "name": "stdout",
     "output_type": "stream",
     "text": [
      "[2. 4.]\n"
     ]
    }
   ],
   "source": [
    "x0, y0 = 1, 1 # initial guesses\n",
    "guess = [x0, y0]\n",
    "sol = fsolve(objective, guess)\n",
    "print(sol)"
   ]
  },
  {
   "cell_type": "markdown",
   "metadata": {},
   "source": [
    "There may be more than one solution:"
   ]
  },
  {
   "cell_type": "code",
   "execution_count": null,
   "metadata": {},
   "outputs": [],
   "source": [
    "x0, y0 = -1, -1 # initial guesses\n",
    "guess = [x0, y0]\n",
    "sol = fsolve(objective, guess)\n",
    "print(sol)"
   ]
  },
  {
   "cell_type": "code",
   "execution_count": null,
   "metadata": {},
   "outputs": [],
   "source": []
  },
  {
   "cell_type": "code",
   "execution_count": null,
   "metadata": {},
   "outputs": [],
   "source": []
  },
  {
   "cell_type": "code",
   "execution_count": null,
   "metadata": {},
   "outputs": [],
   "source": []
  }
 ],
 "metadata": {
  "kernelspec": {
   "display_name": "Python 3",
   "language": "python",
   "name": "python3"
  },
  "language_info": {
   "codemirror_mode": {
    "name": "ipython",
    "version": 3
   },
   "file_extension": ".py",
   "mimetype": "text/x-python",
   "name": "python",
   "nbconvert_exporter": "python",
   "pygments_lexer": "ipython3",
   "version": "3.6.5"
  }
 },
 "nbformat": 4,
 "nbformat_minor": 2
}
