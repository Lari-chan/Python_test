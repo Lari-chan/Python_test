{
 "cells": [
  {
   "cell_type": "markdown",
   "metadata": {
    "slideshow": {
     "slide_type": "slide"
    }
   },
   "source": [
    "## Please download the new class notes.\n",
    "### Step 1 : Navigate to the directory where your files are stored.  \n",
    "Open a terminal. \n",
    "<br>Using `cd`, navigate to *inside* the ILAS_Python_for_engineers folder on your computer. \n",
    "### Step 3 : Update the course notes by downloading the changes\n",
    "In the terminal type:\n",
    "\n",
    ">`git add -A\n",
    "git commit -m \"commit\"\n",
    "git fetch upstream\n",
    "git merge -X theirs upstream/master`\n"
   ]
  },
  {
   "cell_type": "markdown",
   "metadata": {
    "collapsed": true,
    "slideshow": {
     "slide_type": "slide"
    }
   },
   "source": [
    "# Plotting and Analysing Plotted Data\n",
    "\n",
    "<br> <a href='#StoringFunctions'>Storing Functions</a>\n",
    "<br> <a href='#WritingYourOwnLibaray'>Writing Your Own Libaray</a> \n",
    "<br> <a href='#Namespaces'>Namespaces</a> \n",
    "\t<br> &emsp;&emsp; <a href='#LocalNamespace'>The Local Namespace</a> \n",
    "<br> <a href='#ModuleSearchPath'>The Module Search Path</a> \n",
    "    <br> &emsp;&emsp; <a href='#FilesLocatedSameDirectory'>Files Located in the Same Directory</a> \n",
    "    <br> &emsp;&emsp; <a href='#__init__.py'>__init__.py</a> \n",
    "    <br> &emsp;&emsp; <a href='#AddingModulesPathSpyder'>Adding Modules to the Path using Spyder</a> \n",
    "    <br> &emsp;&emsp; <a href='#AddingModulessitepackages'>Adding Modules to the 'site-packages’</a>\n",
    "<br> <a href='#VectorisingFunctions'>Vectorising Functions</a>\n",
    "    <br> &emsp;&emsp; <a href='#VectorisedFunctionsFucntionArguments'>Vectorised Functions as Fucntion Arguments</a> \n",
    "<br> <a href='#Broadcasting'>Broadcasting </a>\n",
    "<br> <a href='#LambdaFunctions'>Lambda Functions</a> \n",
    "<br> <a href='#RecursiveFunctions'>Recursive Functions</a> \n",
    "     <br> &emsp;&emsp; <a href='#FibonacciSequence'>The Fibonacci Sequence</a> \n",
    "<br> <a href='#Generators'>Optional Extension Topic: Generators</a> \n",
    "\t<br> &emsp;&emsp; <a href='#FibonacciSequenceContinued'>The Fibonacci Sequence (Continued)</a> \n",
    "<br> <a href='#Summary'>Summary</a> \n",
    "<br> <a href='#TestYourselfExercises'>Test-Yourself Exercises</a>\n",
    "<br> <a href='#ReviewExercises'>Review Exercises</a>"
   ]
  },
  {
   "cell_type": "markdown",
   "metadata": {
    "slideshow": {
     "slide_type": "slide"
    }
   },
   "source": [
    "### Lesson Goal\n",
    "\n",
    "1. Plot data imported from a file \n",
    "2. Perform analysis to file a curve to noisy data and identify peaks. \n",
    "\n",
    "### Fundamental programming concepts\n",
    " - Working with multiple file types\n",
    " - Exploiting computational analysis techniques"
   ]
  },
  {
   "cell_type": "markdown",
   "metadata": {},
   "source": [
    "## Matplotlib\n",
    "\n",
    "Matplotlib is the most widel used Python package for plotting.\n",
    "\n",
    "It's functionality is huge.\n",
    "\n",
    "Today's seminar will introduce the core functionality of Matplotlib.\n",
    "\n",
    "\n",
    "\n"
   ]
  },
  {
   "cell_type": "code",
   "execution_count": 386,
   "metadata": {},
   "outputs": [],
   "source": [
    "import numpy as np\n",
    "\n",
    "# plotting\n",
    "import matplotlib.pyplot as plt\n",
    "\n",
    "# colours\n",
    "import matplotlib.cm as cm\n",
    "\n",
    "# Plotting in 3D\n",
    "from mpl_toolkits.mplot3d import axes3d"
   ]
  },
  {
   "cell_type": "markdown",
   "metadata": {},
   "source": [
    "## SciPy\n",
    "\n",
    "Both Numpy and Matplotlib are part of SciPy; a Python package for mathematics, science, and engineering related computing.\n",
    "\n",
    "Today we will also be importing functions from the SciPy package."
   ]
  },
  {
   "cell_type": "markdown",
   "metadata": {},
   "source": [
    "To display plots in Jupyter Notebook, we must also have the following line in the notebook *before* generating the plot:"
   ]
  },
  {
   "cell_type": "code",
   "execution_count": 387,
   "metadata": {},
   "outputs": [],
   "source": [
    "%matplotlib inline"
   ]
  },
  {
   "cell_type": "markdown",
   "metadata": {},
   "source": [
    "To display plots when running a .py file (e.g. in Spyder, we must also have the following line in the notebook *after* generating the plot:"
   ]
  },
  {
   "cell_type": "code",
   "execution_count": 170,
   "metadata": {},
   "outputs": [],
   "source": [
    "plt.show()"
   ]
  },
  {
   "cell_type": "markdown",
   "metadata": {},
   "source": [
    "Online resources for more Matplotlib functionality:\n",
    " - Matplotlib Gallery (http://matplotlib.org/gallery.html)\n",
    " - Github (http://gree2.github.io/python/2015/04/10/python-matplotlib-plotting-examples-and-exercises)\n",
    " \n",
    " "
   ]
  },
  {
   "cell_type": "markdown",
   "metadata": {
    "slideshow": {
     "slide_type": "slide"
    }
   },
   "source": [
    "## Line and Scatter Plots\n",
    "Matplotlib can be used to produce basic line and scatter plots.\n",
    "\n",
    "You can manipulate the appearance of these plots in code."
   ]
  },
  {
   "cell_type": "markdown",
   "metadata": {
    "slideshow": {
     "slide_type": "subslide"
    }
   },
   "source": [
    "For a sample data set of values of $x$ and corresponding values of $f$:"
   ]
  },
  {
   "cell_type": "code",
   "execution_count": 171,
   "metadata": {},
   "outputs": [],
   "source": [
    "x = [-1, 3, 4, 8 , 10]\n",
    "f = [-1, -2, 7, 13 , 1]"
   ]
  },
  {
   "cell_type": "markdown",
   "metadata": {},
   "source": [
    "We can produce a line plot.."
   ]
  },
  {
   "cell_type": "code",
   "execution_count": 172,
   "metadata": {
    "slideshow": {
     "slide_type": "subslide"
    }
   },
   "outputs": [
    {
     "data": {
      "text/plain": [
       "[<matplotlib.lines.Line2D at 0x1a17977208>]"
      ]
     },
     "execution_count": 172,
     "metadata": {},
     "output_type": "execute_result"
    },
    {
     "data": {
      "image/png": "[encoded data removed]",
      "text/plain": [
       "<matplotlib.figure.Figure at 0x1a17e444a8>"
      ]
     },
     "metadata": {},
     "output_type": "display_data"
    }
   ],
   "source": [
    "plt.plot(x, f)"
   ]
  },
  {
   "cell_type": "markdown",
   "metadata": {
    "slideshow": {
     "slide_type": "subslide"
    }
   },
   "source": [
    "Notice the statement `[<matplotlib.lines.Line2D at 0x30990b0>]` appears each time (the numbers on your computer may look different). \n",
    "\n",
    "This is a handle to the line that is created with the last command in the code block (in this case `plt.plot(x, y)`). \n",
    "\n",
    "You can avoid printing this by putting a semicolon after the last command in the code block (so type `plot(x, y);`). "
   ]
  },
  {
   "cell_type": "markdown",
   "metadata": {
    "slideshow": {
     "slide_type": "subslide"
    }
   },
   "source": [
    "The `plot` function can take many arguments.\n",
    "\n",
    "Summary so far, `plot` can take:\n",
    " - One argument `plot(y)`, which plots `y` values along the vertical axis and enumerates the horizontal axis starting at 0.\n",
    " - Two arguments, `plot(x, y)`, which plots `y` vs `x`.\n",
    " - Three arguments `plot(x, y, formatstring)`, which plots `y` vs `x` using colors and markers defined in `formatstring`.\n",
    " \n",
    " "
   ]
  },
  {
   "cell_type": "markdown",
   "metadata": {
    "slideshow": {
     "slide_type": "subslide"
    }
   },
   "source": [
    "The optional __format string__ is a convenient way for defining basic formatting:\n",
    "\n",
    "Using the `formatstring` argument we can chnage:\n",
    " - the colour of the plot (e.g. `r` = red, `k`= black)\n",
    " - the style of the markers (e.g. `o` = points, `*` = stars)\n",
    " - the style of the line (e.g. `--` = dashes, `.` = dots)"
   ]
  },
  {
   "cell_type": "markdown",
   "metadata": {
    "slideshow": {
     "slide_type": "subslide"
    }
   },
   "source": [
    "In the example below:\n",
    " - `r` makes the plot red\n",
    " - `x` makes the markers crosses\n",
    " - `-` makes the line solid"
   ]
  },
  {
   "cell_type": "code",
   "execution_count": 173,
   "metadata": {},
   "outputs": [
    {
     "data": {
      "image/png": "[encoded data removed]",
      "text/plain": [
       "<matplotlib.figure.Figure at 0x1a1793ee48>"
      ]
     },
     "metadata": {},
     "output_type": "display_data"
    }
   ],
   "source": [
    "plt.plot(x, f, '-xr');"
   ]
  },
  {
   "cell_type": "markdown",
   "metadata": {},
   "source": [
    "Note the semi-colon when calling the `plot` function."
   ]
  },
  {
   "cell_type": "code",
   "execution_count": 174,
   "metadata": {},
   "outputs": [
    {
     "data": {
      "text/plain": [
       "[<matplotlib.lines.Line2D at 0x1a16da7390>]"
      ]
     },
     "execution_count": 174,
     "metadata": {},
     "output_type": "execute_result"
    },
    {
     "data": {
      "image/png": "[encoded data removed]",
      "text/plain": [
       "<matplotlib.figure.Figure at 0x1a16e41630>"
      ]
     },
     "metadata": {},
     "output_type": "display_data"
    }
   ],
   "source": [
    "plt.plot(x, f, '--og')  \n",
    "# plt.plot(x, f, 'og--')  \n",
    "# plt.plot(x, f, 'or--') \n",
    "# plt.plot(x, f, 'k.') "
   ]
  },
  {
   "cell_type": "markdown",
   "metadata": {
    "slideshow": {
     "slide_type": "subslide"
    }
   },
   "source": [
    "Available colours, maker styles and line styles can be found in the matplotlib documentation. \n",
    " - Colour: https://matplotlib.org/2.0.2/api/colors_api.html\n",
    " - Marker style: https://matplotlib.org/api/markers_api.html\n",
    " - Line style: https://matplotlib.org/devdocs/gallery/lines_bars_and_markers/line_styles_reference.html"
   ]
  },
  {
   "cell_type": "markdown",
   "metadata": {
    "slideshow": {
     "slide_type": "subslide"
    }
   },
   "source": [
    "The `plot` function also takes a large number of *keyword arguments*. \n",
    "\n",
    "For example, to plot a line with width 6 (the default is 1): "
   ]
  },
  {
   "cell_type": "code",
   "execution_count": 175,
   "metadata": {},
   "outputs": [
    {
     "data": {
      "image/png": "[encoded data removed]",
      "text/plain": [
       "<matplotlib.figure.Figure at 0x1a16a08f60>"
      ]
     },
     "metadata": {},
     "output_type": "display_data"
    }
   ],
   "source": [
    "plt.plot(x, f, '-xr', linewidth=6);"
   ]
  },
  {
   "cell_type": "markdown",
   "metadata": {
    "slideshow": {
     "slide_type": "subslide"
    }
   },
   "source": [
    "Remeber keyword arguments must always appear after regular arguments when calling the function.\n",
    "\n",
    "Documentation of all available keyword arguments can be found here: https://matplotlib.org/api/_as_gen/matplotlib.pyplot.plot.html#matplotlib.pyplot.plot"
   ]
  },
  {
   "cell_type": "markdown",
   "metadata": {
    "slideshow": {
     "slide_type": "subslide"
    }
   },
   "source": [
    "Other methods such as `legend`, `xlabel`, `ylabel` and `title` can be used to add useful information to a plot."
   ]
  },
  {
   "cell_type": "markdown",
   "metadata": {
    "slideshow": {
     "slide_type": "slide"
    }
   },
   "source": [
    "### Adding labels, legend and title. \n",
    "The location of the legend can be set the the 'best' in terms of not obscuring data. \n",
    "\n",
    "The position of the legend can also be set expllicitly instead. The location codes acan be found here: https://matplotlib.org/api/legend_api.html\n",
    "\n",
    "Using the $ sign can be used to italicise a string.\n",
    "\n",
    "The font size of all strings in the figure can be selected."
   ]
  },
  {
   "cell_type": "code",
   "execution_count": 176,
   "metadata": {
    "slideshow": {
     "slide_type": "subslide"
    }
   },
   "outputs": [
    {
     "data": {
      "image/png": "[encoded data removed]",
      "text/plain": [
       "<matplotlib.figure.Figure at 0x1a16d4a5c0>"
      ]
     },
     "metadata": {},
     "output_type": "display_data"
    }
   ],
   "source": [
    "# Use the label kwarg to create a name to use in the figure legend. \n",
    "plt.plot(x, f, '-xr', label=\"data 1\")\n",
    "\n",
    "# Legend\n",
    "plt.legend(loc='best', fontsize=12)\n",
    "\n",
    "# Axes labels\n",
    "plt.xlabel('$x$', fontsize=20)\n",
    "plt.ylabel('$f$', fontsize=20)\n",
    "\n",
    "# Title\n",
    "plt.title(\"Simple plot of $f$ against $x$\", fontsize=18);"
   ]
  },
  {
   "cell_type": "markdown",
   "metadata": {},
   "source": [
    "Note the semi-colon when calling the `title` function."
   ]
  },
  {
   "cell_type": "markdown",
   "metadata": {
    "slideshow": {
     "slide_type": "subslide"
    }
   },
   "source": [
    "### Setting the axis limits\n",
    "Example: plot the funstion $sin(x)$  for 100 equally spaced values of x between $0$ and $4 \\pi$ (inclusive). "
   ]
  },
  {
   "cell_type": "code",
   "execution_count": 177,
   "metadata": {
    "slideshow": {
     "slide_type": "subslide"
    }
   },
   "outputs": [
    {
     "data": {
      "text/plain": [
       "Text(0,0.5,'$\\\\sin(x)$')"
      ]
     },
     "execution_count": 177,
     "metadata": {},
     "output_type": "execute_result"
    },
    {
     "data": {
      "image/png": "[encoded data removed]",
      "text/plain": [
       "<matplotlib.figure.Figure at 0x1a16ca3f60>"
      ]
     },
     "metadata": {},
     "output_type": "display_data"
    }
   ],
   "source": [
    "num_points = 100\n",
    "x = np.linspace(0, 4*np.pi, num_points)\n",
    "f = np.sin(x)\n",
    "\n",
    "# Plot graph\n",
    "plt.plot(x, f);\n",
    "\n",
    "# Label axis\n",
    "plt.xlabel('$x$')\n",
    "plt.ylabel('$\\sin(x)$')\n",
    "\n"
   ]
  },
  {
   "cell_type": "markdown",
   "metadata": {
    "slideshow": {
     "slide_type": "subslide"
    }
   },
   "source": [
    "The zero on the x axis is offset by an unknown amount. \n",
    "\n",
    "We can improve the appearance of the plot by specifying the $x$ limits:"
   ]
  },
  {
   "cell_type": "code",
   "execution_count": 178,
   "metadata": {
    "slideshow": {
     "slide_type": "subslide"
    }
   },
   "outputs": [
    {
     "data": {
      "text/plain": [
       "(0.0, 12.566370614359172)"
      ]
     },
     "execution_count": 178,
     "metadata": {},
     "output_type": "execute_result"
    },
    {
     "data": {
      "image/png": "[encoded data removed]",
      "text/plain": [
       "<matplotlib.figure.Figure at 0x1a172509e8>"
      ]
     },
     "metadata": {},
     "output_type": "display_data"
    }
   ],
   "source": [
    "# Plot graph\n",
    "plt.plot(x, f);\n",
    "\n",
    "# Label axis\n",
    "plt.xlabel('$x$')\n",
    "plt.ylabel('$\\sin(x)$')\n",
    "\n",
    "# Use the start and end values in x as x limits \n",
    "plt.xlim(x[0], x[-1])\n",
    "\n",
    "# ...or set the lower x limit only\n",
    "#plt.xlim(xmin=0)\n",
    "#plt.xlim(xmin=x[0])"
   ]
  },
  {
   "cell_type": "markdown",
   "metadata": {
    "slideshow": {
     "slide_type": "subslide"
    }
   },
   "source": [
    "### Multiple Plots\n",
    "Plots can be overlaid by called `plt.plot(...` multiple times."
   ]
  },
  {
   "cell_type": "code",
   "execution_count": 179,
   "metadata": {},
   "outputs": [
    {
     "data": {
      "image/png": "[encoded data removed]",
      "text/plain": [
       "<matplotlib.figure.Figure at 0x1a1795f668>"
      ]
     },
     "metadata": {},
     "output_type": "display_data"
    }
   ],
   "source": [
    "# Plot sin(x) and cos(x), and add label for each\n",
    "plt.plot(x, np.sin(x), label=\"$\\sin(x)$\");\n",
    "plt.plot(x, np.cos(x), label=\"$\\cos(x)$\");\n",
    "\n",
    "# Label the x-axis\n",
    "plt.xlabel('$x$');\n",
    "\n",
    "# Add legend\n",
    "plt.legend();\n",
    "\n",
    "# Use the start and end values in x as x limits\n",
    "plt.xlim(x[0], x[-1]);"
   ]
  },
  {
   "cell_type": "markdown",
   "metadata": {
    "slideshow": {
     "slide_type": "subslide"
    }
   },
   "source": [
    "### Saving a Plot\n",
    "A plot can be saved as a file for your to use e.g. in a report.\n",
    "\n",
    "A file name should be given.\n",
    "\n",
    "The file type is specified using the file extension.\n",
    "\n",
    "`/` can be used to seperate the names of nested folders.\n",
    "\n"
   ]
  },
  {
   "cell_type": "markdown",
   "metadata": {
    "slideshow": {
     "slide_type": "subslide"
    }
   },
   "source": [
    "In the example below, the graph is saved as a pdf and a png file in the `img` folder in your directory. \n",
    "\n",
    "Run the code in the cell below then open the folder `img` using the file browser on your computer to verify that the files were generated by noting the time stamp shown for each file. "
   ]
  },
  {
   "cell_type": "code",
   "execution_count": 180,
   "metadata": {
    "slideshow": {
     "slide_type": "-"
    }
   },
   "outputs": [
    {
     "data": {
      "text/plain": [
       "<matplotlib.figure.Figure at 0x1a17f63470>"
      ]
     },
     "metadata": {},
     "output_type": "display_data"
    }
   ],
   "source": [
    "# Save plot to file\n",
    "plt.savefig(\"img/my-plot.pdf\")\n",
    "plt.savefig(\"img/my-plot.png\")"
   ]
  },
  {
   "cell_type": "markdown",
   "metadata": {
    "slideshow": {
     "slide_type": "subslide"
    }
   },
   "source": [
    "__Try it yourself__\n",
    "<br>In the cell below:\n",
    "- create a green line plot of the function $sin^2(x)$ (or $(sin(x))^2$) using the range of $x$ from the last example. \n",
    "- add a blue triangular marker at $x=\\frac{\\pi}{2}, \\pi, \\frac{3\\pi}{2}, 2\\pi, \\frac{5\\pi}{2}, 3\\pi, \\frac{7\\pi}{2}$ and $4\\pi$.\n",
    "- label the axes\n",
    "- save the figure as a .jpg file in the `img` folder in your repository.\n"
   ]
  },
  {
   "cell_type": "markdown",
   "metadata": {
    "collapsed": true
   },
   "source": [
    "## Importing Data from Delimited Text Files\n",
    "In 02_DataStructures_LibraryFunctions.ipynb, we learnt to use the function `numpy.load.txt` to import and manipulate data from files e.g. .csv files."
   ]
  },
  {
   "cell_type": "markdown",
   "metadata": {
    "slideshow": {
     "slide_type": "slide"
    }
   },
   "source": [
    "__Remember__\n",
    "<br>The file to be loaded must be in the same directory as your python program.\n",
    "<br>Otherwise you must specify the the full path to the data file using / to seperate directory names. \n",
    "<br>The filename (or path plus filename) needs to be between \"\" quotation marks. "
   ]
  },
  {
   "cell_type": "markdown",
   "metadata": {
    "slideshow": {
     "slide_type": "slide"
    }
   },
   "source": [
    "To import the data from `sample_data/data.dat`:\n",
    ">`0.000 1.053 2.105 3.158 4.211\n",
    "74.452 48.348 68.733 59.796 54.123`\n"
   ]
  },
  {
   "cell_type": "code",
   "execution_count": 181,
   "metadata": {
    "slideshow": {
     "slide_type": "-"
    }
   },
   "outputs": [
    {
     "name": "stdout",
     "output_type": "stream",
     "text": [
      "[[ 1.053  2.105  3.158  4.211  6.065]\n",
      " [48.348 68.733 59.796 54.123 74.452]]\n",
      "<class 'numpy.ndarray'>\n",
      "2.105\n"
     ]
    }
   ],
   "source": [
    "A = np.loadtxt('sample_data/sample_data.dat')\n",
    "print(A)\n",
    "print(type(A))\n",
    "print(A[0][1])"
   ]
  },
  {
   "cell_type": "markdown",
   "metadata": {
    "slideshow": {
     "slide_type": "slide"
    }
   },
   "source": [
    "The __delimiter__ should (sometimes) be specified.\n",
    "<br>This tells Python how to separate the data into the individual elements of an array. \n",
    "<br>The default delimiter is a space.\n",
    "<br>(Data separated by spaces will be automatically be assigned different indices)."
   ]
  },
  {
   "cell_type": "markdown",
   "metadata": {
    "slideshow": {
     "slide_type": "slide"
    }
   },
   "source": [
    "The __data type__ should (sometimes) be specified.\n",
    "<br>This tells Python how to separate the data into the individual elements of an array. \n",
    "<br>The default data type is `float`.\n",
    "<br>If your data contains items that cannot be expressed as a float, importing it will cause an error unless the data-type is specified.\n",
    "<br>Mixed data types can be imported as `string` values. "
   ]
  },
  {
   "cell_type": "markdown",
   "metadata": {
    "slideshow": {
     "slide_type": "slide"
    }
   },
   "source": [
    "Data in `sample_data/sample_student_data.txt`:\n",
    "- __delimiter__ : tab (`/t`) \n",
    "- __data type__ : string (float in some columns)\n",
    "\n",
    "```Python\n",
    "Subject\tSex\tDOB\tHeight\tWeight\tBP\n",
    "(ID)\tM/F\tdd/mm/yy\tm\tkg\tmmHg\n",
    "JW-1\tM\t19/12/1995\t1.82\t92.4\t119/76\n",
    "JW-2\tM\t11/01/1996\t1.77\t80.9\t114/73\n",
    "JW-3\tF\t02/10/1995\t1.68\t69.7\t124/79\n",
    "JW-6\tM\t06/07/1995\t1.72\t75.5\t110/60\n",
    "JW-7\tF\t28/03/1996\t1.66\t72.4\t-\n",
    "JW-9\tF\t11/12/1995\t1.78\t82.1\t115/75\n",
    "JW-10\tF\t07/04/1996\t1.6\t45\t-/-\n",
    "JW-11\tM\t22/08/1995\t1.72\t77.2\t97/63\n",
    "JW-12\tM\t23/05/1996\t1.83\t88.9\t105/70\n",
    "JW-14\tF\t12/01/1996\t1.56\t56.3\t108/72\n",
    "JW-15\tF\t01/06/1996\t1.64\t65\t99/67\n",
    "JW-16\tM\t10/09/1995\t1.63\t73\t131/84\n",
    "JW-17\tM\t17/02/1996\t1.67\t89.8\t101/76\n",
    "JW-18\tM\t31/07/1996\t1.66\t75.1\t-/-\n",
    "JW-19\tF\t30/10/1995\t1.59\t67.3\t103/69\n",
    "JW-22\tF\t09/03/1996\t1.7\t45\t119/80\n",
    "JW-23\tM\t15/05/1995\t1.97\t89.2\t124/82\n",
    "JW-24\tF\t01/12/1995\t1.66\t63.8\t100/78\n",
    "JW-25\tF\t25/10/1995\t1.63\t64.4\t-/-\n",
    "JW-26\tM\t17/04/1996\t1.69\t55\t121/82\n",
    "```"
   ]
  },
  {
   "cell_type": "code",
   "execution_count": 182,
   "metadata": {
    "slideshow": {
     "slide_type": "slide"
    }
   },
   "outputs": [
    {
     "data": {
      "text/plain": [
       "array([['Student', 'Sex', 'DOB', 'Height', 'Weight', 'BP'],\n",
       "       ['(ID)', 'M/F', 'dd/mm/yy', 'm', 'kg', 'mmHg'],\n",
       "       ['JW-1', 'M', '19/12/1995', '1.82', '92.4', '119/76'],\n",
       "       ['JW-2', 'M', '11/01/1996', '1.77', '80.9', '114/73'],\n",
       "       ['JW-3', 'F', '02/10/1995', '1.68', '69.7', '124/79'],\n",
       "       ['JW-4', 'M', '11/01/1996', '1.77', '80.9', '114/73'],\n",
       "       ['JW-5', 'F', '02/10/1995', '1.68', '69.7', '124/79'],\n",
       "       ['JW-6', 'M', '06/07/1995', '1.72', '75.5', '110/60'],\n",
       "       ['JW-7', 'F', '28/03/1996', '1.66', '72.4', '-'],\n",
       "       ['JW-9', 'F', '11/12/1995', '1.78', '82.1', '115/75'],\n",
       "       ['JW-10', 'F', '07/04/1996', '1.6', '45', '-/-'],\n",
       "       ['JW-11', 'M', '22/08/1995', '1.72', '77.2', '97/63'],\n",
       "       ['JW-12', 'M', '23/05/1996', '1.83', '88.9', '105/70'],\n",
       "       ['JW-14', 'F', '12/01/1996', '1.56', '56.3', '108/72'],\n",
       "       ['JW-15', 'F', '01/06/1996', '1.64', '65', '99/67'],\n",
       "       ['JW-16', 'M', '10/09/1995', '1.63', '73', '131/84'],\n",
       "       ['JW-17', 'M', '17/02/1996', '1.67', '89.8', '101/76'],\n",
       "       ['JW-18', 'M', '31/07/1996', '1.66', '75.1', '-/-'],\n",
       "       ['JW-19', 'F', '30/10/1995', '1.59', '67.3', '103/69'],\n",
       "       ['JW-22', 'F', '09/03/1996', '1.7', '45', '119/80'],\n",
       "       ['JW-23', 'M', '15/05/1995', '1.97', '89.2', '124/82'],\n",
       "       ['JW-24', 'F', '01/12/1995', '1.66', '63.8', '100/78'],\n",
       "       ['JW-25', 'F', '25/10/1995', '1.63', '64.4', '-/-'],\n",
       "       ['JW-26', 'M', '17/04/1996', '1.69', '55', '121/82']], dtype='<U10')"
      ]
     },
     "execution_count": 182,
     "metadata": {},
     "output_type": "execute_result"
    }
   ],
   "source": [
    "np.loadtxt('sample_data/sample_student_data.txt', delimiter=\"\\t\", dtype=str)"
   ]
  },
  {
   "cell_type": "markdown",
   "metadata": {
    "slideshow": {
     "slide_type": "slide"
    }
   },
   "source": [
    "Regions can be selected, for example to select only numerical data. \n",
    "\n",
    "`skiprows` skips the first n lines. \n",
    "\n",
    "`usecols` specifies which columns to read, with 0 being the first. \n",
    "\n",
    "`usecols = (1, 4, 5)` : extracts the 2nd, 5th and 6th columns.\n",
    "<br>`usecols = (3, 4)` : extracts the 4th and 5th columns (height and weight data)."
   ]
  },
  {
   "cell_type": "code",
   "execution_count": 183,
   "metadata": {
    "slideshow": {
     "slide_type": "slide"
    }
   },
   "outputs": [
    {
     "name": "stdout",
     "output_type": "stream",
     "text": [
      "[[ 1.78 82.1 ]\n",
      " [ 1.6  45.  ]\n",
      " [ 1.72 77.2 ]\n",
      " [ 1.83 88.9 ]\n",
      " [ 1.56 56.3 ]\n",
      " [ 1.64 65.  ]\n",
      " [ 1.63 73.  ]\n",
      " [ 1.67 89.8 ]\n",
      " [ 1.66 75.1 ]\n",
      " [ 1.59 67.3 ]\n",
      " [ 1.7  45.  ]\n",
      " [ 1.97 89.2 ]\n",
      " [ 1.66 63.8 ]\n",
      " [ 1.63 64.4 ]\n",
      " [ 1.69 55.  ]]\n"
     ]
    }
   ],
   "source": [
    "import numpy as np\n",
    "students = np.loadtxt('sample_data/sample_student_data.txt', dtype=float, skiprows=9, usecols=(3,4))\n",
    "print(students)"
   ]
  },
  {
   "cell_type": "markdown",
   "metadata": {
    "slideshow": {
     "slide_type": "slide"
    }
   },
   "source": [
    "You can now use the imported data as a regular Numpy array.\n",
    "\n"
   ]
  },
  {
   "cell_type": "code",
   "execution_count": 184,
   "metadata": {},
   "outputs": [
    {
     "data": {
      "image/png": "[encoded data removed]",
      "text/plain": [
       "<matplotlib.figure.Figure at 0x1a17dd8ef0>"
      ]
     },
     "metadata": {},
     "output_type": "display_data"
    }
   ],
   "source": [
    "# Use indexing to select which ROWS and which COLUMNS to plot\n",
    "plt.plot(students[:, 0], students[:, 1], 'rx', label=\"students\")\n",
    "\n",
    "# Legend\n",
    "plt.legend(loc='best', fontsize=12)\n",
    "\n",
    "# Axes labels\n",
    "plt.xlabel('Height (m)', fontsize=12)\n",
    "plt.ylabel('Weight (kg)', fontsize=12)\n",
    "\n",
    "# Title\n",
    "plt.title(\"Height to weight relationship for students in class A\", fontsize=18);"
   ]
  },
  {
   "cell_type": "markdown",
   "metadata": {
    "slideshow": {
     "slide_type": "slide"
    }
   },
   "source": [
    "## Curve Fitting\n",
    "We often want to 'fit' a function to a set of data points e.g. raw experimental data.\n",
    "\n",
    "Python has several tools to find the curve which best describes the data set."
   ]
  },
  {
   "cell_type": "markdown",
   "metadata": {
    "slideshow": {
     "slide_type": "subslide"
    }
   },
   "source": [
    "<a id='FittingLinear'></a>\n",
    "### Fitting a Linear Function\n",
    "A straight line can be fitted through a data set using the `linregress` function from `scipy.stats`. \n",
    "\n"
   ]
  },
  {
   "cell_type": "code",
   "execution_count": 185,
   "metadata": {},
   "outputs": [],
   "source": [
    "from scipy.stats import linregress"
   ]
  },
  {
   "cell_type": "markdown",
   "metadata": {
    "slideshow": {
     "slide_type": "subslide"
    }
   },
   "source": [
    "Example: `linregress(x, y)` returns the components of an equation of the form:\n",
    "$$\n",
    "y = mx + c\n",
    "$$\n",
    "\n",
    "It returns five values:\n",
    "- gradient $m$ of the trend line\n",
    "- y-intercept $c$ of the trned line\n",
    "- statistical parameters (outside the scope of today's class)\n",
    "    - r value\n",
    "    - p value\n",
    "    - standard error\n"
   ]
  },
  {
   "cell_type": "code",
   "execution_count": 257,
   "metadata": {},
   "outputs": [
    {
     "data": {
      "image/png": "[encoded data removed]",
      "text/plain": [
       "<matplotlib.figure.Figure at 0x1a18576630>"
      ]
     },
     "metadata": {},
     "output_type": "display_data"
    }
   ],
   "source": [
    "# imported data\n",
    "x = students[:, 0]\n",
    "y = students[:, 1]\n",
    "\n",
    "\n",
    "# gradient is first returned value\n",
    "# y-intercept is second returned value\n",
    "m, c = linregress(x, y)[0], linregress(x, y)[1]\n",
    "\n",
    "\n",
    "# generate teh fitted y values\n",
    "yfit = float(m) * x + c\n",
    "\n",
    "\n",
    "# plot a scatter plot of raw data\n",
    "plt.plot(x, y, 'o', label='experiment data')\n",
    "\n",
    "\n",
    "# plot the fitted linear function \n",
    "plt.plot(x, yfit, label='fit');"
   ]
  },
  {
   "cell_type": "markdown",
   "metadata": {
    "slideshow": {
     "slide_type": "subslide"
    }
   },
   "source": [
    "<a id='RMSE'></a>\n",
    "\n",
    "The \"goodness of fit\" than then be assessed by calculating the __root mean square error__.\n",
    "\n",
    "\n",
    "\n"
   ]
  },
  {
   "cell_type": "markdown",
   "metadata": {
    "slideshow": {
     "slide_type": "slide"
    }
   },
   "source": [
    "### Root mean square error (RMSE)\n",
    "One way to quantify the fit between data and a model is to compute the RMSE. \n",
    "\n",
    "__Error/residual:__ the difference between:\n",
    "- the observed value $y(x_i)$ at $x$ \n",
    "- the fitted value $a(x_i)$ at $x$\n",
    "\n",
    "$$\n",
    "\\varepsilon_i = a(x_i) - y(x_i)\n",
    "$$"
   ]
  },
  {
   "cell_type": "markdown",
   "metadata": {
    "slideshow": {
     "slide_type": "subslide"
    }
   },
   "source": [
    "For $N$ data points, the *sum* of the squared errors is \n",
    "\n",
    "$$S = \\sum_{i=1}^{N}\\varepsilon_i^2$$\n",
    "\n",
    "The RMSE $E$ is computed as\n",
    "\n",
    "$$E=\\sqrt{\\frac{1}{N}S}=\\sqrt{\\frac{1}{N}\\sum_{i=1}^{N}{\\varepsilon_i^2}}$$"
   ]
  },
  {
   "cell_type": "markdown",
   "metadata": {
    "slideshow": {
     "slide_type": "subslide"
    }
   },
   "source": [
    "Smaller RMSE indictes a closer fit between raw and fitted data. \n",
    "\n",
    "We can optimise the fitted function by minimising the RMSE (sum of the squared errors).\n",
    "\n",
    "Therefore, this optimisation approach is often referred to as the *least squares* approach. "
   ]
  },
  {
   "cell_type": "markdown",
   "metadata": {},
   "source": [
    "To find the RMSE of the example above:\n",
    "\n",
    "Error, $\\varepsilon_i = a(x_i) - y_i$\n",
    "\n",
    "RMSE, $E=\\sqrt{\\frac{1}{N}\\sum{\\varepsilon_i^2}}$"
   ]
  },
  {
   "cell_type": "code",
   "execution_count": 187,
   "metadata": {
    "slideshow": {
     "slide_type": "subslide"
    }
   },
   "outputs": [],
   "source": [
    "# error\n",
    "e = (yfit - y)\n",
    "\n",
    "# RMSE\n",
    "rmse = np.sqrt(np.sum(e**2)/ len(y))"
   ]
  },
  {
   "cell_type": "markdown",
   "metadata": {
    "slideshow": {
     "slide_type": "subslide"
    }
   },
   "source": [
    "<a id='Title'></a>\n",
    "## Adding a title\n",
    "Let's plot the data again, this time showing the RMSE as the plot title:"
   ]
  },
  {
   "cell_type": "code",
   "execution_count": 188,
   "metadata": {},
   "outputs": [
    {
     "data": {
      "image/png": "[encoded data removed]",
      "text/plain": [
       "<matplotlib.figure.Figure at 0x1a17deea20>"
      ]
     },
     "metadata": {},
     "output_type": "display_data"
    }
   ],
   "source": [
    "# plot the data\n",
    "plt.plot(x, y, 'o', label='experiment data')\n",
    "plt.plot(x, yfit, label='fit')\n",
    "\n",
    "# create a string of the rounded RMSE value\n",
    "RMSE = str(np.round(rmse, 2))\n",
    "\n",
    "# print the RMSE as the title \n",
    "# the semi colon avoids printing the title as raw text output \n",
    "plt.title('RMSE: '+ RMSE);"
   ]
  },
  {
   "cell_type": "markdown",
   "metadata": {
    "slideshow": {
     "slide_type": "subslide"
    }
   },
   "source": [
    "<a id='FittingPolynomial'></a>\n",
    "### Fitting a polynomial function\n",
    "\n",
    ">*Polynomial function : a function such as a quadratic, a cubic, a quartic, and so on, involving only non-negative integer powers of x.*\n",
    "\n",
    "A polynomial curve can be fitted through a data set using the `polyfit` function from `numpy`. \n",
    "\n",
    "The function arguments are:\n",
    "- the two variables to analyse\n",
    "- the order of the polynomial \n",
    "\n"
   ]
  },
  {
   "cell_type": "code",
   "execution_count": 258,
   "metadata": {},
   "outputs": [],
   "source": [
    "# Example data set\n",
    "x = np.array([0.0, 50.0, 100.0, 150.0, 200.0, 250.0, 300.0])\n",
    "y = np.array([50.0, 38.0, 30.6, 25.6, 22.2, 19.5, 17.4])*1e-3"
   ]
  },
  {
   "cell_type": "markdown",
   "metadata": {
    "slideshow": {
     "slide_type": "subslide"
    }
   },
   "source": [
    "#### Finding Coefficients\n",
    "The function returns the coefficients of each term of the polynomial.\n",
    "\n",
    "e.g.\n",
    "<br>__Input :__ polynomial of order 2\n",
    "<br>__Returns :__ coefficients of $x^2$, $x^1$ and $x^0$ \n",
    "<br>i.e. 3 return arguments."
   ]
  },
  {
   "cell_type": "code",
   "execution_count": 256,
   "metadata": {},
   "outputs": [
    {
     "name": "stdout",
     "output_type": "stream",
     "text": [
      "3.628571428571415e-07 -0.00021114285714285698 0.04892142857142862\n",
      "3.628571428571415e-07 -0.00021114285714285698 0.04892142857142862\n"
     ]
    }
   ],
   "source": [
    "a, b, c = np.polyfit(x, y, 2)\n",
    "\n",
    "d = np.polyfit(x, y, 2)\n",
    "\n",
    "print(a, b, c)\n",
    "print(d[0], d[1], d[2])"
   ]
  },
  {
   "cell_type": "code",
   "execution_count": 253,
   "metadata": {},
   "outputs": [
    {
     "name": "stdout",
     "output_type": "stream",
     "text": [
      "[ 3.6969697e-12 -3.4848485e-09  1.3434848e-06 -2.9784632e-04\n",
      "  4.9990260e-02] <class 'numpy.ndarray'>\n"
     ]
    }
   ],
   "source": [
    "# 2nd order polynomial\n",
    "# 3 return arguments\n",
    "a = np.polyfit(x, y, 2)\n",
    "\n",
    "# 3rd order polynomial \n",
    "# 4 return arguments\n",
    "b = np.polyfit(x, y, 3)\n",
    "\n",
    "# 4th order polynomial\n",
    "# 5 return arguments\n",
    "c = np.polyfit(x, y, 4)"
   ]
  },
  {
   "cell_type": "markdown",
   "metadata": {
    "slideshow": {
     "slide_type": "subslide"
    }
   },
   "source": [
    "#### Generating the Fitted Polynomial Function\n",
    "To produce a polynomial function using the generated coeffients, we can use the function `poly1D`.  "
   ]
  },
  {
   "cell_type": "code",
   "execution_count": 259,
   "metadata": {},
   "outputs": [],
   "source": [
    "# 2nd order polynomial\n",
    "yfit2 = np.poly1d(a)(x)\n",
    "\n",
    "# 3rd order polynomial \n",
    "yfit3 = np.poly1d(b)(x)\n",
    "\n",
    "# 4th order polynomial\n",
    "yfit4 = np.poly1d(c)(x)\n",
    "\n"
   ]
  },
  {
   "cell_type": "markdown",
   "metadata": {},
   "source": [
    "Note, that this produces the same output as:"
   ]
  },
  {
   "cell_type": "code",
   "execution_count": 232,
   "metadata": {},
   "outputs": [],
   "source": [
    "yfit2 = a[0]*x**2 + a[1]*x + a[2]\n",
    "yfit3 = b[0]*x**3 + b[1]*x**2 + b[2]*x + b[3]\n",
    "yfit4 = c[0]*x**4 + c[1]*x**3 + c[2]*x**2 + c[3]*x + c[4]"
   ]
  },
  {
   "cell_type": "markdown",
   "metadata": {
    "slideshow": {
     "slide_type": "subslide"
    }
   },
   "source": [
    "The RMSE can be found as before.\n",
    "\n",
    "To avoid repeating the code to compute the RMSE, we can write a function."
   ]
  },
  {
   "cell_type": "code",
   "execution_count": 233,
   "metadata": {},
   "outputs": [],
   "source": [
    "# original code\n",
    "\n",
    "# # error\n",
    "# e = (yfit - y)\n",
    "\n",
    "# # RMSE\n",
    "# rmse = np.sqrt(np.sum(e**2)/ len(y))"
   ]
  },
  {
   "cell_type": "code",
   "execution_count": 234,
   "metadata": {},
   "outputs": [],
   "source": [
    "def RMSE(raw, fitted):\n",
    "    e = (fitted - raw)\n",
    "    return np.sqrt(np.sum(e**2)/ len(y))"
   ]
  },
  {
   "cell_type": "markdown",
   "metadata": {},
   "source": [
    "This is a short funtion so it can be conveniantly defined as a lambda function"
   ]
  },
  {
   "cell_type": "code",
   "execution_count": 235,
   "metadata": {
    "slideshow": {
     "slide_type": "subslide"
    }
   },
   "outputs": [],
   "source": [
    "RMSE_lam = lambda raw, fitted : np.sqrt(np.sum((fitted - raw)**2)/ len(y))"
   ]
  },
  {
   "cell_type": "code",
   "execution_count": 260,
   "metadata": {},
   "outputs": [],
   "source": [
    "# error\n",
    "rmse2 = RMSE(y, yfit2)"
   ]
  },
  {
   "cell_type": "markdown",
   "metadata": {},
   "source": [
    "The same answer is produced by the regular and lambda functions:"
   ]
  },
  {
   "cell_type": "code",
   "execution_count": 261,
   "metadata": {},
   "outputs": [
    {
     "name": "stdout",
     "output_type": "stream",
     "text": [
      "0.030964086254902677 0.030964086254902677\n"
     ]
    }
   ],
   "source": [
    "print(RMSE(y, yfit2),   RMSE_lam(y, yfit2))"
   ]
  },
  {
   "cell_type": "markdown",
   "metadata": {},
   "source": [
    "By comparing the RMSE of different polynomial functions, we can make a quantative assessment of which trendline fits our data the best."
   ]
  },
  {
   "cell_type": "markdown",
   "metadata": {},
   "source": [
    "To compare our solutions to the raw data, for each polynomial we need to:\n",
    "1. Find the coefficients \n",
    "1. Find the fitted data set\n",
    "1. Find the RMSE\n",
    "1. Store the RMSE\n",
    "1. (String representation: Round all RMSE solutions (to 3 s.f.))\n",
    "1. Plot each polynomial fitted curve.\n",
    "1. Compare all RMSE values"
   ]
  },
  {
   "cell_type": "markdown",
   "metadata": {},
   "source": [
    "To avoid repetition, we should therefore use a loop."
   ]
  },
  {
   "cell_type": "code",
   "execution_count": 271,
   "metadata": {
    "scrolled": true
   },
   "outputs": [
    {
     "name": "stdout",
     "output_type": "stream",
     "text": [
      "The closest fit is given by polynomial of order 5.\n",
      "RMSE=2.9841883878120957e-05\n"
     ]
    },
    {
     "data": {
      "image/png": "[encoded data removed]",
      "text/plain": [
       "<matplotlib.figure.Figure at 0x1a18e6bb70>"
      ]
     },
     "metadata": {},
     "output_type": "display_data"
    }
   ],
   "source": [
    "x = np.array([0.0, 50.0, 100.0, 150.0, 200.0, 250.0, 300.0])\n",
    "y = np.array([50.0, 38.0, 30.6, 25.6, 22.2, 19.5, 17.4])*1e-3\n",
    "\n",
    "\n",
    "\n",
    "# empty list to store RMSE values\n",
    "rmse = []\n",
    "\n",
    "# range of polynomials to investigate\n",
    "# (2nd order to 5th order polynomial) \n",
    "for i in range(2, 6):\n",
    "    \n",
    "    # 1. coefficients of a polynomial of order i\n",
    "    a = np.polyfit(x, y, i)\n",
    "    \n",
    "    # 2. fitted data set\n",
    "    yfit = np.poly1d(a)(x)\n",
    "    \n",
    "    # 3. RMSE\n",
    "    r = RMSE(y, yfit)\n",
    "    \n",
    "    # 4. store RMSE\n",
    "    rmse.append(r)\n",
    "    \n",
    "    # 5. string, scientific notation, round\n",
    "    r = '%.3E' % r\n",
    "    \n",
    "    # 6. plot\n",
    "    plt.plot(x, yfit, label=f'{i}nd order RMSE= ' + r)\n",
    "   \n",
    "\n",
    "# raw data\n",
    "plt.plot(x, y, 'ko', label='raw data')\n",
    "\n",
    "# add a legend\n",
    "plt.legend(loc='best')  \n",
    "\n",
    "best = np.argmin(rmse)\n",
    "print(f'The closest fit is given by polynomial of order {best+2}.\\nRMSE={rmse[best]}')\n"
   ]
  },
  {
   "cell_type": "markdown",
   "metadata": {},
   "source": [
    "###### What does this code do?\n",
    "\n",
    ">`# 1. scientific notation, round\n",
    "    r = '%.3E' % r`\n",
    "    \n",
    "Numbers displayed on our plot should be readable.\n",
    "\n",
    "We can use rounding:"
   ]
  },
  {
   "cell_type": "code",
   "execution_count": 239,
   "metadata": {},
   "outputs": [
    {
     "data": {
      "text/plain": [
       "0.0"
      ]
     },
     "execution_count": 239,
     "metadata": {},
     "output_type": "execute_result"
    }
   ],
   "source": [
    "np.round( RMSE(y, yfit2) , 2 )"
   ]
  },
  {
   "cell_type": "markdown",
   "metadata": {},
   "source": [
    "Or we can use __format__ to change how a string is displayed:"
   ]
  },
  {
   "cell_type": "code",
   "execution_count": 240,
   "metadata": {},
   "outputs": [
    {
     "name": "stdout",
     "output_type": "stream",
     "text": [
      "0.0123456\n",
      "0.0123456\n",
      "0.0123456\n",
      "1.234560E-02\n",
      "1.23E-02, 2.3E-01\n"
     ]
    }
   ],
   "source": [
    "r = 0.0123456\n",
    "s = 0.2345678\n",
    "\n",
    "# cast as a string\n",
    "print(str(r))\n",
    "print('%s' % r)\n",
    "print('{}'.format(r))\n",
    "\n",
    "# cast as a string, scientific notation\n",
    "print('%E' % r)\n",
    "\n",
    "# specify number of significant figures displayed\n",
    "print('%.2E, %.1E' % (r, s))"
   ]
  },
  {
   "cell_type": "markdown",
   "metadata": {
    "collapsed": true
   },
   "source": [
    "__Note:__ \n",
    "- Matplot lib automatically changes the colour of the line each time you plot. \n",
    "- This is much shorter than repeatedly writig out the code to plot each line of the figure."
   ]
  },
  {
   "cell_type": "markdown",
   "metadata": {
    "slideshow": {
     "slide_type": "subslide"
    }
   },
   "source": [
    "<a id='FittingArbitrary'></a>\n",
    "### Fitting an arbitrary function\n",
    "\n",
    "What if trend descriing our data cannot be represented as a polynomial function? \n",
    "\n"
   ]
  },
  {
   "cell_type": "code",
   "execution_count": 211,
   "metadata": {},
   "outputs": [
    {
     "data": {
      "text/plain": [
       "[<matplotlib.lines.Line2D at 0x1a181d97b8>]"
      ]
     },
     "execution_count": 211,
     "metadata": {},
     "output_type": "execute_result"
    },
    {
     "data": {
      "image/png": "[encoded data removed]",
      "text/plain": [
       "<matplotlib.figure.Figure at 0x1a18443be0>"
      ]
     },
     "metadata": {},
     "output_type": "display_data"
    }
   ],
   "source": [
    "x = [0.000000000000000000e+00, 1.052631578947368363e+00, 2.105263157894736725e+00, 3.157894736842105310e+00,4.210526315789473450e+00, 5.263157894736841591e+00, 6.315789473684210620e+00,7.368421052631578760e+00,8.421052631578946901e+00,9.473684210526315042e+00,1.052631578947368318e+01,1.157894736842105132e+01,1.263157894736842124e+01,1.368421052631578938e+01,1.473684210526315752e+01, 1.578947368421052566e+01,1.684210526315789380e+01,1.789473684210526372e+01,1.894736842105263008e+01,2.000000000000000000e+01]\n",
    "y = [7.445192947240600745e+01, 4.834835792411828947e+01, 6.873305436340778840e+01, 5.979576407972768948e+01,6.404530772390434379e+01,6.090548420541189500e+01, 7.157546008677115879e+01, 8.620253336570679892e+01, 1.138154622045899913e+02, 8.493639813028174501e+01, 9.783457330550828601e+01, 1.082064229481453594e+02, 1.063876210674365979e+02, 1.001971993955305038e+02, 1.061496321788094832e+02, 1.279575585921491836e+02, 1.556956405962417875e+02, 1.584164804859289859e+02, 1.753888794716459358e+02, 1.980941276403034124e+02]\n",
    "x = np.array(x)\n",
    "y = np.array(y)\n",
    "\n",
    "plt.plot(x, y, 'ro')"
   ]
  },
  {
   "cell_type": "markdown",
   "metadata": {},
   "source": [
    "There are many Python functions available for curve fitting. \n",
    "\n",
    "The function `curve_fit` can be used to fit a user-defined fuction. \n",
    "\n",
    "We first define a function that we want to fit."
   ]
  },
  {
   "cell_type": "markdown",
   "metadata": {
    "slideshow": {
     "slide_type": "subslide"
    }
   },
   "source": [
    "__Example__ \n",
    "\n",
    "$y = a e^{bx}$\n",
    "\n",
    "\n",
    "\n",
    "\n"
   ]
  },
  {
   "cell_type": "code",
   "execution_count": 212,
   "metadata": {},
   "outputs": [],
   "source": [
    "def exponential(x, a, b):\n",
    "    y = a * np.exp(b*x) \n",
    "    return y"
   ]
  },
  {
   "cell_type": "markdown",
   "metadata": {
    "slideshow": {
     "slide_type": "subslide"
    }
   },
   "source": [
    "`curve_fit` then returns two arguments:\n",
    " - an array with the optimised parameters\n",
    " - the covariance of the parameters (a statistical measure of accuracy)"
   ]
  },
  {
   "cell_type": "code",
   "execution_count": 214,
   "metadata": {},
   "outputs": [
    {
     "name": "stdout",
     "output_type": "stream",
     "text": [
      "[ 50.3732638  53.8864446  57.644645   61.6649535  65.9656502  70.5662902\n",
      "  75.4877925  80.752535   86.3844562  92.4091643  98.8540534 105.7484281\n",
      " 113.123637  121.0132149 129.4530353 138.4814738 148.1395823 158.471276\n",
      " 169.5235327 181.3466064]\n"
     ]
    }
   ],
   "source": [
    "from scipy.optimize import curve_fit\n",
    "\n",
    "opt, cov = curve_fit(exponential, x, y)\n",
    "\n",
    "# fitted data, any number of parameters is allowable\n",
    "y_fit = exponential(x, *opt)\n",
    "\n",
    "print(y_fit)"
   ]
  },
  {
   "cell_type": "code",
   "execution_count": 217,
   "metadata": {
    "slideshow": {
     "slide_type": "subslide"
    }
   },
   "outputs": [
    {
     "name": "stdout",
     "output_type": "stream",
     "text": [
      "y = 50.37326384265759 * e**(0.06404747989084764*x)\n"
     ]
    },
    {
     "data": {
      "image/png": "[encoded data removed]",
      "text/plain": [
       "<matplotlib.figure.Figure at 0x1a17e03ac8>"
      ]
     },
     "metadata": {},
     "output_type": "display_data"
    }
   ],
   "source": [
    "rmse = RMSE(y_fit, y)\n",
    "\n",
    "plt.plot(x, y,    'o',    label='raw data')\n",
    "plt.plot(x, y_fit, 'r',    label='fit')\n",
    "plt.legend(loc='best')\n",
    "plt.title('RMSE: {rmse}')\n",
    "\n",
    "# show the optimised parameters\n",
    "print(f\"y = {opt[0]} * e**({opt[1]}*x)\")"
   ]
  },
  {
   "cell_type": "markdown",
   "metadata": {},
   "source": [
    "## Interpolation\n",
    "\n",
    ">*Interpolation: <br>A method of constructing new data points within the range of a discrete set of known data points.*\n",
    "\n",
    "For example, in a lab experiment, parameter is recorded at time=1 and time=2.\n",
    "\n",
    "We can *interpolate* to find the value at time=1.2.  "
   ]
  },
  {
   "cell_type": "markdown",
   "metadata": {},
   "source": [
    "You can use many different methods for interpolation including linear interpolation and polynomial, or spline curves.\n",
    "\n",
    "Sometimes we can use the trendline of the data.\n",
    "\n",
    "In other situations (e.g. where the data is not easily desribed by a function) it can be more accurate to interpolate between two data points. \n",
    "\n"
   ]
  },
  {
   "cell_type": "markdown",
   "metadata": {},
   "source": [
    "By generating (and plotting) the interpolated solutions computationally, we can assess the accuracy of the solution."
   ]
  },
  {
   "cell_type": "markdown",
   "metadata": {},
   "source": [
    "Suppose we have some data that describes the value of $f$ at time $t$.\n",
    "\n",
    "\n"
   ]
  },
  {
   "cell_type": "code",
   "execution_count": 537,
   "metadata": {},
   "outputs": [
    {
     "data": {
      "text/plain": [
       "Text(0,0.5,'y(x)')"
      ]
     },
     "execution_count": 537,
     "metadata": {},
     "output_type": "execute_result"
    },
    {
     "data": {
      "image/png": "[encoded data removed]",
      "text/plain": [
       "<matplotlib.figure.Figure at 0x1a1a859a58>"
      ]
     },
     "metadata": {},
     "output_type": "display_data"
    }
   ],
   "source": [
    "# x = np.array([0.5,1,3,6])\n",
    "# y = np.array([0.6065, 0.3679, 0.0498, 0.0025])\n",
    "# plt.plot(x, y, 'ko--')\n",
    "# plt.xlabel('x')\n",
    "# plt.ylabel('y(x)')\n",
    "\n",
    "\n",
    "x = np.array([0.5,1,3,4])\n",
    "y = np.array([1.648,  2.718, 20.086, 54.598])\n",
    "plt.plot(x, y, 'ko--')\n",
    "plt.xlabel('x')\n",
    "plt.ylabel('y(x)')"
   ]
  },
  {
   "cell_type": "markdown",
   "metadata": {},
   "source": [
    "Estimate the value of $y$ at $x=2$.\n",
    "\n",
    "This is a simple interpolation problem."
   ]
  },
  {
   "cell_type": "code",
   "execution_count": 359,
   "metadata": {},
   "outputs": [],
   "source": [
    "from scipy.interpolate import interp1d\n"
   ]
  },
  {
   "cell_type": "markdown",
   "metadata": {},
   "source": [
    "The default mode for `scipy.interpolate.interp1d` is *linear* interpolation. \n",
    "\n",
    "If the two known points are given by the coordinates $(x_{0},y_{0})$ and  $(x_{1},y_{1})$ the linear interpolant is the straight line between these points. \n",
    "\n",
    " \n",
    "\n",
    "<img src=\"img/LinearInterpolation.svg\" alt=\"Drawing\" style=\"width: 200px;\"/>\n",
    "\n",
    "\n"
   ]
  },
  {
   "cell_type": "markdown",
   "metadata": {},
   "source": [
    "For a value x in the interval $(x_{0},x_{1})$, the value y along the straight line connecting the two known points is found from the equation for the gradient of the straight line:\n",
    "\n",
    "$$\\frac{y - y_0}{x - x_0} = \\frac{y_1 - y_0}{x_1 - x_0}$$\n",
    "\n",
    "Re-arranging gives:\n",
    "\n",
    "$$y = \\frac{y_0 (x_1 - x) + y_1(x - x_0)}{x_1 - x_0}$$"
   ]
  },
  {
   "cell_type": "code",
   "execution_count": 539,
   "metadata": {},
   "outputs": [
    {
     "name": "stdout",
     "output_type": "stream",
     "text": [
      "11.402\n"
     ]
    }
   ],
   "source": [
    "f = interp1d(x, y)\n",
    "print(f(2))\n",
    "\n"
   ]
  },
  {
   "cell_type": "markdown",
   "metadata": {},
   "source": [
    "The function we sample above is actually:\n",
    "\n",
    "$y(x) = exp(-x)$ \n",
    "\n",
    "$y(x) = exp(x)$ \n",
    "\n",
    "The linearly interpolated example is not very accurate."
   ]
  },
  {
   "cell_type": "code",
   "execution_count": 540,
   "metadata": {
    "scrolled": true
   },
   "outputs": [
    {
     "name": "stdout",
     "output_type": "stream",
     "text": [
      "7.38905609893065\n"
     ]
    }
   ],
   "source": [
    "#print(np.exp(-2))\n",
    "\n",
    "print(np.exp(2))"
   ]
  },
  {
   "cell_type": "code",
   "execution_count": 557,
   "metadata": {},
   "outputs": [
    {
     "data": {
      "text/plain": [
       "<matplotlib.legend.Legend at 0x1a1d6fdef0>"
      ]
     },
     "execution_count": 557,
     "metadata": {},
     "output_type": "execute_result"
    },
    {
     "data": {
      "image/png": "[encoded data removed]",
      "text/plain": [
       "<matplotlib.figure.Figure at 0x1a1c6d70f0>"
      ]
     },
     "metadata": {},
     "output_type": "display_data"
    }
   ],
   "source": [
    "# # original data\n",
    "# plt.plot(x, y, 'ko')\n",
    "\n",
    "# # range of values for x axis\n",
    "# x_int = np.arange(0.5, 6.1, 0.1)\n",
    "\n",
    "# # function data\n",
    "# plt.plot(x_int, np.exp(-x_int), 'k--', label='y = exp(-x)')\n",
    "\n",
    "# # interpolation data\n",
    "# plt.plot(x_int, f(x_int), 'g--', label='linear interpolation')\n",
    "\n",
    "\n",
    "# plt.xlabel('x')\n",
    "# plt.ylabel('y')\n",
    "# plt.legend()\n",
    "\n",
    "\n",
    "# original data\n",
    "plt.plot(x, y, 'ko')\n",
    "\n",
    "# range of values for x axis\n",
    "x_int = np.arange(0.5, 4.1, 0.1)\n",
    "\n",
    "# function data\n",
    "plt.plot(x_int, np.exp(x_int), 'k--', label='y = exp(x)')\n",
    "\n",
    "# interpolation data\n",
    "plt.plot(x_int, f(x_int), 'g--', label='linear interpolation')\n",
    "\n",
    "\n",
    "plt.xlabel('x')\n",
    "plt.ylabel('y')\n",
    "plt.legend()"
   ]
  },
  {
   "cell_type": "markdown",
   "metadata": {},
   "source": [
    "### Improved interpolation?\n",
    "We can specify a different interpolation scheme e.g. polynomial splines (curves).\n",
    "\n",
    "A curve of a polynomial function is fitted over neighbouring points. \n"
   ]
  },
  {
   "cell_type": "code",
   "execution_count": 558,
   "metadata": {},
   "outputs": [],
   "source": [
    "from scipy.interpolate import splrep\n",
    "from scipy.interpolate import splev\n",
    "#from scipy.interpolate import spltopp\n",
    "import scipy.interpolate\n"
   ]
  },
  {
   "cell_type": "markdown",
   "metadata": {},
   "source": [
    "`splrep` : Returns polynomial functions.   \n",
    "\n",
    "`splev` : Coordinates defining the polynomial curve."
   ]
  },
  {
   "cell_type": "code",
   "execution_count": 576,
   "metadata": {},
   "outputs": [
    {
     "name": "stdout",
     "output_type": "stream",
     "text": [
      "[0.5 0.5 0.5 2.  4.  4.  4. ]\n",
      "[[ 0.7254737  0.7254737  0.7254737 10.1861053 10.1861053 10.1861053]\n",
      " [ 1.7772632  1.7772632  1.7772632  3.9536842 44.6981053 44.6981053]\n",
      " [ 1.648      1.648      1.648      5.9462105 54.598     54.598    ]]\n",
      "[[ 2.14   8.684 34.512]\n",
      " [ 1.648  2.718 20.086]]\n"
     ]
    },
    {
     "data": {
      "image/png": "[encoded data removed]",
      "text/plain": [
       "<matplotlib.figure.Figure at 0x1a1c675cc0>"
      ]
     },
     "metadata": {},
     "output_type": "display_data"
    }
   ],
   "source": [
    "# original data\n",
    "# x = np.array([0.5,1,3,6])\n",
    "# y = np.array([0.6065, 0.3679, 0.0498, 0.0025])\n",
    "# x_int = np.arange(0.5, 6.1, 0.1)\n",
    "# plt.plot(x, y, 'ko')\n",
    "\n",
    "\n",
    "# # function data\n",
    "# plt.plot(x_int, np.exp(-x_int), 'k--', label='y = exp(-x)')\n",
    "\n",
    "\n",
    "# # order polynomial interpolation\n",
    "# order_poly = 3\n",
    "\n",
    "\n",
    "# # polynomial function\n",
    "# func = splrep(x, y, k=order_poly)\n",
    "\n",
    "# # polynomial curve\n",
    "# y_int = splev(x_int, func)\n",
    "\n",
    "# plt.plot(x_int, y_int, 'b', label=f'polynomial order {order_poly}')\n",
    "# plt.legend()\n",
    "\n",
    "\n",
    "# # coefficients\n",
    "# C = spltopp(func[0][1:-1],func[1],func[2]).coeffs\n",
    "\n",
    "# # Print the coefficients of the function\n",
    "# # Columns : spline section\n",
    "# # Rows : term (index 0 : highest order term)\n",
    "# print(C)\n",
    "\n",
    "x = np.array([0.5,1,3,4])\n",
    "y = np.array([1.648,  2.718, 20.086, 54.598])\n",
    "x_int = np.arange(0.5, 4.1, 0.1)\n",
    "plt.plot(x, y, 'ko')\n",
    "\n",
    "\n",
    "# function data\n",
    "plt.plot(x_int, np.exp(x_int), 'k--', label='y = exp(x)')\n",
    "\n",
    "\n",
    "# order polynomial interpolation\n",
    "order_poly = 2\n",
    "\n",
    "\n",
    "# polynomial function\n",
    "func = splrep(x, y, k=order_poly)\n",
    "\n",
    "# polynomial curve\n",
    "y_int = splev(x_int, func)\n",
    "\n",
    "plt.plot(x_int, y_int, 'b', label=f'polynomial order {order_poly}')\n",
    "plt.legend()\n",
    "\n",
    "# polynomial function\n",
    "#func = splrep(x, y, k=order_poly, s=0)\n",
    "F   = scipy.interpolate.PPoly.from_spline(func)\n",
    "\n",
    "print(F.x)\n",
    "print(F.c)\n",
    "\n",
    "# polynomial curve\n",
    "y_int = splev(x_int, func)\n",
    "\n",
    "plt.plot(x_int, y_int, 'b', label=f'polynomial order {order_poly}')\n",
    "plt.legend()\n",
    "\n",
    "plt.xlabel('x')\n",
    "plt.ylabel('y')\n",
    "plt.legend()\n",
    "\n",
    "# coefficients\n",
    "#C = spltopp(func[0][1:-1],func[1],func[2]).coeffs\n",
    "\n",
    "# Print the coefficients of the function\n",
    "# Columns : spline section\n",
    "# Rows : term (index 0 : highest order term)\n",
    "print(C)"
   ]
  },
  {
   "cell_type": "markdown",
   "metadata": {},
   "source": [
    "By changing the order of the polynomial we can see that polynomial spline interpolation of order 2 gives the closest fit."
   ]
  },
  {
   "cell_type": "code",
   "execution_count": 564,
   "metadata": {},
   "outputs": [
    {
     "name": "stdout",
     "output_type": "stream",
     "text": [
      "7.38905609893065\n",
      "6.216514285714284\n"
     ]
    }
   ],
   "source": [
    "# # actual function\n",
    "# print(np.exp(-2))\n",
    "\n",
    "# #interpolation\n",
    "# func = splrep(x, y, k=2)\n",
    "# print(splev(2, func))\n",
    "\n",
    "\n",
    "# actual function\n",
    "print(np.exp(2))\n",
    "\n",
    "#interpolation\n",
    "func = splrep(x, y, k=3)\n",
    "print(splev(2, func))\n"
   ]
  },
  {
   "cell_type": "markdown",
   "metadata": {},
   "source": [
    "### The inverse question\n",
    "\n",
    "It is easy to interpolate a new value of y given a value of x. \n",
    "\n",
    "What if we want to know the value of x at which y=3? \n",
    "\n",
    "We can switch the order of the interpolation to solve this problem. \n",
    "\n"
   ]
  },
  {
   "cell_type": "code",
   "execution_count": 575,
   "metadata": {},
   "outputs": [
    {
     "name": "stdout",
     "output_type": "stream",
     "text": [
      "[0.5 0.5 0.5 2.  4.  4.  4. ]\n",
      "[[ 0.7254737  0.7254737  0.7254737 10.1861053 10.1861053 10.1861053]\n",
      " [ 1.7772632  1.7772632  1.7772632  3.9536842 44.6981053 44.6981053]\n",
      " [ 1.648      1.648      1.648      5.9462105 54.598     54.598    ]]\n",
      "[[ 2.14   8.684 34.512]\n",
      " [ 1.648  2.718 20.086]]\n"
     ]
    },
    {
     "data": {
      "image/png": "[encoded data removed]",
      "text/plain": [
       "<matplotlib.figure.Figure at 0x1a1bfa8dd8>"
      ]
     },
     "metadata": {},
     "output_type": "display_data"
    }
   ],
   "source": [
    "x = np.array([0.5,1,3,4])\n",
    "y = np.array([1.648,  2.718, 20.086, 54.598])\n",
    "x_int = np.arange(0.5, 4.1, 0.1)\n",
    "plt.plot(x, y, 'ko')\n",
    "\n",
    "\n",
    "# function data\n",
    "plt.plot(x_int, np.exp(x_int), 'k--', label='y = exp(x)')\n",
    "\n",
    "\n",
    "# order polynomial interpolation\n",
    "order_poly = 2\n",
    "\n",
    "\n",
    "# polynomial function\n",
    "func = splrep(x, y, k=order_poly)\n",
    "\n",
    "# polynomial curve\n",
    "y_int = splev(x_int, func)\n",
    "\n",
    "plt.plot(x_int, y_int, 'b', label=f'polynomial order {order_poly}')\n",
    "plt.legend()\n",
    "\n",
    "# polynomial function\n",
    "#func = splrep(x, y, k=order_poly, s=0)\n",
    "F   = scipy.interpolate.PPoly.from_spline(func)\n",
    "\n",
    "print(F.x)\n",
    "print(F.c)\n",
    "\n",
    "# polynomial curve\n",
    "y_int = splev(x_int, func)\n",
    "\n",
    "plt.plot(x_int, y_int, 'b', label=f'polynomial order {order_poly}')\n",
    "plt.legend()\n",
    "\n",
    "plt.xlabel('x')\n",
    "plt.ylabel('y')\n",
    "plt.legend()\n",
    "\n",
    "\n",
    "# coefficients\n",
    "#C = spltopp(func[0][1:-1],func[1],func[2]).coeffs\n",
    "\n",
    "# Print the coefficients of the function\n",
    "# Columns : spline section\n",
    "# Rows : term (index 0 : highest order term)\n",
    "print(C)"
   ]
  },
  {
   "cell_type": "code",
   "execution_count": 577,
   "metadata": {},
   "outputs": [
    {
     "name": "stdout",
     "output_type": "stream",
     "text": [
      "[ 1.648  1.648  1.648 11.402 54.598 54.598 54.598]\n",
      "[[-2.5129840e-02 -2.5129840e-02 -2.5129840e-02  4.8245379e-04\n",
      "   4.8245379e-04  4.8245379e-04]\n",
      " [ 4.9417865e-01  4.9417865e-01  4.9417865e-01  3.9457264e-03\n",
      "   4.5625874e-02  4.5625874e-02]\n",
      " [ 5.0000000e-01  5.0000000e-01  5.0000000e-01  2.9293526e+00\n",
      "   4.0000000e+00  4.0000000e+00]]\n"
     ]
    },
    {
     "data": {
      "text/plain": [
       "<matplotlib.legend.Legend at 0x1a1c82d8d0>"
      ]
     },
     "execution_count": 577,
     "metadata": {},
     "output_type": "execute_result"
    },
    {
     "data": {
      "image/png": "[encoded data removed]",
      "text/plain": [
       "<matplotlib.figure.Figure at 0x1a1da264a8>"
      ]
     },
     "metadata": {},
     "output_type": "display_data"
    }
   ],
   "source": [
    "# original data\n",
    "x = np.array([0.5,1,3,4])\n",
    "y = np.array([1.648,  2.718, 20.086, 54.598])\n",
    "x_int = np.arange(0.5, 4.1, 0.1)\n",
    "plt.plot(x, y, 'ko')\n",
    "\n",
    "y_init = np.exp(x_int)\n",
    "\n",
    "# function data\n",
    "plt.plot(x_int, y_init, 'k--', label='y = exp(x)')\n",
    "\n",
    "# order polynomial interpolation - CHANGE THE ORDER\n",
    "order_poly = 2\n",
    "\n",
    "# polynomial function\n",
    "func = splrep(y, x, k=order_poly)\n",
    "\n",
    "# polynomial curve\n",
    "x_int = splev(y_init, func)\n",
    "\n",
    "plt.plot(x_int, y_int, 'b', label=f'polynomial order {order_poly}')\n",
    "plt.legend()\n",
    "\n",
    "# # polynomial function\n",
    "# #func = splrep(x, y, k=order_poly, s=0)\n",
    "F   = scipy.interpolate.PPoly.from_spline(func)\n",
    "\n",
    "print(F.x)\n",
    "print(F.c)\n",
    "\n",
    "plt.xlabel('x')\n",
    "plt.ylabel('y')\n",
    "plt.legend()"
   ]
  },
  {
   "cell_type": "code",
   "execution_count": 578,
   "metadata": {},
   "outputs": [
    {
     "name": "stdout",
     "output_type": "stream",
     "text": [
      "1.0986122886681098\n",
      "1.1223489374570723\n"
     ]
    }
   ],
   "source": [
    "# actual function\n",
    "print(np.log(3))\n",
    "\n",
    "#interpolation\n",
    "func = splrep(y, x, k=3)\n",
    "print(splev(3, func))"
   ]
  },
  {
   "cell_type": "markdown",
   "metadata": {},
   "source": [
    "__Note__\n",
    "<br>One requirement is that the independent variable must be *monotonically increasing*.\n",
    "\n",
    "This means that simply switching the order of x and y will generates an error *if* the first of the two arguments is now a decreasing series. "
   ]
  },
  {
   "cell_type": "markdown",
   "metadata": {},
   "source": [
    "The index `[::-1]` steps through an array in reverse order.\n",
    "\n",
    "Pseudocode:\n",
    "\n",
    "        [start : end : step-size=-1]"
   ]
  },
  {
   "cell_type": "code",
   "execution_count": 579,
   "metadata": {},
   "outputs": [
    {
     "name": "stdout",
     "output_type": "stream",
     "text": [
      "[1 2 3 4 5 6 7 8 9]\n"
     ]
    }
   ],
   "source": [
    "A = np.array([9,8,7,6,5,4,3,2,1])\n",
    "\n",
    "print(A[::-1])"
   ]
  },
  {
   "cell_type": "code",
   "execution_count": 462,
   "metadata": {},
   "outputs": [
    {
     "data": {
      "text/plain": [
       "<matplotlib.legend.Legend at 0x1a1add03c8>"
      ]
     },
     "execution_count": 462,
     "metadata": {},
     "output_type": "execute_result"
    },
    {
     "data": {
      "image/png": "[encoded data removed]",
      "text/plain": [
       "<matplotlib.figure.Figure at 0x1a1baac358>"
      ]
     },
     "metadata": {},
     "output_type": "display_data"
    }
   ],
   "source": [
    "# original data\n",
    "x = np.array([0.5,1,3,6])\n",
    "y = np.array([0.6065, 0.3679, 0.0498, 0.0025])\n",
    "x_int = np.arange(0.5, 6.1, 0.1)\n",
    "plt.plot(x, y, 'ko')\n",
    "\n",
    "# function data\n",
    "plt.plot(x_int, np.exp(-x_int), 'k--', label='y = exp(-x)')\n",
    "\n",
    "# # order polynomial interpolation - CHANGE THE ORDER\n",
    "order_poly = 1\n",
    "\n",
    "# # polynomial function\n",
    "func = splrep(y[::-1], x[::-1], k=order_poly)\n",
    "\n",
    "# # polynomial curve\n",
    "x_int = splev(y_int, func)\n",
    "plt.plot(x_int, y_int, 'b', label=f'polynomial order {order_poly}')\n",
    "\n",
    "plt.xlabel('y')\n",
    "plt.ylabel('x')\n",
    "plt.legend()"
   ]
  },
  {
   "cell_type": "markdown",
   "metadata": {
    "slideshow": {
     "slide_type": "subslide"
    }
   },
   "source": [
    "## Bar charts and Histograms\n",
    "### Bar charts\n",
    "To represent data as a bar chart, for example, the number of students in each year of a degree program:"
   ]
  },
  {
   "cell_type": "code",
   "execution_count": 218,
   "metadata": {},
   "outputs": [],
   "source": [
    "year_groups = ('B1', 'B2', 'B3', 'M1', 'M2')\n",
    "num_students = (500, 332, 425, 300, 200)"
   ]
  },
  {
   "cell_type": "code",
   "execution_count": 219,
   "metadata": {
    "slideshow": {
     "slide_type": "subslide"
    }
   },
   "outputs": [
    {
     "data": {
      "image/png": "[encoded data removed]",
      "text/plain": [
       "<matplotlib.figure.Figure at 0x1a16d5ff60>"
      ]
     },
     "metadata": {},
     "output_type": "display_data"
    }
   ],
   "source": [
    "# Create an array with the position of each bar along the x-axis\n",
    "x_pos = np.arange(len(year_groups))\n",
    "\n",
    "# Produce bar plot\n",
    "plt.bar(x_pos, num_students);\n",
    "\n",
    "# Replace the x ticks with the year group name\n",
    "# Rotate labels 30 degrees\n",
    "plt.xticks(x_pos, year_groups, rotation=30);\n",
    "\n",
    "# Add axis labels \n",
    "plt.xlabel('year group');\n",
    "plt.ylabel('number of students');"
   ]
  },
  {
   "cell_type": "markdown",
   "metadata": {
    "slideshow": {
     "slide_type": "subslide"
    }
   },
   "source": [
    "## Histograms\n",
    "\n",
    "We can visualise the distribution of the values using a histogram.\n",
    "\n",
    "In a histogram, data is sorted into intervals (bins) along the horizontal axis. \n",
    "\n",
    "The number of values that fall within a 'bin' is then displayed on the vertical axis."
   ]
  },
  {
   "cell_type": "markdown",
   "metadata": {
    "slideshow": {
     "slide_type": "subslide"
    }
   },
   "source": [
    "To create a histogram we first need a data set. \n",
    "\n",
    "For example we can use Numpy to generate a data set with:\n",
    "- 4000 random values\n",
    "- a mean value of zero \n",
    "- a standard deviation of 1\n",
    "- a __normal__ (Gaussian) distribution (bell curve with 68% percent of values within one standard deviation of the mean)\n",
    "\n"
   ]
  },
  {
   "cell_type": "code",
   "execution_count": null,
   "metadata": {
    "slideshow": {
     "slide_type": "-"
    }
   },
   "outputs": [],
   "source": [
    "# loc=mean, scale=stddev, size=num samples\n",
    "x = np.random.normal(loc=0.0, scale=1.0, size=4000)  "
   ]
  },
  {
   "cell_type": "markdown",
   "metadata": {
    "slideshow": {
     "slide_type": "subslide"
    }
   },
   "source": [
    "We can visualise how `x` is distributed, using 20 bins. \n",
    "\n",
    "Matplotlib creates 20 bins of equal width, and computes the number of entries in each bin. "
   ]
  },
  {
   "cell_type": "code",
   "execution_count": null,
   "metadata": {},
   "outputs": [],
   "source": [
    "# Produce histogram with 20 bins\n",
    "n, bins, patches = plt.hist(x, 20, facecolor='green');\n",
    "\n",
    "# Add label\n",
    "plt.xlabel('value')\n",
    "plt.ylabel('frequency')\n",
    "\n"
   ]
  },
  {
   "cell_type": "markdown",
   "metadata": {
    "slideshow": {
     "slide_type": "subslide"
    }
   },
   "source": [
    "To view a list of:\n",
    "- the bin intervals\n",
    "- the number of values in each bin. "
   ]
  },
  {
   "cell_type": "code",
   "execution_count": 467,
   "metadata": {
    "slideshow": {
     "slide_type": "subslide"
    }
   },
   "outputs": [
    {
     "ename": "NameError",
     "evalue": "name 'bins' is not defined",
     "output_type": "error",
     "traceback": [
      "\u001b[0;31m---------------------------------------------------------------------------\u001b[0m",
      "\u001b[0;31mNameError\u001b[0m                                 Traceback (most recent call last)",
      "\u001b[0;32m<ipython-input-467-a89a9678e76e>\u001b[0m in \u001b[0;36m<module>\u001b[0;34m()\u001b[0m\n\u001b[0;32m----> 1\u001b[0;31m \u001b[0mprint\u001b[0m\u001b[0;34m(\u001b[0m\u001b[0mbins\u001b[0m\u001b[0;34m)\u001b[0m\u001b[0;34m\u001b[0m\u001b[0m\n\u001b[0m",
      "\u001b[0;31mNameError\u001b[0m: name 'bins' is not defined"
     ]
    }
   ],
   "source": [
    "print(bins)"
   ]
  },
  {
   "cell_type": "code",
   "execution_count": null,
   "metadata": {
    "slideshow": {
     "slide_type": "subslide"
    }
   },
   "outputs": [],
   "source": [
    "print(n)"
   ]
  },
  {
   "cell_type": "markdown",
   "metadata": {
    "slideshow": {
     "slide_type": "subslide"
    }
   },
   "source": [
    "__Try it yourself__\n",
    "<br>In the example above try changing the number of bins and run the cells again to see the change in the bin intervals and number of values in ech bin. "
   ]
  },
  {
   "cell_type": "markdown",
   "metadata": {
    "collapsed": true,
    "slideshow": {
     "slide_type": "slide"
    }
   },
   "source": [
    "## Visualising 2D Arrays\n",
    "\n",
    "Two-dimensonal arrays can be visualized with the `plt.matshow` function.\n",
    "\n",
    "Each square cell represents one element of the array.\n",
    "\n",
    "A colour scale (`plot.colorbar`) is used to indicate the value of each cell.\n",
    "\n"
   ]
  },
  {
   "cell_type": "markdown",
   "metadata": {
    "slideshow": {
     "slide_type": "subslide"
    }
   },
   "source": [
    "Note that the first row of the matrix (with index 0), is plotted at the top, which corresponds to the location of the first row in the matrix."
   ]
  },
  {
   "cell_type": "code",
   "execution_count": null,
   "metadata": {},
   "outputs": [],
   "source": [
    "x = np.array([[8, 7, 6, 8],\n",
    "              [8, 7, 6, 3],\n",
    "              [6, 6, 5, 2],\n",
    "              [4, 3, 2, 1]])\n",
    "plt.matshow(x)\n",
    "\n",
    "plt.colorbar()"
   ]
  },
  {
   "cell_type": "markdown",
   "metadata": {
    "slideshow": {
     "slide_type": "subslide"
    }
   },
   "source": [
    "The default colour map is used (it is called `viridis`).\n",
    "\n",
    "The highest value in the array is mapped to yellow.\n",
    "<br>The lowest value is mapped to purple. \n",
    "<br>The number is between vary between blue and green. \n",
    "\n"
   ]
  },
  {
   "cell_type": "markdown",
   "metadata": {
    "slideshow": {
     "slide_type": "subslide"
    }
   },
   "source": [
    "There are many other colour maps available.\n",
    "\n",
    "Doumentation of availble colour maps can be found here: http://matplotlib.org/users/colormaps.html. \n",
    "\n"
   ]
  },
  {
   "cell_type": "markdown",
   "metadata": {
    "slideshow": {
     "slide_type": "subslide"
    }
   },
   "source": [
    "To change the color map, the `matplotlib.cm` package is used, which we imported and renamed at the strt of the notebook. \n",
    ">`import matplotlib.cm as cm`\n",
    "\n",
    "Specify the name of any of the available color maps with the `cmap` keyword. "
   ]
  },
  {
   "cell_type": "code",
   "execution_count": null,
   "metadata": {
    "slideshow": {
     "slide_type": "subslide"
    }
   },
   "outputs": [],
   "source": [
    "plt.matshow(x, cmap=cm.Wistia)\n",
    "plt.colorbar();"
   ]
  },
  {
   "cell_type": "markdown",
   "metadata": {
    "slideshow": {
     "slide_type": "subslide"
    }
   },
   "source": [
    "The keywords `vmin` and `vmax` can be used to explicitly set the maximum and minimum value for the colour scale. "
   ]
  },
  {
   "cell_type": "code",
   "execution_count": null,
   "metadata": {},
   "outputs": [],
   "source": [
    "plt.matshow(x, cmap=cm.bone, vmin=0, vmax=20)\n",
    "plt.colorbar();"
   ]
  },
  {
   "cell_type": "markdown",
   "metadata": {
    "slideshow": {
     "slide_type": "subslide"
    }
   },
   "source": [
    "The standard colormaps also all have reversed versions. They have the same names with `_r` tacked on to the end."
   ]
  },
  {
   "cell_type": "code",
   "execution_count": null,
   "metadata": {},
   "outputs": [],
   "source": [
    "plt.matshow(x, cmap=cm.bone_r, vmin=0, vmax=20)\n",
    "plt.colorbar();"
   ]
  },
  {
   "cell_type": "markdown",
   "metadata": {
    "slideshow": {
     "slide_type": "subslide"
    }
   },
   "source": [
    "__Try it yourself__\n",
    "<br>Find a colour map you like using the link provided. Change the colours of the examples above to colours that you prefer."
   ]
  },
  {
   "cell_type": "markdown",
   "metadata": {},
   "source": [
    "If you have a specific range for the x and y axis of the plot, it can be more convenient to use plot types `pcolor` and `fcontour`.\n"
   ]
  },
  {
   "cell_type": "code",
   "execution_count": null,
   "metadata": {},
   "outputs": [],
   "source": [
    "import numpy as np\n",
    "\n",
    "x = np.array([[8, 7, 6, 8],\n",
    "              [8, 7, 6, 3],\n",
    "              [6, 6, 5, 2],\n",
    "              [4, 3, 2, 1]])\n",
    "\n",
    "y = range(25, 29)\n",
    "z = range(31, 35)\n"
   ]
  },
  {
   "cell_type": "markdown",
   "metadata": {},
   "source": [
    "For example if you want to overlay the data wiht another type of plot."
   ]
  },
  {
   "cell_type": "code",
   "execution_count": null,
   "metadata": {},
   "outputs": [],
   "source": [
    "plt.pcolor(y, z, x, cmap=cm.Reds, vmin=3, vmax=7)\n",
    "plt.colorbar();"
   ]
  },
  {
   "cell_type": "code",
   "execution_count": null,
   "metadata": {},
   "outputs": [],
   "source": [
    "plt.contourf(y, z, x, cmap=cm.Reds)\n",
    "plt.plot(25.5, 32, 'bo')\n",
    "plt.plot(27, 33, 'yo')\n",
    "plt.colorbar();"
   ]
  },
  {
   "cell_type": "markdown",
   "metadata": {
    "slideshow": {
     "slide_type": "slide"
    }
   },
   "source": [
    "## 3D Plotting\n",
    "An advantage of plotting compuationally is that we can easily produce more complex figures such as 3D plots.  \n",
    "\n",
    "This can be useful, for example, when visualiing the form of a function with two independent variables.\n",
    "\n"
   ]
  },
  {
   "cell_type": "markdown",
   "metadata": {
    "collapsed": true,
    "slideshow": {
     "slide_type": "subslide"
    }
   },
   "source": [
    "Many different styles of 3D plot are available.\n",
    "\n",
    "A number of examples can be found here: https://matplotlib.org/examples/mplot3d/index.html "
   ]
  },
  {
   "cell_type": "code",
   "execution_count": 380,
   "metadata": {},
   "outputs": [],
   "source": [
    "# Plotting in 3D\n",
    "from mpl_toolkits.mplot3d import axes3d"
   ]
  },
  {
   "cell_type": "markdown",
   "metadata": {
    "slideshow": {
     "slide_type": "subslide"
    }
   },
   "source": [
    "Today, we will go through just one example. \n",
    "\n",
    "You can then explore further, using today's seminar as a basis."
   ]
  },
  {
   "cell_type": "markdown",
   "metadata": {
    "slideshow": {
     "slide_type": "subslide"
    }
   },
   "source": [
    "We will plot the function: \n",
    "$$\n",
    "f(x, y) = \\sin(x) \\cos\\left(\\frac{xy^2}{10}\\right)\n",
    "$$\n",
    "as a 3D surface."
   ]
  },
  {
   "cell_type": "markdown",
   "metadata": {
    "slideshow": {
     "slide_type": "subslide"
    }
   },
   "source": [
    "Plotting in 3D requires another package which was imported at the start of this notebook. \n",
    ">`from mpl_toolkits.mplot3d import axes3d`"
   ]
  },
  {
   "cell_type": "markdown",
   "metadata": {
    "slideshow": {
     "slide_type": "subslide"
    }
   },
   "source": [
    "First we create points in the $x$ and $y$ directions at which we want to evaluate the function: "
   ]
  },
  {
   "cell_type": "code",
   "execution_count": 381,
   "metadata": {},
   "outputs": [],
   "source": [
    "N = 50  # 50 points in each direction\n",
    "x = np.linspace(-np.pi, np.pi, N)\n",
    "y = np.linspace(-np.pi, np.pi, N)"
   ]
  },
  {
   "cell_type": "markdown",
   "metadata": {
    "slideshow": {
     "slide_type": "subslide"
    }
   },
   "source": [
    "Next, we use NumPy to create a 'grid' of $(x, y$) points: "
   ]
  },
  {
   "cell_type": "code",
   "execution_count": 382,
   "metadata": {},
   "outputs": [],
   "source": [
    "X, Y = np.meshgrid(x, y)"
   ]
  },
  {
   "cell_type": "markdown",
   "metadata": {
    "slideshow": {
     "slide_type": "subslide"
    }
   },
   "source": [
    "When printing you may want to round the value of each element.\n",
    "\n",
    "You can do this using the `np.around` function. \n",
    "\n",
    "Example:\n",
    "<br>`print(np.around(X,2), np.around(Y,2))`\n",
    "<br>rounds each value to 2 decimal places."
   ]
  },
  {
   "cell_type": "markdown",
   "metadata": {
    "slideshow": {
     "slide_type": "subslide"
    }
   },
   "source": [
    "__Try it yourself__\n",
    "<br>The easiest way to visualise how `meshgrid` work is to:\n",
    "- try making `N` smaller (fewer points along each axis) in the cell above.\n",
    "\n",
    "<br>\n",
    "In the cell below:\n",
    "- print `X` and `Y` using <br>`print(np.around(X,2))`<br>`print(np.around(Y,2))`<br><br>\n",
    "- print the shape of `X` and `Y` using<br>`print(X.shape)`<br>`print(Y.shape)`<br><br>\n",
    "- What happens if N is different for `X` than for `Y`?"
   ]
  },
  {
   "cell_type": "code",
   "execution_count": 383,
   "metadata": {},
   "outputs": [],
   "source": [
    "# How does meshgrid work?"
   ]
  },
  {
   "cell_type": "markdown",
   "metadata": {
    "slideshow": {
     "slide_type": "subslide"
    }
   },
   "source": [
    "Hopefully, you can see that by overlaying `X` and `Y` we can dscribe the x,y coordinates of every point on the 3D surface."
   ]
  },
  {
   "cell_type": "markdown",
   "metadata": {
    "slideshow": {
     "slide_type": "subslide"
    }
   },
   "source": [
    "Change the value of `N` to it's original value `N = 50`."
   ]
  },
  {
   "cell_type": "markdown",
   "metadata": {
    "slideshow": {
     "slide_type": "subslide"
    }
   },
   "source": [
    "We now evaluate the function $f$ at each point:"
   ]
  },
  {
   "cell_type": "code",
   "execution_count": 384,
   "metadata": {},
   "outputs": [],
   "source": [
    "f = np.sin(X)*np.cos((X*Y**2)/10)"
   ]
  },
  {
   "cell_type": "markdown",
   "metadata": {
    "slideshow": {
     "slide_type": "subslide"
    }
   },
   "source": [
    "The 3D figure is plotted using:"
   ]
  },
  {
   "cell_type": "code",
   "execution_count": 388,
   "metadata": {
    "scrolled": true
   },
   "outputs": [
    {
     "data": {
      "text/plain": [
       "Text(0.5,0,'Z')"
      ]
     },
     "execution_count": 388,
     "metadata": {},
     "output_type": "execute_result"
    },
    {
     "data": {
      "image/png": "[encoded data removed]",
      "text/plain": [
       "<matplotlib.figure.Figure at 0x1a1a62ceb8>"
      ]
     },
     "metadata": {},
     "output_type": "display_data"
    }
   ],
   "source": [
    "# Create a figure\n",
    "fig = plt.figure()\n",
    "\n",
    "# Specify 3D axes\n",
    "ax = plt.axes(projection='3d')\n",
    "\n",
    "# Plot the function as a surface\n",
    "surf = ax.plot_surface(X, Y, f ,cmap=cm.Reds)\n",
    "\n",
    "# Label the axes\n",
    "ax.set_xlabel('X', fontsize=20)\n",
    "ax.set_ylabel('Y', fontsize=20)\n",
    "ax.set_zlabel('Z', fontsize=20)"
   ]
  },
  {
   "cell_type": "markdown",
   "metadata": {
    "slideshow": {
     "slide_type": "slide"
    }
   },
   "source": [
    "# Summary\n",
    "\n",
    "- Matplotlib can be used to produce a wide range of styles of figures and plots of your data.\n",
    "- The matplotlib library can be used to quicky produce simple plots to visualise and check your solutions to mathematical problems.\n",
    "- This includes fitting a curve or a relationship to a dataset.\n",
    "- Simple line and scatter plots can be customised using a `formatstring`\n",
    "- Additional features such as a figure legend and axis labels can be set as arguments when creating plots.\n"
   ]
  },
  {
   "cell_type": "markdown",
   "metadata": {
    "collapsed": true,
    "slideshow": {
     "slide_type": "slide"
    }
   },
   "source": [
    "## Review Exercises\n",
    "Below are some exercises for you to practise producing plots and figures.\n",
    "<br>Some of the examples require you to generate data using methods we have studied in previous seminars.\n",
    "\n"
   ]
  },
  {
   "cell_type": "markdown",
   "metadata": {
    "collapsed": true
   },
   "source": [
    "### Review Exercise: Simple Plot\n",
    "In the cell below, write a program to:\n",
    "- Plot $y=x^{3}-x^{2}-4x+4$ for $x = -3$ to $x= 3$.\n",
    "- Use a red, dashed line.\n",
    "- On the same figure, plot a black square at every point where $y$ equals zero. \n",
    "- Set the size of the markers to 10.\n",
    "- Label the axes as 'x-axis' and 'y-axis'. \n",
    "- Add a title of your choice.  \n",
    "\n",
    "*Hint: You may have to search online for the function argunents needed for some of these manipulations.* "
   ]
  },
  {
   "cell_type": "code",
   "execution_count": 378,
   "metadata": {},
   "outputs": [],
   "source": [
    "# Simple Plot"
   ]
  },
  {
   "cell_type": "code",
   "execution_count": null,
   "metadata": {},
   "outputs": [],
   "source": [
    "# Example Solution\n",
    "x = np.linspace(-5, 5, 100)\n",
    "y = x**3 - x**2 - 4*x + 4\n",
    "\n",
    "plt.plot(x, y, 'r--')\n",
    "\n",
    "r = np.roots([1, -1, -4, 4])\n",
    "z = np.zeros(len(r))\n",
    "             \n",
    "plt.plot(r, z, 'ks', markersize=10)\n",
    "plt.xlim(x[0], x[-1]);\n",
    "\n",
    "plt.xlabel('x-axis')\n",
    "plt.ylabel('y-axis')\n",
    "\n",
    "plt.title('First Graph');"
   ]
  },
  {
   "cell_type": "markdown",
   "metadata": {
    "collapsed": true
   },
   "source": [
    "### Review Exercise: Plotting with Conditionals\n",
    "Create an array, `x` with 100 values from 0 to 20, inclusive. \n",
    "\n",
    "Compute $y=\\sin(x)$.\n",
    "\n",
    "Plot $y$ vs. $x$ with a blue line. \n",
    "\n",
    "Replace all values of $y$ that are larger than 0.5 with 0.5.\n",
    "\n",
    "Replace all values of $y$ that are smaller than $-$0.75 with $-0.75$.\n",
    "\n",
    "Plot $x$ vs. $y$ using a red line on the same graph. "
   ]
  },
  {
   "cell_type": "code",
   "execution_count": null,
   "metadata": {},
   "outputs": [],
   "source": [
    "# Plotting with conditionals"
   ]
  },
  {
   "cell_type": "code",
   "execution_count": null,
   "metadata": {},
   "outputs": [],
   "source": [
    "# Example Solution\n",
    "x = np.linspace(0, 20, 100)\n",
    "y = np.sin(x)\n",
    "plt.plot(x, y, 'b')\n",
    "y[y > 0.5] = 0.5\n",
    "y[y < -0.75] = -0.75\n",
    "plt.plot(x, y, 'r');\n",
    "plt.xlim(x[0], x[-1])"
   ]
  },
  {
   "cell_type": "markdown",
   "metadata": {},
   "source": [
    "### Review Exercise: Bar Chart\n",
    "\n",
    "Write a Python programming to display a bar chart of the popularity of programming Languages.\n",
    "\n",
    "Set the bar colour green.\n",
    "\n",
    "Sample data: \n",
    "<br>Programming languages: Java, Python, PHP, JavaScript, C#, C++\n",
    "<br>Popularity: 22.2, 17.6, 8.8, 8, 7.7, 6.7\n",
    "\n",
    "Label the x and y axes and add a title."
   ]
  },
  {
   "cell_type": "code",
   "execution_count": null,
   "metadata": {},
   "outputs": [],
   "source": [
    "# Bar Chart"
   ]
  },
  {
   "cell_type": "code",
   "execution_count": null,
   "metadata": {},
   "outputs": [],
   "source": [
    "# Example Solution\n",
    "languages = ['Java', 'Python', 'PHP', 'JavaScript', 'C#', 'C++']\n",
    "popularity = [22.2, 17.6, 8.8, 8, 7.7, 6.7]\n",
    "\n",
    "# Create an array with the position of each bar along the x-axis\n",
    "x_pos = np.arange(len(languages))\n",
    "\n",
    "# Produce bar plot\n",
    "plt.bar(x_pos, popularity, color='green')\n",
    "\n",
    "# Replace the x ticks with the year language name\n",
    "plt.xticks(x_pos, languages)\n",
    "\n",
    "# Title and axes labels\n",
    "plt.xlabel(\"Languages\")\n",
    "plt.ylabel(\"Popularity\")\n",
    "plt.title(\"Popularity of\\n Programming Languages\" );"
   ]
  },
  {
   "cell_type": "markdown",
   "metadata": {
    "collapsed": true
   },
   "source": [
    "### Review Exercise: Visualising 2D Arrays \n",
    "Create:\n",
    "- a Numpy 30 by 30 array\n",
    "- with randomly selected integer values for all elements\n",
    "- with an allowable range for each element of 1 to 50\n",
    "\n",
    "Represent the array using `matshow`:\n",
    "- Use a colour map of your choice\n",
    "- Set the colour scale minimum to 1\n",
    "- Set the colour scale maximum to 25\n",
    "- Display a colour scale on the plot"
   ]
  },
  {
   "cell_type": "code",
   "execution_count": null,
   "metadata": {},
   "outputs": [],
   "source": [
    "# 2D Array plot"
   ]
  },
  {
   "cell_type": "code",
   "execution_count": null,
   "metadata": {},
   "outputs": [],
   "source": [
    "# Example Solution\n",
    "a = np.random.randint(1, 50, size=(30,30))\n",
    "\n",
    "plt.matshow(a, cmap=cm.BuPu_r, vmin=0, vmax=25)\n",
    "\n",
    "plt.colorbar();"
   ]
  },
  {
   "cell_type": "code",
   "execution_count": null,
   "metadata": {},
   "outputs": [],
   "source": []
  },
  {
   "cell_type": "code",
   "execution_count": 421,
   "metadata": {},
   "outputs": [
    {
     "data": {
      "text/plain": [
       "<matplotlib.legend.Legend at 0x1a1bc318d0>"
      ]
     },
     "execution_count": 421,
     "metadata": {},
     "output_type": "execute_result"
    },
    {
     "data": {
      "image/png": "[encoded data removed]",
      "text/plain": [
       "<matplotlib.figure.Figure at 0x1a1b764390>"
      ]
     },
     "metadata": {},
     "output_type": "display_data"
    }
   ],
   "source": [
    "# original data\n",
    "plt.plot(x, y, 'ko')\n",
    "\n",
    "# range of values for x axis\n",
    "x_int = np.arange(0.5, 6.1, 0.1)\n",
    "\n",
    "# function data\n",
    "plt.plot(x_int, np.exp(-x_int), 'k--', label='y = exp(-x)')\n",
    "\n",
    "# interpolation data\n",
    "plt.plot(x_int, g(x_int), 'g--', label='linear interpolation')\n",
    "\n",
    "\n",
    "plt.xlabel('x')\n",
    "plt.ylabel('y')\n",
    "plt.legend()"
   ]
  },
  {
   "cell_type": "markdown",
   "metadata": {},
   "source": [
    "### Improved interpolation?\n",
    "We can specify a different interpolation scheme e.g. polynomial splines (curves).\n",
    "\n",
    "A curve of a polynomial function is fitted over neighbouring points. \n"
   ]
  },
  {
   "cell_type": "code",
   "execution_count": 513,
   "metadata": {},
   "outputs": [],
   "source": [
    "from scipy.interpolate import splrep\n",
    "from scipy.interpolate import splev\n",
    "from scipy.interpolate import spltopp\n",
    "import scipy.interpolate "
   ]
  },
  {
   "cell_type": "markdown",
   "metadata": {},
   "source": [
    "`splrep` : Polynomial function of given oder between two points.\n",
    "\n",
    "`splev` : Coordinates of the polynomial curve.\n",
    "\n",
    "`spltopp` : Coefficients fo the polynomial.  "
   ]
  },
  {
   "cell_type": "code",
   "execution_count": 521,
   "metadata": {},
   "outputs": [
    {
     "ename": "TypeError",
     "evalue": "'tuple' object is not callable",
     "output_type": "error",
     "traceback": [
      "\u001b[0;31m---------------------------------------------------------------------------\u001b[0m",
      "\u001b[0;31mTypeError\u001b[0m                                 Traceback (most recent call last)",
      "\u001b[0;32m<ipython-input-521-818a3c52797d>\u001b[0m in \u001b[0;36m<module>\u001b[0;34m()\u001b[0m\n\u001b[1;32m     30\u001b[0m \u001b[0;31m# y_int = splev(x_int, func)\u001b[0m\u001b[0;34m\u001b[0m\u001b[0;34m\u001b[0m\u001b[0m\n\u001b[1;32m     31\u001b[0m \u001b[0;34m\u001b[0m\u001b[0m\n\u001b[0;32m---> 32\u001b[0;31m \u001b[0mplt\u001b[0m\u001b[0;34m.\u001b[0m\u001b[0mplot\u001b[0m\u001b[0;34m(\u001b[0m\u001b[0mx_int\u001b[0m\u001b[0;34m,\u001b[0m \u001b[0mfunc\u001b[0m\u001b[0;34m(\u001b[0m\u001b[0mx_int\u001b[0m\u001b[0;34m)\u001b[0m\u001b[0;34m,\u001b[0m \u001b[0;34m'b'\u001b[0m\u001b[0;34m,\u001b[0m \u001b[0mlabel\u001b[0m\u001b[0;34m=\u001b[0m\u001b[0;34mf'polynomial order {order_poly}'\u001b[0m\u001b[0;34m)\u001b[0m\u001b[0;34m\u001b[0m\u001b[0m\n\u001b[0m\u001b[1;32m     33\u001b[0m \u001b[0;31m# plt.legend()\u001b[0m\u001b[0;34m\u001b[0m\u001b[0;34m\u001b[0m\u001b[0m\n\u001b[1;32m     34\u001b[0m \u001b[0;34m\u001b[0m\u001b[0m\n",
      "\u001b[0;31mTypeError\u001b[0m: 'tuple' object is not callable"
     ]
    },
    {
     "data": {
      "image/png": "[encoded data removed]",
      "text/plain": [
       "<matplotlib.figure.Figure at 0x1a1b195240>"
      ]
     },
     "metadata": {},
     "output_type": "display_data"
    }
   ],
   "source": [
    "# original data\n",
    "x = np.array([0.5,1,3,4])\n",
    "y = np.array([1.6487213,  2.7182818, 20.0855369, 54.59815])\n",
    "x_int = np.arange(0.5, 4.1, 0.1)\n",
    "plt.plot(x, y, 'ko')\n",
    "\n",
    "\n",
    "# function data\n",
    "plt.plot(x_int, np.exp(x_int), 'k--', label='y = exp(-x)')\n",
    "\n",
    "\n",
    "# order polynomial interpolation\n",
    "order_poly = 3\n",
    "\n",
    "# tck = scipy.interpolate.splrep(x, y, task=0, s=0, k=order_poly)\n",
    "# F   = scipy.interpolate.PPoly.from_spline(tck)\n",
    "# print(F.x)\n",
    "# print(F.c)\n",
    "\n",
    "\n",
    "# polynomial function\n",
    "func = splrep(x, y, k=order_poly)\n",
    "#print(func)\n",
    "\n",
    "#spl = UnivariateSpline(x, y, k=2)\n",
    "\n",
    "#print(spl.get_coeffs())\n",
    "\n",
    "# # polynomial curve\n",
    "# y_int = splev(x_int, func)\n",
    "\n",
    "plt.plot(x_int, func(x_int), 'b', label=f'polynomial order {order_poly}')\n",
    "# plt.legend()\n",
    "\n",
    "\n",
    "# coefficients\n",
    "C = spltopp(func[0][1:-1],func[1],func[2]).coeffs\n",
    "\n",
    "\n",
    "# Print the coefficients of the function\n",
    "# Columns : spline section\n",
    "# Rows : term (index 0 : highest order term)\n",
    "#print(C)"
   ]
  },
  {
   "cell_type": "code",
   "execution_count": null,
   "metadata": {},
   "outputs": [],
   "source": []
  },
  {
   "cell_type": "markdown",
   "metadata": {},
   "source": [
    "By changing the order of the polynomial we can see that polynomial spline interpolation of order 2 gives the closest fit."
   ]
  },
  {
   "cell_type": "code",
   "execution_count": 469,
   "metadata": {},
   "outputs": [
    {
     "name": "stdout",
     "output_type": "stream",
     "text": [
      "[ 1.6487213  2.7182818 20.0855369 54.59815  ]\n",
      "0.12384857142857145\n"
     ]
    }
   ],
   "source": [
    "# actual function\n",
    "print(np.exp([0.5,1,3,4]))\n",
    "\n",
    "#interpolation\n",
    "func = splrep(x, y, k=2)\n",
    "print(splev(2, func))"
   ]
  },
  {
   "cell_type": "markdown",
   "metadata": {},
   "source": [
    "### The inverse question\n",
    "It is easy to interpolate a new value of y given a value of x. \n",
    "\n",
    "What if we want to know the value of x at which y=0.2? \n",
    "\n",
    "We can switch the order of the interpolation to solve this problem. \n",
    "\n",
    "An issue we have to address is that the \"x\" values must be *monotonically increasing*."
   ]
  },
  {
   "cell_type": "markdown",
   "metadata": {},
   "source": [
    "Simply changing the order of x and y generates an error"
   ]
  },
  {
   "cell_type": "code",
   "execution_count": 412,
   "metadata": {
    "scrolled": true
   },
   "outputs": [],
   "source": [
    "# polynomial function\n",
    "# func = splrep(y, x, k=order_poly)"
   ]
  },
  {
   "cell_type": "markdown",
   "metadata": {},
   "source": [
    "The index `[::-1]` steps through an array in reverse order.\n",
    "\n",
    "Pseudocode:\n",
    "\n",
    "        [start : end : step-size=-1]"
   ]
  },
  {
   "cell_type": "code",
   "execution_count": 462,
   "metadata": {},
   "outputs": [
    {
     "data": {
      "text/plain": [
       "<matplotlib.legend.Legend at 0x1a1add03c8>"
      ]
     },
     "execution_count": 462,
     "metadata": {},
     "output_type": "execute_result"
    },
    {
     "data": {
      "image/png": "[encoded data removed]",
      "text/plain": [
       "<matplotlib.figure.Figure at 0x1a1baac358>"
      ]
     },
     "metadata": {},
     "output_type": "display_data"
    }
   ],
   "source": [
    "# original data\n",
    "x = np.array([0.5,1,3,6])\n",
    "y = np.array([0.6065, 0.3679, 0.0498, 0.0025])\n",
    "x_int = np.arange(0.5, 6.1, 0.1)\n",
    "plt.plot(x, y, 'ko')\n",
    "\n",
    "# function data\n",
    "plt.plot(x_int, np.exp(-x_int), 'k--', label='y = exp(-x)')\n",
    "\n",
    "# # order polynomial interpolation - CHANGE THE ORDER\n",
    "order_poly = 1\n",
    "\n",
    "# # polynomial function\n",
    "func = splrep(y[::-1], x[::-1], k=order_poly)\n",
    "\n",
    "# # polynomial curve\n",
    "x_int = splev(y_int, func)\n",
    "plt.plot(x_int, y_int, 'b', label=f'polynomial order {order_poly}')\n",
    "\n",
    "plt.xlabel('y')\n",
    "plt.ylabel('x')\n",
    "plt.legend()"
   ]
  },
  {
   "cell_type": "markdown",
   "metadata": {
    "slideshow": {
     "slide_type": "slide"
    }
   },
   "source": [
    "# Summary\n",
    "\n",
    "- Matplotlib can be used to produce a wide range of styles of figures and plots of your data.\n",
    "- The matplotlib library can be used to quicky produce simple plots to visualise and check your solutions to mathematical problems.\n",
    "- This includes fitting a curve or a relationship to a dataset.\n",
    "- Simple line and scatter plots can be customised using a `formatstring`\n",
    "- Additional features such as a figure legend and axis labels can be set as arguments when creating plots.\n"
   ]
  },
  {
   "cell_type": "code",
   "execution_count": 533,
   "metadata": {},
   "outputs": [
    {
     "name": "stdout",
     "output_type": "stream",
     "text": [
      "[0.5 0.5 0.5 2.  6.  6.  6. ]\n",
      "[[ 0.1554324  0.1554324  0.1554324  0.0145705  0.0145705  0.0145705]\n",
      " [-0.5549162 -0.5549162 -0.5549162 -0.088619   0.0279448  0.0279448]\n",
      " [ 0.6065     0.6065     0.6065     0.1238486  0.0025     0.0025   ]]\n"
     ]
    },
    {
     "data": {
      "text/plain": [
       "<matplotlib.legend.Legend at 0x1a1a0431d0>"
      ]
     },
     "execution_count": 533,
     "metadata": {},
     "output_type": "execute_result"
    },
    {
     "data": {
      "image/png": "[encoded data removed]",
      "text/plain": [
       "<matplotlib.figure.Figure at 0x1a187791d0>"
      ]
     },
     "metadata": {},
     "output_type": "display_data"
    }
   ],
   "source": [
    "import scipy.interpolate \n",
    "\n",
    "# original data\n",
    "x = np.array([0.5,1,3,6])\n",
    "y = np.array([0.6065, 0.3679, 0.0498, 0.0025])\n",
    "x_int = np.arange(0.5, 6.1, 0.1)\n",
    "plt.plot(x, y, 'ko')\n",
    "\n",
    "\n",
    "# function data\n",
    "plt.plot(x_int, np.exp(-x_int), 'k--', label='y = exp(-x)')\n",
    "\n",
    "\n",
    "# order polynomial interpolation\n",
    "order_poly = 2\n",
    "\n",
    "\n",
    "# polynomial function\n",
    "func = splrep(x, y, k=order_poly, s=0)\n",
    "F   = scipy.interpolate.PPoly.from_spline(func)\n",
    "\n",
    "print(F.x)\n",
    "print(F.c)\n",
    "\n",
    "# polynomial curve\n",
    "y_int = splev(x_int, func)\n",
    "\n",
    "plt.plot(x_int, y_int, 'b', label=f'polynomial order {order_poly}')\n",
    "plt.legend()\n",
    "\n",
    "\n",
    "# coefficients\n",
    "#C = spltopp(func[0][1:-1],func[1],func[2]).coeffs\n",
    "\n",
    "# Print the coefficients of the function\n",
    "# Columns : spline section\n",
    "# Rows : term (index 0 : highest order term)\n",
    "#print(C)"
   ]
  },
  {
   "cell_type": "code",
   "execution_count": null,
   "metadata": {},
   "outputs": [],
   "source": []
  }
 ],
 "metadata": {
  "kernelspec": {
   "display_name": "Python 3",
   "language": "python",
   "name": "python3"
  },
  "language_info": {
   "codemirror_mode": {
    "name": "ipython",
    "version": 3
   },
   "file_extension": ".py",
   "mimetype": "text/x-python",
   "name": "python",
   "nbconvert_exporter": "python",
   "pygments_lexer": "ipython3",
   "version": "3.6.4"
  }
 },
 "nbformat": 4,
 "nbformat_minor": 2
}
