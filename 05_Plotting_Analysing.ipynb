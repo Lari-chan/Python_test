{
 "cells": [
  {
   "cell_type": "markdown",
   "metadata": {
    "slideshow": {
     "slide_type": "slide"
    }
   },
   "source": [
    "## Please download the new class notes.\n",
    "### Step 1 : Navigate to the directory where your files are stored.  \n",
    "Open a terminal. \n",
    "<br>Using `cd`, navigate to *inside* the ILAS_Python_for_engineers folder on your computer. \n",
    "### Step 3 : Update the course notes by downloading the changes\n",
    "In the terminal type:\n",
    "\n",
    ">`git add -A\n",
    "git commit -m \"commit\"\n",
    "git fetch upstream\n",
    "git merge -X theirs upstream/master`\n"
   ]
  },
  {
   "cell_type": "markdown",
   "metadata": {
    "collapsed": true,
    "slideshow": {
     "slide_type": "slide"
    }
   },
   "source": [
    "# Plotting and Analysing Plotted Data\n",
    "\n",
    "<br> <a href='#Matplotlib'>Matplotlib</a>\n",
    "<br> <a href='#Scipy'>Scipy</a> \n",
    "<br> <a href='#LineScatterPlots'>Line and Scatter Plots</a> \n",
    "\t<br> &emsp;&emsp; <a href='#AddingLabelsLegendTitle'>Adding Labels, Legend and Title</a> \n",
    "    <br> &emsp;&emsp; <a href='#SettingAxisLimits'>Setting the Axis Limits</a> \n",
    "<br> <a href='#MultiplePlots'>Multiple Plots</a> \n",
    "<br> <a href='#SavingPlot'>Saving a Plot</a> \n",
    "<br> <a href='#ImportingDataDelimitedFiles'>Importing Data from Delimited Files</a> \n",
    "<br> <a href='#CurveFitting'>Curve Fitting</a> \n",
    "    <br> &emsp;&emsp; <a href='#FittingLinearFunction'>Fitting a Linear Function</a>\n",
    "     <br> &emsp;&emsp; <a href='#RootMeanSquareError'>Root Mean Square Error</a>\n",
    "     <br> &emsp;&emsp; <a href='#FittingPolynomialFunction'>Fitting a Polynomial Function</a>\n",
    "     <br> &emsp;&emsp; <a href='#FittingArbitraryFunction'>Fitting an Arbitrary Function</a>    \n",
    "<a href='#Interpolation'>Interpolation</a>\n",
    "    <br> &emsp;&emsp; <a href='#LinearInterpolation'>Linear Interpolation</a> \n",
    "    <br> &emsp;&emsp; <a href='#ImprovedInterpolation'>Improved Interpolation?</a> \n",
    "<br> <a href='#BarChartsHistograms'>Bar Charts and Histograms</a> \n",
    "     <br> &emsp;&emsp; <a href='#BarCharts'>Bar Charts</a> \n",
    "     <br> &emsp;&emsp; <a href='#Histograms'>Histograms</a> \n",
    "<br> <a href='#Visualising2DArrays'>Visualising 2D Arrays</a>\n",
    "<br> <a href='#3DPlotting'>3D Plotting</a> \n",
    "<br> <a href='#Summary'>Summary</a> \n",
    "<br> <a href='#TestYourselfExercises'>Test-Yourself Exercises</a>\n",
    "<br> <a href='#ReviewExercises'>Review Exercises</a>"
   ]
  },
  {
   "cell_type": "markdown",
   "metadata": {
    "slideshow": {
     "slide_type": "slide"
    }
   },
   "source": [
    "### Lesson Goal\n",
    "\n",
    "1. Plot data imported from a file \n",
    "2. Perform analysis to file a curve to experimental data.   \n",
    "\n",
    "### Fundamental programming concepts\n",
    " - Working with multiple file types\n",
    " - Exploiting computational analysis techniques"
   ]
  },
  {
   "cell_type": "markdown",
   "metadata": {
    "slideshow": {
     "slide_type": "slide"
    }
   },
   "source": [
    "## Matplotlib\n",
    "<a id='Matplotlib'></a>\n",
    "Matplotlib is the most widely used Python package for plotting.\n",
    "\n",
    "It's functionality is huge.\n",
    "\n",
    "Today's seminar will introduce the core functionality of Matplotlib.\n",
    "\n",
    "\n",
    "\n"
   ]
  },
  {
   "cell_type": "code",
   "execution_count": 1,
   "metadata": {
    "slideshow": {
     "slide_type": "slide"
    }
   },
   "outputs": [],
   "source": [
    "import numpy as np\n",
    "\n",
    "# plotting\n",
    "import matplotlib.pyplot as plt\n",
    "\n",
    "# colours\n",
    "import matplotlib.cm as cm\n",
    "\n",
    "# Plotting in 3D\n",
    "from mpl_toolkits.mplot3d import axes3d"
   ]
  },
  {
   "cell_type": "markdown",
   "metadata": {
    "slideshow": {
     "slide_type": "slide"
    }
   },
   "source": [
    "## SciPy\n",
    "<a id='SciPy'></a>\n",
    "Both Numpy and Matplotlib are part of SciPy; a Python package for mathematics, science, and engineering related computing.\n",
    "\n",
    "Today we will also be importing functions from the SciPy package."
   ]
  },
  {
   "cell_type": "markdown",
   "metadata": {
    "slideshow": {
     "slide_type": "slide"
    }
   },
   "source": [
    "To display plots in Jupyter Notebook, we must also have the following line in the notebook *before* generating the plot:"
   ]
  },
  {
   "cell_type": "code",
   "execution_count": 2,
   "metadata": {
    "slideshow": {
     "slide_type": "-"
    }
   },
   "outputs": [],
   "source": [
    "%matplotlib inline\n"
   ]
  },
  {
   "cell_type": "markdown",
   "metadata": {
    "slideshow": {
     "slide_type": "slide"
    }
   },
   "source": [
    "To display plots when running a .py file (e.g. in Spyder, we must also have the following line in the notebook *after* generating the plot:"
   ]
  },
  {
   "cell_type": "code",
   "execution_count": 3,
   "metadata": {
    "slideshow": {
     "slide_type": "-"
    }
   },
   "outputs": [],
   "source": [
    "plt.show()"
   ]
  },
  {
   "cell_type": "markdown",
   "metadata": {},
   "source": [
    "Online resources for more Matplotlib functionality:\n",
    " - Matplotlib Gallery (http://matplotlib.org/gallery.html)\n",
    " - Github (http://gree2.github.io/python/2015/04/10/python-matplotlib-plotting-examples-and-exercises)\n",
    " \n",
    " "
   ]
  },
  {
   "cell_type": "markdown",
   "metadata": {
    "slideshow": {
     "slide_type": "slide"
    }
   },
   "source": [
    "## Line and Scatter Plots\n",
    "<a id='LineScatterPlots'></a>\n",
    "Matplotlib can be used to produce basic line and scatter plots.\n",
    "\n",
    "You can manipulate the appearance of these plots in code."
   ]
  },
  {
   "cell_type": "markdown",
   "metadata": {
    "slideshow": {
     "slide_type": "subslide"
    }
   },
   "source": [
    "For a sample data set of values of $x$ and corresponding values of $f$:"
   ]
  },
  {
   "cell_type": "code",
   "execution_count": 4,
   "metadata": {},
   "outputs": [],
   "source": [
    "x = [-1, 3, 4, 8 , 10]\n",
    "f = [-1, -2, 7, 13 , 1]\n",
    "\n"
   ]
  },
  {
   "cell_type": "markdown",
   "metadata": {},
   "source": [
    "We can produce a line plot.."
   ]
  },
  {
   "cell_type": "code",
   "execution_count": 5,
   "metadata": {
    "slideshow": {
     "slide_type": "slide"
    }
   },
   "outputs": [
    {
     "data": {
      "text/plain": [
       "[<matplotlib.lines.Line2D at 0x10989df98>]"
      ]
     },
     "execution_count": 5,
     "metadata": {},
     "output_type": "execute_result"
    },
    {
     "data": {
      "image/png": "[encoded data removed]",
      "text/plain": [
       "<matplotlib.figure.Figure at 0x1094869b0>"
      ]
     },
     "metadata": {},
     "output_type": "display_data"
    }
   ],
   "source": [
    "plt.plot(x, f)\n"
   ]
  },
  {
   "cell_type": "markdown",
   "metadata": {
    "slideshow": {
     "slide_type": "slide"
    }
   },
   "source": [
    "Notice the statement `[<matplotlib.lines.Line2D at 0x30990b0>]` appears each time (the numbers on your computer may look different). \n",
    "\n",
    "This is a handle to the line that is created with the last command in the code block (in this case `plt.plot(x, y)`). \n",
    "\n",
    "You can avoid printing this by putting a semicolon after the last command in the code block (so type `plot(x, y);`). "
   ]
  },
  {
   "cell_type": "markdown",
   "metadata": {
    "slideshow": {
     "slide_type": "slide"
    }
   },
   "source": [
    "The `plot` function can take many arguments.\n",
    "\n",
    "Summary so far: `plot` can take:\n",
    " - One argument `plot(y)`, which plots `y` values along the vertical axis and enumerates the horizontal axis starting at 0.<br>\n",
    " - Two arguments, `plot(x, y)`, which plots `x` vs `y`.<br>\n",
    " - Three arguments `plot(x, y, formatstring)`, which plots `x` vs `y` using colors and markers defined in `formatstring`.\n",
    " \n",
    " "
   ]
  },
  {
   "cell_type": "markdown",
   "metadata": {
    "slideshow": {
     "slide_type": "slide"
    }
   },
   "source": [
    "The optional __format string__ is a convenient way for defining basic formatting:\n",
    "\n",
    "Using the `formatstring` argument we can chnage:\n",
    " - the colour of the plot (e.g. `r` = red, `k`= black)\n",
    " - the style of the markers (e.g. `o` = points, `*` = stars)\n",
    " - the style of the line (e.g. `--` = dashes, `.` = dots)"
   ]
  },
  {
   "cell_type": "markdown",
   "metadata": {
    "slideshow": {
     "slide_type": "slide"
    }
   },
   "source": [
    "In the example below:\n",
    " - `r` makes the plot red\n",
    " - `x` makes the markers crosses\n",
    " - `-` makes the line solid"
   ]
  },
  {
   "cell_type": "code",
   "execution_count": 6,
   "metadata": {
    "slideshow": {
     "slide_type": "slide"
    }
   },
   "outputs": [
    {
     "data": {
      "image/png": "[encoded data removed]",
      "text/plain": [
       "<matplotlib.figure.Figure at 0x1098d87f0>"
      ]
     },
     "metadata": {},
     "output_type": "display_data"
    }
   ],
   "source": [
    "plt.plot(x, f, '-xr');"
   ]
  },
  {
   "cell_type": "markdown",
   "metadata": {
    "slideshow": {
     "slide_type": "slide"
    }
   },
   "source": [
    "Note the semi-colon when calling the `plot` function."
   ]
  },
  {
   "cell_type": "code",
   "execution_count": 7,
   "metadata": {
    "slideshow": {
     "slide_type": "slide"
    }
   },
   "outputs": [
    {
     "data": {
      "text/plain": [
       "[<matplotlib.lines.Line2D at 0x109a11710>]"
      ]
     },
     "execution_count": 7,
     "metadata": {},
     "output_type": "execute_result"
    },
    {
     "data": {
      "image/png": "[encoded data removed]",
      "text/plain": [
       "<matplotlib.figure.Figure at 0x109906a90>"
      ]
     },
     "metadata": {},
     "output_type": "display_data"
    }
   ],
   "source": [
    "plt.plot(x, f, '--og')  \n",
    "# plt.plot(x, f, 'og--')  \n",
    "# plt.plot(x, f, 'or--') \n",
    "# plt.plot(x, f, 'k.') "
   ]
  },
  {
   "cell_type": "markdown",
   "metadata": {
    "slideshow": {
     "slide_type": "slide"
    }
   },
   "source": [
    "Available colours, maker styles and line styles can be found in the matplotlib documentation. \n",
    " - Colour: https://matplotlib.org/2.0.2/api/colors_api.html\n",
    " - Marker style: https://matplotlib.org/api/markers_api.html\n",
    " - Line style: https://matplotlib.org/devdocs/gallery/lines_bars_and_markers/line_styles_reference.html"
   ]
  },
  {
   "cell_type": "markdown",
   "metadata": {
    "slideshow": {
     "slide_type": "slide"
    }
   },
   "source": [
    "The `plot` function also takes a large number of *keyword arguments*. \n",
    "\n",
    "For example, to plot a line with width 6 (the default is 1): "
   ]
  },
  {
   "cell_type": "code",
   "execution_count": 8,
   "metadata": {
    "slideshow": {
     "slide_type": "slide"
    }
   },
   "outputs": [
    {
     "data": {
      "image/png": "[encoded data removed]",
      "text/plain": [
       "<matplotlib.figure.Figure at 0x1099ebb70>"
      ]
     },
     "metadata": {},
     "output_type": "display_data"
    }
   ],
   "source": [
    "plt.plot(x, f, '-xr', linewidth=6);\n",
    "\n"
   ]
  },
  {
   "cell_type": "markdown",
   "metadata": {
    "slideshow": {
     "slide_type": "slide"
    }
   },
   "source": [
    "Remeber keyword arguments must always appear after regular arguments when calling the function.\n",
    "\n",
    "Documentation of all available keyword arguments can be found here: https://matplotlib.org/api/_as_gen/matplotlib.pyplot.plot.html#matplotlib.pyplot.plot"
   ]
  },
  {
   "cell_type": "markdown",
   "metadata": {
    "slideshow": {
     "slide_type": "slide"
    }
   },
   "source": [
    "Other methods such as `legend`, `xlabel`, `ylabel` and `title` can be used to add useful information to a plot."
   ]
  },
  {
   "cell_type": "markdown",
   "metadata": {
    "slideshow": {
     "slide_type": "slide"
    }
   },
   "source": [
    "### Adding Labels, Legend and Title. \n",
    "<a id='AddingLabelsLegendTitle'></a>\n",
    "The location of the legend can be set the the 'best' in terms of not obscuring data. \n",
    "\n",
    "The position of the legend can also be set expllicitly instead. The location codes acan be found here: https://matplotlib.org/api/legend_api.html\n",
    "\n",
    "Using the $ sign can be used to italicise a string.\n",
    "\n",
    "The font size of all strings in the figure can be selected."
   ]
  },
  {
   "cell_type": "code",
   "execution_count": 9,
   "metadata": {
    "slideshow": {
     "slide_type": "slide"
    }
   },
   "outputs": [
    {
     "data": {
      "image/png": "[encoded data removed]",
      "text/plain": [
       "<matplotlib.figure.Figure at 0x112709cc0>"
      ]
     },
     "metadata": {},
     "output_type": "display_data"
    }
   ],
   "source": [
    "# Use the label kwarg to create a name to use in the figure legend. \n",
    "plt.plot(x, f, '-xr', label=\"data 1\")\n",
    "\n",
    "# Legend\n",
    "plt.legend(loc='best', fontsize=12)\n",
    "\n",
    "# Axes labels\n",
    "plt.xlabel('$x$', fontsize=20)\n",
    "plt.ylabel('$f$', fontsize=20)\n",
    "\n",
    "# Title\n",
    "plt.title(\"Simple plot of $f$ against $x$\", fontsize=18);\n"
   ]
  },
  {
   "cell_type": "markdown",
   "metadata": {
    "slideshow": {
     "slide_type": "slide"
    }
   },
   "source": [
    "Note the semi-colon when calling the `title` function."
   ]
  },
  {
   "cell_type": "markdown",
   "metadata": {
    "slideshow": {
     "slide_type": "slide"
    }
   },
   "source": [
    "### Setting the Axis Limits\n",
    "<a id='SettingAxisLimits'></a>\n",
    "Example: plot the funstion $sin(x)$  for 100 equally spaced values of x between $0$ and $4 \\pi$ (inclusive). "
   ]
  },
  {
   "cell_type": "code",
   "execution_count": 10,
   "metadata": {
    "slideshow": {
     "slide_type": "slide"
    }
   },
   "outputs": [
    {
     "data": {
      "text/plain": [
       "Text(0,0.5,'$\\\\sin(x)$')"
      ]
     },
     "execution_count": 10,
     "metadata": {},
     "output_type": "execute_result"
    },
    {
     "data": {
      "image/png": "[encoded data removed]",
      "text/plain": [
       "<matplotlib.figure.Figure at 0x109a1a1d0>"
      ]
     },
     "metadata": {},
     "output_type": "display_data"
    }
   ],
   "source": [
    "num_points = 100\n",
    "x = np.linspace(0, 4*np.pi, num_points)\n",
    "f = np.sin(x)\n",
    "\n",
    "# Plot graph\n",
    "plt.plot(x, f);\n",
    "\n",
    "# Label axis\n",
    "plt.xlabel('$x$')\n",
    "plt.ylabel('$\\sin(x)$')\n",
    "\n"
   ]
  },
  {
   "cell_type": "markdown",
   "metadata": {
    "slideshow": {
     "slide_type": "slide"
    }
   },
   "source": [
    "The zero on the x axis is offset by an unknown amount. \n",
    "\n",
    "We can improve the appearance of the plot by specifying the $x$ limits:"
   ]
  },
  {
   "cell_type": "code",
   "execution_count": 11,
   "metadata": {
    "slideshow": {
     "slide_type": "slide"
    }
   },
   "outputs": [
    {
     "data": {
      "text/plain": [
       "(0.0, 12.566370614359172)"
      ]
     },
     "execution_count": 11,
     "metadata": {},
     "output_type": "execute_result"
    },
    {
     "data": {
      "image/png": "[encoded data removed]",
      "text/plain": [
       "<matplotlib.figure.Figure at 0x1128046a0>"
      ]
     },
     "metadata": {},
     "output_type": "display_data"
    }
   ],
   "source": [
    "# Plot graph\n",
    "plt.plot(x, f);\n",
    "\n",
    "# Label axis\n",
    "plt.xlabel('$x$')\n",
    "plt.ylabel('$\\sin(x)$')\n",
    "\n",
    "# Use the start and end values in x as x limits \n",
    "plt.xlim(x[0], x[-1])\n",
    "\n",
    "# ...or set the lower x limit only\n",
    "#plt.xlim(xmin=0)\n",
    "#plt.xlim(xmin=x[0])"
   ]
  },
  {
   "cell_type": "markdown",
   "metadata": {
    "slideshow": {
     "slide_type": "slide"
    }
   },
   "source": [
    "### Multiple Plots\n",
    "<a id='MultiplePlots'></a>\n",
    "Plots can be overlaid by called `plt.plot(...` multiple times."
   ]
  },
  {
   "cell_type": "code",
   "execution_count": 12,
   "metadata": {
    "slideshow": {
     "slide_type": "slide"
    }
   },
   "outputs": [
    {
     "data": {
      "image/png": "[encoded data removed]",
      "text/plain": [
       "<matplotlib.figure.Figure at 0x1099a3240>"
      ]
     },
     "metadata": {},
     "output_type": "display_data"
    }
   ],
   "source": [
    "# Plot sin(x) and cos(x), and add label for each\n",
    "plt.plot(x, np.sin(x), label=\"$\\sin(x)$\");\n",
    "plt.plot(x, np.cos(x), label=\"$\\cos(x)$\");\n",
    "\n",
    "# Label the x-axis\n",
    "plt.xlabel('$x$');\n",
    "\n",
    "# Add legend\n",
    "plt.legend();\n",
    "\n",
    "# Use the start and end values in x as x limits\n",
    "plt.xlim(x[0], x[-1]);"
   ]
  },
  {
   "cell_type": "markdown",
   "metadata": {
    "slideshow": {
     "slide_type": "slide"
    }
   },
   "source": [
    "### Saving a Plot\n",
    "<a id='SavingPlot'></a>\n",
    "A plot can be saved as a file for your to use e.g. in a report.\n",
    "\n",
    "A file name should be given.\n",
    "\n",
    "The file type is specified using the file extension.\n",
    "\n",
    "`/` can be used to seperate the names of nested folders.\n",
    "\n"
   ]
  },
  {
   "cell_type": "markdown",
   "metadata": {
    "slideshow": {
     "slide_type": "slide"
    }
   },
   "source": [
    "In the example below, the graph is saved as a pdf and a png file in the `img` folder in your directory. \n",
    "\n",
    "Run the code in the cell below then open the folder `img` using the file browser on your computer to verify that the files were generated by noting the time stamp shown for each file. "
   ]
  },
  {
   "cell_type": "code",
   "execution_count": 13,
   "metadata": {
    "slideshow": {
     "slide_type": "-"
    }
   },
   "outputs": [
    {
     "data": {
      "text/plain": [
       "<matplotlib.figure.Figure at 0x1127e30f0>"
      ]
     },
     "metadata": {},
     "output_type": "display_data"
    }
   ],
   "source": [
    "# Save plot to file\n",
    "plt.savefig(\"img/my-plot.pdf\")\n",
    "plt.savefig(\"img/my-plot.png\")"
   ]
  },
  {
   "cell_type": "markdown",
   "metadata": {
    "slideshow": {
     "slide_type": "slide"
    }
   },
   "source": [
    "__Try it yourself__\n",
    "<br>In the cell below:\n",
    "- create a green line plot of the function $sin^2(x)$ (or $(sin(x))^2$) using the range of $x$ from the last example. \n",
    "- add a blue triangular marker at $x=\\frac{\\pi}{2}, \\pi, \\frac{3\\pi}{2}, 2\\pi, \\frac{5\\pi}{2}, 3\\pi, \\frac{7\\pi}{2}$ and $4\\pi$.\n",
    "- label the axes\n",
    "- save the figure as a .jpg file in the `img` folder in your repository.\n"
   ]
  },
  {
   "cell_type": "markdown",
   "metadata": {
    "collapsed": true,
    "slideshow": {
     "slide_type": "slide"
    }
   },
   "source": [
    "## Importing Data from Delimited Text Files\n",
    "<a id='ImportingDataDelimitedTextFiles'></a>\n",
    "In 02_DataStructures_LibraryFunctions.ipynb, we learnt to use the function `numpy.load.txt` to import and manipulate data from files e.g. .csv files."
   ]
  },
  {
   "cell_type": "markdown",
   "metadata": {
    "slideshow": {
     "slide_type": "slide"
    }
   },
   "source": [
    "__Remember__\n",
    "<br>The file to be loaded must be in the same directory as your python program.\n",
    "<br>Otherwise you must specify the the full path to the data file using / to seperate directory names. \n",
    "<br>The filename (or path plus filename) needs to be between \"\" quotation marks. "
   ]
  },
  {
   "cell_type": "markdown",
   "metadata": {
    "slideshow": {
     "slide_type": "slide"
    }
   },
   "source": [
    "To import the data from `sample_data/data.dat`:\n",
    ">`0.000 1.053 2.105 3.158 4.211\n",
    "74.452 48.348 68.733 59.796 54.123`\n"
   ]
  },
  {
   "cell_type": "code",
   "execution_count": 14,
   "metadata": {
    "slideshow": {
     "slide_type": "slide"
    }
   },
   "outputs": [
    {
     "name": "stdout",
     "output_type": "stream",
     "text": [
      "[[ 1.053  2.105  3.158  4.211  6.065]\n",
      " [48.348 68.733 59.796 54.123 74.452]]\n",
      "<class 'numpy.ndarray'>\n",
      "2.105\n"
     ]
    }
   ],
   "source": [
    "A = np.loadtxt('sample_data/sample_data.dat')\n",
    "print(A)\n",
    "print(type(A))\n",
    "print(A[0][1])"
   ]
  },
  {
   "cell_type": "markdown",
   "metadata": {
    "slideshow": {
     "slide_type": "slide"
    }
   },
   "source": [
    "The __delimiter__ should (sometimes) be specified.\n",
    "\n",
    "This tells Python how to separate the data into the individual elements of an array. \n",
    "\n",
    "The default delimiter is a space.\n",
    "\n",
    "(Data separated by spaces will be automatically be assigned different indices)."
   ]
  },
  {
   "cell_type": "markdown",
   "metadata": {
    "slideshow": {
     "slide_type": "slide"
    }
   },
   "source": [
    "The __data type__ should (sometimes) be specified.\n",
    "\n",
    "This tells Python how to separate the data into the individual elements of an array. \n",
    "\n",
    "The default data type is `float`.\n",
    "\n",
    "If your data contains items that cannot be expressed as a float, importing it will cause an error unless the data-type is specified.\n",
    "\n",
    "Mixed data types can be imported as `string` values. "
   ]
  },
  {
   "cell_type": "markdown",
   "metadata": {
    "slideshow": {
     "slide_type": "slide"
    }
   },
   "source": [
    "Data in `sample_data/sample_student_data.txt`:\n",
    "- __delimiter__ : tab (`/t`) \n",
    "- __data type__ : string (float in some columns)\n",
    "\n",
    "```Python\n",
    "Subject\tSex\tDOB\tHeight\tWeight\tBP\n",
    "(ID)\tM/F\tdd/mm/yy\tm\tkg\tmmHg\n",
    "JW-1\tM\t19/12/1995\t1.82\t92.4\t119/76\n",
    "JW-2\tM\t11/01/1996\t1.77\t80.9\t114/73\n",
    "JW-3\tF\t02/10/1995\t1.68\t69.7\t124/79\n",
    "JW-6\tM\t06/07/1995\t1.72\t75.5\t110/60\n",
    "JW-7\tF\t28/03/1996\t1.66\t72.4\t-\n",
    "JW-9\tF\t11/12/1995\t1.78\t82.1\t115/75\n",
    "JW-10\tF\t07/04/1996\t1.6\t45\t-/-\n",
    "JW-11\tM\t22/08/1995\t1.72\t77.2\t97/63\n",
    "JW-12\tM\t23/05/1996\t1.83\t88.9\t105/70\n",
    "JW-14\tF\t12/01/1996\t1.56\t56.3\t108/72\n",
    "JW-15\tF\t01/06/1996\t1.64\t65\t99/67\n",
    "JW-16\tM\t10/09/1995\t1.63\t73\t131/84\n",
    "JW-17\tM\t17/02/1996\t1.67\t89.8\t101/76\n",
    "JW-18\tM\t31/07/1996\t1.66\t75.1\t-/-\n",
    "JW-19\tF\t30/10/1995\t1.59\t67.3\t103/69\n",
    "JW-22\tF\t09/03/1996\t1.7\t45\t119/80\n",
    "JW-23\tM\t15/05/1995\t1.97\t89.2\t124/82\n",
    "JW-24\tF\t01/12/1995\t1.66\t63.8\t100/78\n",
    "JW-25\tF\t25/10/1995\t1.63\t64.4\t-/-\n",
    "JW-26\tM\t17/04/1996\t1.69\t55\t121/82\n",
    "```"
   ]
  },
  {
   "cell_type": "code",
   "execution_count": 15,
   "metadata": {
    "slideshow": {
     "slide_type": "slide"
    }
   },
   "outputs": [
    {
     "data": {
      "text/plain": [
       "array([['Student', 'Sex', 'DOB', 'Height', 'Weight', 'BP'],\n",
       "       ['(ID)', 'M/F', 'dd/mm/yy', 'm', 'kg', 'mmHg'],\n",
       "       ['JW-1', 'M', '19/12/1995', '1.82', '92.4', '119/76'],\n",
       "       ['JW-2', 'M', '11/01/1996', '1.77', '80.9', '114/73'],\n",
       "       ['JW-3', 'F', '02/10/1995', '1.68', '69.7', '124/79'],\n",
       "       ['JW-4', 'M', '11/01/1996', '1.77', '80.9', '114/73'],\n",
       "       ['JW-5', 'F', '02/10/1995', '1.68', '69.7', '124/79'],\n",
       "       ['JW-6', 'M', '06/07/1995', '1.72', '75.5', '110/60'],\n",
       "       ['JW-7', 'F', '28/03/1996', '1.66', '72.4', '-'],\n",
       "       ['JW-9', 'F', '11/12/1995', '1.78', '82.1', '115/75'],\n",
       "       ['JW-10', 'F', '07/04/1996', '1.6', '45', '-/-'],\n",
       "       ['JW-11', 'M', '22/08/1995', '1.72', '77.2', '97/63'],\n",
       "       ['JW-12', 'M', '23/05/1996', '1.83', '88.9', '105/70'],\n",
       "       ['JW-14', 'F', '12/01/1996', '1.56', '56.3', '108/72'],\n",
       "       ['JW-15', 'F', '01/06/1996', '1.64', '65', '99/67'],\n",
       "       ['JW-16', 'M', '10/09/1995', '1.63', '73', '131/84'],\n",
       "       ['JW-17', 'M', '17/02/1996', '1.67', '89.8', '101/76'],\n",
       "       ['JW-18', 'M', '31/07/1996', '1.66', '75.1', '-/-'],\n",
       "       ['JW-19', 'F', '30/10/1995', '1.59', '67.3', '103/69'],\n",
       "       ['JW-22', 'F', '09/03/1996', '1.7', '45', '119/80'],\n",
       "       ['JW-23', 'M', '15/05/1995', '1.97', '89.2', '124/82'],\n",
       "       ['JW-24', 'F', '01/12/1995', '1.66', '63.8', '100/78'],\n",
       "       ['JW-25', 'F', '25/10/1995', '1.63', '64.4', '-/-'],\n",
       "       ['JW-26', 'M', '17/04/1996', '1.69', '55', '121/82']], dtype='<U10')"
      ]
     },
     "execution_count": 15,
     "metadata": {},
     "output_type": "execute_result"
    }
   ],
   "source": [
    "np.loadtxt('sample_data/sample_student_data.txt', delimiter=\"\\t\", dtype=str)"
   ]
  },
  {
   "cell_type": "markdown",
   "metadata": {
    "slideshow": {
     "slide_type": "slide"
    }
   },
   "source": [
    "Regions can be selected, for example to select only numerical data. \n",
    "\n",
    "`skiprows` skips the first n lines. \n",
    "\n",
    "`usecols` specifies which columns to read, with 0 being the first. \n",
    "\n",
    "`usecols = (1, 4, 5)` : extracts the 2nd, 5th and 6th columns.\n",
    "<br>`usecols = (3, 4)` : extracts the 4th and 5th columns (height and weight data)."
   ]
  },
  {
   "cell_type": "code",
   "execution_count": 16,
   "metadata": {
    "slideshow": {
     "slide_type": "slide"
    }
   },
   "outputs": [
    {
     "name": "stdout",
     "output_type": "stream",
     "text": [
      "[[ 1.78 82.1 ]\n",
      " [ 1.6  45.  ]\n",
      " [ 1.72 77.2 ]\n",
      " [ 1.83 88.9 ]\n",
      " [ 1.56 56.3 ]\n",
      " [ 1.64 65.  ]\n",
      " [ 1.63 73.  ]\n",
      " [ 1.67 89.8 ]\n",
      " [ 1.66 75.1 ]\n",
      " [ 1.59 67.3 ]\n",
      " [ 1.7  45.  ]\n",
      " [ 1.97 89.2 ]\n",
      " [ 1.66 63.8 ]\n",
      " [ 1.63 64.4 ]\n",
      " [ 1.69 55.  ]]\n"
     ]
    }
   ],
   "source": [
    "students = np.loadtxt('sample_data/sample_student_data.txt', dtype=float, skiprows=9, usecols=(3,4))\n",
    "print(students)"
   ]
  },
  {
   "cell_type": "markdown",
   "metadata": {
    "slideshow": {
     "slide_type": "slide"
    }
   },
   "source": [
    "You can now use the imported data as a regular Numpy array.\n",
    "\n"
   ]
  },
  {
   "cell_type": "code",
   "execution_count": 17,
   "metadata": {
    "slideshow": {
     "slide_type": "slide"
    }
   },
   "outputs": [
    {
     "data": {
      "image/png": "[encoded data removed]",
      "text/plain": [
       "<matplotlib.figure.Figure at 0x112932ef0>"
      ]
     },
     "metadata": {},
     "output_type": "display_data"
    }
   ],
   "source": [
    "# Use indexing to select which ROWS and which COLUMNS to plot\n",
    "plt.plot(students[:, 0], students[:, 1], 'rx', label=\"students\")\n",
    "\n",
    "# Legend\n",
    "plt.legend(loc='best', fontsize=12)\n",
    "\n",
    "# Axes labels\n",
    "plt.xlabel('Height (m)', fontsize=12)\n",
    "plt.ylabel('Weight (kg)', fontsize=12)\n",
    "\n",
    "# Title\n",
    "plt.title(\"Height to weight relationship for students in class A\", fontsize=18);"
   ]
  },
  {
   "cell_type": "markdown",
   "metadata": {
    "slideshow": {
     "slide_type": "slide"
    }
   },
   "source": [
    "## Curve Fitting\n",
    "<a id='CurveFitting'></a>\n",
    "We often want to 'fit' a function to a set of data points e.g. raw experimental data.\n",
    "\n",
    "Python has several tools to find the curve which best describes the data set."
   ]
  },
  {
   "cell_type": "markdown",
   "metadata": {
    "slideshow": {
     "slide_type": "slide"
    }
   },
   "source": [
    "<a id='FittingLinearFunction'></a>\n",
    "### Fitting a Linear Function\n",
    "A straight line can be fitted through a data set using the `linregress` function from `scipy.stats`. \n",
    "\n"
   ]
  },
  {
   "cell_type": "code",
   "execution_count": 18,
   "metadata": {},
   "outputs": [],
   "source": [
    "from scipy.stats import linregress\n"
   ]
  },
  {
   "cell_type": "markdown",
   "metadata": {
    "slideshow": {
     "slide_type": "slide"
    }
   },
   "source": [
    "\n",
    "Example: `linregress(x, y)` returns the components of an equation of the form:\n",
    "$$\n",
    "y = mx + c\n",
    "$$\n",
    "\n",
    "It returns five values:\n",
    "- gradient $m$ of the trend line\n",
    "- y-intercept $c$ of the trned line\n",
    "- statistical parameters (outside the scope of today's class)\n",
    "    - r value\n",
    "    - p value\n",
    "    - standard error\n"
   ]
  },
  {
   "cell_type": "code",
   "execution_count": 19,
   "metadata": {
    "slideshow": {
     "slide_type": "slide"
    }
   },
   "outputs": [
    {
     "data": {
      "text/plain": [
       "Text(0,0.5,'y')"
      ]
     },
     "execution_count": 19,
     "metadata": {},
     "output_type": "execute_result"
    },
    {
     "data": {
      "image/png": "[encoded data removed]",
      "text/plain": [
       "<matplotlib.figure.Figure at 0x1129405f8>"
      ]
     },
     "metadata": {},
     "output_type": "display_data"
    }
   ],
   "source": [
    "# imported data\n",
    "x = students[:, 0]\n",
    "y = students[:, 1]\n",
    "\n",
    "\n",
    "# gradient is first returned value\n",
    "# y-intercept is second returned value\n",
    "m, c = linregress(x, y)[0], linregress(x, y)[1]\n",
    "\n",
    "\n",
    "# generate the fitted y values\n",
    "yfit = float(m) * x + c\n",
    "\n",
    "\n",
    "# plot a scatter plot of raw data\n",
    "plt.plot(x, y, 'o', label='experiment data')\n",
    "\n",
    "\n",
    "# plot the fitted linear function \n",
    "plt.plot(x, yfit, label='fit');\n",
    "\n",
    "\n",
    "plt.xlabel('x')\n",
    "plt.ylabel('y')\n"
   ]
  },
  {
   "cell_type": "markdown",
   "metadata": {
    "slideshow": {
     "slide_type": "slide"
    }
   },
   "source": [
    "<a id='RMSE'></a>\n",
    "\n",
    "The \"goodness of fit\" than then be assessed by calculating the __root mean square error__.\n",
    "\n",
    "\n",
    "\n"
   ]
  },
  {
   "cell_type": "markdown",
   "metadata": {
    "slideshow": {
     "slide_type": "slide"
    }
   },
   "source": [
    "### Root Mean Square Error (RMSE)\n",
    "<a id='RootMeanSquareError'></a>\n",
    "One way to quantify the fit between data and a model is to compute the RMSE. \n",
    "\n",
    "__Error/residual:__ the difference between:\n",
    "- the observed value $y(x_i)$ at $x$ \n",
    "- the fitted value $a(x_i)$ at $x$\n",
    "\n",
    "$$\n",
    "\\varepsilon_i = a(x_i) - y(x_i)\n",
    "$$"
   ]
  },
  {
   "cell_type": "markdown",
   "metadata": {
    "slideshow": {
     "slide_type": "slide"
    }
   },
   "source": [
    "For $N$ data points, the *sum* of the squared errors is \n",
    "\n",
    "$$S = \\sum_{i=1}^{N}\\varepsilon_i^2$$\n",
    "\n",
    "The RMSE $E$ is computed as\n",
    "\n",
    "$$E=\\sqrt{\\frac{1}{N}S}=\\sqrt{\\frac{1}{N}\\sum_{i=1}^{N}{\\varepsilon_i^2}}$$"
   ]
  },
  {
   "cell_type": "markdown",
   "metadata": {
    "slideshow": {
     "slide_type": "slide"
    }
   },
   "source": [
    "Smaller RMSE indictes a closer fit between raw and fitted data. \n",
    "\n",
    "We can optimise the fitted function by minimising the RMSE (sum of the squared errors).\n",
    "\n",
    "Therefore, this optimisation approach is often referred to as the *least squares* approach. "
   ]
  },
  {
   "cell_type": "markdown",
   "metadata": {
    "slideshow": {
     "slide_type": "slide"
    }
   },
   "source": [
    "To find the RMSE of the example above:\n",
    "\n",
    "Error, $\\varepsilon_i = a(x_i) - y_i$\n",
    "\n",
    "RMSE, $E=\\sqrt{\\frac{1}{N}\\sum{\\varepsilon_i^2}}$"
   ]
  },
  {
   "cell_type": "code",
   "execution_count": 20,
   "metadata": {
    "slideshow": {
     "slide_type": "slide"
    }
   },
   "outputs": [],
   "source": [
    "# error\n",
    "e = (yfit - y)\n",
    "\n",
    "# RMSE\n",
    "rmse = np.sqrt(np.sum(e**2)/ len(y))\n",
    "\n"
   ]
  },
  {
   "cell_type": "markdown",
   "metadata": {
    "slideshow": {
     "slide_type": "slide"
    }
   },
   "source": [
    "<a id='Title'></a>\n",
    "##### Adding a Title\n",
    "Let's plot the data again, this time showing the RMSE as the plot title:"
   ]
  },
  {
   "cell_type": "code",
   "execution_count": 21,
   "metadata": {
    "slideshow": {
     "slide_type": "slide"
    }
   },
   "outputs": [
    {
     "data": {
      "image/png": "[encoded data removed]",
      "text/plain": [
       "<matplotlib.figure.Figure at 0x1a144b6d68>"
      ]
     },
     "metadata": {},
     "output_type": "display_data"
    }
   ],
   "source": [
    "# plot the data\n",
    "plt.plot(x, y, 'o', label='experiment data')\n",
    "plt.plot(x, yfit, label='fit')\n",
    "plt.xlabel('x')\n",
    "plt.ylabel('y')\n",
    "\n",
    "# create a string of the rounded RMSE value\n",
    "RMSE = str(np.round(rmse, 2))\n",
    "\n",
    "# print the RMSE as the title \n",
    "# the semi colon avoids printing the title as raw text output \n",
    "plt.title('RMSE: '+ RMSE);\n",
    "\n"
   ]
  },
  {
   "cell_type": "markdown",
   "metadata": {
    "slideshow": {
     "slide_type": "slide"
    }
   },
   "source": [
    "<a id='FittingPolynomialFunction'></a>\n",
    "### Fitting a polynomial Function\n",
    "\n",
    ">*Polynomial function : a function such as a quadratic, a cubic, a quartic, and so on, involving only non-negative integer powers of x.*\n",
    "\n",
    "A polynomial curve can be fitted through a data set using the `polyfit` function from `numpy`. \n",
    "\n",
    "The function arguments are:\n",
    "- the two variables to analyse\n",
    "- the order of the polynomial \n",
    "\n"
   ]
  },
  {
   "cell_type": "code",
   "execution_count": 22,
   "metadata": {
    "slideshow": {
     "slide_type": "slide"
    }
   },
   "outputs": [],
   "source": [
    "# Example data set\n",
    "x = np.array([0.0, 50.0, 100.0, 150.0, 200.0, 250.0, 300.0])\n",
    "y = np.array([50.0, 38.0, 30.6, 25.6, 22.2, 19.5, 17.4])*1e-3"
   ]
  },
  {
   "cell_type": "markdown",
   "metadata": {
    "slideshow": {
     "slide_type": "slide"
    }
   },
   "source": [
    "#### Finding Coefficients\n",
    "The function returns the coefficients of each term of the polynomial.\n",
    "\n",
    "e.g.\n",
    "<br>__Input :__ polynomial of order 2\n",
    "<br>__Returns :__ coefficients of $x^2$, $x^1$ and $x^0$ \n",
    "<br>i.e. 3 return arguments."
   ]
  },
  {
   "cell_type": "code",
   "execution_count": 23,
   "metadata": {
    "slideshow": {
     "slide_type": "slide"
    }
   },
   "outputs": [
    {
     "name": "stdout",
     "output_type": "stream",
     "text": [
      "3.628571428571424e-07 -0.00021114285714285714 0.0489214285714286\n",
      "3.628571428571424e-07 -0.00021114285714285714 0.0489214285714286\n"
     ]
    }
   ],
   "source": [
    "a, b, c = np.polyfit(x, y, 2)\n",
    "\n",
    "d = np.polyfit(x, y, 2)\n",
    "\n",
    "print(a, b, c)\n",
    "print(d[0], d[1], d[2])\n"
   ]
  },
  {
   "cell_type": "code",
   "execution_count": 24,
   "metadata": {
    "slideshow": {
     "slide_type": "slide"
    }
   },
   "outputs": [],
   "source": [
    "# 2nd order polynomial\n",
    "# 3 return arguments\n",
    "a = np.polyfit(x, y, 2)\n",
    "\n",
    "# 3rd order polynomial \n",
    "# 4 return arguments\n",
    "b = np.polyfit(x, y, 3)\n",
    "\n",
    "# 4th order polynomial\n",
    "# 5 return arguments\n",
    "c = np.polyfit(x, y, 4)"
   ]
  },
  {
   "cell_type": "markdown",
   "metadata": {
    "slideshow": {
     "slide_type": "slide"
    }
   },
   "source": [
    "#### Generating the Fitted Polynomial Function\n",
    "To produce a polynomial function using the generated coeffients, we can use the function `poly1D`.  "
   ]
  },
  {
   "cell_type": "code",
   "execution_count": 25,
   "metadata": {
    "slideshow": {
     "slide_type": "-"
    }
   },
   "outputs": [],
   "source": [
    "# 2nd order polynomial\n",
    "yfit2 = np.poly1d(a)(x)\n",
    "\n",
    "# 3rd order polynomial \n",
    "yfit3 = np.poly1d(b)(x)\n",
    "\n",
    "# 4th order polynomial\n",
    "yfit4 = np.poly1d(c)(x)\n",
    "\n"
   ]
  },
  {
   "cell_type": "markdown",
   "metadata": {
    "slideshow": {
     "slide_type": "slide"
    }
   },
   "source": [
    "Note, that this produces the same output as:"
   ]
  },
  {
   "cell_type": "code",
   "execution_count": 26,
   "metadata": {},
   "outputs": [],
   "source": [
    "yfit2 = a[0]*x**2 + a[1]*x + a[2]\n",
    "yfit3 = b[0]*x**3 + b[1]*x**2 + b[2]*x + b[3]\n",
    "yfit4 = c[0]*x**4 + c[1]*x**3 + c[2]*x**2 + c[3]*x + c[4]"
   ]
  },
  {
   "cell_type": "markdown",
   "metadata": {
    "slideshow": {
     "slide_type": "slide"
    }
   },
   "source": [
    "The RMSE can be found as before.\n",
    "\n",
    "To avoid repeating the code to compute the RMSE, we can write a function."
   ]
  },
  {
   "cell_type": "code",
   "execution_count": 27,
   "metadata": {
    "slideshow": {
     "slide_type": "slide"
    }
   },
   "outputs": [],
   "source": [
    "# original code\n",
    "# e = (yfit - y) # error\n",
    "# rmse = np.sqrt(np.sum(e**2)/ len(y)) # RMSE\n",
    "\n",
    "def RMSE(raw, fitted):\n",
    "    e = (fitted - raw)\n",
    "    return np.sqrt(np.sum(e**2)/ len(y))"
   ]
  },
  {
   "cell_type": "code",
   "execution_count": 28,
   "metadata": {
    "slideshow": {
     "slide_type": "slide"
    }
   },
   "outputs": [],
   "source": [
    "# error\n",
    "rmse2 = RMSE(y, yfit2)"
   ]
  },
  {
   "cell_type": "markdown",
   "metadata": {
    "slideshow": {
     "slide_type": "slide"
    }
   },
   "source": [
    "This is a short funtion so it can be conveniantly defined as a lambda function"
   ]
  },
  {
   "cell_type": "code",
   "execution_count": 29,
   "metadata": {
    "slideshow": {
     "slide_type": "-"
    }
   },
   "outputs": [],
   "source": [
    "RMSE_lam = lambda raw, fitted : np.sqrt(np.sum((fitted - raw)**2)/ len(y))"
   ]
  },
  {
   "cell_type": "markdown",
   "metadata": {
    "slideshow": {
     "slide_type": "slide"
    }
   },
   "source": [
    "The same answer is produced by the regular and lambda functions:"
   ]
  },
  {
   "cell_type": "code",
   "execution_count": 30,
   "metadata": {},
   "outputs": [
    {
     "name": "stdout",
     "output_type": "stream",
     "text": [
      "0.0008997732140571289 0.0008997732140571289\n"
     ]
    }
   ],
   "source": [
    "print(RMSE(y, yfit2),   RMSE_lam(y, yfit2))\n"
   ]
  },
  {
   "cell_type": "markdown",
   "metadata": {
    "slideshow": {
     "slide_type": "slide"
    }
   },
   "source": [
    "By comparing the RMSE of different polynomial functions, we can make a quantative assessment of which trendline fits our data the best."
   ]
  },
  {
   "cell_type": "markdown",
   "metadata": {
    "slideshow": {
     "slide_type": "slide"
    }
   },
   "source": [
    "To compare our solutions to the raw data, for *each polynomial* we need to:\n",
    "1. Find the coefficients \n",
    "1. Find the fitted data set\n",
    "1. Find the RMSE\n",
    "1. Store the RMSE\n",
    "1. (String representation: Round all RMSE solutions (to 3 s.f.))\n",
    "1. Plot each polynomial fitted curve.\n",
    "1. Compare all RMSE values"
   ]
  },
  {
   "cell_type": "markdown",
   "metadata": {
    "slideshow": {
     "slide_type": "slide"
    }
   },
   "source": [
    "To avoid repetition, we should therefore use a loop.\n"
   ]
  },
  {
   "cell_type": "code",
   "execution_count": 31,
   "metadata": {
    "scrolled": true,
    "slideshow": {
     "slide_type": "slide"
    }
   },
   "outputs": [],
   "source": [
    "# Looping through polynomials of different order to find the function with the best fit"
   ]
  },
  {
   "cell_type": "markdown",
   "metadata": {
    "slideshow": {
     "slide_type": "slide"
    }
   },
   "source": [
    "###### What does this code do?\n",
    "\n",
    ">`# 1. scientific notation, round\n",
    "    r = '%.3E' % r`\n",
    "    \n",
    "Numbers displayed on our plot should be readable.\n",
    "\n",
    "We can use rounding:"
   ]
  },
  {
   "cell_type": "code",
   "execution_count": 32,
   "metadata": {
    "slideshow": {
     "slide_type": "-"
    }
   },
   "outputs": [
    {
     "data": {
      "text/plain": [
       "0.0"
      ]
     },
     "execution_count": 32,
     "metadata": {},
     "output_type": "execute_result"
    }
   ],
   "source": [
    "np.round( RMSE(y, yfit2) , 2 )\n"
   ]
  },
  {
   "cell_type": "markdown",
   "metadata": {},
   "source": [
    "Or we can use __format__ to change how a string is displayed..."
   ]
  },
  {
   "cell_type": "code",
   "execution_count": 33,
   "metadata": {
    "slideshow": {
     "slide_type": "slide"
    }
   },
   "outputs": [
    {
     "name": "stdout",
     "output_type": "stream",
     "text": [
      "0.0123456\n",
      "0.0123456\n",
      "0.0123456\n",
      "1.234560E-02\n",
      "1.23E-02, 2.3E-01\n"
     ]
    }
   ],
   "source": [
    "r = 0.0123456\n",
    "s = 0.2345678\n",
    "\n",
    "# cast as a string\n",
    "print(str(r))\n",
    "print('%s' % r)\n",
    "print('{}'.format(r))\n",
    "\n",
    "# cast as a string, scientific notation\n",
    "print('%E' % r)\n",
    "\n",
    "# specify number of significant figures displayed\n",
    "print('%.2E, %.1E' % (r, s))\n"
   ]
  },
  {
   "cell_type": "markdown",
   "metadata": {
    "collapsed": true,
    "slideshow": {
     "slide_type": "slide"
    }
   },
   "source": [
    "__Note:__ \n",
    "- Matplot lib automatically changes the colour of the line each time you plot. \n",
    "- This is much shorter than repeatedly writig out the code to plot each line of the figure."
   ]
  },
  {
   "cell_type": "markdown",
   "metadata": {
    "slideshow": {
     "slide_type": "slide"
    }
   },
   "source": [
    "<a id='FittingArbitraryFunction'></a>\n",
    "### Fitting an Arbitrary Function\n",
    "\n",
    "e.g. What if trend describing our data cannot be represented as a polynomial function? \n",
    "\n"
   ]
  },
  {
   "cell_type": "code",
   "execution_count": 34,
   "metadata": {
    "slideshow": {
     "slide_type": "slide"
    }
   },
   "outputs": [
    {
     "data": {
      "text/plain": [
       "Text(0,0.5,'y')"
      ]
     },
     "execution_count": 34,
     "metadata": {},
     "output_type": "execute_result"
    },
    {
     "data": {
      "image/png": "[encoded data removed]",
      "text/plain": [
       "<matplotlib.figure.Figure at 0x112746780>"
      ]
     },
     "metadata": {},
     "output_type": "display_data"
    }
   ],
   "source": [
    "x = [0.000000000000000000e+00, 1.052631578947368363e+00, 2.105263157894736725e+00, 3.157894736842105310e+00,4.210526315789473450e+00, 5.263157894736841591e+00, 6.315789473684210620e+00,7.368421052631578760e+00,8.421052631578946901e+00,9.473684210526315042e+00,1.052631578947368318e+01,1.157894736842105132e+01,1.263157894736842124e+01,1.368421052631578938e+01,1.473684210526315752e+01, 1.578947368421052566e+01,1.684210526315789380e+01,1.789473684210526372e+01,1.894736842105263008e+01,2.000000000000000000e+01]\n",
    "y = [7.445192947240600745e+01, 4.834835792411828947e+01, 6.873305436340778840e+01, 5.979576407972768948e+01,6.404530772390434379e+01,6.090548420541189500e+01, 7.157546008677115879e+01, 8.620253336570679892e+01, 1.138154622045899913e+02, 8.493639813028174501e+01, 9.783457330550828601e+01, 1.082064229481453594e+02, 1.063876210674365979e+02, 1.001971993955305038e+02, 1.061496321788094832e+02, 1.279575585921491836e+02, 1.556956405962417875e+02, 1.584164804859289859e+02, 1.753888794716459358e+02, 1.980941276403034124e+02]\n",
    "x = np.array(x)\n",
    "y = np.array(y)\n",
    "\n",
    "plt.plot(x, y, 'o')\n",
    "plt.xlabel('x')\n",
    "plt.ylabel('y')"
   ]
  },
  {
   "cell_type": "markdown",
   "metadata": {
    "slideshow": {
     "slide_type": "slide"
    }
   },
   "source": [
    "There are many Python functions for curve fitting. \n",
    "\n",
    "The function `curve_fit` can be used to fit a user-defined fuction. \n",
    "\n",
    "We first define a function that we want to fit."
   ]
  },
  {
   "cell_type": "markdown",
   "metadata": {
    "slideshow": {
     "slide_type": "subslide"
    }
   },
   "source": [
    "__Example__ \n",
    "\n",
    "$y = a e^{bx}$\n",
    "\n",
    "\n",
    "\n",
    "\n"
   ]
  },
  {
   "cell_type": "code",
   "execution_count": 35,
   "metadata": {
    "slideshow": {
     "slide_type": "slide"
    }
   },
   "outputs": [],
   "source": [
    "def exponential(x, a, b):\n",
    "    y = a * np.exp(b*x) \n",
    "    return y\n",
    "\n"
   ]
  },
  {
   "cell_type": "markdown",
   "metadata": {
    "slideshow": {
     "slide_type": "slide"
    }
   },
   "source": [
    "`curve_fit` then returns two arguments:\n",
    " - an array with the optimised parameters\n",
    " - the covariance of the parameters (a statistical measure of accuracy)"
   ]
  },
  {
   "cell_type": "code",
   "execution_count": 36,
   "metadata": {},
   "outputs": [],
   "source": [
    "from scipy.optimize import curve_fit\n",
    "\n",
    "opt, cov = curve_fit(exponential, x, y)\n",
    "\n",
    "# fitted data, any number of parameters is allowable\n",
    "y_fit = exponential(x, *opt)\n"
   ]
  },
  {
   "cell_type": "code",
   "execution_count": 37,
   "metadata": {
    "slideshow": {
     "slide_type": "slide"
    }
   },
   "outputs": [
    {
     "name": "stdout",
     "output_type": "stream",
     "text": [
      "y = 50.37326384265759 * e**(0.06404747989084764*x)\n"
     ]
    },
    {
     "data": {
      "image/png": "[encoded data removed]",
      "text/plain": [
       "<matplotlib.figure.Figure at 0x112733eb8>"
      ]
     },
     "metadata": {},
     "output_type": "display_data"
    }
   ],
   "source": [
    "rmse = RMSE(y_fit, y)\n",
    "\n",
    "plt.plot(x, y,     'o',     label='raw data')\n",
    "#plt.plot(x, y_fit, 'r',    label='fit')\n",
    "\n",
    "plt.legend(loc='best')\n",
    "plt.title('RMSE: {rmse}')\n",
    "\n",
    "# show the optimised parameters\n",
    "print(f\"y = {opt[0]} * e**({opt[1]}*x)\")\n",
    "\n"
   ]
  },
  {
   "cell_type": "markdown",
   "metadata": {
    "slideshow": {
     "slide_type": "slide"
    }
   },
   "source": [
    "## Interpolation\n",
    "<a id='Interpolation'></a>\n",
    ">*Interpolation: <br>A method of constructing new data points within the range of a discrete set of known data points.*\n",
    "\n",
    "For example, in a lab experiment, parameter is recorded at time=1 and time=2.\n",
    "\n",
    "We can *interpolate* to find the value at time=1.2.  "
   ]
  },
  {
   "cell_type": "markdown",
   "metadata": {
    "slideshow": {
     "slide_type": "slide"
    }
   },
   "source": [
    "You can use many different methods for interpolation including linear interpolation and polynomial, or spline curves.\n",
    "\n",
    "Sometimes we can use the trendline of the data.\n",
    "\n",
    "In other situations (e.g. where the data is not easily desribed by a function) it can be more accurate to interpolate between two data points. \n",
    "\n"
   ]
  },
  {
   "cell_type": "markdown",
   "metadata": {
    "slideshow": {
     "slide_type": "slide"
    }
   },
   "source": [
    "By generating (and plotting) the interpolated solutions computationally, we can assess the accuracy of the solution."
   ]
  },
  {
   "cell_type": "markdown",
   "metadata": {
    "slideshow": {
     "slide_type": "slide"
    }
   },
   "source": [
    "Suppose we have some data that describes the value of $y$ for a given  $x$.\n",
    "\n",
    "\n"
   ]
  },
  {
   "cell_type": "code",
   "execution_count": 38,
   "metadata": {
    "slideshow": {
     "slide_type": "-"
    }
   },
   "outputs": [
    {
     "data": {
      "text/plain": [
       "Text(0,0.5,'y')"
      ]
     },
     "execution_count": 38,
     "metadata": {},
     "output_type": "execute_result"
    },
    {
     "data": {
      "image/png": "[encoded data removed]",
      "text/plain": [
       "<matplotlib.figure.Figure at 0x1098df240>"
      ]
     },
     "metadata": {},
     "output_type": "display_data"
    }
   ],
   "source": [
    "x = np.array([0.5,1,3,4])\n",
    "y = np.array([1.648,  2.718, 20.086, 54.598])\n",
    "plt.plot(x, y, 'ko')\n",
    "plt.xlabel('x')\n",
    "plt.ylabel('y')\n"
   ]
  },
  {
   "cell_type": "markdown",
   "metadata": {
    "slideshow": {
     "slide_type": "slide"
    }
   },
   "source": [
    "Estimate the value of $y$ at $x=2$.\n",
    "\n",
    "This is a simple interpolation problem."
   ]
  },
  {
   "cell_type": "code",
   "execution_count": 39,
   "metadata": {},
   "outputs": [],
   "source": [
    "from scipy.interpolate import interp1d\n",
    "\n"
   ]
  },
  {
   "cell_type": "markdown",
   "metadata": {
    "slideshow": {
     "slide_type": "slide"
    }
   },
   "source": [
    "### Linear Interpolation\n",
    "<a id='LinearInterpolation'></a>"
   ]
  },
  {
   "cell_type": "markdown",
   "metadata": {
    "slideshow": {
     "slide_type": "slide"
    }
   },
   "source": [
    "The default mode for `scipy.interpolate.interp1d` is *linear* interpolation. \n",
    "\n",
    "If the two known points are given by the coordinates $(x_{0},y_{0})$ and  $(x_{1},y_{1})$ the linear interpolant is the straight line between these points. \n",
    "\n",
    " \n",
    "\n",
    "<img src=\"img/LinearInterpolation.svg\" alt=\"Drawing\" style=\"width: 200px;\"/>\n",
    "\n",
    "\n"
   ]
  },
  {
   "cell_type": "markdown",
   "metadata": {
    "slideshow": {
     "slide_type": "slide"
    }
   },
   "source": [
    "For a value x in the interval $(x_{0},x_{1})$, the value y along the straight line connecting the two known points is found from the equation for the gradient of the straight line:\n",
    "\n",
    "$$\\frac{y - y_0}{x - x_0} = \\frac{y_1 - y_0}{x_1 - x_0}$$\n",
    "\n",
    "Re-arranging gives:\n",
    "\n",
    "$$y = \\frac{y_0 (x_1 - x) + y_1(x - x_0)}{x_1 - x_0}$$"
   ]
  },
  {
   "cell_type": "code",
   "execution_count": 40,
   "metadata": {
    "slideshow": {
     "slide_type": "slide"
    }
   },
   "outputs": [
    {
     "name": "stdout",
     "output_type": "stream",
     "text": [
      "11.402\n"
     ]
    }
   ],
   "source": [
    "func = interp1d(x, y)\n",
    "print(func(2))\n"
   ]
  },
  {
   "cell_type": "markdown",
   "metadata": {
    "slideshow": {
     "slide_type": "-"
    }
   },
   "source": [
    "The function we sample above is actually:\n",
    "\n",
    "$y(x) = exp(x)$ \n",
    "\n",
    "The linearly interpolated example is not very accurate."
   ]
  },
  {
   "cell_type": "code",
   "execution_count": 41,
   "metadata": {
    "scrolled": true,
    "slideshow": {
     "slide_type": "-"
    }
   },
   "outputs": [
    {
     "name": "stdout",
     "output_type": "stream",
     "text": [
      "7.38905609893065\n"
     ]
    }
   ],
   "source": [
    "print(np.exp(2))\n"
   ]
  },
  {
   "cell_type": "markdown",
   "metadata": {
    "slideshow": {
     "slide_type": "slide"
    }
   },
   "source": [
    "Let's plot the atual function against the interpolated function to see how they compare:"
   ]
  },
  {
   "cell_type": "code",
   "execution_count": 42,
   "metadata": {
    "slideshow": {
     "slide_type": "slide"
    }
   },
   "outputs": [],
   "source": [
    "# original data\n",
    "\n",
    "\n",
    "# range of values for x axis\n",
    "\n",
    "\n",
    "# function data\n",
    "\n",
    "\n",
    "# interpolated data\n",
    "\n",
    "\n",
    "# plot labels and legend\n",
    "\n"
   ]
  },
  {
   "cell_type": "markdown",
   "metadata": {
    "slideshow": {
     "slide_type": "slide"
    }
   },
   "source": [
    "### Improved Interpolation?\n",
    "<a id='ImprovedInterpolation'></a>\n",
    "We can specify a different interpolation scheme e.g. polynomial splines (curves).\n",
    "\n",
    "A curve of a polynomial function is fitted over neighbouring points. \n"
   ]
  },
  {
   "cell_type": "code",
   "execution_count": 43,
   "metadata": {
    "slideshow": {
     "slide_type": "slide"
    }
   },
   "outputs": [],
   "source": [
    "from scipy.interpolate import splrep\n",
    "from scipy.interpolate import splev\n",
    "import scipy.interpolate\n"
   ]
  },
  {
   "cell_type": "markdown",
   "metadata": {},
   "source": [
    "`splrep` : Returns polynomial functions.   \n",
    "\n",
    "`splev` : Coordinates defining the polynomial curve."
   ]
  },
  {
   "cell_type": "code",
   "execution_count": 44,
   "metadata": {
    "slideshow": {
     "slide_type": "slide"
    }
   },
   "outputs": [],
   "source": [
    "# original data\n",
    "\n",
    "\n",
    "# range of values for x axis\n",
    "\n",
    "\n",
    "# function data\n",
    "\n",
    "\n",
    "# order polynomial interpolation\n",
    "\n",
    "\n",
    "# interpolated data\n",
    "\n",
    "\n",
    "# plot labels and legend\n",
    "\n",
    "\n",
    "# coefficients that define ppolynomial curve\n",
    "\n",
    "# break points or knots\n",
    "\n",
    "# coefficients at breakpoints\n"
   ]
  },
  {
   "cell_type": "markdown",
   "metadata": {
    "slideshow": {
     "slide_type": "slide"
    }
   },
   "source": [
    "By changing the order of the polynomial we can see that polynomial spline interpolation of order 3 gives the closest fit."
   ]
  },
  {
   "cell_type": "code",
   "execution_count": 45,
   "metadata": {},
   "outputs": [
    {
     "name": "stdout",
     "output_type": "stream",
     "text": [
      "7.38905609893065\n",
      "6.216514285714284\n"
     ]
    }
   ],
   "source": [
    "# actual function\n",
    "print(np.exp(2))\n",
    "\n",
    "#interpolation\n",
    "func = splrep(x, y, k=3)\n",
    "print(splev(2, func))\n"
   ]
  },
  {
   "cell_type": "markdown",
   "metadata": {
    "slideshow": {
     "slide_type": "slide"
    }
   },
   "source": [
    "### The Inverse Question\n",
    "<a id='TheInverseQuestion'></a>\n",
    "It is easy to interpolate a new value of y given a value of x. \n",
    "\n",
    "What if we want to know the value of x at which y=3? \n",
    "\n",
    "We can switch the order of the interpolation to solve this problem. \n",
    "\n"
   ]
  },
  {
   "cell_type": "code",
   "execution_count": 46,
   "metadata": {
    "slideshow": {
     "slide_type": "slide"
    }
   },
   "outputs": [
    {
     "ename": "NameError",
     "evalue": "name 'y_int' is not defined",
     "output_type": "error",
     "traceback": [
      "\u001b[0;31m---------------------------------------------------------------------------\u001b[0m",
      "\u001b[0;31mNameError\u001b[0m                                 Traceback (most recent call last)",
      "\u001b[0;32m<ipython-input-46-cfa65001d766>\u001b[0m in \u001b[0;36m<module>\u001b[0;34m()\u001b[0m\n\u001b[1;32m     27\u001b[0m \u001b[0mfunc\u001b[0m \u001b[0;34m=\u001b[0m \u001b[0msplrep\u001b[0m\u001b[0;34m(\u001b[0m\u001b[0my\u001b[0m\u001b[0;34m,\u001b[0m \u001b[0mx\u001b[0m\u001b[0;34m,\u001b[0m \u001b[0mk\u001b[0m\u001b[0;34m=\u001b[0m\u001b[0morder_poly\u001b[0m\u001b[0;34m)\u001b[0m\u001b[0;34m\u001b[0m\u001b[0m\n\u001b[1;32m     28\u001b[0m \u001b[0mx_int\u001b[0m \u001b[0;34m=\u001b[0m \u001b[0msplev\u001b[0m\u001b[0;34m(\u001b[0m\u001b[0my_init\u001b[0m\u001b[0;34m,\u001b[0m \u001b[0mfunc\u001b[0m\u001b[0;34m)\u001b[0m\u001b[0;34m\u001b[0m\u001b[0m\n\u001b[0;32m---> 29\u001b[0;31m \u001b[0mplt\u001b[0m\u001b[0;34m.\u001b[0m\u001b[0mplot\u001b[0m\u001b[0;34m(\u001b[0m\u001b[0mx_int\u001b[0m\u001b[0;34m,\u001b[0m \u001b[0my_int\u001b[0m\u001b[0;34m,\u001b[0m \u001b[0;34m'g--'\u001b[0m\u001b[0;34m,\u001b[0m \u001b[0mlabel\u001b[0m\u001b[0;34m=\u001b[0m\u001b[0;34mf'polynomial order {order_poly}'\u001b[0m\u001b[0;34m)\u001b[0m\u001b[0;34m\u001b[0m\u001b[0m\n\u001b[0m\u001b[1;32m     30\u001b[0m \u001b[0;34m\u001b[0m\u001b[0m\n\u001b[1;32m     31\u001b[0m \u001b[0;31m# plot labels and legend\u001b[0m\u001b[0;34m\u001b[0m\u001b[0;34m\u001b[0m\u001b[0m\n",
      "\u001b[0;31mNameError\u001b[0m: name 'y_int' is not defined"
     ]
    },
    {
     "data": {
      "image/png": "[encoded data removed]",
      "text/plain": [
       "<matplotlib.figure.Figure at 0x1a1495a588>"
      ]
     },
     "metadata": {},
     "output_type": "display_data"
    }
   ],
   "source": [
    "from scipy.interpolate import splrep\n",
    "from scipy.interpolate import splev\n",
    "import scipy.interpolate\n",
    "\n",
    "\n",
    "# original data\n",
    "x = np.array([0.5,1,3,4])\n",
    "y = np.array([1.648,  2.718, 20.086, 54.598])\n",
    "plt.plot(x, y, 'ko')\n",
    "\n",
    "\n",
    "# range of values for x axis\n",
    "x_int = np.arange(0.5, 4.1, 0.1)\n",
    "# RANGE OF VALUES FOR Y AXIS : INDEPENDENT VARIABLE\n",
    "y_init = np.exp(x_int)\n",
    "\n",
    "\n",
    "# function data\n",
    "plt.plot(x_int, np.exp(x_int), 'k--', label='y = exp(x)')\n",
    "\n",
    "# order polynomial interpolation - CHANGE THIS\n",
    "order_poly = 2\n",
    "\n",
    "# interpolated data - SWITCH ORDER OF x AND y\n",
    "# func = splrep(x, y, k=order_poly)\n",
    "# y_int = splev(x_int, func)\n",
    "func = splrep(y, x, k=order_poly)\n",
    "x_int = splev(y_init, func)\n",
    "plt.plot(x_int, y_int, 'g--', label=f'polynomial order {order_poly}')\n",
    "\n",
    "# plot labels and legend\n",
    "plt.legend()\n",
    "plt.xlabel('x')\n",
    "plt.ylabel('y')\n",
    "#plt.show()\n",
    "\n",
    "# coefficients that define ppolynomial curve\n",
    "F   = scipy.interpolate.PPoly.from_spline(func)\n",
    "# break points or knots\n",
    "print(F.x)\n",
    "# coefficients at breakpoints\n",
    "print(F.c)\n"
   ]
  },
  {
   "cell_type": "code",
   "execution_count": null,
   "metadata": {
    "slideshow": {
     "slide_type": "slide"
    }
   },
   "outputs": [],
   "source": [
    "# actual function\n",
    "print(np.log(3))\n",
    "\n",
    "#interpolation\n",
    "func = splrep(y, x, k=2)\n",
    "print(splev(3, func))\n"
   ]
  },
  {
   "cell_type": "markdown",
   "metadata": {
    "slideshow": {
     "slide_type": "slide"
    }
   },
   "source": [
    "__Note__\n",
    "<br>One requirement is that the independent variable must be *monotonically increasing*.\n",
    "\n",
    "This means that simply switching the order of x and y will generates an error *if* the first of the two arguments is now a decreasing series. "
   ]
  },
  {
   "cell_type": "markdown",
   "metadata": {
    "slideshow": {
     "slide_type": "slide"
    }
   },
   "source": [
    "The index `[::-1]` steps through an array in reverse order.\n",
    "\n",
    "Pseudocode:\n",
    "\n",
    "        [start : end : step-size=-1]"
   ]
  },
  {
   "cell_type": "code",
   "execution_count": null,
   "metadata": {
    "slideshow": {
     "slide_type": "slide"
    }
   },
   "outputs": [],
   "source": [
    "A = np.array([9,8,7,6,5,4,3,2,1])\n",
    "\n",
    "print(A[::-1])"
   ]
  },
  {
   "cell_type": "markdown",
   "metadata": {
    "slideshow": {
     "slide_type": "slide"
    }
   },
   "source": [
    "## Bar Charts and Histograms\n",
    "<a id='BarChartsHistograms'></a>\n",
    "### Bar Charts\n",
    "<a id='BarCharts'></a>\n",
    "To represent data as a bar chart, for example, the number of students in each year of a degree program:"
   ]
  },
  {
   "cell_type": "code",
   "execution_count": null,
   "metadata": {},
   "outputs": [],
   "source": [
    "year_groups = ('B1', 'B2', 'B3', 'M1', 'M2')\n",
    "num_students = (500, 332, 425, 300, 200)\n"
   ]
  },
  {
   "cell_type": "code",
   "execution_count": null,
   "metadata": {
    "slideshow": {
     "slide_type": "slide"
    }
   },
   "outputs": [],
   "source": [
    "# Create an array with the position of each bar along the x-axis\n",
    "x_pos = np.arange(len(year_groups))\n",
    "\n",
    "# Produce bar plot\n",
    "plt.bar(x_pos, num_students);\n",
    "\n",
    "# Replace the x ticks with the year group name\n",
    "# Rotate labels 30 degrees\n",
    "plt.xticks(x_pos, year_groups, rotation=30);\n",
    "\n",
    "# Add axis labels \n",
    "plt.xlabel('year group');\n",
    "plt.ylabel('number of students');\n"
   ]
  },
  {
   "cell_type": "markdown",
   "metadata": {
    "slideshow": {
     "slide_type": "slide"
    }
   },
   "source": [
    "## Histograms\n",
    "<a id='Histograms'></a>\n",
    "We can visualise the distribution of the values using a histogram.\n",
    "\n",
    "In a histogram, data is sorted into intervals (bins) along the horizontal axis. \n",
    "\n",
    "The number of values that fall within a 'bin' is then displayed on the vertical axis."
   ]
  },
  {
   "cell_type": "markdown",
   "metadata": {
    "slideshow": {
     "slide_type": "slide"
    }
   },
   "source": [
    "To create a histogram we first need a data set. \n",
    "\n",
    "For example we can use Numpy to generate a data set with:\n",
    "- 4000 random values\n",
    "- a mean value of zero \n",
    "- a standard deviation of 1\n",
    "- a __normal__ (Gaussian) distribution (bell curve with 68% percent of values within one standard deviation of the mean)\n",
    "\n"
   ]
  },
  {
   "cell_type": "code",
   "execution_count": null,
   "metadata": {
    "slideshow": {
     "slide_type": "-"
    }
   },
   "outputs": [],
   "source": [
    "# loc=mean, scale=stddev, size=num samples\n",
    "x = np.random.normal(loc=0.0, scale=1.0, size=4000)  \n"
   ]
  },
  {
   "cell_type": "markdown",
   "metadata": {
    "slideshow": {
     "slide_type": "slide"
    }
   },
   "source": [
    "We can visualise how `x` is distributed, using 20 bins. \n",
    "\n",
    "Matplotlib creates 20 bins of equal width, and computes the number of entries in each bin. "
   ]
  },
  {
   "cell_type": "code",
   "execution_count": null,
   "metadata": {},
   "outputs": [],
   "source": [
    "# Produce histogram with 20 bins\n",
    "n, bins, patches = plt.hist(x, 20, facecolor='green');\n",
    "\n",
    "# Add label\n",
    "plt.xlabel('value')\n",
    "plt.ylabel('frequency')\n",
    "\n"
   ]
  },
  {
   "cell_type": "markdown",
   "metadata": {
    "slideshow": {
     "slide_type": "slide"
    }
   },
   "source": [
    "To view a list of:\n",
    "- the bin intervals\n",
    "- the number of values in each bin. "
   ]
  },
  {
   "cell_type": "code",
   "execution_count": null,
   "metadata": {
    "slideshow": {
     "slide_type": "slide"
    }
   },
   "outputs": [],
   "source": [
    "print(bins)\n"
   ]
  },
  {
   "cell_type": "markdown",
   "metadata": {
    "slideshow": {
     "slide_type": "slide"
    }
   },
   "source": [
    "__Try it yourself__\n",
    "<br>In the example above try changing the number of bins and run the cells again to see the change in the bin intervals and number of values in ech bin. "
   ]
  },
  {
   "cell_type": "markdown",
   "metadata": {
    "collapsed": true,
    "slideshow": {
     "slide_type": "slide"
    }
   },
   "source": [
    "## Visualising 2D Arrays\n",
    "<a id='Visualising2DArrays'></a>\n",
    "Two-dimensonal arrays can be visualized with the `plt.matshow` function.\n",
    "\n",
    "Each square cell represents one element of the array.\n",
    "\n",
    "A colour scale (`plot.colorbar`) is used to indicate the value of each cell.\n",
    "\n"
   ]
  },
  {
   "cell_type": "markdown",
   "metadata": {
    "slideshow": {
     "slide_type": "slide"
    }
   },
   "source": [
    "Note that the first row of the matrix (with index 0), is plotted at the top, which corresponds to the location of the first row in the matrix."
   ]
  },
  {
   "cell_type": "code",
   "execution_count": null,
   "metadata": {
    "slideshow": {
     "slide_type": "slide"
    }
   },
   "outputs": [],
   "source": [
    "x = np.array([[8, 7, 6, 8],\n",
    "              [8, 7, 6, 3],\n",
    "              [6, 6, 5, 2],\n",
    "              [4, 3, 2, 1]])\n",
    "plt.matshow(x)\n",
    "\n",
    "plt.colorbar()\n",
    "\n"
   ]
  },
  {
   "cell_type": "markdown",
   "metadata": {
    "slideshow": {
     "slide_type": "slide"
    }
   },
   "source": [
    "The default colour map is used (it is called `viridis`).\n",
    "\n",
    "The highest value in the array is mapped to yellow.\n",
    "<br>The lowest value is mapped to purple. \n",
    "<br>The number is between vary between blue and green. \n",
    "\n"
   ]
  },
  {
   "cell_type": "markdown",
   "metadata": {
    "slideshow": {
     "slide_type": "slide"
    }
   },
   "source": [
    "There are many other colour maps available.\n",
    "\n",
    "Doumentation of availble colour maps can be found here: http://matplotlib.org/users/colormaps.html. \n",
    "\n"
   ]
  },
  {
   "cell_type": "markdown",
   "metadata": {
    "slideshow": {
     "slide_type": "slide"
    }
   },
   "source": [
    "To change the color map, the `matplotlib.cm` package is used, which we imported and renamed at the strt of the notebook. \n",
    ">`import matplotlib.cm as cm`\n",
    "\n",
    "Specify the name of any of the available color maps with the `cmap` keyword. "
   ]
  },
  {
   "cell_type": "code",
   "execution_count": null,
   "metadata": {
    "slideshow": {
     "slide_type": "-"
    }
   },
   "outputs": [],
   "source": [
    "plt.matshow(x, cmap=cm.Wistia)\n",
    "plt.colorbar();\n",
    "\n"
   ]
  },
  {
   "cell_type": "markdown",
   "metadata": {
    "slideshow": {
     "slide_type": "slide"
    }
   },
   "source": [
    "The keywords `vmin` and `vmax` can be used to explicitly set the maximum and minimum value for the colour scale. "
   ]
  },
  {
   "cell_type": "code",
   "execution_count": null,
   "metadata": {},
   "outputs": [],
   "source": [
    "plt.matshow(x, cmap=cm.bone, vmin=0, vmax=20)\n",
    "plt.colorbar();\n",
    "\n"
   ]
  },
  {
   "cell_type": "markdown",
   "metadata": {
    "slideshow": {
     "slide_type": "slide"
    }
   },
   "source": [
    "The standard colormaps also all have reversed versions. They have the same names with `_r` tacked on to the end."
   ]
  },
  {
   "cell_type": "code",
   "execution_count": null,
   "metadata": {},
   "outputs": [],
   "source": [
    "plt.matshow(x, cmap=cm.bone_r, vmin=0, vmax=20)\n",
    "plt.colorbar();\n"
   ]
  },
  {
   "cell_type": "markdown",
   "metadata": {
    "slideshow": {
     "slide_type": "slide"
    }
   },
   "source": [
    "__Try it yourself__\n",
    "<br>Find a colour map you like using the link provided. Change the colours of the examples above to colours that you prefer."
   ]
  },
  {
   "cell_type": "markdown",
   "metadata": {
    "slideshow": {
     "slide_type": "slide"
    }
   },
   "source": [
    "## 3D Plotting\n",
    "<a id='3DPlotting'></a>\n",
    "An advantage of plotting compuationally is that we can easily produce more complex figures such as 3D plots.  \n",
    "\n",
    "This can be useful, for example, when visualiing the form of a function with two independent variables.\n",
    "\n"
   ]
  },
  {
   "cell_type": "code",
   "execution_count": null,
   "metadata": {
    "slideshow": {
     "slide_type": "slide"
    }
   },
   "outputs": [],
   "source": [
    "# Plotting in 3D\n",
    "from mpl_toolkits.mplot3d import axes3d\n",
    "\n"
   ]
  },
  {
   "cell_type": "markdown",
   "metadata": {
    "collapsed": true,
    "slideshow": {
     "slide_type": "slide"
    }
   },
   "source": [
    "Many different styles of 3D plot are available.\n",
    "\n",
    "A number of examples can be found here: https://matplotlib.org/examples/mplot3d/index.html "
   ]
  },
  {
   "cell_type": "markdown",
   "metadata": {
    "slideshow": {
     "slide_type": "slide"
    }
   },
   "source": [
    "Today, we will go through just one example. \n"
   ]
  },
  {
   "cell_type": "markdown",
   "metadata": {
    "slideshow": {
     "slide_type": "slide"
    }
   },
   "source": [
    "We will plot the function: \n",
    "$$\n",
    "f(x, y) = \\sin(x) \\cos\\left(\\frac{xy^2}{10}\\right)\n",
    "$$\n",
    "as a 3D surface."
   ]
  },
  {
   "cell_type": "markdown",
   "metadata": {
    "slideshow": {
     "slide_type": "slide"
    }
   },
   "source": [
    "Plotting in 3D requires another package which was imported at the start of this notebook. \n",
    ">`from mpl_toolkits.mplot3d import axes3d`"
   ]
  },
  {
   "cell_type": "markdown",
   "metadata": {
    "slideshow": {
     "slide_type": "slide"
    }
   },
   "source": [
    "First we create points in the $x$ and $y$ directions at which we want to evaluate the function: "
   ]
  },
  {
   "cell_type": "code",
   "execution_count": null,
   "metadata": {
    "slideshow": {
     "slide_type": "-"
    }
   },
   "outputs": [],
   "source": [
    "N = 50  # 50 points in each direction\n",
    "x = np.linspace(-np.pi, np.pi, N)\n",
    "y = np.linspace(-np.pi, np.pi, N)\n",
    "\n"
   ]
  },
  {
   "cell_type": "markdown",
   "metadata": {
    "slideshow": {
     "slide_type": "slide"
    }
   },
   "source": [
    "Next, we use NumPy to create a 'grid' of $(x, y$) points: "
   ]
  },
  {
   "cell_type": "code",
   "execution_count": null,
   "metadata": {},
   "outputs": [],
   "source": [
    "X, Y = np.meshgrid(x, y)\n"
   ]
  },
  {
   "cell_type": "markdown",
   "metadata": {
    "slideshow": {
     "slide_type": "slide"
    }
   },
   "source": [
    "When printing you may want to round the value of each element.\n",
    "\n",
    "You can do this using the `np.around` function. \n",
    "\n",
    "Example:\n",
    "<br>`print(np.around(X,2), np.around(Y,2))`\n",
    "<br>rounds each value to 2 decimal places."
   ]
  },
  {
   "cell_type": "markdown",
   "metadata": {
    "slideshow": {
     "slide_type": "slide"
    }
   },
   "source": [
    "__Try it yourself__\n",
    "<br>The easiest way to visualise how `meshgrid` work is to:\n",
    "- try making `N` smaller (fewer points along each axis) in the cell above.\n",
    "\n",
    "<br>\n",
    "In the cell below:\n",
    "- print `X` and `Y` using <br>`print(np.around(X,2))`<br>`print(np.around(Y,2))`<br><br>\n",
    "- print the shape of `X` and `Y` using<br>`print(X.shape)`<br>`print(Y.shape)`<br><br>\n",
    "- What happens if N is different for `X` than for `Y`?"
   ]
  },
  {
   "cell_type": "code",
   "execution_count": null,
   "metadata": {},
   "outputs": [],
   "source": [
    "# How does meshgrid work?\n"
   ]
  },
  {
   "cell_type": "markdown",
   "metadata": {
    "slideshow": {
     "slide_type": "slide"
    }
   },
   "source": [
    "Hopefully, you can see that by overlaying `X` and `Y` we can dscribe the x,y coordinates of every point on the 3D surface."
   ]
  },
  {
   "cell_type": "markdown",
   "metadata": {
    "slideshow": {
     "slide_type": "slide"
    }
   },
   "source": [
    "Change the value of `N` to it's original value `N = 50`."
   ]
  },
  {
   "cell_type": "markdown",
   "metadata": {
    "slideshow": {
     "slide_type": "slide"
    }
   },
   "source": [
    "We now evaluate the function $f$ at each point:"
   ]
  },
  {
   "cell_type": "code",
   "execution_count": null,
   "metadata": {
    "slideshow": {
     "slide_type": "slide"
    }
   },
   "outputs": [],
   "source": [
    "f = np.sin(X)*np.cos((X*Y**2)/10)\n"
   ]
  },
  {
   "cell_type": "markdown",
   "metadata": {
    "slideshow": {
     "slide_type": "slide"
    }
   },
   "source": [
    "The 3D figure is plotted using:"
   ]
  },
  {
   "cell_type": "code",
   "execution_count": null,
   "metadata": {
    "scrolled": true
   },
   "outputs": [],
   "source": [
    "# Create a figure\n",
    "fig = plt.figure()\n",
    "\n",
    "# Specify 3D axes\n",
    "ax = plt.axes(projection='3d')\n",
    "\n",
    "# Plot the function as a surface\n",
    "surf = ax.plot_surface(X, Y, f ,cmap=cm.Reds)\n",
    "\n",
    "# Label the axes\n",
    "ax.set_xlabel('X', fontsize=20)\n",
    "ax.set_ylabel('Y', fontsize=20)\n",
    "ax.set_zlabel('Z', fontsize=20)"
   ]
  },
  {
   "cell_type": "markdown",
   "metadata": {
    "slideshow": {
     "slide_type": "slide"
    }
   },
   "source": [
    "# Summary\n",
    "<a id='Summary'></a>\n",
    "- Matplotlib can be used to produce a wide range of styles of figures and plots of your data.\n",
    "- The matplotlib library can be used to quicky produce simple plots to visualise and check your solutions to mathematical problems.\n",
    "- This includes fitting a curve or a relationship to data imported from a delimted text file.\n",
    "- Simple line and scatter plots can be customised using a `formatstring`\n",
    "- Additional features such as a figure legend and axis labels can be set as arguments when creating plots.\n"
   ]
  },
  {
   "cell_type": "markdown",
   "metadata": {
    "slideshow": {
     "slide_type": "slide"
    }
   },
   "source": [
    "<a id='TestYourselfExercises'></a>\n",
    "# Test-Yourself Exercises\n",
    "\n",
    "Compete the Test-Youself exercises below.\n",
    "\n",
    "Save your answers as .py files and email them to:\n",
    "<br>philamore.hemma.5s@kyoto-u.ac.jp"
   ]
  },
  {
   "cell_type": "markdown",
   "metadata": {
    "collapsed": true
   },
   "source": [
    "### Test-Yourself Exercise : Simple Plot\n",
    "In the cell below, write a program to:\n",
    "- Plot $y=x^{3}-x^{2}-4x+4$ for $x = -3$ to $x= 3$.\n",
    "- Use a red, dashed line.\n",
    "- Plot a black square at every point where $y$ equals zero. \n",
    "- Set the size of the markers to 10.\n",
    "- Label the axes as 'x-axis' and 'y-axis'. \n",
    "- Add a title of your choice. \n",
    "- Save your figure in the sample data folder as a .png file\n",
    "\n",
    "\n",
    "*Hint: You may have to search online for the function argunents needed for some of these manipulations.* \n",
    "\n",
    "__Use comments in your code to explain what each part does.__"
   ]
  },
  {
   "cell_type": "code",
   "execution_count": null,
   "metadata": {},
   "outputs": [],
   "source": [
    "# Test-Yourself Exercise : Simple Plot"
   ]
  },
  {
   "cell_type": "markdown",
   "metadata": {
    "collapsed": true,
    "slideshow": {
     "slide_type": "subslide"
    }
   },
   "source": [
    "### Test-Yourself Exercise: Curve Fitting\n",
    "\n",
    "The experimental data in `sample_data/signal_data.csv` resembles the function:\n",
    "\n",
    "$$y = a \\sin(x +b)$$\n",
    "\n",
    "where $a$ and $b$ are two unknown constants.\n",
    "\n",
    "1. Import the data from the file `sample_data/signal_data.csv`\n",
    "1. Determine contants $a$ and $b$ that give a good fit of the function to the data.\n",
    "1. Plot the raw data and the fitted data on the same graph. Label the data and include a legend.\n",
    "1. Calculate the root mean square error of the fitted data and show the computed value as the plot title. \n",
    "1. Print the equation of the fitted line.\n",
    "1. Save the figure in the sample_data folder as a .pdf file.\n",
    "\n",
    "__Use comments in your code to explain what each part does.__\n"
   ]
  },
  {
   "cell_type": "code",
   "execution_count": null,
   "metadata": {},
   "outputs": [],
   "source": [
    "# Test-Yourself Exercise: Curve Fitting"
   ]
  },
  {
   "cell_type": "markdown",
   "metadata": {
    "collapsed": true,
    "slideshow": {
     "slide_type": "subslide"
    }
   },
   "source": [
    "### Test-Yourself Exercise: Interpolation\n",
    "\n",
    "The experimental data in the table shows the temperature recorded at 1m depth intervals in a lake.\n",
    "\n",
    "A sudden temperature change is observed between 7m and 8m.\n",
    "\n",
    "Use first order polynomial interpolation (also called linear interpolation), to estimate the temperature at 7.5m.\n",
    "\n",
    "Use second order polynomial interpolation (also called quadratic interpolation), to estimate the temperature at 7.5m.\n",
    "\n",
    "By plotting your solutions, decide which solution fits the data better.\n",
    "\n",
    "\n",
    "|Temperature (degrees C) |Depth (m)|\n",
    "|------------------------|---------|\n",
    "|19.1                    |        0|        \n",
    "|19.1                    |       -1|         \n",
    "|19                      |       -2|          \n",
    "|18.8                    |       -3|          \n",
    "|18.7                    |       -4|          \n",
    "|18.3                    |       -5|             \n",
    "|18.2                    |       -6|          \n",
    "|17.6                    |       -7|          \n",
    "|11.7                    |       -8|          \n",
    "|9.9                     |       -9|             \n",
    "|9.1                     |      -10|          \n",
    "\n",
    "\n",
    "__Use comments in your code to explain what each part does.__\n"
   ]
  },
  {
   "cell_type": "code",
   "execution_count": null,
   "metadata": {},
   "outputs": [],
   "source": [
    "# Test-yourself Exercise: Interpolation"
   ]
  },
  {
   "cell_type": "markdown",
   "metadata": {
    "collapsed": true,
    "slideshow": {
     "slide_type": "slide"
    }
   },
   "source": [
    "## Review Exercises\n",
    "Below are some exercises for you to practise producing plots and figures.\n",
    "<br>Some of the examples require you to generate data using methods we have studied in previous seminars.\n",
    "\n"
   ]
  },
  {
   "cell_type": "code",
   "execution_count": null,
   "metadata": {},
   "outputs": [],
   "source": []
  },
  {
   "cell_type": "markdown",
   "metadata": {
    "collapsed": true
   },
   "source": [
    "### Review Exercise: Plotting with Conditionals\n",
    "Create an array, `x` with 100 values from 0 to 20, inclusive. \n",
    "\n",
    "Compute $y=\\sin(x)$.\n",
    "\n",
    "Plot $y$ vs. $x$ with a blue line. \n",
    "\n",
    "Replace all values of $y$ that are larger than 0.5 with 0.5.\n",
    "\n",
    "Replace all values of $y$ that are smaller than $-$0.75 with $-0.75$.\n",
    "\n",
    "Plot $x$ vs. $y$ using a red line on the same graph. "
   ]
  },
  {
   "cell_type": "code",
   "execution_count": null,
   "metadata": {},
   "outputs": [],
   "source": [
    "# Plotting with conditionals"
   ]
  },
  {
   "cell_type": "code",
   "execution_count": null,
   "metadata": {},
   "outputs": [],
   "source": [
    "# Example Solution\n",
    "x = np.linspace(0, 20, 100)\n",
    "y = np.sin(x)\n",
    "plt.plot(x, y, 'b')\n",
    "y[y > 0.5] = 0.5\n",
    "y[y < -0.75] = -0.75\n",
    "plt.plot(x, y, 'r');\n",
    "plt.xlim(x[0], x[-1])"
   ]
  },
  {
   "cell_type": "markdown",
   "metadata": {
    "collapsed": true,
    "slideshow": {
     "slide_type": "subslide"
    }
   },
   "source": [
    "### Review Exercise: Curve Fitting\n",
    "\n",
    "Using the example data set `a`,`b`:\n",
    "\n",
    "__(A)__ Plot a scatter graph of `a` against `b`, with `a` on the horizontal axis and `b` on the vertical axis. \n",
    "<br><a href=\"#ScatterPlot\">Jump to Scatter plot.</a>\n",
    "\n",
    "__(B)__ Try fitting 3 different polynomial functions to the data. Plot each curve as a line of on the graph.\n",
    "\n",
    "__(C)__ Show which polynomial function gives the best fit using the root mean squared error (RMSE). Print the equation of the *optimal* curve i.e. the curve with the *smallest* RMSE. \n",
    "<br><a href=\"#RMSE\">Jump to Route mean square error.</a>\n",
    "\n",
    "__(D)__ Display the RMSE of each curve as a figure legend.\n",
    "<br><a href=\"#Legend\">Jump to Adding a legend.</a>\n"
   ]
  },
  {
   "cell_type": "code",
   "execution_count": null,
   "metadata": {},
   "outputs": [],
   "source": [
    "a = np.array([88438,45505,75127,115571,89911,87432,100083,85589,73104,86890,78580,70785,41050,57610,107537,59262,73038,87891,75368,111638,74911,71599,96774,79667,90725,93816,75859,64969,205688,71500,53098,71250,89615,94747,50400,63673,78257,72785,83015,150000,84699,67191,86298,117705,88935,89643,106678,97894,132164,59387,60684,96151,68794,74559,29430,88362,111792,57205,83651,87518,80129,86801,110761,63274,66143,110694,52590,59994,80460,103589,68298,59056,40294,161848,103100,86354,37428,43307,80792,77368,109159,71538,84783,86250,82900,74728,48597,75549,106942,102167,62708,60630,70273,84918,88693,74141,46627,119112,88260,97262,86095,110472,82734,84761,91715,103292,86339,147993,77560,100625,68094,78250,75426,86138,112344,115000,98846,90499,80029,61959,76779,68833,81026,66361,92737,76692,64974,103869,51951,108854,61038,75938,75346,40639,73156,80067,82322,52353,\n",
    "              62832,207262,160106,77740,72011,167094,58458,41639,79528,66583,83993,138082,77366])\n",
    "b = np.array([1.7,-0.4,0.5,2.6,1.4,1.5,1.5,1.7,-0.5,1.6,0.9,1.1,-1.7,0.3,1.8,0.5,1,1.9,0.1,2,1.7,1,1.2,1.5,1,1.1,1.2,0,2.6,1.4,-0.8,1.6,1.1,1.2,-1.4,-0.5,1.9,0,1.5,2.4,1.5,0.7,1.8,2,2.4,1.6,2,2.3,2,0.1,0.3,2.3,0,0,-1.7,1.9,2,0,0.9,1.3,0.4,1.6,2.3,-0.1,1.7,2.1,-0.9,0.1,1,1.9,0.4,-0.3,-2.4,2.7,1.3,2,-1.3,-1.5,0.7,1.1,2.3,1.1,0.7,0.9,1.1,0.1,-0.9,1.4,2.1,1.2,0.1,0.8,0.3,1.4,1.5,1,-0.5,2.4,0.9,1.5,1.6,1.2,1.3,1.8,0.8,1.8,1.9,2.6,1.5,1.8,1.8,0.6,0.7,1.2,1.5,2.5,1.1,1.6,1.6,1,0,0,1,0.5,1.7,0.6,0.1,1.7,0.2,2.1,0.1,0.9,0.8,-1.3,1.3,0.5,1.5,-0.6,1.2,2.4,2.6,1.1,0.8,2.5,-0.2,-2,0.1,0.1,1.6,2.6,1.2])"
   ]
  },
  {
   "cell_type": "markdown",
   "metadata": {},
   "source": [
    "### Review Exercise: Bar Chart\n",
    "\n",
    "Write a Python program to display a bar chart of the popularity of programming languages.\n",
    "\n",
    "Set the bar colour green.\n",
    "\n",
    "Sample data: \n",
    "<br>Programming languages: Java, Python, PHP, JavaScript, C#, C++\n",
    "<br>Popularity: 22.2, 17.6, 8.8, 8, 7.7, 6.7\n",
    "\n",
    "Label the x and y axes and add a title."
   ]
  },
  {
   "cell_type": "code",
   "execution_count": null,
   "metadata": {},
   "outputs": [],
   "source": [
    "# Bar Chart"
   ]
  },
  {
   "cell_type": "code",
   "execution_count": null,
   "metadata": {},
   "outputs": [],
   "source": [
    "# Example Solution\n",
    "languages = ['Java', 'Python', 'PHP', 'JavaScript', 'C#', 'C++']\n",
    "popularity = [22.2, 17.6, 8.8, 8, 7.7, 6.7]\n",
    "\n",
    "# Create an array with the position of each bar along the x-axis\n",
    "x_pos = np.arange(len(languages))\n",
    "\n",
    "# Produce bar plot\n",
    "plt.bar(x_pos, popularity, color='green')\n",
    "\n",
    "# Replace the x ticks with the year language name\n",
    "plt.xticks(x_pos, languages)\n",
    "\n",
    "# Title and axes labels\n",
    "plt.xlabel(\"Languages\")\n",
    "plt.ylabel(\"Popularity\")\n",
    "plt.title(\"Popularity of\\n Programming Languages\" );"
   ]
  },
  {
   "cell_type": "markdown",
   "metadata": {
    "collapsed": true
   },
   "source": [
    "### Review Exercise: Visualising 2D Arrays \n",
    "Create:\n",
    "- a Numpy 30 by 30 array\n",
    "- with randomly selected integer values for all elements\n",
    "- with an allowable range for each element of 1 to 50\n",
    "\n",
    "Represent the array using `matshow`:\n",
    "- Use a colour map of your choice\n",
    "- Set the colour scale minimum to 1\n",
    "- Set the colour scale maximum to 25\n",
    "- Display a colour scale on the plot"
   ]
  }
 ],
 "metadata": {
  "celltoolbar": "Slideshow",
  "kernelspec": {
   "display_name": "Python 3",
   "language": "python",
   "name": "python3"
  },
  "language_info": {
   "codemirror_mode": {
    "name": "ipython",
    "version": 3
   },
   "file_extension": ".py",
   "mimetype": "text/x-python",
   "name": "python",
   "nbconvert_exporter": "python",
   "pygments_lexer": "ipython3",
   "version": "3.6.4"
  }
 },
 "nbformat": 4,
 "nbformat_minor": 2
}
