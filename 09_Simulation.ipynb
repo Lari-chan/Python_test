{
 "cells": [
  {
   "cell_type": "markdown",
   "metadata": {
    "slideshow": {
     "slide_type": "slide"
    }
   },
   "source": [
    "### Rescheduled Class\n",
    "You should all have received an email concerning the 2 rescheduled class.\n",
    "<br>Rescheduled classes will be held on: \n",
    "- 06/26 (June 26, Tuesday ), period 1, room CALL 23 \n",
    "- 06/29 (June 29, Friday ), period 5, room CALL 23 \n",
    "\n",
    "You may attend either class. \n",
    "\n",
    "These classes are for you to ask questions and get help with your assignment. \n",
    "\n",
    "There will be *no new taught material* in these classes.\n"
   ]
  },
  {
   "cell_type": "markdown",
   "metadata": {
    "slideshow": {
     "slide_type": "slide"
    }
   },
   "source": [
    "## Please download the new class notes.\n",
    "### Step 1 : Navigate to the directory where your files are stored.  \n",
    "Open a terminal. \n",
    "<br>Using `cd`, navigate to *inside* the ILAS_Python_for_engineers folder on your computer. \n",
    "### Step 3 : Update the course notes by downloading the changes\n",
    "In the terminal type:\n",
    "\n",
    ">`git add -A\n",
    "git commit -m \"commit\"\n",
    "git fetch upstream\n",
    "git merge -X theirs upstream/master`\n"
   ]
  },
  {
   "cell_type": "markdown",
   "metadata": {
    "collapsed": true,
    "slideshow": {
     "slide_type": "slide"
    }
   },
   "source": [
    "# Introduction to Simulation\n",
    "\n",
    "<br> <a href='#SolvingOrdinaryDifferentialEquations'>Recap: Solving Ordinary Differential Equations (ODE)</a>\n",
    "<br> <a href='#DiscontinuousFunctions'>Discontinuous Functions</a>\n",
    "    <br> &emsp;&emsp; <a href='#ExampleMixingTank'>Example : A Mixing Tank</a> \n",
    "<br> <a href='#SolvingODESpecificSolutionValue'>Solving an ODE for a Specific *Solution* Value</a> \n",
    "    <br> &emsp;&emsp; <a href='#ExampleReactorPart1'>Example : Reactor, Part 1</a> \n",
    "<br> <a href='#SolutionODESpecificInputValues'>Solution to an ODE evaluated at Specific *Input* Values</a> \n",
    "    <br> &emsp;&emsp; <a href='#ExampleReactorPart2'>Example : Reactor, Part 2</a>\n",
    "<br> <a href='#MatrixMultiplicationRules'>Matrix Multiplication Rules</a> \n",
    "<br> <a href='#UsefulMatrixOperations'>Useful Matrix Operations</a>\n",
    "<br> <a href='#SystemsDifferentialEquations'>Systems of Differential Equations </a>\n",
    "<br> <a href='#InteractivePlots'>Interactive Plots</a>\n",
    "<br> &emsp;&emsp; <a href='#InstallingFFmpeg'>Installing FFmpeg</a> \n",
    "<br> <a href='#AnimatedPlots'>Animated Plots</a>\n",
    "<br> &emsp;&emsp; <a href='#ExampleAnimatingLine'>Example: Animating a Line</a> \n",
    "<br> &emsp;&emsp; <a href='#ExampleSpringMassSystem'>Example : Simulating Physical Systems, Spring-Mass System</a> \n",
    "<br> &emsp;&emsp; <a href='#ExamplePlottingObject'>Example : Simulating Physical Systems, Trajectory : Plotting the Object</a> \n",
    "<br> &emsp;&emsp; <a href='#ExamplePlottingPath'>Example : Simulating Physical Systems, Trajectory : Plotting the Path</a> \n",
    "<br> &emsp;&emsp; <a href='#ExamplePlottingPathObject'>Example : Simulating Physical Systems, Trajectory : Plotting the Path and Object</a> \n",
    "<br> <a href='#Summary'>Summary</a>\n"
   ]
  },
  {
   "cell_type": "markdown",
   "metadata": {
    "slideshow": {
     "slide_type": "slide"
    }
   },
   "source": [
    "### Lesson Goal\n",
    "\n",
    "Produce simulations of systems to observe:\n",
    "- time-varying\n",
    "- parameter-varying\n",
    "\n",
    "effects.\n",
    "\n",
    "### Fundamental programming concepts\n",
    "Employing computational image generation to represet real-life problems.\n",
    "\n",
    "1. Grpahical representation\n",
    "1. Animated representation\n"
   ]
  },
  {
   "cell_type": "markdown",
   "metadata": {
    "slideshow": {
     "slide_type": "slide"
    }
   },
   "source": [
    "## Recap: Solving Ordinary Differential Equations (ODE)\n",
    "<a id='SolvingOrdinaryDifferentialEquations'></a>\n",
    "In the previous seminar we studied the function `scipy.integrate.odeint`.\n",
    "\n",
    "The function gives a numerical solution to a first order differential equation for a given input parameter e.g. time.\n",
    "\n",
    "Estimation methods can provide an easier way to solve problems than finding an analytical soltion to the equation. "
   ]
  },
  {
   "cell_type": "code",
   "execution_count": 227,
   "metadata": {
    "slideshow": {
     "slide_type": "-"
    }
   },
   "outputs": [],
   "source": [
    "from scipy.integrate import odeint\n",
    "import numpy as np\n",
    "import matplotlib.pyplot as plt"
   ]
  },
  {
   "cell_type": "markdown",
   "metadata": {
    "slideshow": {
     "slide_type": "slide"
    }
   },
   "source": [
    "__Analytical solution (to an ODE) :__ \n",
    "<br>A function, which can be solved to get a particular value.\n",
    "\n",
    "e.g. solution to an ODE : $y(x) = exp(x)$\n",
    "<br>We can *solve* the solution to find the value of $x$ where $y(x) = 2$.\n",
    "\n",
    "Few practical systems lead to analytical solutions. Their use is limited use. \n",
    "\n",
    "\n",
    "__Numerical approximation (of an ODE) :__\n",
    "<br>Independent variable and approximation of corresponding function value at that variable. "
   ]
  },
  {
   "cell_type": "markdown",
   "metadata": {
    "slideshow": {
     "slide_type": "slide"
    }
   },
   "source": [
    "To recap last weeks class..."
   ]
  },
  {
   "cell_type": "markdown",
   "metadata": {
    "slideshow": {
     "slide_type": "-"
    }
   },
   "source": [
    "The function `odeint` takes a user-defined function as an argument.\n",
    "\n",
    "This input function should define the derivative you want to solve in the form: \n",
    "\n",
    "$f' = \\frac{df}{dt} = g(t)$\n",
    "\n",
    "For example:\n",
    "\n",
    "$f' = cos(t), \\quad f(t=0)=0$"
   ]
  },
  {
   "cell_type": "code",
   "execution_count": 228,
   "metadata": {},
   "outputs": [],
   "source": [
    "def dfdt(x, t):\n",
    "    return np.cos(t)"
   ]
  },
  {
   "cell_type": "markdown",
   "metadata": {
    "slideshow": {
     "slide_type": "slide"
    }
   },
   "source": [
    "Two additional arguments are needed:\n",
    "\n",
    "- the initial value of x\n",
    "- the value(s) of t at which to evaluate x, starting with the initial value\n",
    "- (if `dx_dt` takes any other argumemts they are entered as a tuple as the third argument)"
   ]
  },
  {
   "cell_type": "code",
   "execution_count": 229,
   "metadata": {
    "slideshow": {
     "slide_type": "-"
    }
   },
   "outputs": [],
   "source": [
    "ts = np.linspace(0,5,100) # the value(s) of t at which to evaluate x\n",
    "f0 = 0                    # the initial value\n",
    "\n",
    "# odeint returns x at each value of t\n",
    "fs = odeint(dfdt, # function\n",
    "            f0,   # initial value\n",
    "            ts)   # time span\n"
   ]
  },
  {
   "cell_type": "markdown",
   "metadata": {
    "slideshow": {
     "slide_type": "slide"
    }
   },
   "source": [
    "The function `odeint` returns an $n\\times 1$ array (2D column).\n",
    "\n",
    "To plot the output we have to \"flatten\" it to a 1D array.\n",
    "\n",
    "Recall, $f' = cos(t), \\quad f = sin(t)$"
   ]
  },
  {
   "cell_type": "code",
   "execution_count": 230,
   "metadata": {
    "scrolled": false,
    "slideshow": {
     "slide_type": "-"
    }
   },
   "outputs": [],
   "source": [
    "fs = np.array(fs).flatten()"
   ]
  },
  {
   "cell_type": "markdown",
   "metadata": {
    "slideshow": {
     "slide_type": "slide"
    }
   },
   "source": [
    "Plot the function"
   ]
  },
  {
   "cell_type": "code",
   "execution_count": 231,
   "metadata": {},
   "outputs": [
    {
     "data": {
      "text/plain": [
       "<matplotlib.legend.Legend at 0x181ef77cc0>"
      ]
     },
     "execution_count": 231,
     "metadata": {},
     "output_type": "execute_result"
    },
    {
     "data": {
      "image/png": "[encoded data removed]",
      "text/plain": [
       "<Figure size 432x288 with 1 Axes>"
      ]
     },
     "metadata": {},
     "output_type": "display_data"
    }
   ],
   "source": [
    "plt.xlabel(\"t\")\n",
    "plt.ylabel(\"f\")\n",
    "plt.plot(ts, np.sin(ts), 'c', label='analytical solution');\n",
    "plt.plot(ts, fs, 'r--', label='numerical solution');\n",
    "plt.legend(loc='best')\n"
   ]
  },
  {
   "cell_type": "markdown",
   "metadata": {},
   "source": [
    "The numerical and analytical solutions agree."
   ]
  },
  {
   "cell_type": "markdown",
   "metadata": {
    "slideshow": {
     "slide_type": "slide"
    }
   },
   "source": [
    "## Discontinuous Functions\n",
    "<a id='DiscontinuousFunctions'></a>\n",
    "The computational solver to loops through the range of input vlaues.\n",
    "\n",
    "It estimates the value of the function at each input value.\n",
    "\n",
    "This makes it easy to apply the solver to piecewise or discontinous functions."
   ]
  },
  {
   "cell_type": "markdown",
   "metadata": {
    "slideshow": {
     "slide_type": "slide"
    }
   },
   "source": [
    "An example of where this is useful is where a *forcing function* effects your solution."
   ]
  },
  {
   "cell_type": "markdown",
   "metadata": {
    "slideshow": {
     "slide_type": "slide"
    }
   },
   "source": [
    "##### Example : A Mixing Tank\n",
    "<a id='ExampleMixingTank'></a>\n",
    "<img src=\"img/salt_tank.png\" alt=\"Drawing\" style=\"width: 200px;\"/> \n",
    "    \n",
    "A tank initially contains a mixture: \n",
    "- 300 g of salt \n",
    "- 1000 L of water. \n",
    "\n",
    "From t=0 min:\n",
    "- inlet solution 4 g/L (salt/water)\n",
    "- inlet flow rate 6 L/min. \n",
    "\n",
    "From t=10 min:\n",
    "- inlet solution 2 g/L (salt/water)\n",
    "- inlet flow rate 6 L/min (unchanged)\n",
    "\n",
    "Oulet flow rate = inlet floow rate = 6 L/min (unchanged).\n",
    "\n",
    "The contents are mixed thoroughly."
   ]
  },
  {
   "cell_type": "markdown",
   "metadata": {
    "slideshow": {
     "slide_type": "slide"
    }
   },
   "source": [
    "A differential equation to represent the change in the mass of salt in the tank with respect to time:\n",
    "\n",
    "\n",
    "\n",
    "\n",
    "\\begin{align*}\n",
    "\\frac{dM_S}{dt} &= u_{in}C_{in}(t) - u_{out}C_{out}(t)\\\\\n",
    "                &= u_{in}C_{in}(t)-u_{out}\\frac{M_S}{V} \\\\\n",
    "\\end{align*}\n",
    "\n",
    "where\n",
    "<br>$u$ = inlet flow rate\n",
    "<br>$V$ = volume of liquid in tank\n",
    "<br>$C_{in}$ = salt concentration inflow g/L\n",
    "<br>$M_S$ = mass of salt in tank\n",
    "\n",
    "\n",
    "Initial condition:\n",
    "<br>$M_S(t=0) = 300$ "
   ]
  },
  {
   "cell_type": "markdown",
   "metadata": {
    "slideshow": {
     "slide_type": "slide"
    }
   },
   "source": [
    "We can first write a function to represent the change of $C_{in}$ with time:"
   ]
  },
  {
   "cell_type": "code",
   "execution_count": 232,
   "metadata": {},
   "outputs": [],
   "source": [
    "def Cs(t):\n",
    "    'inlet concentration of salt'\n",
    "    if t < 0:\n",
    "        cs = 0.0 # g/L\n",
    "    elif (t > 0) and (t <= 10):\n",
    "        cs = 4.0 \n",
    "    else:\n",
    "        cs = 2.0\n",
    "    return cs\n",
    "\n"
   ]
  },
  {
   "cell_type": "markdown",
   "metadata": {
    "slideshow": {
     "slide_type": "slide"
    }
   },
   "source": [
    "Then we write a function to define $\\frac{dM_S}{dt}$ just as we did in the last example."
   ]
  },
  {
   "cell_type": "code",
   "execution_count": 233,
   "metadata": {},
   "outputs": [],
   "source": [
    "V = 1000.0 # volume of liquid in tank\n",
    "u = 6.0    # inflow and outflow rate\n",
    "\n",
    "def salt_mass(Ms, t):\n",
    "    'mass of salt in the tank'\n",
    "    dMsdt = u * Cs(t) - u * Ms / V\n",
    "    return dMsdt"
   ]
  },
  {
   "cell_type": "code",
   "execution_count": 234,
   "metadata": {
    "slideshow": {
     "slide_type": "slide"
    }
   },
   "outputs": [],
   "source": [
    "# initial value (at t=0)\n",
    "M0 = 300 # g salt\n",
    "\n",
    "# time span \n",
    "tspan = np.linspace(0.0, 15.0, 50)\n",
    "\n",
    "# mass of salt in tank over time span\n",
    "Ms = odeint(salt_mass, M0, tspan)\n"
   ]
  },
  {
   "cell_type": "markdown",
   "metadata": {
    "slideshow": {
     "slide_type": "slide"
    }
   },
   "source": [
    "Plot the solution to observe the change in the rate of increase in salt concentration at $t=10$s."
   ]
  },
  {
   "cell_type": "code",
   "execution_count": 235,
   "metadata": {
    "scrolled": true
   },
   "outputs": [
    {
     "data": {
      "text/plain": [
       "Text(0,0.5,'Salt concentration (g/L)')"
      ]
     },
     "execution_count": 235,
     "metadata": {},
     "output_type": "execute_result"
    },
    {
     "data": {
      "image/png": "[encoded data removed]",
      "text/plain": [
       "<Figure size 432x288 with 1 Axes>"
      ]
     },
     "metadata": {},
     "output_type": "display_data"
    }
   ],
   "source": [
    "plt.plot(tspan, Ms/V, 'b.')\n",
    "plt.xlabel('Time (min)')\n",
    "plt.ylabel('Salt concentration (g/L)')\n"
   ]
  },
  {
   "cell_type": "markdown",
   "metadata": {
    "slideshow": {
     "slide_type": "slide"
    }
   },
   "source": [
    "## Solving an ODE for a Specific *Solution* Value.\n",
    "<a id='SolvingODESpecificSolutionValue'></a>\n",
    "The analytical solution to an ODE is a function the value of input variable $x$ that makes $y(x)$ equal to some value of interest. \n",
    "\n",
    "\n"
   ]
  },
  {
   "cell_type": "markdown",
   "metadata": {
    "slideshow": {
     "slide_type": "slide"
    }
   },
   "source": [
    "In a numerical solution to an ODE we get a vector of independent variable values, and the corresponding function values at those values. \n",
    "\n",
    "This may not include the function value of itnerest. \n",
    "\n",
    "To solve for a particular function value we need a dfferent approach. \n"
   ]
  },
  {
   "cell_type": "markdown",
   "metadata": {
    "slideshow": {
     "slide_type": "slide"
    }
   },
   "source": [
    "One approach to this is using interpolation, which we studied in `05_Plotting_Analysing.ipynb`..."
   ]
  },
  {
   "cell_type": "markdown",
   "metadata": {
    "slideshow": {
     "slide_type": "slide"
    }
   },
   "source": [
    "### Example : Reactor, Part 1\n",
    "<a id='ExampleReactorPart1'></a>\n",
    "The rate of change of the concentration $C_A$ of a substance within a reactor is:\n",
    "\n",
    "$$\\frac{dC_A}{dt}=-kC_A^2 $$\n",
    "\n",
    "where\n",
    "<br>$k = 0.23 \\quad \\textrm{L/mol/s}$\n",
    "\n",
    "Initial condition:\n",
    "<br>$C_A(t=0) = 2.3 \\quad \\textrm{mol/L}$ \n",
    "\n",
    "\n",
    "Compute the time it takes for $C_A$ to be reduced to $1 \\textrm{mol/L}$.\n",
    "\n",
    "*i.e. Find input variable $t$ when output variable $C_A = 1$*"
   ]
  },
  {
   "cell_type": "code",
   "execution_count": 236,
   "metadata": {
    "slideshow": {
     "slide_type": "slide"
    }
   },
   "outputs": [],
   "source": [
    "k = 0.23\n",
    "Ca0 = 2.3  # initial condition\n",
    "\n",
    "def dCadt(Ca, t):\n",
    "    return -k * Ca**2\n",
    "\n",
    "tspan = np.linspace(0, 10, 14)  # range of time values\n",
    "sol = odeint(dCadt, Ca0, tspan)"
   ]
  },
  {
   "cell_type": "code",
   "execution_count": 237,
   "metadata": {
    "slideshow": {
     "slide_type": "slide"
    }
   },
   "outputs": [
    {
     "data": {
      "text/plain": [
       "Text(0,0.5,'$C_A$ (mol/L)')"
      ]
     },
     "execution_count": 237,
     "metadata": {},
     "output_type": "execute_result"
    },
    {
     "data": {
      "image/png": "[encoded data removed]",
      "text/plain": [
       "<Figure size 432x288 with 1 Axes>"
      ]
     },
     "metadata": {},
     "output_type": "display_data"
    }
   ],
   "source": [
    "plt.plot(tspan, sol)\n",
    "plt.xlabel('Time (s)')\n",
    "plt.ylabel('$C_A$ (mol/L)')\n"
   ]
  },
  {
   "cell_type": "markdown",
   "metadata": {},
   "source": [
    "We can see that the solution ($C_A = 1$) is close to 2s."
   ]
  },
  {
   "cell_type": "markdown",
   "metadata": {
    "slideshow": {
     "slide_type": "slide"
    }
   },
   "source": [
    "We create an interpolating function to estimate the solution.\n",
    "\n",
    "First, observe how the solution is represented."
   ]
  },
  {
   "cell_type": "code",
   "execution_count": 238,
   "metadata": {},
   "outputs": [
    {
     "name": "stdout",
     "output_type": "stream",
     "text": [
      "[[2.3       ]\n",
      " [1.63477314]\n",
      " [1.26802375]\n",
      " [1.03567716]\n",
      " [0.87529271]\n",
      " [0.75792139]\n",
      " [0.66830573]\n",
      " [0.59764138]\n",
      " [0.54049165]\n",
      " [0.4933179 ]\n",
      " [0.45371772]\n",
      " [0.42000278]\n",
      " [0.39095185]\n",
      " [0.36565974]] <class 'numpy.ndarray'>\n"
     ]
    }
   ],
   "source": [
    "print(sol, type(sol))\n",
    "\n"
   ]
  },
  {
   "cell_type": "markdown",
   "metadata": {
    "slideshow": {
     "slide_type": "slide"
    }
   },
   "source": [
    "We can plot this range without issue.\n",
    "\n",
    "However, when interpolating, we must specify the index of the range of values:"
   ]
  },
  {
   "cell_type": "code",
   "execution_count": 239,
   "metadata": {},
   "outputs": [],
   "source": [
    "Ca = sol[:,0]"
   ]
  },
  {
   "cell_type": "code",
   "execution_count": 240,
   "metadata": {
    "slideshow": {
     "slide_type": "slide"
    }
   },
   "outputs": [],
   "source": [
    "# interpolate : Method 1\n",
    "from scipy.interpolate import interp1d\n",
    "\n",
    "ca_func = interp1d(tspan, Ca, 'cubic')\n",
    "\n",
    "\n",
    "# # interpolate : Method 2\n",
    "# from scipy.interpolate import splrep\n",
    "# from scipy.interpolate import splev\n",
    "\n",
    "# order_poly = 3\n",
    "# ca_func = splrep(tspan, Ca, k=order_poly)\n"
   ]
  },
  {
   "cell_type": "code",
   "execution_count": 241,
   "metadata": {
    "slideshow": {
     "slide_type": "slide"
    }
   },
   "outputs": [
    {
     "data": {
      "text/plain": [
       "<matplotlib.legend.Legend at 0x181ed230b8>"
      ]
     },
     "execution_count": 241,
     "metadata": {},
     "output_type": "execute_result"
    },
    {
     "data": {
      "image/png": "[encoded data removed]",
      "text/plain": [
       "<Figure size 432x288 with 1 Axes>"
      ]
     },
     "metadata": {},
     "output_type": "display_data"
    }
   ],
   "source": [
    "# plot the original data \n",
    "plt.plot(tspan, Ca, label='original data')\n",
    "\n",
    "# plot the interpolated data\n",
    "tspan_i = np.linspace(0, 10, 200)   # create a finer range of time variables\n",
    "\n",
    "# Method 1\n",
    "plt.plot(tspan_i, ca_func(tspan_i), 'r--', label='interpolation') # Method 1\n",
    "\n",
    "# Method 2\n",
    "#plt.plot(tspan_i, splev(tspan_i, ca_func), 'r--', label='interpolation') # Method 2\n",
    "\n",
    "plt.xlabel('Time (s)')\n",
    "plt.ylabel('$C_A$ (mol/L)')\n",
    "plt.legend()"
   ]
  },
  {
   "cell_type": "markdown",
   "metadata": {
    "slideshow": {
     "slide_type": "slide"
    }
   },
   "source": [
    "The interpolated data provides a good fit.\n",
    "\n",
    "Now we solve the problem : find time, $t$ when $C_A = 1$\n",
    "\n",
    "Remember, our approximation : $t \\approx 2$ when $C_A = 1$"
   ]
  },
  {
   "cell_type": "code",
   "execution_count": 242,
   "metadata": {},
   "outputs": [],
   "source": [
    "tguess = 2.0\n",
    "\n",
    "def func(t):\n",
    "    'returns 0 when interpolated function ca_func(t) = desired value, 1'\n",
    "    return 1.0 - ca_func(t)\n"
   ]
  },
  {
   "cell_type": "markdown",
   "metadata": {
    "slideshow": {
     "slide_type": "slide"
    }
   },
   "source": [
    "In `07_RootFinding_CoupledEquations.ipynb` we learnt to use the function `fsolve` for estimating the roots of a function given an initial estimate. \n",
    "\n",
    "Then we use `fsolve` to solve the function (find where function returns 0), usign initial guess = 2. "
   ]
  },
  {
   "cell_type": "code",
   "execution_count": 243,
   "metadata": {},
   "outputs": [
    {
     "name": "stdout",
     "output_type": "stream",
     "text": [
      "[2.45688986]\n"
     ]
    }
   ],
   "source": [
    "from scipy.optimize import fsolve\n",
    "\n",
    "tsol2 = fsolve(func, tguess)\n",
    "# tsol2, = fsolve(func, tguess)  # using a comma extracts a single varibale stored as array\n",
    "print(tsol2)\n"
   ]
  },
  {
   "cell_type": "markdown",
   "metadata": {
    "slideshow": {
     "slide_type": "slide"
    }
   },
   "source": [
    "We can express this more concisely as a `lambda` function:"
   ]
  },
  {
   "cell_type": "code",
   "execution_count": 244,
   "metadata": {},
   "outputs": [
    {
     "name": "stdout",
     "output_type": "stream",
     "text": [
      "2.4568898598165143\n"
     ]
    }
   ],
   "source": [
    "# input t\n",
    "# output 1.0 - ca_func(t\n",
    "tsol, = fsolve(lambda t: 1.0 - ca_func(t), tguess)\n",
    "print(tsol)\n"
   ]
  },
  {
   "cell_type": "markdown",
   "metadata": {
    "slideshow": {
     "slide_type": "slide"
    }
   },
   "source": [
    "## Solution to an ODE evaulated at Specific *Input* Values.\n",
    "<a id='SolutionODESpecificInputValues'></a>\n",
    "Sometimes it is desirable to get the solution at specific points\n",
    "<br>e.g. at $t = [0, 0.2, 0.4, 0.8]$ \n",
    "\n",
    "For example we might want to compare experimental measurements at those time points. "
   ]
  },
  {
   "cell_type": "markdown",
   "metadata": {
    "slideshow": {
     "slide_type": "slide"
    }
   },
   "source": [
    "To find the solution for specific input values, we simply set the range of input variables to the values of interest."
   ]
  },
  {
   "cell_type": "markdown",
   "metadata": {
    "slideshow": {
     "slide_type": "slide"
    }
   },
   "source": [
    "### Example : Reactor, Part 2\n",
    "<a id='ExampleReactorPart2'></a>\n",
    "The rate of change of the concentration $C_A$ of a substance within a reactor is:\n",
    "\n",
    "$$\\frac{dC_A}{dt}=-kC_A^2 $$\n",
    "\n",
    "where\n",
    "<br>$k = 0.23 \\quad \\textrm{L/mol/s}$\n",
    "\n",
    "Initial condition:\n",
    "<br>$C_A(t=0) = 2.3 \\quad \\textrm{mol/L}$ \n",
    "\n",
    "\n",
    "Compute the contration $C_A$ at time $t = [0, 2, 4, 8]$."
   ]
  },
  {
   "cell_type": "markdown",
   "metadata": {
    "slideshow": {
     "slide_type": "slide"
    }
   },
   "source": [
    "We can use the same function as in __Example : Reactor, Part 1__"
   ]
  },
  {
   "cell_type": "code",
   "execution_count": 245,
   "metadata": {},
   "outputs": [],
   "source": [
    "k = 0.23\n",
    "Ca0 = 2.3\n",
    "\n",
    "def dCadt(Ca, t):\n",
    "    return -k * Ca**2"
   ]
  },
  {
   "cell_type": "markdown",
   "metadata": {
    "slideshow": {
     "slide_type": "slide"
    }
   },
   "source": [
    "...we just apply the function to the new range of time values:"
   ]
  },
  {
   "cell_type": "code",
   "execution_count": 246,
   "metadata": {},
   "outputs": [
    {
     "data": {
      "text/plain": [
       "Text(0,0.5,'$C_A$ (mol/L)')"
      ]
     },
     "execution_count": 246,
     "metadata": {},
     "output_type": "execute_result"
    },
    {
     "data": {
      "image/png": "[encoded data removed]",
      "text/plain": [
       "<Figure size 432x288 with 1 Axes>"
      ]
     },
     "metadata": {},
     "output_type": "display_data"
    }
   ],
   "source": [
    "# previous problem solution\n",
    "tspan = np.linspace(0, 10, 14)\n",
    "plt.plot(tspan, odeint(dCadt, Ca0, tspan), label='range time')\n",
    "\n",
    "# specific value problem\n",
    "tspan = [0, 2, 4, 8]\n",
    "plt.plot(tspan, odeint(dCadt, Ca0, tspan), 'ro', label='range time')\n",
    "\n",
    "plt.xlabel('Time (s)')\n",
    "plt.ylabel('$C_A$ (mol/L)')\n"
   ]
  },
  {
   "cell_type": "code",
   "execution_count": 247,
   "metadata": {
    "slideshow": {
     "slide_type": "slide"
    }
   },
   "outputs": [
    {
     "name": "stdout",
     "output_type": "stream",
     "text": [
      "[[2.3       ]\n",
      " [1.11758989]\n",
      " [0.73812577]\n",
      " [0.43960241]]\n"
     ]
    }
   ],
   "source": [
    "print(odeint(dCadt, Ca0, tspan))\n",
    "\n",
    "# use index to access column 0\n",
    "# print(odeint(dCadt, Ca0, tspan)[:,0])\n"
   ]
  },
  {
   "cell_type": "markdown",
   "metadata": {
    "collapsed": true,
    "slideshow": {
     "slide_type": "slide"
    }
   },
   "source": [
    "## Matrix Multiplication Rules.\n",
    "<a id='MatrixMultiplicationRules'></a>\n",
    "The following section explains the process of matrix multiplication in case this is an unfamiliar topic for you.\n",
    "\n",
    "Read this section to understand the use of matrices in the examples that follow.\n",
    "\n",
    "\n",
    "\n",
    "\n"
   ]
  },
  {
   "cell_type": "markdown",
   "metadata": {
    "slideshow": {
     "slide_type": "subslide"
    }
   },
   "source": [
    "If the number of __columns in A__ \n",
    "<br>is the same as number of __rows in B__, \n",
    "<br>we can find the matrix product of $\\mathbf{A}$ and $\\mathbf{B}$.\n",
    "<br> $\\mathbf{C} = \\mathbf{A} \\cdot \\mathbf{B}$"
   ]
  },
  {
   "cell_type": "markdown",
   "metadata": {
    "slideshow": {
     "slide_type": "subslide"
    }
   },
   "source": [
    "For example:\n",
    "<br>$\\mathbf{A}$ has 3 rows and __3 columns__\n",
    "<br>$\\mathbf{B}$ has __3 rows__ and 1 column \n",
    "<br>($\\mathbf{B}$ is a vector represented as a matrix)\n",
    "\n",
    "\\begin{equation*}\n",
    "\\underbrace{\n",
    "\\begin{bmatrix}\n",
    "1 & 2 & 3 \\\\\n",
    "4 & 5 & 6 \\\\\n",
    "7 & 8 & 9 \\\\\n",
    "\\end{bmatrix}\n",
    "}_{\\mathbf{A} \\text{ 3 rows} \\text{ 3 columns}}\n",
    "\\cdot\n",
    "\\underbrace{\n",
    "\\begin{bmatrix}\n",
    "10 \\\\\n",
    "20 \\\\\n",
    "30 \\\\\n",
    "\\end{bmatrix}\n",
    "}_{\\mathbf{B} \\text{  3 rows} \\text{  1 column}}\n",
    "\\end{equation*}\n",
    "\n",
    "So we can multiply them..."
   ]
  },
  {
   "cell_type": "markdown",
   "metadata": {
    "slideshow": {
     "slide_type": "subslide"
    }
   },
   "source": [
    "In matrix $\\mathbf{C}$, the element in __row $i$__, __column $j$__ \n",
    "\n",
    "is equal to the dot product of the $i$th __row__ of $\\mathbf{A}$, $j$th __column__ of $\\mathbf{B}$.m"
   ]
  },
  {
   "cell_type": "markdown",
   "metadata": {
    "collapsed": true,
    "slideshow": {
     "slide_type": "subslide"
    }
   },
   "source": [
    "\n",
    "\n",
    "\\begin{equation*}\n",
    "\\underbrace{\n",
    "\\begin{bmatrix}\n",
    "\\color{red}1 & \\color{red}2 & \\color{red}3 \\\\\n",
    "4 & 5 & 6 \\\\\n",
    "7 & 8 & 9 \\\\\n",
    "\\end{bmatrix}\n",
    "}_{\\mathbf{A} \\text{ 3 rows} \\text{ 3 columns}}\n",
    "\\cdot\n",
    "\\underbrace{\n",
    "\\begin{bmatrix}\n",
    "\\color{red}{10} \\\\\n",
    "\\color{red}{20} \\\\\n",
    "\\color{red}{30} \\\\\n",
    "\\end{bmatrix}\n",
    "}_{\\mathbf{B} \\text{  3 rows} \\text{  1 column}}\n",
    "=\\underbrace{\n",
    "\\begin{bmatrix}\n",
    "\\color{red}{1 \\cdot 10 \\quad + \\quad 2 \\cdot 20 \\quad + \\quad 3 \\cdot 30} \\\\\n",
    "4 \\cdot 10 \\quad + \\quad 5 \\cdot 20 \\quad + \\quad 6 \\cdot 30 \\\\\n",
    "7 \\cdot 10 \\quad + \\quad 8 \\cdot 20 \\quad + \\quad 9 \\cdot 30 \\\\\n",
    "\\end{bmatrix}\n",
    "}_{\\mathbf{C} \\text{  3 rows} \\text{  1 column}}\n",
    "=\\underbrace{\n",
    "\\begin{bmatrix}\n",
    "\\color{red}{140} \\\\\n",
    "320 \\\\\n",
    "500 \\\\\n",
    "\\end{bmatrix}\n",
    "}_{\\mathbf{C} \\text{  3 rows} \\text{  1 column1}}\n",
    "\\end{equation*}"
   ]
  },
  {
   "cell_type": "markdown",
   "metadata": {
    "collapsed": true,
    "slideshow": {
     "slide_type": "subslide"
    }
   },
   "source": [
    "\\begin{equation*}\n",
    "\\underbrace{\n",
    "\\begin{bmatrix}\n",
    "1 & 2 & 3 \\\\\n",
    "\\color{red}4 & \\color{red}5 & \\color{red}6 \\\\\n",
    "7 & 8 & 9 \\\\\n",
    "\\end{bmatrix}\n",
    "}_{\\mathbf{A} \\text{ 3 rows} \\text{ 3 columns}}\n",
    "\\cdot\n",
    "\\underbrace{\n",
    "\\begin{bmatrix}\n",
    "\\color{red}{10} \\\\\n",
    "\\color{red}{20} \\\\\n",
    "\\color{red}{30} \\\\\n",
    "\\end{bmatrix}\n",
    "}_{\\mathbf{B} \\text{  3 rows} \\text{  1 column}}\n",
    "=\\underbrace{\n",
    "\\begin{bmatrix}\n",
    "1 \\cdot 10 \\quad + \\quad 2 \\cdot 20 \\quad + \\quad 3 \\cdot 30 \\\\\n",
    "\\color{red}{4 \\cdot 10 \\quad + \\quad 5 \\cdot 20 \\quad + \\quad 6 \\cdot 30} \\\\\n",
    "7 \\cdot 10 \\quad + \\quad 8 \\cdot 20 \\quad + \\quad 9 \\cdot 30 \\\\\n",
    "\\end{bmatrix}\n",
    "}_{\\mathbf{C} \\text{  3 rows} \\text{  1 column}}\n",
    "=\\underbrace{\n",
    "\\begin{bmatrix}\n",
    "140 \\\\\n",
    "\\color{red}{320} \\\\\n",
    "500 \\\\\n",
    "\\end{bmatrix}\n",
    "}_{\\mathbf{C} \\text{  3 rows} \\text{  1 column1}}\n",
    "\\end{equation*}"
   ]
  },
  {
   "cell_type": "markdown",
   "metadata": {
    "collapsed": true,
    "slideshow": {
     "slide_type": "subslide"
    }
   },
   "source": [
    "\\begin{equation*}\n",
    "\\underbrace{\n",
    "\\begin{bmatrix}\n",
    "1 & 2 & 3 \\\\\n",
    "4 & 5 & 6 \\\\\n",
    "\\color{red}7 & \\color{red}8 & \\color{red}9 \\\\\n",
    "\\end{bmatrix}\n",
    "}_{\\mathbf{A} \\text{ 3 rows} \\text{ 3 columns}}\n",
    "\\cdot\n",
    "\\underbrace{\n",
    "\\begin{bmatrix}\n",
    "\\color{red}{10} \\\\\n",
    "\\color{red}{20} \\\\\n",
    "\\color{red}{30} \\\\\n",
    "\\end{bmatrix}\n",
    "}_{\\mathbf{B} \\text{  3 rows} \\text{  1 column}}\n",
    "=\\underbrace{\n",
    "\\begin{bmatrix}\n",
    "1 \\cdot 10 \\quad + \\quad 2 \\cdot 20 \\quad + \\quad 3 \\cdot 30 \\\\\n",
    "4 \\cdot 10 \\quad + \\quad 5 \\cdot 20 \\quad + \\quad 6 \\cdot 30 \\\\\n",
    "\\color{red}{7 \\cdot 10 \\quad + \\quad 8 \\cdot 20 \\quad + \\quad 9 \\cdot 30} \\\\\n",
    "\\end{bmatrix}\n",
    "}_{\\mathbf{C} \\text{  3 rows} \\text{  1 column}}\n",
    "=\\underbrace{\n",
    "\\begin{bmatrix}\n",
    "140 \\\\\n",
    "320 \\\\\n",
    "\\color{red}{500} \\\\\n",
    "\\end{bmatrix}\n",
    "}_{\\mathbf{C} \\text{  3 rows} \\text{  1 column1}}\n",
    "\\end{equation*}"
   ]
  },
  {
   "cell_type": "markdown",
   "metadata": {
    "slideshow": {
     "slide_type": "subslide"
    }
   },
   "source": [
    "\\begin{equation*}\n",
    "\\underbrace{\n",
    "\\begin{bmatrix}\n",
    "1 & 2 & 3 \\\\\n",
    "4 & 5 & 6 \\\\\n",
    "7 & 8 & 9 \\\\\n",
    "\\end{bmatrix}\n",
    "}_{\\mathbf{A} \\text{ 3 rows} \\text{ 3 columns}}\n",
    "\\cdot\n",
    "\\underbrace{\n",
    "\\begin{bmatrix}\n",
    "10 \\\\\n",
    "20 \\\\\n",
    "30 \\\\\n",
    "\\end{bmatrix}\n",
    "}_{\\mathbf{B} \\text{  3 rows} \\text{  1 column}}\n",
    "=\\underbrace{\n",
    "\\begin{bmatrix}\n",
    "1 \\cdot 10 \\quad + \\quad 2 \\cdot 20 \\quad + \\quad 3 \\cdot 30 \\\\\n",
    "4 \\cdot 10 \\quad + \\quad 5 \\cdot 20 \\quad + \\quad 6 \\cdot 30 \\\\\n",
    "7 \\cdot 10 \\quad + \\quad 8 \\cdot 20 \\quad + \\quad 9 \\cdot 30 \\\\\n",
    "\\end{bmatrix}\n",
    "}_{\\mathbf{C} \\text{  3 rows} \\text{  1 column}}\n",
    "=\\underbrace{\n",
    "\\begin{bmatrix}\n",
    "140 \\\\\n",
    "320 \\\\\n",
    "500 \\\\\n",
    "\\end{bmatrix}\n",
    "}_{\\mathbf{C} \\text{  3 rows} \\text{  1 column1}}\n",
    "\\end{equation*}\n",
    "\n",
    "Matrix $\\mathbf{C}$ therefore has: \n",
    "- the same number of __rows__ as $\\mathbf{A}$,\n",
    "- the same number of __columns__ as $\\mathbf{B}$."
   ]
  },
  {
   "cell_type": "code",
   "execution_count": 248,
   "metadata": {
    "slideshow": {
     "slide_type": "subslide"
    }
   },
   "outputs": [
    {
     "name": "stdout",
     "output_type": "stream",
     "text": [
      "[140 320 500]\n"
     ]
    }
   ],
   "source": [
    "# In the equation above, vector B must be represented as a column vector\n",
    "A = np.array([[1, 2, 3], \n",
    "              [4, 5, 6],\n",
    "              [7, 8, 9]])\n",
    "\n",
    "\n",
    "# In Python, 1D arrays are ALWAYS represented horizontally \n",
    "# This does not define the array as a row vector\n",
    "B = np.array([10, 20, 30])\n",
    "\n",
    "\n",
    "# For example, C is represented horizontally \n",
    "C = np.dot(A,B)\n",
    "print(C)\n"
   ]
  },
  {
   "cell_type": "markdown",
   "metadata": {
    "slideshow": {
     "slide_type": "subslide"
    }
   },
   "source": [
    "As an example, if $\\mathbf{B}$ were a row vector: \n",
    "\n",
    "\\begin{equation*}\n",
    "\\underbrace{\n",
    "\\begin{bmatrix}\n",
    "1 & 2 & 3 \\\\\n",
    "4 & 5 & 6 \\\\\n",
    "7 & 8 & 9 \\\\\n",
    "\\end{bmatrix}\n",
    "}_{\\mathbf{A} \\text{ 3 rows} \\text{ 3 columns}}\n",
    "\\cdot\n",
    "\\underbrace{\n",
    "\\begin{bmatrix}\n",
    "10 & 20 & 30 \\\\\n",
    "\\end{bmatrix}\n",
    "}_{\\mathbf{B} \\text{  1 row} \\text{  3 columns}}\n",
    "\\end{equation*}\n",
    "\n",
    "We *cannot* find the dot product $\\mathbf{B}\\cdot\\mathbf{A}$.\n",
    "<br>The number of columns in $\\mathbf{A}$ __is not__ the same as number of rows in $\\mathbf{B}$."
   ]
  },
  {
   "cell_type": "markdown",
   "metadata": {
    "slideshow": {
     "slide_type": "subslide"
    }
   },
   "source": [
    "We can swap the order of $\\mathbf{A}$ and $\\mathbf{B}$.\n",
    "<br>The multiplication is now possible.\n",
    "<br>However, the outcome is different.\n",
    "\n",
    "\n",
    "\\begin{equation*}\n",
    "\\underbrace{\n",
    "\\begin{bmatrix}\n",
    "10 & 20 & 30 \\\\\n",
    "\\end{bmatrix}\n",
    "}_{\\mathbf{B} \\text{ 1 row} \\text{ 3 columns}}\n",
    "\\cdot\n",
    "\\underbrace{\n",
    "\\begin{bmatrix}\n",
    "\\color{red}1 & \\color{blue}2 & \\color{green}3 \\\\\n",
    "\\color{red}4 & \\color{blue}5 & \\color{green}6 \\\\\n",
    "\\color{red}7 & \\color{blue}8 & \\color{green}9 \\\\\n",
    "\\end{bmatrix}\n",
    "}_{\\mathbf{A} \\text{  3 rows} \\text{  3 columns}}\n",
    "=\\underbrace{\n",
    "\\begin{bmatrix}\n",
    "\\color{red}{10 \\cdot 1 + 20 \\cdot 4 + 30 \\cdot 7} &\n",
    "\\color{blue}{4 \\cdot 10 + 5 \\cdot 20 + 6 \\cdot 30} &\n",
    "\\color{green}{7 \\cdot 10 + 8 \\cdot 20 + 9 \\cdot 30} \\\\\n",
    "\\end{bmatrix}\n",
    "}_{\\mathbf{C} \\text{  1 row} \\text{  3 columns}}\n",
    "=\\underbrace{\n",
    "\\begin{bmatrix}\n",
    "\\color{red}{140} &\n",
    "\\color{blue}{320} &\n",
    "\\color{green}{500} \\\\\n",
    "\\end{bmatrix}\n",
    "}_{\\mathbf{C} \\text{  3 rows} \\text{  1 column1}}\n",
    "\\end{equation*}"
   ]
  },
  {
   "cell_type": "markdown",
   "metadata": {
    "slideshow": {
     "slide_type": "subslide"
    }
   },
   "source": [
    "In Python, normal matrix multiplication rules apply to 2D arrays.\n",
    "<br>This holds even if the length of one of the dimensions of the 2D array is equal to 1.\n",
    "\n"
   ]
  },
  {
   "cell_type": "code",
   "execution_count": 249,
   "metadata": {},
   "outputs": [
    {
     "name": "stdout",
     "output_type": "stream",
     "text": [
      "[[300 360 420]]\n",
      "[[140]\n",
      " [320]\n",
      " [500]]\n"
     ]
    }
   ],
   "source": [
    "A = np.array([[1, 2, 3], \n",
    "              [4, 5, 6],\n",
    "              [7, 8, 9]])\n",
    "\n",
    "# 2D array\n",
    "X = np.array([[10, 20, 30]])\n",
    "\n",
    "# 2D array\n",
    "Y = np.array([[10],\n",
    "              [20], \n",
    "              [30]])\n",
    "\n",
    "print(np.dot(X, A)) #, print(np.dot(A, X))\n",
    "print(np.dot(A, Y)) #, print(np.dot(Y, A))"
   ]
  },
  {
   "cell_type": "markdown",
   "metadata": {
    "slideshow": {
     "slide_type": "subslide"
    }
   },
   "source": [
    "However, the orientation with which 1D arrays are shown (always horizontal) does not impact their allowbale placement in an expression. \n",
    "\n",
    "Python will automatially treat the 1D as a column where appropriate."
   ]
  },
  {
   "cell_type": "code",
   "execution_count": 250,
   "metadata": {
    "slideshow": {
     "slide_type": "-"
    }
   },
   "outputs": [
    {
     "name": "stdout",
     "output_type": "stream",
     "text": [
      "[300 360 420]\n",
      "[140 320 500]\n"
     ]
    }
   ],
   "source": [
    "A = np.array([[1, 2, 3], \n",
    "              [4, 5, 6],\n",
    "              [7, 8, 9]])\n",
    "\n",
    "# 1D array\n",
    "Z = np.array([10, 20, 30])\n",
    "\n",
    "print(np.dot(Z, A))\n",
    "print(np.dot(A, Z))"
   ]
  },
  {
   "cell_type": "markdown",
   "metadata": {
    "slideshow": {
     "slide_type": "slide"
    }
   },
   "source": [
    "## Useful Matrix Operations\n",
    "<a id='UsefulMatrixOperations'></a>"
   ]
  },
  {
   "cell_type": "markdown",
   "metadata": {
    "slideshow": {
     "slide_type": "subslide"
    }
   },
   "source": [
    "#### Inverse of a square matrix"
   ]
  },
  {
   "cell_type": "code",
   "execution_count": 251,
   "metadata": {
    "slideshow": {
     "slide_type": "-"
    }
   },
   "outputs": [
    {
     "name": "stdout",
     "output_type": "stream",
     "text": [
      "A = \n",
      " [[1 2]\n",
      " [3 4]]\n",
      "Inverse of A = \n",
      " [[-2.   1. ]\n",
      " [ 1.5 -0.5]]\n"
     ]
    }
   ],
   "source": [
    "A = np.array([[1,2], \n",
    "              [3, 4]]) \n",
    "\n",
    "Ainv = np.linalg.inv(A)\n",
    "\n",
    "print(f\"A = \\n {A}\")\n",
    "print(f\"Inverse of A = \\n {Ainv}\")"
   ]
  },
  {
   "cell_type": "markdown",
   "metadata": {
    "slideshow": {
     "slide_type": "subslide"
    }
   },
   "source": [
    "#### Determinant of a square matrix"
   ]
  },
  {
   "cell_type": "code",
   "execution_count": 252,
   "metadata": {},
   "outputs": [
    {
     "name": "stdout",
     "output_type": "stream",
     "text": [
      "A = \n",
      " [[1 2]\n",
      " [3 4]]\n",
      "Determinant of A = -2.0\n"
     ]
    }
   ],
   "source": [
    "A = np.array([[1,2], \n",
    "              [3, 4]]) \n",
    "\n",
    "Adet = np.linalg.det(A)\n",
    "\n",
    "print(f\"A = \\n {A}\")\n",
    "print(f\"Determinant of A = {round(Adet, 2)}\")"
   ]
  },
  {
   "cell_type": "markdown",
   "metadata": {
    "slideshow": {
     "slide_type": "subslide"
    }
   },
   "source": [
    "#### Transpose of a matrix\n",
    "\n",
    "- The columns of the transpose matrix are the rows of the original matrix.\n",
    "- The rows of the transopse matrix are the columns of the original matrix.  "
   ]
  },
  {
   "cell_type": "code",
   "execution_count": 253,
   "metadata": {},
   "outputs": [
    {
     "name": "stdout",
     "output_type": "stream",
     "text": [
      "[[0. 0. 0. 0.]\n",
      " [0. 0. 0. 0.]]\n",
      "\n",
      "[[0. 0.]\n",
      " [0. 0.]\n",
      " [0. 0.]\n",
      " [0. 0.]]\n",
      "\n",
      "[[0. 0.]\n",
      " [0. 0.]\n",
      " [0. 0.]\n",
      " [0. 0.]]\n"
     ]
    }
   ],
   "source": [
    "a = np.zeros((2,4))\n",
    "print(a)\n",
    "print()\n",
    "\n",
    "\n",
    "print(a.T)\n",
    "print()\n",
    "\n",
    "#or \n",
    "\n",
    "print(np.transpose(a))"
   ]
  },
  {
   "cell_type": "markdown",
   "metadata": {
    "slideshow": {
     "slide_type": "subslide"
    }
   },
   "source": [
    "#### Generate Identity Matrix"
   ]
  },
  {
   "cell_type": "code",
   "execution_count": 254,
   "metadata": {
    "scrolled": true
   },
   "outputs": [
    {
     "name": "stdout",
     "output_type": "stream",
     "text": [
      "[[1. 0.]\n",
      " [0. 1.]]\n",
      "\n",
      "[[1. 0. 0. 0.]\n",
      " [0. 1. 0. 0.]\n",
      " [0. 0. 1. 0.]\n",
      " [0. 0. 0. 1.]]\n"
     ]
    }
   ],
   "source": [
    "I = np.eye(2)\n",
    "print(I)\n",
    "\n",
    "print()\n",
    "\n",
    "I = np.eye(4)\n",
    "print(I)"
   ]
  },
  {
   "cell_type": "markdown",
   "metadata": {
    "slideshow": {
     "slide_type": "slide"
    }
   },
   "source": [
    "## Systems of Ordinary Differential Equations \n",
    "<a id='SystemsOrdinaryDifferentialEquations '></a>\n",
    "`odeint` can also be used to solve *systems* of coupled differential equations. \n",
    "\n"
   ]
  },
  {
   "cell_type": "markdown",
   "metadata": {
    "slideshow": {
     "slide_type": "slide"
    }
   },
   "source": [
    "### Example : Migration problem\n",
    "A well known problem concerns an imaginary country with three cities, A, B and C. \n",
    "<br>At the end of each year, a fraction, $n$ of the people must leave each city.\n",
    "<br>Half of the people leaving a city move to one of the two options, and half to the other.\n",
    "\n",
    "<img src=\"img/cities3.png\" alt=\"Drawing\" style=\"width: 400px;\"/> "
   ]
  },
  {
   "cell_type": "markdown",
   "metadata": {
    "slideshow": {
     "slide_type": "slide"
    }
   },
   "source": [
    "This gives us a system of simultaneous equations\n",
    "\n",
    "\\begin{align*}\n",
    "\\Delta A = \\frac{Bn}{2} + \\frac{Cn}{2} - An \\\\\n",
    "\\Delta B = \\frac{An}{2} + \\frac{Cn}{2} - Bn\\\\\n",
    "\\Delta C = \\frac{An}{2} + \\frac{Bn}{2} -Cn \\\\\n",
    "\\end{align*}\n",
    "\n",
    "\n"
   ]
  },
  {
   "cell_type": "markdown",
   "metadata": {
    "slideshow": {
     "slide_type": "slide"
    }
   },
   "source": [
    "Matrices are a convenient way to represent this problem.  "
   ]
  },
  {
   "cell_type": "markdown",
   "metadata": {
    "slideshow": {
     "slide_type": "subslide"
    }
   },
   "source": [
    "\\begin{equation*}\n",
    "\\begin{bmatrix}\n",
    "\\Delta A \\\\\n",
    "\\Delta B \\\\\n",
    "\\Delta C \\\\\n",
    "\\end{bmatrix}\n",
    "=\n",
    "\\underbrace{\n",
    "\\begin{bmatrix}\n",
    "-n & \\frac{n}{2} & \\frac{n}{2} \\\\\n",
    "\\frac{n}{2} & -n & \\frac{n}{2} \\\\\n",
    "\\frac{n}{2} & \\frac{n}{2} & -n \\\\\n",
    "\\end{bmatrix}\n",
    "}_{\\mathbf{migration}}\n",
    "\\cdot\n",
    "\\underbrace{\n",
    "\\begin{bmatrix}\n",
    "A \\\\\n",
    "B \\\\\n",
    "C \\\\\n",
    "\\end{bmatrix}\n",
    "}_{\\mathbf{population}}\n",
    "\\end{equation*}\n",
    "\n"
   ]
  },
  {
   "cell_type": "markdown",
   "metadata": {
    "slideshow": {
     "slide_type": "slide"
    }
   },
   "source": [
    "Let's use variable names $\\mathbf{M}$ and $\\mathbf{P}$."
   ]
  },
  {
   "cell_type": "markdown",
   "metadata": {},
   "source": [
    "\\begin{equation*}\n",
    "\\begin{bmatrix}\n",
    "\\Delta a \\\\\n",
    "\\Delta b \\\\\n",
    "\\Delta c \\\\\n",
    "\\end{bmatrix}\n",
    "=\n",
    "\\underbrace{\n",
    "\\begin{bmatrix}\n",
    "-0.2 & 0.1 & 0.1 \\\\\n",
    "0.1 & -0.2 & 0.1 \\\\\n",
    "0.1 & 0.1 & -0.2 \\\\\n",
    "\\end{bmatrix}\n",
    "}_{\\mathbf{M}}\n",
    "\\cdot\n",
    "\\underbrace{\n",
    "\\begin{bmatrix}\n",
    "A \\\\\n",
    "B \\\\\n",
    "C \\\\\n",
    "\\end{bmatrix}\n",
    "}_{\\mathbf{P}}\n",
    "\\end{equation*}\n",
    "\n"
   ]
  },
  {
   "cell_type": "markdown",
   "metadata": {
    "slideshow": {
     "slide_type": "slide"
    }
   },
   "source": [
    "We can use `odeint` to solve coupled first order ordinary differential equations simultaneously (systems of ODEs)."
   ]
  },
  {
   "cell_type": "markdown",
   "metadata": {
    "slideshow": {
     "slide_type": "slide"
    }
   },
   "source": [
    "First create matrix $\\mathbf{M}$:"
   ]
  },
  {
   "cell_type": "code",
   "execution_count": 255,
   "metadata": {},
   "outputs": [
    {
     "name": "stdout",
     "output_type": "stream",
     "text": [
      "[[-0.02  0.01  0.01]\n",
      " [ 0.01 -0.02  0.01]\n",
      " [ 0.01  0.01 -0.02]]\n"
     ]
    }
   ],
   "source": [
    "import numpy as np\n",
    "M = np.full((3, 3), 0.01)\n",
    "np.fill_diagonal(M, -0.02)\n",
    "print(M)"
   ]
  },
  {
   "cell_type": "markdown",
   "metadata": {
    "slideshow": {
     "slide_type": "slide"
    }
   },
   "source": [
    "The initial value variable is a list.\n",
    "\n",
    "Note, the values are input as a single data structure.\n",
    "\n",
    "The elements are the initial populations $A$, $B$, and $C$."
   ]
  },
  {
   "cell_type": "code",
   "execution_count": 256,
   "metadata": {
    "slideshow": {
     "slide_type": "slide"
    }
   },
   "outputs": [],
   "source": [
    "# Initial population\n",
    "P0 = np.array([190.0, 500.0, 30.0])\n"
   ]
  },
  {
   "cell_type": "markdown",
   "metadata": {
    "slideshow": {
     "slide_type": "slide"
    }
   },
   "source": [
    "Timespan over which to evaluate the change in population:"
   ]
  },
  {
   "cell_type": "code",
   "execution_count": 257,
   "metadata": {},
   "outputs": [],
   "source": [
    "# Time steps to evaluate\n",
    "tspan = np.arange(0, 150)"
   ]
  },
  {
   "cell_type": "markdown",
   "metadata": {
    "slideshow": {
     "slide_type": "slide"
    }
   },
   "source": [
    "The chnage in population is the dot product (or matrix product) of matrix $\\mathbf{M}$, and the current populations, matrix $\\mathbf{P}$.\n",
    "\n",
    "Therefore the inputs to the function are:\n",
    "- current population (matrix $\\mathbf{P}$)\n",
    "- timespan to investigate\n",
    "- matrix $\\mathbf{M}$\n",
    "\n",
    "The function should output the __rate of change of each variable__ as a __single list__."
   ]
  },
  {
   "cell_type": "code",
   "execution_count": 258,
   "metadata": {
    "scrolled": true,
    "slideshow": {
     "slide_type": "-"
    }
   },
   "outputs": [],
   "source": [
    "def dP_dt(P, t, M):\n",
    "    \n",
    "    dP_dt = np.dot(P, M)\n",
    "    \n",
    "    return [dP_dt[0], \n",
    "            dP_dt[1], \n",
    "            dP_dt[2]]\n",
    "\n"
   ]
  },
  {
   "cell_type": "markdown",
   "metadata": {
    "slideshow": {
     "slide_type": "slide"
    }
   },
   "source": [
    "We run the `odeint` solver as before. \n",
    "<br>Inputs:\n",
    "- function\n",
    "- initial condition\n",
    "- timespan\n",
    "- additional arguments to function (matrix $\\mathbf{M}$)"
   ]
  },
  {
   "cell_type": "code",
   "execution_count": 259,
   "metadata": {},
   "outputs": [],
   "source": [
    "Ps = odeint(dP_dt, P0, tspan, args=(M,))\n"
   ]
  },
  {
   "cell_type": "markdown",
   "metadata": {
    "slideshow": {
     "slide_type": "slide"
    }
   },
   "source": [
    "As before, the output is retured as a vector, each time, there is one vector for each population."
   ]
  },
  {
   "cell_type": "code",
   "execution_count": 260,
   "metadata": {},
   "outputs": [
    {
     "name": "stdout",
     "output_type": "stream",
     "text": [
      "[[190.         500.          30.        ]\n",
      " [191.47772343 492.31583817  36.2064384 ]\n",
      " [192.91177343 484.85877818  42.22944839]\n",
      " [194.30344084 477.62210765  48.07445151]\n",
      " [195.65397826 470.59931305  53.74670869]]\n"
     ]
    }
   ],
   "source": [
    "# first 5 rows of Ps\n",
    "print(Ps[:5, :])\n"
   ]
  },
  {
   "cell_type": "code",
   "execution_count": 261,
   "metadata": {
    "slideshow": {
     "slide_type": "slide"
    }
   },
   "outputs": [
    {
     "data": {
      "image/png": "[encoded data removed]",
      "text/plain": [
       "<Figure size 432x288 with 1 Axes>"
      ]
     },
     "metadata": {},
     "output_type": "display_data"
    }
   ],
   "source": [
    "plt.plot(tspan, Ps[:,0], label=\"A\")\n",
    "plt.plot(tspan, Ps[:,1], label=\"B\")\n",
    "plt.plot(tspan, Ps[:,2], label=\"C\")\n",
    "plt.xlabel(\"Time\")\n",
    "plt.ylabel(\"Population\")\n",
    "plt.legend();\n"
   ]
  },
  {
   "cell_type": "markdown",
   "metadata": {
    "slideshow": {
     "slide_type": "slide"
    }
   },
   "source": [
    "For example we can use `odeint` to solve the population problem from earlier.\n",
    "\n",
    "The function dP_dt is exactly the same as the function `change_pop` that we used  earlier. The only difference is that `dP_dt` returns the individual rates of chnage of each population as a list. "
   ]
  },
  {
   "cell_type": "markdown",
   "metadata": {
    "slideshow": {
     "slide_type": "slide"
    }
   },
   "source": [
    "We can check the solution by iteratively solving the equations over each time step using a `for` loop:"
   ]
  },
  {
   "cell_type": "code",
   "execution_count": 262,
   "metadata": {
    "slideshow": {
     "slide_type": "-"
    }
   },
   "outputs": [],
   "source": [
    "def dP_dt_manual(P, t, M):\n",
    "    \"Returns a vector of the population change over time t\"\n",
    "    \n",
    "    # make 2D array to store population per timestep\n",
    "    dPdt = P\n",
    "    for time in t[:-1]:\n",
    "        \n",
    "        # Increment population \n",
    "        P = P + np.dot(P, M)\n",
    "        \n",
    "        # Store population\n",
    "        dPdt = np.vstack((dPdt, P))\n",
    "        \n",
    "    return dPdt\n",
    "        \n",
    "dPdt = dP_dt_manual(P0, tspan, M) \n"
   ]
  },
  {
   "cell_type": "markdown",
   "metadata": {
    "slideshow": {
     "slide_type": "slide"
    }
   },
   "source": [
    "Now we can plot the manually computed solution on top of the numerical approximation using `odeint`:"
   ]
  },
  {
   "cell_type": "code",
   "execution_count": 263,
   "metadata": {
    "scrolled": false
   },
   "outputs": [
    {
     "data": {
      "image/png": "[encoded data removed]",
      "text/plain": [
       "<Figure size 432x288 with 1 Axes>"
      ]
     },
     "metadata": {},
     "output_type": "display_data"
    }
   ],
   "source": [
    "# Numerical Appproximation\n",
    "plt.plot(tspan, Ps[:,0], label=\"A\")\n",
    "plt.plot(tspan, Ps[:,1], label=\"B\")\n",
    "plt.plot(tspan, Ps[:,2], label=\"C\")\n",
    "\n",
    "plt.plot(tspan, dPdt[:,0], ':', label=\"A\")\n",
    "plt.plot(tspan, dPdt[:,1], ':', label=\"B\")\n",
    "plt.plot(tspan, dPdt[:,2], ':', label=\"C\")\n",
    "\n",
    "plt.xlabel(\"Years\")\n",
    "plt.ylabel(\"Population\")\n",
    "plt.legend();"
   ]
  },
  {
   "cell_type": "markdown",
   "metadata": {
    "slideshow": {
     "slide_type": "slide"
    }
   },
   "source": [
    "## Interactive Plots\n",
    "<a id='InteractivePlots'></a>\n",
    "Interactive plots allow us to dynamically observe the influence that changing different parameters has on an output.\n",
    "\n",
    "To produce animated plots, we first need to install a program, FFmpeg,  for handling multimedia data.\n",
    "\n",
    "Follow the instructions below to install ffmpeg:"
   ]
  },
  {
   "cell_type": "markdown",
   "metadata": {},
   "source": [
    "### Installing FFmpeg \n",
    "<a id='InstallingFFmpeg'></a>"
   ]
  },
  {
   "cell_type": "markdown",
   "metadata": {
    "slideshow": {
     "slide_type": "slide"
    }
   },
   "source": [
    "###### Installing FFmpeg on mac\n",
    "Open a terminal.\n",
    "Copy and paste the following command into the terminal to install homebrew (a linux-like package manager): \n",
    ">`ruby -e \"$(curl -fsSL https://raw.githubusercontent.com/Homebrew/install/master/install)\"`\n",
    "\n",
    "Press 'Enter' to install and enter your password when prompted.\n",
    "\n",
    "Copy and paste the following command into the terminal to install FFmpeg: \n",
    ">`brew install ffmpeg` \n",
    "\n",
    "To check ffmpeg has installed copy and paste the following command into the terminal:\n",
    ">`ffmpeg -version`\n",
    "\n",
    "If FFmpeg has installed a few lines of code will appear, starting with the version number which will be something like:\n",
    ">`ffmpeg version 3.4 Copyright (c) 2000-2017 `\n",
    "\n"
   ]
  },
  {
   "cell_type": "markdown",
   "metadata": {
    "collapsed": true,
    "slideshow": {
     "slide_type": "slide"
    }
   },
   "source": [
    "###### Installing FFmpeg on linux\n",
    "Open a terminal.\n",
    "Copy and paste the following commands into the terminal (one-by-one, pressing enter after one) to install ffmpeg: \n",
    ">`sudo add-apt-repository ppa:kirillshkrogalev/ffmpeg-next\n",
    "sudo apt-get update\n",
    "sudo apt-get install ffmpeg`\n",
    "\n",
    "To check ffmpeg has installed copy and paste the following command into the terminal:\n",
    ">`ffmpeg -version`\n",
    "\n",
    "If FFmpeg has installed a few lines of code will appear, starting with the version number which will be something like:\n",
    ">`ffmpeg version 3.4 Copyright (c) 2000-2017 `\n",
    "\n",
    "\n",
    "\n"
   ]
  },
  {
   "cell_type": "markdown",
   "metadata": {
    "slideshow": {
     "slide_type": "slide"
    }
   },
   "source": [
    "###### Installing FFmpeg on  windows\n",
    "\n",
    "Open a terminal.\n",
    "\n",
    "To find out what version of windows you have, copy and paste the following command into the terminal to see if your computer has a 32 or 64 bit CPU:\n",
    ">`wmic os get osarchitecture`\n",
    "\n",
    "Go to ffmpeg.zeranoe.com/builds/ \n",
    " - Click the appropraite __Architecture__ for your computer.\n",
    " - Click Static __Linking__\n",
    " - Leave __Version__ as the default.\n",
    " - Click __Download Build__\n",
    "\n",
    "Go to your computer's Downloads folder.\n",
    " - Right click on the newly downloaded .zip folder (it's name will start with `ffmpeg`).\n",
    " - Choose __Extract All__ from the drop-down menu.\n",
    " - If given the option to choose a location to extract the files to, choose your Program Files folder.<br>Otherwise, a non-.zip folder of the same name as the one you downloaded will appear in the Downloads folder. <br>Copy the folder to your Program Files folder.\n",
    " - Change rename of the folder you just copied into Program Files with the name:\n",
    " <br>`ffmpeg`\n",
    " \n",
    "Go back to the terminal and copy and paste the following command into the terminal to add ffmpeg to the windows path: \n",
    ">`PATH=C:\\Program Files\\ffmpeg\\bin;%PATH%`\n",
    "\n",
    "To check ffmpeg has installed copy and paste the following command into the terminal:\n",
    ">`ffmpeg -version`\n",
    "\n",
    "If FFmpeg has installed a few lines of code will appear, starting with the version number which will be something like:\n",
    ">`ffmpeg version 3.4 Copyright (c) 2000-2017 `\n",
    "\n"
   ]
  },
  {
   "cell_type": "markdown",
   "metadata": {
    "slideshow": {
     "slide_type": "slide"
    }
   },
   "source": [
    "As a simple example, we will plot\n",
    "\n",
    "$$\n",
    "f(t) = t^{\\alpha} \\sin(\\omega t)\n",
    "$$\n",
    "\n",
    "- independent variable, $t$\n",
    "- dependent variable, $f(t)$\n",
    "- input parameters, $\\alpha$ and $\\omega$\n",
    "\n",
    "We will create two sliders allowing us to change the value of $\\alpha$ and $\\omega$ *interactively*.\n",
    "\n",
    "We can observe the resulting change in $f(t)$ dynamically."
   ]
  },
  {
   "cell_type": "markdown",
   "metadata": {
    "slideshow": {
     "slide_type": "slide"
    }
   },
   "source": [
    "Interactive plots be can created using Python module `ipywidgets`. \n",
    "\n",
    "Run the following cell to install `ipywidgets`\n",
    "\n"
   ]
  },
  {
   "cell_type": "code",
   "execution_count": 264,
   "metadata": {
    "slideshow": {
     "slide_type": "-"
    }
   },
   "outputs": [],
   "source": [
    "try:\n",
    "    import ipywidgets\n",
    "except ImportError:\n",
    "    try:\n",
    "        !{sys.executable} -m pip -q install ipywidgets\n",
    "        import ipywidgets\n",
    "    except ImportError:\n",
    "        !{sys.executable} -m pip -q --user install ipywidgets\n",
    "    finally:\n",
    "        !jupyter nbextension enable --py widgetsnbextension\n",
    "        print(\"You will need to refresh your browser page\")        \n",
    "from ipywidgets import interact"
   ]
  },
  {
   "cell_type": "markdown",
   "metadata": {
    "slideshow": {
     "slide_type": "slide"
    }
   },
   "source": [
    "$$\n",
    "f(t) = t^{\\alpha} \\sin(\\omega t)\n",
    "$$\n",
    "\n",
    "Let's assign arbitrary values  $\\alpha = 0$ and $\\omega =1 $\n",
    "\n",
    "Start by plotting $f(t)$ against $t$ as usual.\n",
    "\n",
    "\n",
    "\n",
    "*(To generate symbols α or ω type `\\omega` or `\\alpha`, pressing  `Tab` key at the end.)*"
   ]
  },
  {
   "cell_type": "code",
   "execution_count": 265,
   "metadata": {},
   "outputs": [
    {
     "data": {
      "text/plain": [
       "Text(0.5,1,'$α$ = 0, $ω$ = 1')"
      ]
     },
     "execution_count": 265,
     "metadata": {},
     "output_type": "execute_result"
    },
    {
     "data": {
      "image/png": "[encoded data removed]",
      "text/plain": [
       "<Figure size 432x288 with 1 Axes>"
      ]
     },
     "metadata": {},
     "output_type": "display_data"
    }
   ],
   "source": [
    "α, ω = 0, 1\n",
    "t = np.linspace(0, 2*np.pi, 200)  \n",
    "\n",
    "plt.plot(t, (t**α)*np.sin(ω*t))\n",
    "\n",
    "plt.xlabel('$t$')\n",
    "plt.ylabel('$f$')\n",
    "plt.title(f\"$α$ = {α}, $ω$ = {ω}\")\n"
   ]
  },
  {
   "cell_type": "markdown",
   "metadata": {
    "slideshow": {
     "slide_type": "slide"
    }
   },
   "source": [
    "Next encasulate the code to generate the plot within a function.\n",
    "\n",
    "The parameters we want to vary are given as function arguments.\n",
    "\n",
    "The default values are the values used in the previous example.\n",
    "\n"
   ]
  },
  {
   "cell_type": "code",
   "execution_count": 266,
   "metadata": {},
   "outputs": [],
   "source": [
    "def plot(α=0, ω=1):\n",
    "    \"A plot of the function f(t)= (t**α)*np.sin(ω*t)\"\n",
    "    t = np.linspace(0, 2*np.pi, 200)  \n",
    "    \n",
    "    plt.plot(t, (t**α)*np.sin(ω*t))\n",
    "    \n",
    "    plt.xlabel('$t$')\n",
    "    plt.ylabel('$f$')\n",
    "    plt.title(r\"$\\alpha$ = {}, $\\omega$ = {}\".format(α, ω))\n",
    "    "
   ]
  },
  {
   "cell_type": "markdown",
   "metadata": {
    "slideshow": {
     "slide_type": "slide"
    }
   },
   "source": [
    "The `interact` function, takes the following arguments:\n",
    "- the plotting function \n",
    "- a tuple for each variable parameter:\n",
    " - maximum value (inclusive) \n",
    " - minimum value (inclusive) \n",
    " - step size between each possible value"
   ]
  },
  {
   "cell_type": "code",
   "execution_count": 267,
   "metadata": {},
   "outputs": [
    {
     "data": {
      "application/vnd.jupyter.widget-view+json": {
       "model_id": "df8b1f53e40a466db6b29e9df5a4eb88",
       "version_major": 2,
       "version_minor": 0
      },
      "text/plain": [
       "interactive(children=(FloatSlider(value=0.0, description='α', max=2.0, step=0.25), FloatSlider(value=1.0, desc…"
      ]
     },
     "metadata": {},
     "output_type": "display_data"
    }
   ],
   "source": [
    "interact(plot, α=(0, 2, 0.25), ω=(-10, 10, 0.25));"
   ]
  },
  {
   "cell_type": "markdown",
   "metadata": {},
   "source": [
    "You can now adjust the values by moving the sliders.\n",
    "\n",
    "The new values appear as the title to the plot."
   ]
  },
  {
   "cell_type": "markdown",
   "metadata": {
    "slideshow": {
     "slide_type": "slide"
    }
   },
   "source": [
    "## Animated Plots\n",
    "<a id='AnimatedPlots'></a>\n",
    "Plotting can be a very useful way to visualise what is happening in a dynamic physical system. \n",
    "\n",
    "Matplotlib can be used to create animated plots showing the change in a system over time."
   ]
  },
  {
   "cell_type": "markdown",
   "metadata": {
    "slideshow": {
     "slide_type": "slide"
    }
   },
   "source": [
    "We will use the `animation` and `rc` subpackages of matplotlib.   \n",
    "\n",
    "\n",
    "We will also use `IPython.display.HTML` to view the animated output within jupyter notebook."
   ]
  },
  {
   "cell_type": "code",
   "execution_count": 268,
   "metadata": {},
   "outputs": [],
   "source": [
    "from matplotlib import animation, rc\n",
    "from IPython.display import HTML"
   ]
  },
  {
   "cell_type": "markdown",
   "metadata": {
    "slideshow": {
     "slide_type": "slide"
    }
   },
   "source": [
    "Let's start with a simple example to learn how to build an animation.\n",
    "\n",
    "We will create an animation of a physical model. \n",
    "\n"
   ]
  },
  {
   "cell_type": "markdown",
   "metadata": {
    "slideshow": {
     "slide_type": "slide"
    }
   },
   "source": [
    "The set of steps to build an animated plot is:\n",
    "1. Create a figure window\n",
    "1. Create axes within the window\n",
    "1. Create object(s) to animate e.g. a line or point\n",
    "1. Define an animation function for the change you want to see at each timestep\n",
    "1. Use the function `animation.FuncAnimation` to create your animation and give it a name.\n",
    "1. Call the animation name to play it.\n",
    "1. (Save the animation)"
   ]
  },
  {
   "cell_type": "markdown",
   "metadata": {
    "slideshow": {
     "slide_type": "slide"
    }
   },
   "source": [
    "### Example: Animating a Line\n",
    "#### An Animated Sine Wave. \n",
    "<a id='ExampleAnimatingLine'></a>"
   ]
  },
  {
   "cell_type": "code",
   "execution_count": 269,
   "metadata": {
    "scrolled": true
   },
   "outputs": [
    {
     "data": {
      "text/html": [
       "<video width=\"432\" height=\"288\" controls autoplay loop>\n",
       "  <source type=\"video/mp4\" src=\"data:video/mp4;base64,AAAAHGZ0eXBNNFYgAAACAGlzb21pc28yYXZjMQAAAAhmcmVlAABeLW1kYXQAAAKuBgX//6rcRem9\n",
       "5tlIt5Ys2CDZI+7veDI2NCAtIGNvcmUgMTUyIHIyODU0IGU5YTU5MDMgLSBILjI2NC9NUEVHLTQg\n",
       "QVZDIGNvZGVjIC0gQ29weWxlZnQgMjAwMy0yMDE3IC0gaHR0cDovL3d3dy52aWRlb2xhbi5vcmcv\n",
       "eDI2NC5odG1sIC0gb3B0aW9uczogY2FiYWM9MSByZWY9MyBkZWJsb2NrPTE6MDowIGFuYWx5c2U9\n",
       "MHgzOjB4MTEzIG1lPWhleCBzdWJtZT03IHBzeT0xIHBzeV9yZD0xLjAwOjAuMDAgbWl4ZWRfcmVm\n",
       "PTEgbWVfcmFuZ2U9MTYgY2hyb21hX21lPTEgdHJlbGxpcz0xIDh4OGRjdD0xIGNxbT0wIGRlYWR6\n",
       "b25lPTIxLDExIGZhc3RfcHNraXA9MSBjaHJvbWFfcXBfb2Zmc2V0PS0yIHRocmVhZHM9NiBsb29r\n",
       "YWhlYWRfdGhyZWFkcz0xIHNsaWNlZF90aHJlYWRzPTAgbnI9MCBkZWNpbWF0ZT0xIGludGVybGFj\n",
       "ZWQ9MCBibHVyYXlfY29tcGF0PTAgY29uc3RyYWluZWRfaW50cmE9MCBiZnJhbWVzPTMgYl9weXJh\n",
       "bWlkPTIgYl9hZGFwdD0xIGJfYmlhcz0wIGRpcmVjdD0xIHdlaWdodGI9MSBvcGVuX2dvcD0wIHdl\n",
       "aWdodHA9MiBrZXlpbnQ9MjUwIGtleWludF9taW49MjUgc2NlbmVjdXQ9NDAgaW50cmFfcmVmcmVz\n",
       "aD0wIHJjX2xvb2thaGVhZD00MCByYz1jcmYgbWJ0cmVlPTEgY3JmPTIzLjAgcWNvbXA9MC42MCBx\n",
       "cG1pbj0wIHFwbWF4PTY5IHFwc3RlcD00IGlwX3JhdGlvPTEuNDAgYXE9MToxLjAwAIAAABL7ZYiE\n",
       "AC///vau/MsrRwuVLh1Ze7NR8uhJcv2IMH1oAAADAADVayF8oYJVUBjgvNA9NyX0pOD8+0aEKaS/\n",
       "W+kRxFrWNzf+eSO4TQp9X9rSQjTItyhp18FcAAFYwPSb9MNj7345mZM2SCpqc/4dq8TkXuq00M8Q\n",
       "OvVEaAcaB8dFKy0nxv6lS/KsJVTGkw7kt4VpUBgOXNkT5vbbHpQLGFTaisacVyNWLNCImwHFb8yP\n",
       "CePMeSBVDHNL2XEMBl5TMwvoCjHau9D7RwBgcKfh2rz+BOgXuunyP8n78SBHX2YS9/lTVsUPVMzG\n",
       "LNxfvZecE5fhiqSuvtFQDPgaVLXZbeoO85oh4ZAnrx8itOqWDDaRmiI0BFP8Sq6+LZ0CjvnoE7/S\n",
       "DZjm5DXL3c1fWFQQWXF3enmOeIfPtNwAABGHNGPtgy+Op+pATlL/x7pbX3TbzLm5jX7zDnXsPT9C\n",
       "Ezy0T5J9vl0L81Nz1wcjuuAAANlC66FoXlsClhtzbcUtq8DImZZbTpnxmjoJ8+OVhb6V5OJGLw6o\n",
       "rtUXNVslFxPb4pLFAN1T6/3VSVgg4rExc6fp7b6ZA/rwh1zncBQeC+BPwWWGZWjKT520x8pMfUSi\n",
       "OUU1dOEPrsefWBB62d02HffLPASIU3KYcuVLGP9/AlkV+d7HQI7tH+Tup1aGArUFHb5qLfzKLsTF\n",
       "UjahiNVIMErlGfCKhNztvSsYyHNO6c+Fqdz7Y/ot9ghWeMksuj+9qGEzxIvovPXKBqMbEsombUwn\n",
       "kc4DqbrkZbK4gLDWjgeBTQbIw5Z9JvAruoDMmK7M1bWCfpt5u87a9zBSuVyOzaW29hxzgHP5B7ls\n",
       "KId2xuTTuSaHMHvZHLpi3JabgWaS+NN7a3+89ky0MUK3lq1uyRSl29LYCD/QviFKh7D1wfeYoxEJ\n",
       "tv5juWmZJyVamy1Y3L44+Jdg4MDrv0Hc4y1TtkGFlTJFWyd2DYONbmXqfp7TjjYc126bHXun2vDr\n",
       "LuP3nGLzQ+3fSlX5QZBMBBNxqmeFR9pfPzdv6tGFr4ZRf9PTnyTOcDUKQO9KekOzdHruh7DGhG8A\n",
       "2QPkDDuPscywFNfAFaepkeYPl42ARmpqOukvK4wcXWbJ1P8PspfN326rpK/kWPGQloStsMm5t8mq\n",
       "oUv4M1LSABlfoclQ1iZFwVf8HVqKPUkRI+e1v8KnhnA0ivFqqk1OUutb2bGvKcETlEEb7PfOZGsy\n",
       "gSyOfl2rruFIeBzmrFj8XIuofWycOAKQz0xqFLVt/RPfJpgwKKwGh0t07XPZpsDQt7srRKXdKvAu\n",
       "uQuzLXcGzTWRmPoxarrP418Lz9QvO2kz9GutMP0vKNnUo2IECMRQeqfTl2Dp4zYyF2qK9vUwhw/+\n",
       "mFZkgEIatWa9ZyHozf+z5YRc+RDu7dz7Hb2DMzd1NyR1II9Yz46bODpVaOL/qW514gJ7kpoHQUkT\n",
       "Iw5xdJs9gLQpqNhENWPeldqaznFXPvV/yVQGzOl98gGaM6SpsB3Oww3b3mUEsLREn7cDE6zqGg4a\n",
       "dluZj52Z0py+bdZWBc/3zVcuAfeVfDPFT17joDXPDePe4BLqW62OhGZh0PYgYAJs7QRPdUOkfDgf\n",
       "FnpYDJR4MFsX9B4B2tZ7u9pNOYO578j7L+xGnUXrjNmmkdql6FQFYPhpYmcu/iRrz1vhKudIRF8s\n",
       "kBhjW48DI74gVwJfCRv+1piKe2RLWxcUcp3Z+wG1nZCpz+o77JED4/w5YN6KC8tYnk8JkHOwzsy0\n",
       "GiNaWPR7LHUzIZwlwZDsH2v9ZoMkHy9PXwPCz91y5AxLDwRkVhsJRNTMsK+segyW9pYnVxPyYpiv\n",
       "rxTul0gegIBot8S35piaICJSKydEayA6Jfl5LN1nf/zTeL04ozqrGsN2Hbo2FGgbkRWY9FfpPxn2\n",
       "rOZH329qDANcvGD69lVnsDtIc8888DiMtRsNnQzynKWMrAndLq7KgbvXKkV5oVBsVPuqCiF0hbCz\n",
       "qGjN6kXo3pvlYE9uyhbQhfqGo+kPb9lNDYG5EvMC0oNCX/UUO+ZuWARHMakWFFnLwpeBVQIs0h69\n",
       "SJ1jOCcsbgF4CWhpiPRowBkLrFJ6JC7g5oNwKydbYma0x5x+A39PHG7xcwDYXxxSEiGqZgr1UT93\n",
       "kNhr601VNriuR1hvOQ2K89TZW7PUTSsK5AmDXkcnfhMyS+gvENFetvvw/SgFL6b0G8mLqnbtYIC5\n",
       "5xopNXyA326XOM83IBBxco4thil0VQJTTE3dYjZDJ4zx3NDcTy1Ft2y+t+5sRFh1I2wk4+uRNVt4\n",
       "fmE2R32+0r2dcrsut8bq//BZO19WGVaH/YHm9dH7vYui7wu6v3hHHV9UpZmN9TbH68oYEMa9Yr9/\n",
       "DvwM0R3EzCLAMUzLXqfQgRwqg2ILi42N+yClUFq4knFCxl+2lzWGAZWJRQNTMz7+nTlENYhpMjYu\n",
       "g0Cu/lG8eJbSvIVAMbE0p9tb1vvNZx5r8laPwp+PHpEuOhBmToSbFZE/Aw87tHP1MWuGDGpVujkG\n",
       "SQ9oeu5Iakifn308/Li6CCsXIbKGbokCQ4bb3E9crVdn/dqQqKreaNo2fXXqvsWLHnbC3mAVKtd7\n",
       "AtluCNCKYN1rvjM/dzYd9HRFBRnUIysxVs3wU2qwUcQ3HFwOXvXB/HLpAJMFWuib7AiSunBC0/1S\n",
       "oHBjNJLHFbMv+aeaTlHXrVjGITgIsJ3Y12EW8z5DWo8PmdxXrkOKLEM0i/8zLtq4Lkq+hVDL7B8w\n",
       "pNSjcemqoOHnHb+BZ8MCPsqAPceEUOC5XdzxDvcOqEfmT1n7slUuphwWTyl605Nux3zj8PN8+AlY\n",
       "kk/yrbFDbL7OVbXPjKqOpq38bcrQ1XiCShw+Ofzv2U/FCa/TVYqrk5cEUeaWoE3FMSIzJRk54OG6\n",
       "D70SMXxVe8uFzUj2odZ+58If5MbEwyL2pLOn8zuDsZIrmGYbmsa36ztvR6/u0t66ejXDWi9p/2rD\n",
       "vFGUc/XOWQsty3ACpaFtv/OgAsQoxPdubdHTArv+IiDgjKV+1JlziWLdrQfGJsb7wv2qhZcCGP7W\n",
       "jdQRzFMv6Z6EsL0+RlUQRegu7ctrQ+LLByVA6NM8SLtWV4nRuXtcWdCFEf7tzkRp1zgxnKo8R60W\n",
       "OcyLlhA/c/BwASzwaZfJ8AX5703I9ntuCIRyXMFgGXXvF8aW2EPThfGX2MpHlnhqBvNpyXMV0ut5\n",
       "vAjO2AkTbS8U6NfyyrNTEhVo0WVJOHDvayIWoNVrhEuje7l5/HHBYhtPV79FQN7FhGI4RWebJZ/g\n",
       "YS3NFXIA175XPSGd0+a6+qKVLsrdhCamPrn+vhuN1gpCasMLuQYqv7yTv2pam6jd/0/hGt9GG4VU\n",
       "bQlLH7TxZT/tyjCbxh9DMPqBroW1v9LQGkF5C9pYx11hj+84Bqx4eURspAebKRU7l+Jbxl81+mTe\n",
       "paC8pkG3Olq88Xa4KAjYej5x+uKZpDfKSD/R26lR9vdUz1VpjoZ0U+qd+SwBvQtpL7yuHMf552a2\n",
       "pLQWyjF8KKGr0A68WLrfT8eKCIvs/ULsqe4v+Ofwf4PXV30uPdbNxPtbGElAYEUnC3Iv6I0NpP6o\n",
       "FHbE4rVWt8fCgXX2XOcHmTHv3SRk0BwiS0j5GYq11mvONgAM4Y/pZkRq5xwDjh98tlztfMDUAU5a\n",
       "c5H4IY4ozkC6a5yoPCpz9q6gF5pFpSij7EcZ1SZuecGnVxcCPUP+80JN2axgEpwRhDOLyTMcD9bR\n",
       "/enW0a48A45l0m/cSr83NTvnSN0H2HjZ+QtlpUqHzkFj55fXIBSg2fvT9HUyNmnEk3MXxdet30Cu\n",
       "vu8d8L/Nmyl6QqI2l/z4z7XJAiBLGzPhgK1TGV/plhq8snfwHfX/3yAJFAAqbAfKJ+mgrrlqmWJL\n",
       "LtjD0g1/4OSfvVGYj4aASAMXJsSnx4A2xsxMBG65t5zMyFv6nzLNF18vCVzocTyQJXGj27v2iB3+\n",
       "O4H86L4/hswJgT1abAgRBBH6bvHn69Bv+oFfeHPSVMGCvCT/HoTnTeXHnhNOT6/ifrreotMraMFj\n",
       "EdY89EXoGVvrA4eoXHljz9rvFKgP5xH+TrdNuJ5yjGwgioSneN/k13VPO7FbxDc8Jh/NjFnXe6x/\n",
       "1lKiBlRuxhMVKGdGgUE0B7/HXUtVHdbQXwBS8R16dKcChXrk6s3wAsWtuxEQgkeWypax3qCqXL1F\n",
       "vLbTFzoQIG87qStCoVnGQYGa3xaK6wk7h4bxLM/nHmoNCwPtt+gAANS4WTnTOlQ6Ub5/h/Umy1SD\n",
       "FmAQlL5cG4xvwGnANtmRZCj7zEat/5l+Z4aOKX6+JquJPumX5DhvoqS5/cFQjfTDkX1bZJVaSu8K\n",
       "RPis4Byjr2ThVxEoD8r740NAR8YMTriHJ8RznDPJL8h8+HCwfRMwXSHMoNje9I2xRkSD+4f+iNtZ\n",
       "KXegTJ7gvkcF3HSSSUlF/CfkPnfW7+omQk//417lR91LBEJBzOZvYsE6gjZIWk2EdxxDrmlr4nHO\n",
       "NCG3+LPoVXtA8hftM6qY4nmLlqnOPPS+EyOKNSnp9g9z/tm65sVeDk+waykPmvPjP2kEjs7rIILd\n",
       "Y/+lBxdOGRnc1WZ6+cP0rdcFXzZLcIBntTaw48zGPW84qFYwFwsu4VBj6WNUKZGn/hE8cfsrrzFw\n",
       "RE+L8HuwfXo5j1vy6Lza/8Xu8oowe2iVlnPt2bpbcfkKPgNzgbdGUZjhaDeduT1Hqp1nt5bZricR\n",
       "C7Enz2WkRLF+fjSRzYEC7bJuOyGk4H6akPB0dJSjcz7p1U16cFgL1FX7dVFFGH/ecanjfmbT6WX3\n",
       "7GO+ATEg2OhswyMn1vLSFDyx1veT2G7u6JezLN4+E+5GiBvJGoFVXITIVRnnGdCv5K4r9lCay/A2\n",
       "t/akAY+YSWO02od5z2roPAdYKiGM9bt5Fq34/IVo/rCKYPkP9hjaARHMfgzubhlqSJjPbfTo5Ayv\n",
       "JCML5n9KYRe1x+KAoGpv3HmEft6PvM9uc9cW0ix99MBdCoYLce8Y/yEuhFtpSMohBmR9nThLAYVk\n",
       "7b3m27GcGpcYWqsxo7W1q1QNKLSgFk5TeLamn3JGY/vcKBr9n+GaBCptXnfDfFM8ZZwrQt17HLAk\n",
       "F0PbAQURR+in33BsSlKbL6PItN3jtAj094aa6jHKI11k8i8Eia8BXqGHORWk8Vnd5A5S1LzEsGXl\n",
       "vuEDlJJbykx4nBruddIz+o5sVPJ29BrdmIyBJ8PZXtSseMyMzK0f4IpC5AZzBChEq61dRKRXcJp9\n",
       "i+cSgkrApbAfMbBhpueg8ZcyGiwIerIb6gPOuGUTV96RZbZLd+n6PfRE2HIEJQB6bN+K95p74+5c\n",
       "BvyKIcAd110F01H+Ka0NilKUcnvt+iLkgt3bumQHE/6lWV8Wdzl81rpXP7aRO5tqI1UATjDlJLN5\n",
       "gkNjKiV0HOqg8G+fCSgw/YsL9u57o3klIJrKUwxz1h43nv3UCD0OY8SROzYdHRpLm7gGM8brE1zl\n",
       "S2GSzKWXtb30klJ/CkQlmVhVk4grtXUAilZKeoKHW+KAVwuWfzLs1P5KGZdkbvSkX4N591ZhdRz8\n",
       "r8D+41FNPnnSvMRXknM/GM/0ba/4Jpb7QfV4AcEepP3U0PgaZUdLZMzvXIJI+cUPnawZsw0//WKi\n",
       "mln29Nqot+89OZ7kQzleDs5d85XhGbl+Ep1FkynXZ7+yBg55/3p83L65EmVqPJFeP10ZGUM9LGvv\n",
       "jO5dgMc2paVOtfT8dzVQ8jKJJLmUv0SGL5pn8uC6r8nDdm/cUsxsTc/6B96Ng8r4iQLfIz9RlT7R\n",
       "vb9dZiYniSq07V5zkAMzYkZWiG1SnNP4muvSZYRqZuC90rKpv2d3KQ5mrp2gvoFcCWMJUK5g1rMw\n",
       "AEOij5Xi/DhbgskpRJztU6fpVVjQ1+qlEO97xoRS9YkHGkWwKCHaaE4hDzph3vUg9puaaFdd0zOW\n",
       "j9fi8dsjmkuHZjxJrvFBlvIIhBXDHOtlwaZujOipMaVQU8lhhE6G5XlL4Ahq1TQZZ8RJr59/3QUt\n",
       "s0HxyBJCe4ETUmTAlnimHqp9QPPcjY4KhIDHs+mcjcKJ2JSdihh2hM2IUIAuxogn7SBj0c00Tys3\n",
       "Z3gcXjJh4Ht//GPrR3HKoE+5KzvOk3CMe+D9Yu0+Xe0uLtGk5WuaAeExtBbFPFHPMp3mGc3OfIRD\n",
       "0+Sl0m0xUcBfKdoATIXDgl8XgfBqRa+zt+9jmX62BgzuRz0ZU/9VxCoJU0e0yC1ZUDFFuTPAOLLP\n",
       "SLn9KFamxeKKcoDjJ0/2DgOZ4sWRWoGST0DfvMOJoW1qZc8lzs4E48W9BN51xC7Nu6uStUG+rAXj\n",
       "cjA4oDuJRwtUPDe31IJ8M0bZ8FNMhRyMEl6K6J8Ite4QRZesiqkxliHvXnezsD9S/iXEguQfNqpH\n",
       "/elDyL718S6zDV4JEoAza2XZIRgC4xnefiWdS0x9K5wPIYdMX47SaOx3/Rk2urL56y2O/12AAAMK\n",
       "Pg4MFbxRX/vUjsEAAAGHQZojbEL//oywA3lbkALVn2SM41ftpb1akY3rfJtPI37WZnq2wnjAGoV0\n",
       "QAFZJdZxCu/p/pibMH2ngH3gJfSToyUq4CNJ5TPeB7F4B2NhCu4kGh3i1hf4I8g33oOYu9BXobJp\n",
       "eJv5SqX+hHgYTZKiHp7u7plTguiJJNu/tWkZVT8DBQtho76yyfnr3kWM3Lwkm6X9F8MjyZMCftS7\n",
       "ACUQ+fPco6up3Ah5/JrBEIfq42MtbgaXQpJF82RwK93X0wEWsV4rEq47+jUJYNydix5SG/r00LMB\n",
       "IhabpILU6rFxaoT0aQB93rZ7gt4js9oScZrUOM7/2plVSK62+7u3Uo97ERkjUxacr4lg24YSpP22\n",
       "5HDjqRCxq4er3aaXd7g9KJu60Vno5oo7zNAVKUm8lkSST5cUxwc3IdjeSWGPwMx/A51O9gau9b0M\n",
       "8mWlWu4PD5ziqKTU3lfdGiyPtheIqJV4DRYXa5EWoetD32bBr//CCV4pZ9jl7zn9KMWf8CmSCNR3\n",
       "gD2B9hkBJwAAAKBBnkF4hH8AR2Dv1N5/xHFzD0BzGCnKaEyRw9oIDJfTaR44xyuilvcRn3KOdoV1\n",
       "gWKjT8y0VWWLUcfACc/D5hwvsJMVTOJsgSJytCI3n31rr2OejXHJXonDCddJYevIVIGSqczTbOJJ\n",
       "TpoOs9qC4cSYfhf+N4zCNlO1drywy1dTj4qgykFvIwmf3PmVJf/S1zKjj9Dj5I/rsew8tjPUq8CB\n",
       "AAAAkwGeYmpH/wBpn+3AaDJGL4do1+QwPOiPNIekSu5sOidhRQpFySVfmVQoIqqcxVBGbAR7EOoV\n",
       "zLSoaKeQL9DsfXvIoKhwxYkYQR4NlP8Cwb0VUPjZRBIBEflIzj9SYjIjlZg2PQqySgCljaVeRvV5\n",
       "ZLZFBZhSK+3pTHlGMZO2Bh4JMXAcGBiUhhvZH6V/sdhIXP0FJAAAAXRBmmdJqEFomUwIX//+jLAA\n",
       "3j26IBNKKeqgwBKW7nRczYbsACQwbFhvkFIUQomW+MJi5On+ULdrlc+p61NgxEsZqOVirOxnNkRK\n",
       "qHBmSiTK9w5ba1TjRmqz6MqB4ZfFtCG2rjagIqE4SJ01FawL3h6NJPOyo4XZgFTatC7Gy3vXSukg\n",
       "SA3Uh4G4ycNvsBITTdJ3nF4jSBQc657j1UuX5jBDf0ztGCUa7IeSomc5gyrMz/is9FJ+6p+SacsK\n",
       "BYG2nPAut1pX/heHdH3E4DKYxJN3l5jbXE5n6Yp9oKDslRRVyFD7AsAos9iBsM1pfb3WWWcGoJgc\n",
       "ab4/fZ6OhjXVZlfbLUR2BZRTLcV/b00w2XDSUvVttAGUFuB5dTNLGQCP3czS8taO0r9fcxry1h5a\n",
       "qrdM8/W+pxe0gejt+15/m9K3FVSOjer93MIIMYmWoW0JN92RRJVyV/0IIwVsmkumotyMlvgDxg+n\n",
       "pn1z/IfoBFFg/tJdMtEAAACvQZ6FRREsI/8AQVcb4ebdoi5jIoSxPBpGeqNBJjMA+jSpeLbexhI1\n",
       "jeCTB5tAndMJWYFKQ7R2kykJLihzAjWFa3pqsMNhYOZ+LOn24l3FQt3Modo2HhaXcYbYi7zypmlp\n",
       "CnZPzhUgjSKGnTjMCwPde/Ku4kXjOy9R16WexMnUOF8yjh2SBic+PKzoJAL9JH95x5SzA6XzbIbn\n",
       "xuptEA4dYh8tggRjeBXSX7zBlP2O2wAAAGkBnqR0R/8AaY14VjL58pFFAPhvVpr40gULXU9SO5OW\n",
       "NcX2NnVAgNvcTAlrKcEysp81VWmWIpY4ATejJTKrOLgbMRBRdhXH3Pk7HV542LBF2+048Nv3SUTY\n",
       "68htYTcvVC+6xgsV7nOFjUEAAAB9AZ6makf/AGlx+iVTscdBSxFk1oSpQjqAA0F4mBB0IVXPJIkF\n",
       "60Y/Dj2HDmGrWoIT6HlYUylzADNuwYWQLDBLRzZt0uMvU0BRPyknZQAfhOI8PAwsi6yh+ZVlGrSp\n",
       "7ma6dvqd9X1rLNjZIvWbX9fcDrF9KioIf2HUKZ0roacAAAE8QZqqSahBbJlMCF///oywANBwnPc5\n",
       "lsu1lH2qG6KaXgRKb6bqA07YygmoEIQpsIGRNHzg3i0cYjK+cUSXB7PmtnRHb9yrAX7BrLPrWuW3\n",
       "5Cb26X7xZZff/TPR4IiaxLDIO9tu2Ko2zk28pNnHsqLjSsCAWnfxmh8jioa54k505FW1mXPFWcwa\n",
       "PHFygjMi1fDbDdGxVwYwzpA6Hx/myH6UYp1ADm+FwjmrDL6KROjizfK9H+OMiCj1AlOKCX6CAMf5\n",
       "/3Y9MIt7UeJWdCRqiaunrkQGS5/UffO0YnXAcOG9oMuYH1GLWfhAhmjwxFj81SlCzJcjq0Lm1JdT\n",
       "2u1qI3ohBib7WcM/5HdR5a8ID3Y5raQYCD1nznFt59GPU1ZOZZBZ7II+wDkOtGaRToXKYi5P7d+4\n",
       "C8ieyT8cilSsYAAAAJZBnshFFSwj/wBBVxvj/kgcbayPrcHLfMY7emAnCxLmvFONF2NWg3BXK4zd\n",
       "9UGAJZPY/pqiLDm548AKj3OhoywAy+wSyAjDuh8r5vfj+RdmDM2GfbO52olBpuXoHugGyU4pFAS9\n",
       "z1NV07Z19Y36I8x6K5heZNyNNEykq7vIYtw+rC1IIkYOlPf4VeuOV3UQ9EacCJfcywQAAACPAZ7p\n",
       "akf/AGl5DHf9eJR6H1I0zs8fTgSn3Xzb/rDn2wfBZi0PQ3OyD/KVYPc6ZtXyBTlrdm/TpFv/eWuX\n",
       "Gw72DVUoN92ZSEhpafX8yawAfhDt4hsgYT5hXjLRmpY44kBD2zJ9b01JCSHu8tQia0bFs4rG2yNf\n",
       "b5NBInUCvIUQk1GB2H8I2d3802fdpwSp5GEAAAEaQZrtSahBbJlMCGf//p4QAMjawAP8yoApCeRp\n",
       "gl5obktpG6m/WygAh9QLHEFdVI+jTzTOHT9I7c1bwPfk0YvQW7hKwynCEDziMOBJX5Sbv8RxCo3K\n",
       "rjQctaZ4MhQUjzKf37e2PfENImUD4lv25+ASRku6useJLnB2hvO34zLwjioQItbOQP/u/ztCQhHF\n",
       "KGWGaiXhTt5EfBbzrVwx4JgYWxSEqH8amnAwbL7iX8gly7RqEJyJSRp0C3SRX9jMwXPKKvWdDtKs\n",
       "2hSJ33hlGBblXkQ4nFSmkbEY7sowcdBfUkWtiVQnMEnv5uQCOz+6MijeWTiPDrqmozB0xz5MfA0z\n",
       "4EkMVB3ZuMEn+8yRllj10q+8f3y3xM9e7BiAAAAAnUGfC0UVLCP/AD94mVKl5xALm4lU6cI+Dvrr\n",
       "K3kPJWVVbh/fSA3rpqNMpPpUFQZb15zSjOEAuV3az2FUy1N/+QOJqQ1D5tM1jxd8iKmpAC2kl7wl\n",
       "vqpBJInaZzcjBcFnM9K4zgRByf/mf09fvjj3RhX/C2doZGhkWrZWGGtfQmwj1ff6QP9XGGIdyJ6t\n",
       "/zkzRyZRCxKjHUAHlC5j+SEAAAB/AZ8sakf/AGbx+QdKWkqNB1a/pMZS+rYfZy0N/xtpV9H3DeSK\n",
       "Du/LaWs4HNAISSyXapRd585xsUYXGG/lbCoprX2j4euP7KTiYxUNtR4Py0nZ6YlczPniR4hU9tsF\n",
       "LFhLmZykbmyIa1XAeCWOKAMfdto6JprlDetV3V0YOvD1vQAAAU5BmzFJqEFsmUwIX//+jLAAyiyO\n",
       "nhTaAC9ELMORiXbpZP0ZZL/Pe/c6/g8cDYDTCNZHoH9EcDGLiuOwBKXpScQxNc1xien7CBE7kOlq\n",
       "Lcr7RmCRm/TEaYaicganqVXxnzlCF2ykmueBqZGryrtUd/iKKh6B74yUTkfX1BoKBCPbY3VnSQSx\n",
       "cC/NOhlhvuGedZLU8r/NAoTca5/+fLojhKJxuTsiEmfg+V7pxeqKhJjSlRgSqJZDk3DIQeC1u6fa\n",
       "uUB3CSO0H+7tQqYeQjDzuY3oUPJ1hAAA4e89LuEDJ/2wHiaDriyaoV5MDlVLcP6BwAghHHOwEr3L\n",
       "FCa4KDMjByOP3UJY9lpvHeda+w9nwLiW5v4F9sOZic6JQBDyh9FVe6Gjw9WjB2t8Uxpcks6bubrw\n",
       "A7P5nTNblZVXYkeAt+PyuA2YnwZ0q8vw/cuAvnLBAAAAnEGfT0UVLCP/AD+N0EELSWjac8/f2HoJ\n",
       "r1CNoPlP3zKd9aRadkX92jtIJL0gYGONnF6j8rzvR08BxRieg9A6TnzLbxUDoFRVAfuAcM64vGhO\n",
       "hoNk5UAUZob6ADpxd2ZQKz/cqu12QvqMr+5fjR6zJf3rMWke7AAcTAAAAwAF7QxubiaO9vliZRDs\n",
       "1iebbmGVA3NHbGfWLuuCbtNabQAAAGMBn250R/8AZw14VjMGK7efdQCcu4DSuYuNUgy4pWgwfXkJ\n",
       "pi3LPqPy+IpmSrGVM2RsBM24v/e5bAPaFGmrQpoD+c/qJy4EonUKx0EI99RRfaXE80thJ0/oYmkh\n",
       "6AtK/GyBl9AAAABnAZ9wakf/AGbx+tI8zqd3PQ0lGqO2/PC3sn3dENRpjTxyNn8Jl8/BfH8y5yW0\n",
       "pbfjo6oidljWSp/wlWOcIkpKlH7kWqllMcdpSIhi3zaiGSQei+zKDrNVlwGfMDGoDkRRfL2L3iWh\n",
       "KgAAAThBm3RJqEFsmUwIZ//+nhAAyfCc6z/8eZu8WexgDFt4ua/jS9AEmZYTYgt52imvMndIxe4A\n",
       "iwpbHi5oWRthWDLtmzrjLEsWNzPuDkpe6hLjZGN1Fpjt4XS/Rjd84pT6XCx4ZhluJXEzCEJEPXV9\n",
       "FVLedH2bo6esgSxTfb8/hn+5ZbxG/i3ky/pRr2bgmPWpAg+Da8x2KS9aplQ7SyXAD9yrqzI6z3c8\n",
       "LvkTD58Ujce0Mfsxv5sLLDPbfdID7xeqSL5rhMMlAi0OPauFzIgnQ/KOdcjTpRLVrZljCfa+Wc3R\n",
       "9Rvtxv72d0NQemXLfDP/U1pGpVKbnNDY7zSRufRzO2iiWOh9cgcUmfFR0jmaLLNq1Joqkm3+etfU\n",
       "m2lB5BQ3RTmzGXrCR0zkRXl/m+cQwQKkOxlp+Z5pG8EAAAB7QZ+SRRUsI/8AP46KXUfX3bZlN1V/\n",
       "HBav/SRS6Z5HIHK4VYL9vXVoCgFfpiJ7LFYZSGa3iPQnnuVLbY10q9Yjr9h7ysmqJuQoN0CT+akE\n",
       "liAFAHX+6X37O2tnyXGnIeBrivAS1Yr+0JFOJlRNIqySGqUn6BiP0GRqqPqEAAAAiQGfs2pH/wBm\n",
       "/ZAXgsO/N6BS0GX+CnBlpti42fNkCeepmUqOv7WhFDhgAwNdRj5Fo+YS6oZh5Mhfyv+XtGCccnqj\n",
       "SnOwBomM57lIKJCzUDnprlZmPNh5X1RDThPrtxRdsGV6UJ99JNUG9+NN7fbAAfh4k7+7s01pa0DI\n",
       "IfxBbEq65YR+0mMhhQSUAAABcEGbuEmoQWyZTAhn//6eEADDz6HVzo/A+AOM0zHrufscSCZQxkAJ\n",
       "tYGIBxT4uBi9W21f7md10JSa6SNZ4FU3bK8KK3l7OdN067eCEoccLGs+mrQmHcfnRn6JRe/6EAAE\n",
       "QRfTdA9it/9D/sMt0J562SL6uWE/+90Z9bg9/OJG2VXcUNZGUtgIz0MpQKeuRIV5/zgHNCAP7cGF\n",
       "UbdR/oAb2Qsr0zDe7nV8rO9414gPkJv9Vxr/0d36LvsPk/vkfyWWZods9yxurIrdI/U1yCwezxRy\n",
       "HJZc2hyW/g416tqr3s2rXEchbeYz8iiNc39cu/uKRUgv/WZAa7FFdtoYMmgxZSbDZi5AQpGFPvXG\n",
       "vDHQvYK2885uguFTeMBp0mooTOr4gNEKrsccUy6O5qPQ9vPg7ZDsWxAp03mzfKwQzx0qOTH6JtHq\n",
       "LFPWwulr7u4w2d20kgykIomrYWZvLJnc3N+oZJ/eZKHBAYl6y8t/anvtFj5hAAAAukGf1kUVLCP/\n",
       "AD4YtXvO20ajEvOaFNOzbHcl+VJ8KSgwANRMZxenLUxGRnRrM1ejPclsTrqb7SrpW87DAj0c52qB\n",
       "TulyeUSOSrfT9/KttrZwnowfIW2o+521Arh6Vhjy8a61Ws1XzFxmuWPPrdzfXOPV6kEbE3dwBqU9\n",
       "bBsbNCIrXNwqMU+8woMtxfyyQiv4Xr00f5PXQQM+u5iylbVNBfOg7FSEDyuf9VMv7NexM4LSm8En\n",
       "m6Q01gWy0AAAAHEBn/V0R/8AZGlzxHds77Uagb8l6vszDRZCMlRiNi70Q7HmeVslKMVV1wBuNXpw\n",
       "KmZ0Wut6Hq5r1yy94OUMCBub7jVYNxiWqHFEKM0olOIoekhPwcANbbi4HXMYKsT1Pf1EQgej07KS\n",
       "gGPIvyNlRk+nbQAAAGgBn/dqR/8AZLpOnp5zu3LRz/QhQ3Muf41TaX8IJkfmOHsJR8E4N4t7eGfb\n",
       "Umz334loyPgBVhvQ++8RD0ovVPlXg9qXhAcg9MROG2jasxVolOTwsTohd8LqP8ZVYdlaKKXGJW/s\n",
       "bPM1AwAAAXtBm/xJqEFsmUwIZ//+nhAAw9rEWUq7uHBBVoAOHcWC/gBVdZJfokv0nVQQODBFqhGq\n",
       "d//SqBkPIn/GC/yZk/GLVuuc4GbFm41WRqxLTuoAAAMAFcJ5kmo/tWS02UxDZ15ciBn0lrfr7Yqf\n",
       "mDcB/Z1iVySMwRIXzOuiKNpaz+TkoNg/loZBgupQSiQI7CxDqHGfEZnYGV8fgRcn87BdfVRWgpxi\n",
       "x5aZiZWABknI8m2IvRnognN36kR3n+FLMq1WFuljKAM3ocCOdjIFezFmZdFN9894xqDEpbL+fToh\n",
       "zk+jeuB6bXZ9x8yL30sgMpcl3NaylOYrmDTHnulg7w3gaKTDlK/ahktu/gAAG0MMkCCmi2GQsFBm\n",
       "1VxNKdkXCQTlG1stxaTajAQmNOe5Qwf+03ODkmzgXstRA8flZCe1mULEhGePC9RC3LWGB90gKfLB\n",
       "fWtGaryIddJKr4KE3bCQPD4TYxC+76C6oMx7reMSk4Db3z8zGCImbEOu/IE9AAAAfkGeGkUVLCP/\n",
       "AD4YmYueuxoNheO96zoInXl7GqUPgbWRsQ4dPRiFfKKH5veL/o5WRc/RR87/PBJX5jLzQQvGvTV6\n",
       "Ls8wuwZW+qh5jR6SAwGPNLKu0TvwEdfgBUsLxh8AcZVF8pWj71qbtoc4tSRjTZSJQzVG7zVfQjta\n",
       "qof03QAAAFMBnjl0R/8AZI14VjMFq/E52Ua9Gb8AEgFt+hXD73hCZn40EFtG+GZA4pbjaScMQXn+\n",
       "hhsFm1nGrMy5C0x+6wzKy5IDcXZ64pfve33gn3lYRieSkAAAAHEBnjtqR/8AZHH6IwIkZEbaMCuG\n",
       "SFOHn4oPwsgaiHuYo1OUGaEZyKfeOmL05IRzmkTWqjQxL5AKRD1OxqyNQBfFVvyqFc41ajMG4zla\n",
       "gJxKvVPxP+2f8U1VmOmSztKnuX4hPhEpsv3jxmOXBJislfVDIQAAAZZBmiBJqEFsmUwIX//+jLAA\n",
       "xnCc/bMwpgBm1gTemHFsB6jkGUREIOnhOfm8jZwhn3CBp8eh6KYklNXerv/O3MswXQFh/YjwDYSe\n",
       "z+Cuvq6qgZ9wAAADAtsANDA3uzVYTNkzS2fyk0BQsV2n9+mTq6CrUSFsxGklak6AFC7nC0N6MSBU\n",
       "RUBxufT8x58X0IAFIN3ZqivMfVvqFmAWhk0E+EI6a08IwkZQwdeoAgi6nRf+HLf+iXxQaWzY8tBh\n",
       "NGGOz+WUQOosYCt9JdOPaWJ4nKbwfoQM2ScHJ+HuIm4R2jTVht2w5Im0zUhiAoUDi2GHVehdoIT6\n",
       "JH233e9eJlbKQoVH3HiB0ZXe0g+X73cFKq3SIYqCGikN5//s13ShElYwXYrGkBK1rN9K02XdPc3v\n",
       "JYzzgiilFyJEyNMIdFxBBWE3Z7EiwaeftdNQ5vXAowqokBPQL8Ep9a+a+bRYERJtVxL4O6qzG6vP\n",
       "wgfcmZx8gtHHKdM8OXs1G/3WX6t/r5KRVVg5QPUogYsRa82SiBrCs5ncIAdYUhnhAAAAhkGeXkUV\n",
       "LCP/AD4f+Yc9RaZX4szVJEliGx4d7DN2HeLyIzUN8E1bQCrrt5XaQ7iN7VZen4/PMzB/SWRiAkIz\n",
       "kfvFUoUHPorgHCw5iOO2WtqNN9N6q3NSn9xF6t6zwpVFbWP+/IwAs9e4eJDorKW20R6P8MEwKjSX\n",
       "oVSSzC0rCQJHx1r3RXxwAAAAUgGefXRH/wBkcCrb7sS30G8C9LMZti1jjX3BMGAvCk72dcvyV7cH\n",
       "Rgs0IBQzZM/tLY2bEOe7MGjCfXG3z8VmpDGs3/ZpElIiQVpuoaEoUUpTZowAAABoAZ5/akf/AGHx\n",
       "+QcyzTh+B/5u6CZwvmUIQUQiCXVgfB8GJ9493qhRDVh2ob/Y4bAuKkKCGatxOWszqg7UEJb44a8W\n",
       "uRXxfpGIRndw6ECcFEcFiKO4r0MRlR5gKWBI7G35uE1yL9dvE5cAAAFlQZpjSahBbJlMCGf//p4Q\n",
       "AL6u9f7B5Z7De7T0uxq3AYgCJfINplDIDziW10nqDPKDGa3sWKMZdy9dyHjWMJP2LKqOkUSLOAY0\n",
       "ARWvvC3DBil3WN1lRJakpWn9nFV/8Ldaa9KzoNKVLmFlwKv6p6OVa5JJWpWr1oQUakgPJZgg+uV/\n",
       "I6diofvjasJeOOqILqlmwMVgNZGvSMyqzVxVyv1+Wq1/uNwhtPf7d0LaDsanJXiS+72Z0BhNgNQ2\n",
       "wJ/jbVW6U3dq38MheDIQ/5eUBrwdZJgmXq89tImvDObfEXF4aFkzsMGyohEqDufFkIavJfVQApIP\n",
       "+KpGwCjf93QMo1+n1oDaBJGalAv0No7GUkjfy9PHyLJyNOsPwwTorM/zDD0F98wuSMK+9OEPxMDw\n",
       "CZZoApWpN4pMJh4t65lJa7H5krI4bwvGs3pqrGTBfGhbXzoaBRMlSCB/NwOIwLztNJO5HZ5xCa7g\n",
       "AAAAjUGegUUVLCP/ADzOil1H1++vqlicCLFzatx4Cse8hETCQY50Jyh5CTFgrVOzwoMMoGBmtBil\n",
       "nFp4dUkLqjcEUF+JopPji9aoHfB6I6eVBF1EEhPQ+kGLwYmorGeGeIBkL6NhLG8FAjfJrGNqSMoI\n",
       "ggNbgAC217iiIuMa85dyrrvDZHEPKihHTt7JUQ6CzQAAAHwBnqJqR/8AYfH5BzLNL4Tfu5n3l1im\n",
       "I9D+qHbndHVw5SvDwH4v/qDpoemQs597B9DPY9+sv8DQNFLqRQYjStVivV4lzMNeLkIcl20l2QTV\n",
       "V0eNVUs0oyYcR+QjeVxuoJx+pDe0b6LYEM4xgLf2idKsjjj/xgNiY4dy0WFkAAABr0Gap0moQWyZ\n",
       "TAhf//6MsADBcJz9sy203Ga4hWyVYEHPzdzwBx+AQMFVYAAdQ3dsp4iyVhL7Mh0DgXrQuouGDMJC\n",
       "2w2tydYtnU71SdGVret0POFimnwwgSptGl+7MOIjqp9PwMzCpUG84bFcVIgUdmhNVkc0aZNq7fP0\n",
       "cnSpYfu8s69swzs0RU/7LssbY76xpf3LIKOdxXM7OKzcPJv+nvWwpphdXFL8h5Yl7woa5VKhhdXu\n",
       "EcU/lXSyDLNPFq1jdjfEooNC1AqhwmAgPLchC+8nqckm/YQ4UsXy9f/c/0ezHxiM0VTHM78KrYml\n",
       "MlmrLTVRSx9zBnY6ZLikYcpvoXTlR6deHK0ICvPC6RNFXmrxX6lTIhEI63azAdS4dVfbsAVK/PGr\n",
       "ZEmuFpMYjDkZg3vbaZhvKL5R0Qe5OwtvA9V5mQtLHt/B/gWMqIvBatW0abyTeWX//eGwPT/1V1YA\n",
       "bgpal8WyGQ3pFfzqO53HfVWqeThBno/EKyQFNzTFs4Gl2lk3ovZR9MS+WV4ctZ0ri4CDVM/G3Rtm\n",
       "o996Hs68gRwcxNMWqQwW1yrR93zHiCWXAAAAoEGexUUVLCP/ADy4tXvrKjk2ZiSp43XibU2ncWnZ\n",
       "hWe0nwA3MOkrtjMZmPySx2glPX1iZveIO7ZckoPFvdPoGXjAo85hJr/dwsthSYzUIf35WtSwnNp4\n",
       "QZIBg7nb3OIHaAvSvtJqRQBbUwny8CxTWCKlLOwZyiHO/DbD/qKNbZfDZle8NA/idr5ASY9PQnA7\n",
       "k3PWl+vC96SKuP5VpHTeBUMAAABfAZ7kdEf/AGImGZ5oanckQqajInNDtTy8btfxHGHGdaaK9Fzv\n",
       "C/pxog3NcvIDC9YDwHQ/gNWrQZRf4jjgQR7AH/NSKTBJMqvDqisKeCPlSIU+fElEBoYTVB6Y+JYO\n",
       "jZEAAABjAZ7makf/AGH+Op1PTChwSLBRZFUTye7GEgvH1/13Nd7wNRa2VcrmJCMEZxV4gLCG8wie\n",
       "w/hpPO4++m9OwgiPFW78dg08yY7wggJu58a0JcbR/bpn9w9C4+Nalzj0B2kwz2XdAAABMEGa6kmo\n",
       "QWyZTAhn//6eEAC51vX+we4VI/JtkCEEAH+RkKg1nLAjMBkwHJSGWUyQEyUo6+3DgwW8KZNavWQ6\n",
       "s3yHsI/2kCO56LxG4Zo8aT8OeWjaY+TGUcHJhn9RbCIRTxLljOI6EQ7bGl73nHYapNE4OWMEe/KF\n",
       "5KCyR5dJcj0BrffcaMR3hnguKhorZWG5EVgAaaqaQW7++oPIsVCjINroBxmTp298al+SKjtT3w6p\n",
       "3xcHEc5xQYPpzJRnRyrzFEWgpjftsSRjZ5eDgIJ8Qz/FWNdF5pFIavDbYikobzPgvQPYiu1vSmEi\n",
       "PjKV6bhldfE2/AB2gJeaK3FQ3tYdBbKwPZkRx0ODPCX+lPMXKPEi64jvhsPyvcZRSwcvJUC5aO2E\n",
       "LYrJtcuk7OjcFOlUZsAAAAB/QZ8IRRUsI/8AO26KeV2irSY0yrwM3CWvMB6xzRBm/htOhrmwJTET\n",
       "boWoIyhA5KaCb3ryYgR6Y7SBGsA1NehUA/CRI3d0k6a3n9k+Frg+76XhQ2N46miX8FIMSCH19y3c\n",
       "Uxu4LkquGcViJlKrAQrE2eJ/RbgPsXqLvXPOFOSBVAAAAH8BnylqR/8AX5/tFQJbGMur45qjaFkb\n",
       "NxyA9/sptM4ITXS+2cnHz/IX9yVo+i+NU69+hoilH4wRxLi6gADavDty+7OSSPLn6ZjM3ACauhdd\n",
       "AZa+tZDFQHzh9hbtyM2a13CHF4OkYOTi7HzJjD/86XGke9DzBtTeo9fSQt2Cf7mBAAABhkGbLkmo\n",
       "QWyZTAhn//6eEAC596HkyAGplSXYBo9PPNvdp6BpcBn6F+zrhstTbUeihe6A5jLneFSd1Mzhe5DM\n",
       "AEXcAAqqhkWIpYql+zp3yekdj71asGusQm05EsG1TyAB6pxkYkgsNAIX1jQOna89bqoPCe2ntNTi\n",
       "d88/zVatz7NjZHoSjQrl14dUPhH9YRfHPO3rS8dyMArCbBTpWWQ0luh/cqjJ+AzUQkHEDH9NyZ74\n",
       "AXHBAHGMIzrcyRXRBcVOXzHPbB2JfCN6bOLvmiza9K8GPSgppEVW+H0gtrCUUWRAH3NjHPxVLJyL\n",
       "IJNuoEn0+PumAmHd2rnSMvu6lqzR2LHrr5QFAxyzuwph5iC4FklrNRqPNWsQvJ+WBKSExmJ4/rws\n",
       "APf1ov+Gaw0fWMef89gjesdlhrzKEvLlCrm6sxeIylezUAVtF7+mWPxw44h9Pj3R4zpPn+MFML1M\n",
       "6QN0ehmszBo+Lz7QsepLjWKBMZp/Y9mNj7+U6fiGqipZ3zTt7KGeYDjNgAAAAK1Bn0xFFSwj/wA7\n",
       "bdyZC3APDWUlBaSfNa6JeOoLgDqiexz2cbjJVbYjJJiMvWfTeaQqCEUYUnkzwAqrs/qo2MzSEK6R\n",
       "mK7kIGfU1Zt1YFmcsdI9wglbBh7cmWRq9ThQ9Jvo7B+7x9fw5ox3/eGb7HHwJmdAaLsPfvh5x/g1\n",
       "WZwXpDDs/EBo6qV47d4eCTyncQLn5BqAHcqFpgpmriLPqR78AKtdKDy9TqRQDLZJQAAAAGUBn2t0\n",
       "R/8AX414VjMGGREAJidyV+wVAJ1kSO32NlAL8uQ12rAidTJK99orvrEuGN/CYE2NOKvzPsS4pIGk\n",
       "V1IAJxewu0UYlUMGxfRUWU4UzJ3g9OCD++4BZlzLzyl6l2PlTTBTDQAAAHoBn21qR/8AX3H6JV4U\n",
       "pP277RwjUkl8kJbR0BDUNarzIoKmHsKpkKSOcDEc+LRH1vqoyuytTCVxpF5kGXxTmi/9FP0nYDwj\n",
       "nkeP/paFuowxDJiI9+TLPJpnpWQUkZd5BwU7pIjn0/sWtoWj5Yi4H+CStNCuTrOjKIITcQAAAWRB\n",
       "m3JJqEFsmUwIZ//+nhAAuvMud84hTjHtvR58BQRgEpMaRi3U1cFQKK+ilHg6BFiPv8IXbr6dyuRR\n",
       "RwT+NGk78ugUAIxxmrvFOHNHdxS8xp67I9ZLIr7NEn0hd3QYNxwoxwcnH+Wk5gsDVW2bhFu11i8g\n",
       "yXB1p6fAnecLYhDaBL1M5ISAShv+DFxMl9ApOQ4zsbAVIjRpV9ZxydcpZyxem77kJuec1s3TNDye\n",
       "e0Tc6HOoWtzzv8+wzv7Gus3cyvVsSb437Lvp3+xfL7/LtLVoeE6IprghJQo39b6KJTfSrqXLL/c1\n",
       "FfP9lnj3YjKUuwZXcqK73DY6LNg13k3EuaJhaLmkvAEzkyXmEvv4uJvjdZAvUFFlFH127/FupkIW\n",
       "WRRxuSM62MKxBayKPY2ScmO2SImcODiFUBnZiF98Ixyw8cerL51Qo5rGgMDfhRdjc2Sa4cdoxTjc\n",
       "tBN+YrjRZ0KvZlA94QAAAJpBn5BFFSwj/wA7X8Ya4v1zxjFdF4jCF5ns3960iyn0XGtbxI1I6xWi\n",
       "LZ9FZtBZR3xrQQDCoguLEmhjPAYYDmjBCCf+eO/CgAuouAvmr9J5zrb6JD8J70G1NOf0rkyu8tXG\n",
       "IjY4A6qdooWPzer035aHrmzkSh07rUmh+2d0MlmH9nqD1sIeNMN93ZzbatEblfR6Di2ixi2RtO5A\n",
       "AAAAaQGfr3RH/wBfphkgLOSasKBU6/wpC577efEdfEME/ljmszgAqA3qBBG4L304oK/4HDmkjPCy\n",
       "Yb9CJPCCGkKe/BaWaQSJmDbcTCn6djbf/nFQhrbJEa1dW3CXGZEFrT+aLQMtP9F7LLizgAAAAG0B\n",
       "n7FqR/8AXQhl/SOtJUaDr5WC0eVSAcVJiAnbOdOYfC558pRUPCYbHbrJL465d5iuAS0t6f3sqBal\n",
       "o5G7kqOqlFjnEAbQGFXNnHwsCvVtchTJznDrptHOhqk7HglAaPt8svZJLTGOxIwF9Lz9AAABt0Gb\n",
       "tkmoQWyZTAhn//6eEAC1gsQ/6AA6PkC9oQpMK/d5UoCFNbTB9bNZZ+Mtz+a0fL3q0f2n4Ur3cedI\n",
       "E/2ohxHM96Qpmq+m0p1GZOSPQSPlPU05EiD3xOvxe5AKIO6l9LwUD5EdNBj1xLwBYAsIBdT8nEAV\n",
       "Amp5Sg3QWGndOfh76SfanXBWEX3f/D2Cdfg6BLPrFcFRaChKdHZnhbvdIF3wYcpru9vPaOC21AHP\n",
       "R9G9/zWoVJPhejxVL5EOb+/HPWzKvz3RdlWCz6XQe7oI248enZM4b22vzHkLFueNnuwkzEn7SqXx\n",
       "HF8Mc4q4qiBtCiih+7Avt33mtjvqqz1pe5axx2nJdbZKoyxL46PDOWo8B8VIsRr9QqTLIPDp2zAG\n",
       "c8WP6qnu29Nk5qbnsHppY4fmbNKtuVc6h/X8M/nRQZAxwSK9lZXHzTuLaWsDfF7zaDZsjo0lsBgs\n",
       "Gfi7lRUmjDFYmKzOxJtJ9G1oAAADAASYFRRkTWZjCkD2uyvN/yBzqi1BYBSxMbgR9xIxRSrS9BUS\n",
       "ZQoH/CXjSqJR1ysMkT3aOhJ9yP0MVe4A2LArP1waiIPIR+3jC7sAAACXQZ/URRUsI/8AOfi1UxQP\n",
       "iM72AhcL5IL7Wn8yGUo2KymQ8COdgmC+Nkq15Ww2oRaGbQmaMlJi2fINmSRfEjACD4qdv7Ed0WDY\n",
       "NU3XEtwUblJdlZqcnRAOrxFzgz7Bti4EdnYrKHk4A4r2E4bwC0sfkVepnzUdTdgNCRPaH1T8VROe\n",
       "h3q4nkCVeM6mBd6c/L3cJXhSswdhoAAAAGIBn/N0R/8AXSCGpNlcK/E52IGGiDeloRhitB9BhjB8\n",
       "hF4U/9K0GJlbAxgAJ20uAxgHCTlj4AwL0Vthv4DSgePunAUZsAYffwbRTCaLlNbXO5dH1erVWwCf\n",
       "QGm9N5t5VbSg6QAAAIEBn/VqR/8AXQhmvm/JooYgqUwWrjPrC55uNX6xKSS3g5L7yRGew7opaDgx\n",
       "b3sjvOtroU1L7eIX9IAB/OxTZNIVet841Az8XzEWNn9tKhBiOLCU/D9h/9AvluNuCeCqXKlhjeou\n",
       "iSZbEh5yvOr1eSk/aJ8kZ5/Bd1sBG+ja62J5EIAAAAFuQZv6SahBbJlMCGf//p4QALZzLnWkNY86\n",
       "KU+9dtAD7wbAJYm3bVVXxi3OeHbgpBQY+yl4pWuoA4kdfxsyRD/C9uHMDrJD9fP31M/xUu6jJvFa\n",
       "WHxP0lNKcqEJELFKPlMW3rJXaeY+7NJV6BU0RvoBCIjKLPfqhj6D5Dj4JGo0M7VpaXVB+5qOpgEm\n",
       "CjH0XFJ/IKL9tnP2rce8ROpQIK/OMP1LwMfvnIhgWUuyhBYuSPKykrg43USniRBME57v+HbX4j6p\n",
       "KAicsQV61I+H7qL9J1C8A4I3uIMKcPtYuypB9Opwv/fp7XuiUnMRBJDE5Y1JdOq1ZdnWjy4Jk6Qt\n",
       "TWpeSr22awtOnvGjF8A8OtTkkNll19LS95fPG37YWWEmV83cgAIj36eH36yQwbPV/Tc21nNxJ9fQ\n",
       "pi+iOEcNS6Qad+sdjUXU0+6FfuKVS3p6jZe+sghwNbX7dqj84qzfrMJxpJ+IdgLaSwSf3WRE86vB\n",
       "AAAAgUGeGEUVLCP/ADoN0ED2sA8NL5gmQuA3J8N704iSZrLfxzOXh0J7AG6+AEtSjR5mqP3u+sEI\n",
       "QEsupDadb/X8mkwMM6TTfmJQLnCVQziJl/pZyG4K+5F0Mjc5wU+n2eXWigPvC2UC1qQ+ZPkZJ+xN\n",
       "N01VuZJW04YAZx07BvydWSz9QQAAAHcBnjd0R/8AXP9dKimBHlC6Ccoeh1bBIzvyxT0noIEQmiC4\n",
       "yQ8Jc/Lg12S+R6GWwUgou/Meh63q3IjpkQM/FpNcqh9ank8q+vDFf8O1hWQ2W5/XJElm1yINtVpi\n",
       "1rkMQgVdB5Q8FcOw7gtd5MYkQIQLcTcZGQFjZgAAAHQBnjlqR/8AXRN6nU9MKHBHijefzIvvu/ms\n",
       "iIrLuePeycUWBW6QPnKvCcRs7wBpWbzru8n96dDqixI/0NnCVL2mclo6jKdoaN07Dadi2qK7Prw5\n",
       "svDx/U/mh2fQEJzR2ba2XkZ9o/fHylALA42DpM2w2vOD+QAAAW1Bmj5JqEFsmUwIZ//+nhAAsar0\n",
       "Qmo1whl+FBAHLDHhkNYFcKXx9Ntg5/PnaebFPwauP4fZ7e+VgWWoq77ItuDv/P7i/GqjiD9H+oRx\n",
       "SOkZetvLN05I9QbCuY1b08xbuZ8DUQhbnAaKN/JQP72G/XxlhSUP52u3SQSnadqCAcsiGt+kP6aq\n",
       "67bhfuZt32fqCYdoFNLkdeZUT+T/txybztigYYTgxPqsyHJINXFn4pupi3yWPblVuhzpkBX3Sflq\n",
       "0KsPO9eMG6isRj5S0Nqv/KtfHo1SwyYPWSonKVVVju27Pw5x+pHqZfQVnyCJ1Hz3CyyRg07yhcIV\n",
       "Wjw92wPJrAIqUP744ihtY2cxcRpFxDP2H/y+u4/xiW3mMKNMujwo4oYUUosyOHLlQjU5n5QzclvL\n",
       "g1JEbZ63OqfHioc2nLLETUMV+cEMECceg37ErosgcyRhO3twqsLDSTo8t8Hg/ZpW4s+kcCptRJ6I\n",
       "jlP6wAAAAJxBnlxFFSwj/wA4tkOd3sJbrjK60D1ZbJdGNIuWha4PV2HAmQGEokCs8e+TT706G/UA\n",
       "ATh0rgkdfE79WlkchVmeQxRIPMTOaq3yNnnUkDcYzhEn0okCWjoDKolMIzoKLsLZolZhoCrqer7c\n",
       "myVAg+HD2bWfikNUirCe1eR+m1V0xlFOoTQt9fOTWgWCl786JzFe27JYtb0oVUypE30AAAB4AZ57\n",
       "dEf/AFq/XNx1R/c6heDKnOJfMPR8jWSRiL3rYa9mHuwAJnImZsdhHcGZEtZoV63RdNNvDJAMH0iV\n",
       "rejjJBEiLqq0hK/OAIj3nSdawtaVk31j9ij5nUacDUBI1GTKKQaE9TF1LxbsDQoDILdpVLZgMmjx\n",
       "QX1LAAAAcgGefWpH/wBayOmC/2XGMBhXYODRFH8LIkKQ79lRv+TIN3EhbsbhQEk8BLrfY2KBRLUc\n",
       "p9K7XvskIkS0RILO+/lFOVIe2yNQQx8GWW0aFNfARaY/4HOAsc4K+CoTs2wMo9Rfj4m6BaCjvqvg\n",
       "gozQ0sYYgAAAAV1BmmJJqEFsmUwIX//+jLAAsnn+pn0EDwXbP75Rf/XSvj9eGATPKg+mn4G22j1o\n",
       "sPR97fVmhvVLGuivB70qYPQBuj6zCo1FrTUFD4kuLUzEfM+zs6FOuikGkJin5/Z7QL8XRN77ky+B\n",
       "ZIOT1nEcMPlzlL/eA4jJet6seJoGrS7OJKR+czSpQveR7S4OmNO7Lg7NHI6SNRlAugKdYoG1vxFV\n",
       "bKUMsBYq/Gt7fUCKfqPXgx5+J0FDCEGG8XbSqw49vl4Moz+9yYJhV6Q2j+mTqNp/uD6BvCEj9gHp\n",
       "IpLNlNryOXpqd/beginf2YvizkOdy5/ub+BVzWatfyTqB9F9DfhKRpZrICbVZIFLRXDmNMZzWCB0\n",
       "OG0SZ2O/fAmg1TdOndK1OPwMbF7lWuHhtbHNpXJHvMMpr0x4v4SQiXHT72+vkNLGPyQkcitga72x\n",
       "jSH19VMR8ZwI62H7t8eUgjLAAAAAnUGegEUVLCP/ADiYmVKkz26OUZLXw/HbSAIssklQLhMf4A3a\n",
       "ly0anst+/yda4AZ40xmt5UX+lbMuWwqZy75NQ8Uwdj9DfsNEOfcfAi/U/PwJEkM3t1P0Xg/xJmCD\n",
       "jgabnGXLoZE1yRW8s3WYNjBxLu48Fz59UvRjdfu2wz7wiOy5wkjRIWqK7ubdKOOcN7ibzzVlzu32\n",
       "vG8AVdHoqoEAAABcAZ6/dEf/AFrghqTZW6vTP0dXQ04qCns0ieOX0ci7yMlE58Gs6dR9zlz8EHFQ\n",
       "T3mF9DIx/Uxi4usO9f106Vd3LkmIwTLEeE5hywNGLxVk8oRj65cYkAuR1MlkJAQAAABsAZ6hakf/\n",
       "AFrIZf0YQUdYe35snIRNlOZw986l2WhIvTqDwN1vAo9b24S52vNnToiwjJpXxZ9qV8T8at0eWSH+\n",
       "8ntzKMayJtcjnKN07zlebl//MN8bkAkeEF69Q08TK2Pbg9xEfcbI5eVyA4mvAAABX0GapUmoQWyZ\n",
       "TAhn//6eEADXvOjACauhj40PSThAxQlWaZ8sMg8yBgilhPFZ1JNRnSQRvIwvTHh9tuRdLbHqf6/p\n",
       "p2LBKstySxHhq50NPEH4bEBAla14mHJtMaLgQd3CNDhcWXb77FSE7n9GgXIM3YdufXI9RKqGVryZ\n",
       "xFgznWjIb2lvcQP63ZTir6UQp36HNi3nIkzSepdu4i2u9yGVx2sOsYz0OAUzLSSu7j9B3dXSTfBH\n",
       "goZ85ZTJSnsQuf7KZyrh6LLLTtWO9AyK/qskHiv45sp6VpKylzSiB14mALD5qHqNiFwCdjZv3PHT\n",
       "zJWgipZo3XTH54oRug2kJvhX/Pqp0mycuSU2ivmIYQQmxU1WdfOvMGZDf71fRIiVjbg0rs6VzlJx\n",
       "apYydagbDc4HRpddKyK3nA5TWz4A8qmWSFtxtlXG317S1FmREftNIY7nf2Mno8H7bnAmfLBI2ZeB\n",
       "YQAAAHJBnsNFFSwj/wBFeWcSQwJqxhjDKl/HQjJezlPb4UemwdSvhOE+78J5h3q/4u324AFaLIGs\n",
       "QOPaX13mi5sKzwGI3Q82R2qHQJgCx4oYCaMD9cLCbT1bMNrtMclWcURt9c0AMH5a7fkDhH5xO1Yq\n",
       "xUHh8YEAAAB/AZ7kakf/AG20CYsUAE7c4/jzry7+t0QSLW+j5jdoVGy2vtz+cgaB7bNhaQyUfyB/\n",
       "7DQZDWQ0o5yYMxXXXjn2q6RrtBIagiaSD5IEoCkdgapSIYZ3JOY/YqvKx/aGC+3ccZf1354zStrk\n",
       "7YRTQANAboLi+KAxn004mTlYUmdRQQAAAZtBmulJqEFsmUwIZ//+nhAA19QYYAJxex8aHmDw7jkT\n",
       "SD9OJj5YTmOrc3yUI0b8Ig70v68NQRk+Nlp+LaEGjhi+lZSNjJi3kXUZHoiDF4ga7pgl+axAPAJl\n",
       "mj774nhNR18PDq7kYTxZN9iGyMhS9kQ3pjr3PW6QlwaDpmPbqnl6pDT5w3RJg+opypDveNK01XP+\n",
       "FN3W7/QYsYuAqDWMZdflwnh02wZl6wt2Sw4e+iWwbR364fcDIMBwwj4Q8I+2vFX/10ALRyxQbkW/\n",
       "RZ7AszQGs6pHiBepokOnsj5uaJXAquLrvvdFe4pb15NYpBEYWhnSHwfgbflIwzr0zaaom7he0t7C\n",
       "p84tcDwTP8nlVxUwSxeOlhgk+ut+KjFZ6vghVrEJSTbcKzqMqeEbQV6cewn7j4vE/9lnyNWqFaeZ\n",
       "oTD6ohKIlmRPy4xWo7Q141xtVj5yuuvcrEQbpvbuWs7HPXz55UyHQFqTcIeiil0Iofa1vh2Xbfme\n",
       "jqJclTWd77fL9X+hilweqTvCrv0QxWvgZ5nbUozq5Gy7G3X2/qkAAACrQZ8HRRUsI/8ARLY9LsDd\n",
       "hagAJTBdJ/dtAVdm1EPVBlr+0QTFgE6vaoWd2G+mrR9dLu0DYDurFcplxuxlQxiQjvYffTNInHJY\n",
       "j41wCNsrBZNzsyBkhBzhCCrgGSu5qx1rtQ2evatyAwae4Ne0e2CMc1iXn5fZO74UhJIEQvLvF9wH\n",
       "laACD+7+o4IA2xWdVB3DCIuydn9el9AJMYPlehh8kJILskrN35Ll8JBbAAAAcwGfJnRH/wBtsA33\n",
       "vSAE1Wz3KJKAG/Cs9blOS4hyXpWzrV3kJH07QVlkS7wV9we977faipgblafOJbAm0QDAdypWFaEH\n",
       "VvJaWm/oTwTM88Cir4idZs/1Bmj+Vxdi3+jl7kweP0S7NvTHpkkT2d2ZD1slybIAAABpAZ8oakf/\n",
       "AG2SiPRcnUyeSLCPUzsJiOCmvljI6/xU/nv0T/FBSQj7QyWbHm3ojUDXXG1KiCpJbO8VCCieJaum\n",
       "+YE4DrNKsJYht6lDTTcAN9yY38C+5Q4MwX91rM44nAEeJPtpXG8y0D1gAAABgEGbLUmoQWyZTAhf\n",
       "//6MsADZGaveB96gAN5Ozk2Pj1SUEfRsirl3e2ngl0xlda2IQjCzMHv0Mw6u9PpvPNIARlrBJMAA\n",
       "JeWHUUC5K4A11Iw3d9VByGIeYqjxQ0PDleOUlKaTUVioYlRmwLavAjey1ZxFrkFuKPBhKGbfr0Kz\n",
       "oG+pMzNi1fDkZtuMdDuykP/wvCGYSI2SB3t7fuxTYQYm5Kf1JLEpQu42UtzBFmbDWjnlhf7KIGb5\n",
       "Xw8m6ddYpRpBaZAGxgkEsmMEHnQKf+7X1n/6luuCutRSy4WgMcDqz3B5rPGwHYL1l7pkkY6nFfCD\n",
       "5I+iJXsdGjlZbj0Je2j8kC0Nf6BBPtzXMX+I3IYiMUJaw2hzIXsc3HMcnkbmTH1c8luA6+DkYlSD\n",
       "kAgACjAVmn3ZjItFtwZQNoRb2vlfvz6npt7gfrvIaCXPsUt90Pjd72Y7zkrve9FBdj8A+MpCp3Xb\n",
       "m5R41+0Wv1ZPEN9lBpbJywiugQ4ve2nr/FBFX2GgDwAAAGxBn0tFFSwj/wBFNB3QmEy/KZef2kHq\n",
       "GK3F9khSw2XA8ypzfFmcgPc8QDDdh3i/rtB4ehdNQJTmaYhBfYRZYxFWEuLZoHODCq6kGOdFuccg\n",
       "c5pKpBJykrK4ogcORpZx1m+a80hur7Is659U8ggAAABmAZ9qdEf/AG5AhhSIAXqDCyEojP3jLgQN\n",
       "QYAunK47c3NfFw+K1vos2RM9MU0SBOqmDDazwK56u9xan3R3eMKSFW6CmknBKVqLh/bjlc37EBi4\n",
       "9jqv4QxknDcACIx3E26oXd/4at+EAAAAZQGfbGpH/wBuQr9AWhRl58gKgI+tC8Mn8iP/OqNlk1+f\n",
       "1KoLjo4eyZqckaArcZr2OH2VllhXFiE6jIHX+3f/Iak51koG+d1yviGSttLApSLQg07fEHplT2O/\n",
       "CEHMElLiaIl+7HERAAABUEGbcEmoQWyZTAhf//6MsADZisAhABZ43DM3zDDj1P3u+Y6iI9izpLUQ\n",
       "S/qjJB9W6ETsX7Cfa3vELtGbsG06DN7p5W9rsWNdNpuhhWCNcP7BHA7KSBPpkucTIqyc+5nOu+YW\n",
       "Hx3FAo3KegABRY1CiC+jYQELkaXDLjKQzxewObxKngLC+8e+S14AoCFNXCOV7P4BzyWAvw+PQPYH\n",
       "n5LMs8qMEBkCALFIMEQEpriBfctgQhv53TvFtcgJqSZ4dZLLo5X9J7jMC263/26hgxUZFKNLbepu\n",
       "ltwKoSbrDxb+3xLQujU6c7pByh6R1GQW0bsRUsR7TAKOlQLAX0M5XkN4i3ZIM3RuWsx8YeEvZGRy\n",
       "lbqCs2lViAKCofewL3QCQGWgBeYTMFiRKz92NC0RkD1y79iTEiZeTPG2JsksF6xBeWnEJXTu8ZqY\n",
       "ARuweVRp6xYPYQAAAH9Bn45FFSwj/wBEyXg9SGePo8FofaednAyMtDxD0yRE6mUNLHDK8OuaqJO2\n",
       "6ddHPL4oMdN/B8vTblgAGfJipxAmmiFZP3JDJLzZPSbZmWglouB2BdIQ+xZkgSE61sakgMmAScwt\n",
       "hTXQxZG5BL/RV3UgjHybG3B1BunLFxSbgmDhAAAAdgGfr2pH/wBsH+4lU0X5MN6l4EYHMCnssS6j\n",
       "BeA1LHlwg6N3b1i5jIsAdx7e+c2tx6wqE1xCbp5qvRScvknjsZWO8sTcgJGYnkuAgPItbd9L9/lS\n",
       "G0hgbevfg3692Zu2qZtPmfdToPt61Zqu8/cvdFTH7TtFNaEAAAFpQZu0SahBbJlMCF///oywANnF\n",
       "gIUc8gBLC1IftFb4SyDIecC6VRfnHjUKS4bS8kkgYqRFmdUQzBe5hYpos7HJCeNbOexkeBFuK8GP\n",
       "KmGE6QRHR5Bi9qtF46eHWLZN0DDb96Mpfj+yAgljaZ0oaqs1HIbpvto5s5Vc/ut+tc11GOHdBUtG\n",
       "32DmTqezLKd3N/HCtFO99/augkgTC/Vnzg6Gy9/k5TS7bmK5ZHfILpaPSGLyZI9oEGx4+DtQVL7a\n",
       "FqWO3AZs7QQrOhzzry7CSMLCho/8+2+jkKJjfkTpRQ5CJN+1zVbSgZSfqbAau/qmiAabMtsHEg4R\n",
       "pxBbrLzzWfCiNI3c2ogLl8bgrDeZIOWDh8QWPYhkoCbVwvCrrvqRag0o+etA/NFsGdPaNaEMJkOK\n",
       "yYiKspi4HsCqucOWgO8Bkp8vSsblkAw6lwuwd9XpOJuEk6FQKoh3FqVUlfx7kCGPqO67yQ4j59xk\n",
       "oAAAAJtBn9JFFSwj/wBE97EG7GVoAB/O5025QbMK415FAl41ijAwox1MJIrlAbeGS+tnm4QILjw/\n",
       "EN9J3+cwDxKNx77bHE3lJkjs6Ab3jFYiT+MvLbytCfHsaz4O6k132zJyUTxEEHmV1DtsF2AbGUMS\n",
       "S3ziZQByybtZ8YDJFXYrQnWZldCoDsT78xH3wDlKbcY2yhotGu3+0H++05MF6wAAAF8Bn/F0R/8A\n",
       "bbCZ5QHccgj7pnsScTkiLrGhBxgtq+CZ5Fd4ftsaLoB+hWLPHI/kgn1hKRJe4kwxjC7iBdb74iCU\n",
       "nG4wFU4Cm2RslQaIiLP3BOwY1JdNihBnPMxql6QcuAAAAGIBn/NqR/8AbZKP5YMt6PXPk6bN6SvH\n",
       "+/9zbxbTRg4YjogdB8lx54biyim8oRFJ1Fxj2MtP8lND9XJa3cAlFdgOWmBO/frQcGnr62HQ2txQ\n",
       "OLvF7fQCSy8XqetEb/mMCU3V1wAAARRBm/hJqEFsmUwIX//+jLAA2c+jD0bADbTTOz1u555P3bGx\n",
       "ujVt5LNJcwMnonRCfwvGPiq9YbR2P+Paaf3YG6TksmFVThYNCSjuTE47JsGXLDAYvkLIlG6lEeZH\n",
       "hkgBzXVhMRblbk4rMCQ5U+U07w2Q93VD266pSo7bC9LV10AFMhL3LX5f+fozt7Y9a7LQXmkqfuk8\n",
       "obfDzfZ2w4oLIjcplAbc/O3JC5KA6il2R27WSFYesz/ZNGRBBVUm90cwuKev3EGpluklgS5RuMcP\n",
       "maMO+OAywRcfVwASfONg4/CTMWThSKDiQXyhd1/sYihqkWl3X84vUC8Zj55xIg7WKCRR0Aoz/YOD\n",
       "ofzpaY+O6KUTKgXCOnMAAAB9QZ4WRRUsI/8ARTQXnas/3uHwPhNc9MNfl83rMw1TP1cXUJr0R3gH\n",
       "4e/aeRMh2QT5KAEknGBt0uwPqXZF8///UVU1zTdUyXKXMZqnum0PTCxPj/lpqvZM87gadPavVVaP\n",
       "NIiWKLMLsBLsPM88FeRnye1rWu5jow1834stW4AAAABxAZ41dEf/AG3urJB6aX09gp21XP8UoJcc\n",
       "ZvJVxMBIxA5zOaQkdXLOM3TbzXZs5+/zvkHE/oqVf4nI2radd9FNrX2BVeWFJZ9ZRwGE3D+vlNNu\n",
       "IwElO/gaFWog4Rp6DGSd4z0zMaOPROz2WDozdNNgb58AAABlAZ43akf/AG5CvzaL4VfiMwHM6xte\n",
       "fDOiLjdgYkjjUjww2IYzVeRi6saxnZGvxzaLVwiUBwIUXCy2UWuqsT6cjZPYtDQ9f2tQZVyb9LDk\n",
       "PYLJQj+dPIc6xHqlnZKzn6aUZ6Tjg00AAAD9QZo7SahBbJlMCF///oywANmPT56Y1a/keh1HEzaU\n",
       "0AtNq0cEkC4owUADrRtWqS/xbeB/pzg+9kmZCIwoO0Klm5soef2uSHOHs7W/+j2nw30Bwhw4Fwi9\n",
       "eD/GaCSHE6MYE7J+zez6e145BYIHi97+lb2R7Br+zsKUzJsyasawT/cHLI73dXeJGlzEoBCr9jQV\n",
       "XMTfc1mcqCsPWAv6lJT+g4R7dyxZWCvPJUA/Eue9nFg1sF1Lsz/ofSCjPSf71bB+vA+NDweB0ows\n",
       "ZrPCVWnZMMnm9O69nGhrYNAkDlI246EGu9lbTHf/EFNCCnCUqD9RIfbYFt+QcYhaFDZ2IAAAAHZB\n",
       "nllFFSwj/wBEfQ7XIHsBlK4q6cEAQ8yh+3HtlvCGQKWfpaEnwuPv7WDZvtwA5v8bmGmnZz5Rj2MR\n",
       "9t+yb+UNCKXPl8JI/eVOr4iH+ToQKjs9jXx1oVe+aAv4mtTfPuv5fq/0I9EU2oCVeUhk+wVWJzfR\n",
       "8405AAAAdgGeempH/wBufZATf8DnFxGymnb0fgLrkhwrhhV2CYd0euogXVWCV8Cyc12n253Fe7Z8\n",
       "ZY/67HZrPabE9ylISad9UmLnVnNnQtCTvFrBhbEkI6qBZNxkN4s04hVl3nu6mbLNygcTIdplDbNJ\n",
       "okgNVEPetYteZRgAAADaQZp/SahBbJlMCFf//jhAAzZ5w20BiGMAE9wLv857/WLDOhI6ofqRjKkK\n",
       "VJtlBbxuF02RdfMkLHpCvdbdgYugPNJpLNLlbM2b438Eknln64TL2YUbRQfPiE9fY+U1/kInSjjL\n",
       "t1ks53F1yO3DtcVjZqftqD7Nh/6E3CTleE2Fyq7Kxa3ADMXOl6H59OQ5wJHBhLKyIKDE6DLxljSF\n",
       "LElfxAP0sKuyUG0j3KskaKmjcJ+7L6HWvrZqCefeGj8rLfm5QRyfXULXQMmvn1QowCW8mYFCuidN\n",
       "STO2tOkAAACbQZ6dRRUsI/8AQ3Smckiq84YDp/hg3oC3X8Fe3F0VIf7BLsSJ4Z4eZP5V5cLzWfjv\n",
       "kAJrssdTleT2n5ZHRL/CPnincjKvltnOP/ECOvKwv70CK2q0st311x7OQ2zYN6017vLvd/SjSCV1\n",
       "lKKWI14b6AYt7gxBvflVcxvmdnUUY1rU+JocnsA+J+WNoO/3jc5X4zlRBu1w0yqRPt8AAAB0AZ68\n",
       "dEf/AGwmGaHSeWw0AeouY4N/vNA7Sz1zT5MqSfr2EOlLUe9AAmV68F7/rQSLhCdM/1DY9NX+uuW+\n",
       "9TozxF8yhfk98c5jQfdc6Kxq5INN7MQur45aYsrJ6q+pacTCiiTPgJ49ELJE7B6DYlrM9yo8WfAA\n",
       "AABsAZ6+akf/AGw6Tp6ec7R2Hv0PYWdD5llrNIxvJzx6JSlUy7XfjaGHoVE8zgBNR6JziXtZ4qKG\n",
       "XEh+0QsNhPl8cl2Y6gUk2RIoy5aJVTRHslLHwciB+XsS/lhPp4aeFtyFZer1iuwjG00QuD4gAAAA\n",
       "nUGao0moQWyZTAj//IQAMN/cs879BiekUrLGaQUe3WoXrDlN+VIJFn/lPjuf0Nj+a4axAB6dGVuG\n",
       "7Z8+tgAJXbLpC2iDdb/uDspRXdhI+4r85EvKyfeaYzxOJz2968OI3CdlpiSec3yDimeoIwVneXmG\n",
       "S7AW/D07HPet1QPWCzJlQG1iQsNj5baT2m4QiYnVh1eGRP94Zc0iIdAeXjcAAAB1QZ7BRRUsI/8A\n",
       "Q3SmkC0vCyo5JfmX5zga2AKAtEpkdP5q3OmD2vaZ9JI8NWCW41wW9KGrIQh+3Guu1occVuQMXrJ5\n",
       "snGiii4flmREY6KakMRP/ZL8U38lP0vSnns90bQUmtH+ZX5gz21Q03reE6RVku6CukIPAAAAagGe\n",
       "4HRH/wBsJpIio9qOraa+IM2sT+sg2iEIhZk4YkeAoHRu2cuqULb28zh2SZMDHiqHfxkKlvGCBbB4\n",
       "tcfbjxIiyRZ4W6M2D0cGrVISgGF0TU4YgoFDBx5UAn0Y5KIMp0PqF1ze2M+Mmo0AAABhAZ7iakf/\n",
       "AGw6Tp6ec7X591Wcuf021epMqspXgKusXDVyzARvL36Dwv48Ai2QwxA6U9TO4PMO4o3xxGuM8SJb\n",
       "1i4zXAky6UXWTLQlpl37gORhKll/T4CoWSMi3VT9K+fcIAAAB5Ztb292AAAAbG12aGQAAAAAAAAA\n",
       "AAAAAAAAAAPoAAAH0AABAAABAAAAAAAAAAAAAAAAAQAAAAAAAAAAAAAAAAAAAAEAAAAAAAAAAAAA\n",
       "AAAAAEAAAAAAAAAAAAAAAAAAAAAAAAAAAAAAAAAAAAAAAAACAAAGwHRyYWsAAABcdGtoZAAAAAMA\n",
       "AAAAAAAAAAAAAAEAAAAAAAAH0AAAAAAAAAAAAAAAAAAAAAAAAQAAAAAAAAAAAAAAAAAAAAEAAAAA\n",
       "AAAAAAAAAAAAAEAAAAABsAAAASAAAAAAACRlZHRzAAAAHGVsc3QAAAAAAAAAAQAAB9AAAAIAAAEA\n",
       "AAAABjhtZGlhAAAAIG1kaGQAAAAAAAAAAAAAAAAAADIAAABkAFXEAAAAAAAtaGRscgAAAAAAAAAA\n",
       "dmlkZQAAAAAAAAAAAAAAAFZpZGVvSGFuZGxlcgAAAAXjbWluZgAAABR2bWhkAAAAAQAAAAAAAAAA\n",
       "AAAAJGRpbmYAAAAcZHJlZgAAAAAAAAABAAAADHVybCAAAAABAAAFo3N0YmwAAACzc3RzZAAAAAAA\n",
       "AAABAAAAo2F2YzEAAAAAAAAAAQAAAAAAAAAAAAAAAAAAAAABsAEgAEgAAABIAAAAAAAAAAEAAAAA\n",
       "AAAAAAAAAAAAAAAAAAAAAAAAAAAAAAAAAAAAAAAY//8AAAAxYXZjQwFkAB7/4QAYZ2QAHqzZQbCW\n",
       "hAAAAwAEAAADAZA8WLZYAQAGaOvjyyLAAAAAHHV1aWRraEDyXyRPxbo5pRvPAyPzAAAAAAAAABhz\n",
       "dHRzAAAAAAAAAAEAAABkAAABAAAAABRzdHNzAAAAAAAAAAEAAAABAAAC6GN0dHMAAAAAAAAAWwAA\n",
       "AAEAAAIAAAAAAQAABAAAAAACAAABAAAAAAEAAAUAAAAAAQAAAgAAAAABAAAAAAAAAAEAAAEAAAAA\n",
       "AQAABAAAAAACAAABAAAAAAEAAAQAAAAAAgAAAQAAAAABAAAFAAAAAAEAAAIAAAAAAQAAAAAAAAAB\n",
       "AAABAAAAAAEAAAQAAAAAAgAAAQAAAAABAAAFAAAAAAEAAAIAAAAAAQAAAAAAAAABAAABAAAAAAEA\n",
       "AAUAAAAAAQAAAgAAAAABAAAAAAAAAAEAAAEAAAAAAQAABQAAAAABAAACAAAAAAEAAAAAAAAAAQAA\n",
       "AQAAAAABAAAEAAAAAAIAAAEAAAAAAQAABQAAAAABAAACAAAAAAEAAAAAAAAAAQAAAQAAAAABAAAE\n",
       "AAAAAAIAAAEAAAAAAQAABQAAAAABAAACAAAAAAEAAAAAAAAAAQAAAQAAAAABAAAFAAAAAAEAAAIA\n",
       "AAAAAQAAAAAAAAABAAABAAAAAAEAAAUAAAAAAQAAAgAAAAABAAAAAAAAAAEAAAEAAAAAAQAABQAA\n",
       "AAABAAACAAAAAAEAAAAAAAAAAQAAAQAAAAABAAAFAAAAAAEAAAIAAAAAAQAAAAAAAAABAAABAAAA\n",
       "AAEAAAUAAAAAAQAAAgAAAAABAAAAAAAAAAEAAAEAAAAAAQAABAAAAAACAAABAAAAAAEAAAUAAAAA\n",
       "AQAAAgAAAAABAAAAAAAAAAEAAAEAAAAAAQAABQAAAAABAAACAAAAAAEAAAAAAAAAAQAAAQAAAAAB\n",
       "AAAEAAAAAAIAAAEAAAAAAQAABQAAAAABAAACAAAAAAEAAAAAAAAAAQAAAQAAAAABAAAFAAAAAAEA\n",
       "AAIAAAAAAQAAAAAAAAABAAABAAAAAAEAAAQAAAAAAgAAAQAAAAABAAAFAAAAAAEAAAIAAAAAAQAA\n",
       "AAAAAAABAAABAAAAAAEAAAUAAAAAAQAAAgAAAAABAAAAAAAAAAEAAAEAAAAAHHN0c2MAAAAAAAAA\n",
       "AQAAAAEAAABkAAAAAQAAAaRzdHN6AAAAAAAAAAAAAABkAAAVsQAAAYsAAACkAAAAlwAAAXgAAACz\n",
       "AAAAbQAAAIEAAAFAAAAAmgAAAJMAAAEeAAAAoQAAAIMAAAFSAAAAoAAAAGcAAABrAAABPAAAAH8A\n",
       "AACNAAABdAAAAL4AAAB1AAAAbAAAAX8AAACCAAAAVwAAAHUAAAGaAAAAigAAAFYAAABsAAABaQAA\n",
       "AJEAAACAAAABswAAAKQAAABjAAAAZwAAATQAAACDAAAAgwAAAYoAAACxAAAAaQAAAH4AAAFoAAAA\n",
       "ngAAAG0AAABxAAABuwAAAJsAAABmAAAAhQAAAXIAAACFAAAAewAAAHgAAAFxAAAAoAAAAHwAAAB2\n",
       "AAABYQAAAKEAAABgAAAAcAAAAWMAAAB2AAAAgwAAAZ8AAACvAAAAdwAAAG0AAAGEAAAAcAAAAGoA\n",
       "AABpAAABVAAAAIMAAAB6AAABbQAAAJ8AAABjAAAAZgAAARgAAACBAAAAdQAAAGkAAAEBAAAAegAA\n",
       "AHoAAADeAAAAnwAAAHgAAABwAAAAoQAAAHkAAABuAAAAZQAAABRzdGNvAAAAAAAAAAEAAAAsAAAA\n",
       "YnVkdGEAAABabWV0YQAAAAAAAAAhaGRscgAAAAAAAAAAbWRpcmFwcGwAAAAAAAAAAAAAAAAtaWxz\n",
       "dAAAACWpdG9vAAAAHWRhdGEAAAABAAAAAExhdmY1OC4xMi4xMDA=\n",
       "\">\n",
       "  Your browser does not support the video tag.\n",
       "</video>"
      ],
      "text/plain": [
       "<matplotlib.animation.FuncAnimation at 0x181f8fa390>"
      ]
     },
     "execution_count": 269,
     "metadata": {},
     "output_type": "execute_result"
    },
    {
     "data": {
      "image/png": "[encoded data removed]",
      "text/plain": [
       "<Figure size 432x288 with 1 Axes>"
      ]
     },
     "metadata": {},
     "output_type": "display_data"
    }
   ],
   "source": [
    "import matplotlib.pyplot as plt\n",
    "import numpy as np\n",
    "# 1. Create a figure window. \n",
    "fig = plt.figure()\n",
    "\n",
    "# 2. Creates axes within the window\n",
    "ax = plt.axes(xlim=(0, 2), ylim=(-2, 2))\n",
    "\n",
    "# 3. Empty object (no data opints) to animate e.g. a line \n",
    "# Name must end with a `,` comma.  \n",
    "line, = ax.plot([], [], lw=2)\n",
    "\n",
    "# 4. Animation function: called sequentially\n",
    "# i = frame number.\n",
    "# Sine wave generated, phase shift proportional to i\n",
    "def animate(i):\n",
    "    x = np.linspace(0, 2, 1000)\n",
    "    y = np.sin(2 * np.pi * (x - 0.01 * i))\n",
    "    line.set_data(x, y)\n",
    "    # single return arguments should be given as a tuple with one value\n",
    "    return (line,)\n",
    "\n",
    "# 5. Animates the data; \n",
    "# 100 frames\n",
    "# 20ms delay between frames\n",
    "anim = animation.FuncAnimation(fig, animate, frames=100, interval=20)\n",
    "\n",
    "# Set the animation display format to html which the non-Python parts of this notebook are written in.\n",
    "rc('animation', html='html5')\n",
    "\n",
    "# 6. Play the animation \n",
    "anim\n",
    "\n",
    "# 7. Save the animation as a .mp4 file - if you save the file, it won't play\n",
    "# 15 frames per second\n",
    "# 1800 bits of data processed/stored per second\n",
    "#writer = animation.writers['ffmpeg'](fps=15, bitrate=1800)\n",
    "#anim.save('img/sin_movie.mp4', writer=writer)"
   ]
  },
  {
   "cell_type": "markdown",
   "metadata": {},
   "source": [
    "When returning a single argument (e.g. `line`) it is returned as a tuple with one value i.e. `(line, )`."
   ]
  },
  {
   "cell_type": "markdown",
   "metadata": {
    "slideshow": {
     "slide_type": "slide"
    }
   },
   "source": [
    "### Example : Simulating Physical Systems\n",
    "#### Spring-Mass System\n",
    "<a id='ExampleSpringMassSystem'></a>\n",
    "If you are studying an engineering-related subject, you will most likely study simple harmonic motion; a type of periodic motion or oscillation motion.\n",
    "\n",
    "For this oscillation to happen, the restoring force is:\n",
    "- directly proportional to the displacement\n",
    "- in the direction opposite to the displacement.\n",
    "\n",
    "\n",
    "\n"
   ]
  },
  {
   "cell_type": "markdown",
   "metadata": {
    "slideshow": {
     "slide_type": "slide"
    }
   },
   "source": [
    "A typical example of this is a mass attached to a spring.\n",
    "\n",
    "<img src=\"img/spring_mass_system.gif\" alt=\"Drawing\" style=\"width: 500px;\"/>\n",
    "\n"
   ]
  },
  {
   "cell_type": "markdown",
   "metadata": {
    "slideshow": {
     "slide_type": "slide"
    }
   },
   "source": [
    "If we assume that:\n",
    " - the spring is ideal (it has no weight, mass, or damping losses)\n",
    " - there is no friction \n",
    " \n",
    "we can use a simple equation to give the position of the mass, $x$, as a function of time, $t$:\n",
    "\n",
    "$x(t) = A cos(\\omega t - \\phi)$ \n",
    "\n",
    "where:\n",
    "<br>$A$: Maximum amplitude (displacment from initial position), defined by the initial conditions of the system.\n",
    "<br>$\\phi$ : Phase (the initial angle of a sinusoidal function at its origin)\n",
    "<br>$\\omega$ : Angular frequency (frequency of oscillation expressed in radians)\n",
    "\n"
   ]
  },
  {
   "cell_type": "markdown",
   "metadata": {
    "slideshow": {
     "slide_type": "slide"
    }
   },
   "source": [
    "Angular frequency\n",
    "\n",
    "$\\omega=2\\pi f = \\sqrt{\\frac{k}{m}}$\n",
    "\n",
    "where\n",
    "<br>$k$ : spring constant\n",
    "<br>$m$ : mass (kg)\n",
    "<br>$f$ : frequency (Hz)"
   ]
  },
  {
   "cell_type": "code",
   "execution_count": null,
   "metadata": {
    "slideshow": {
     "slide_type": "slide"
    }
   },
   "outputs": [],
   "source": [
    "# 1. Create a figure window.\n",
    "fig = plt.figure()\n",
    "\n",
    "# 2. Create axes within the window\n",
    "ax = plt.axes(xlim=(-2, 2), ylim=(-3.5,3.5))\n",
    "\n",
    "# 3. Two objects to animate\n",
    "line,   = ax.plot([2,1], [4,3], marker=\"\" , ls=\"-\")  # a line\n",
    "point, = ax.plot([1], [1], marker='o', ms=40)        # a point\n",
    "\n",
    "# Spring data\n",
    "k = 100\n",
    "m = 20\n",
    "w = np.sqrt(k/m)\n",
    "phi = 2\n",
    "A = 2\n",
    "\n",
    "# Position of mass as function of time\n",
    "def fun(time):\n",
    "    return A*np.sin(w * time + phi)\n",
    "\n",
    "# 4. Animation function\n",
    "# Timestep = 1/20 = 0.05\n",
    "def animate(t):    \n",
    "    x = fun(t/20)     \n",
    "    line.set_data([0,0], [4, -x])    \n",
    "    point.set_data(0, -x)    \n",
    "    return line, point\n",
    "  \n",
    "    \n",
    "# 5. Create animation\n",
    "# 500 frames\n",
    "# 50ms (0.05s) delay between frames to match timestep\n",
    "anim = animation.FuncAnimation(fig, animate, frames=500, interval=50)\n",
    "\n",
    "rc('animation', html='html5')\n",
    "\n",
    "# 6. Play animation\n",
    "anim\n",
    "\n",
    "# 7. Save animation - if uncommented, animation won't move\n",
    "# writer = animation.writers['ffmpeg'](fps=15, bitrate=1800)\n",
    "# anim.save('img/spring_movie.mp4', writer=writer)\n"
   ]
  },
  {
   "cell_type": "markdown",
   "metadata": {
    "slideshow": {
     "slide_type": "slide"
    }
   },
   "source": [
    "### Example : Simulating Physical Systems\n",
    "#### Trajectory : Plotting the Object\n",
    "<a id='ExamplePlottingObject'></a>\n",
    "A projectile is launched with initial velocity $v$, at an angle of $\\theta$.\n",
    "\n",
    "If we neglect the force of drag on the projectile, it will travel in an arc. \n",
    "\n",
    "It's position in the horizontal (x) and vertical (y) direction at time $t$ can be found by.\n",
    "\n",
    "$x= vt\\cos(\\theta)$\n",
    "<br>$y= vt\\sin(\\theta) - \\frac{1}{2}gt^2$\n",
    "\n",
    "where gravity, $g=9.81$ms$^{-2}$ \n",
    "\n",
    "Initial conditions:\n",
    " - $\\theta = \\pi/2$\n",
    " - velocity, $v=10$ms$^{-1}$ \n",
    "\n",
    "<img src=\"img/projectile3.png\" alt=\"Drawing\" style=\"width: 300px;\"/>\n"
   ]
  },
  {
   "cell_type": "markdown",
   "metadata": {
    "slideshow": {
     "slide_type": "slide"
    }
   },
   "source": [
    "1. Create a figure window\n",
    "1. Create axes within the figure window.\n",
    "1. Create a point to animate\n",
    "1. Create variables for $g$, $v$, and $\\theta$\n",
    "1. Write a function, `fun` to find x and y position as a function of time, t (function argument = t)\n",
    "1. To animate the motion of the particle create a function, `animate`. Within animate call the function, `func`. Use a timestep of i/10.\n",
    "1. Use the function `animation.FuncAnimation` to create the animation."
   ]
  },
  {
   "cell_type": "code",
   "execution_count": null,
   "metadata": {},
   "outputs": [],
   "source": [
    "# Creates a figure window.\n",
    "fig = plt.figure()\n",
    "\n",
    "# Creates axes within the window\n",
    "ax = plt.axes(xlim=(0, 10), ylim=(0, 5))\n",
    "\n",
    "# Object to animate\n",
    "point, = ax.plot([1], [1], marker='o', ms=40)  # for points\n",
    "\n",
    "g = 9.81\n",
    "v = 10\n",
    "theta = np.pi/4\n",
    "\n",
    "# Position of mass as function of time\n",
    "def fun(t):\n",
    "    x = v * t * np.cos(theta)\n",
    "    y = v * t * np.sin(theta) - (0.5 * g * t**2)\n",
    "    return x, y\n",
    "\n",
    "def animate(i):   \n",
    "    x, y = fun(i/10)   \n",
    "    point.set_data(x, y)    \n",
    "    return  (point,)\n",
    "    \n",
    "# Animates the data\n",
    "# 50 frames\n",
    "# 50ms delay between frames : animation plays at double speed of time-varying system\n",
    "anim = animation.FuncAnimation(fig, animate, frames=30, interval=50, blit=True)\n",
    "\n",
    "anim"
   ]
  },
  {
   "cell_type": "markdown",
   "metadata": {
    "slideshow": {
     "slide_type": "slide"
    }
   },
   "source": [
    "### Example : Simulating Physical Systems\n",
    "#### Trajectory : Plotting the Path\n",
    "<a id='ExamplePlottingPath'></a>"
   ]
  },
  {
   "cell_type": "code",
   "execution_count": null,
   "metadata": {},
   "outputs": [],
   "source": [
    "import matplotlib.pyplot as plt\n",
    "import matplotlib.animation as animation\n",
    "import time\n",
    "\n",
    "g = 9.81\n",
    "v = 10\n",
    "theta = np.pi/4\n",
    "\n",
    "t = np.linspace(0, 500)\n",
    "x = v * t * np.cos(theta)\n",
    "y = v * t * np.sin(theta) - (0.5 * g * t**2)\n",
    "\n",
    "fig = plt.figure()\n",
    "ax = plt.axes(xlim=(0, 10), ylim=(0, 5))\n",
    "\n",
    "def animate(i):\n",
    "\n",
    "    i /= 10\n",
    "    if i == 0:\n",
    "        s = i\n",
    "    else:\n",
    "        s = np.linspace(0, i)\n",
    "\n",
    "    x = v * s * np.cos(theta)\n",
    "    y = v * s * np.sin(theta) - (0.5 * g * s**2)\n",
    "    ax.plot(x,y, 'c')\n",
    "    \n",
    "ani = animation.FuncAnimation(fig, animate, frames=15, interval=50)\n",
    "ani"
   ]
  },
  {
   "cell_type": "markdown",
   "metadata": {
    "slideshow": {
     "slide_type": "slide"
    }
   },
   "source": [
    "### Example : Simulating Physical Systems\n",
    "#### Trajectory : Plotting the Path & Object\n",
    "<a id='ExamplePlottingPathObject'></a>"
   ]
  },
  {
   "cell_type": "code",
   "execution_count": null,
   "metadata": {},
   "outputs": [],
   "source": [
    "import matplotlib.pyplot as plt\n",
    "import matplotlib.animation as animation\n",
    "import time\n",
    "\n",
    "g = 9.81\n",
    "v = 10\n",
    "theta = np.pi/4\n",
    "\n",
    "t = np.linspace(0, 500)\n",
    "x = v * t * np.cos(theta)\n",
    "y = v * t * np.sin(theta) - (0.5 * g * t**2)\n",
    "\n",
    "fig = plt.figure()\n",
    "ax = plt.axes(xlim=(0, 10), ylim=(0, 5))\n",
    "\n",
    "# # Object to animate\n",
    "point, = ax.plot([1], [1], marker='o', ms=40)  # for points\n",
    "\n",
    "def animate(i):\n",
    "\n",
    "    i /= 10\n",
    "    if i == 0:\n",
    "        s = i\n",
    "    else:\n",
    "        s = np.linspace(0, i)\n",
    "    \n",
    "\n",
    "    x = v * s * np.cos(theta)\n",
    "    y = v * s * np.sin(theta) - (0.5 * g * s**2)\n",
    "    ax.plot(x, y, 'c')\n",
    "    \n",
    "    if i == 0:\n",
    "        point.set_data(x, y)   \n",
    "    else:  \n",
    "        point.set_data(x[-1], y[-1])    \n",
    "    return  (point,)\n",
    "    \n",
    "ani = animation.FuncAnimation(fig, animate, frames=15, interval=50)\n",
    "ani"
   ]
  },
  {
   "cell_type": "markdown",
   "metadata": {},
   "source": [
    "# Summary\n",
    "<a id='Summary'></a>\n",
    " - `scipy.integrate.odeint` can be used to find a numerical approximation for the change in a parameter over a given range of input values (expressed as an ordinary differential equation, ode).\n",
    " - This allows us to easily deal with dicontinuous functions.\n",
    " - An can be solved for a specific *solution* value by interpolating.\n",
    " - We can find the value of the function at a specific value by selecting the points at which the function is approximated.\n",
    " - We can create interactive plots with `ipywidgets`. \n",
    " - `matplotlib.animation` and `matplotlib.rc` can be used to produce animated plots.\n",
    " - `IPython.display.HTML` allows us to view and play these animations within Jupyter notebook.\n",
    " - Installing the program `ffmpeg` allows us to save an animation in a format we can view outside of the Python environment."
   ]
  },
  {
   "cell_type": "code",
   "execution_count": null,
   "metadata": {},
   "outputs": [],
   "source": []
  }
 ],
 "metadata": {
  "celltoolbar": "Slideshow",
  "kernelspec": {
   "display_name": "Python 3",
   "language": "python",
   "name": "python3"
  },
  "language_info": {
   "codemirror_mode": {
    "name": "ipython",
    "version": 3
   },
   "file_extension": ".py",
   "mimetype": "text/x-python",
   "name": "python",
   "nbconvert_exporter": "python",
   "pygments_lexer": "ipython3",
   "version": "3.6.5"
  }
 },
 "nbformat": 4,
 "nbformat_minor": 2
}
