{
 "cells": [
  {
   "cell_type": "markdown",
   "metadata": {
    "slideshow": {
     "slide_type": "slide"
    }
   },
   "source": [
    "### Rescheduled Class\n",
    "You should all have received an email concerning the 2 rescheduled class.\n",
    "<br>Rescheduled classes will be held on: \n",
    "- 06/26 (June 26, Tuesday ), period 1, room CALL 23 \n",
    "- 06/29 (June 29, Friday ), period 5, room CALL 23 \n",
    "\n",
    "You may attend either class. \n",
    "<br>The content will be identical. \n",
    "\n",
    "__THERE IS A CLASS ON JUNE 25, MONDAY AS USUAL__"
   ]
  },
  {
   "cell_type": "markdown",
   "metadata": {
    "slideshow": {
     "slide_type": "slide"
    }
   },
   "source": [
    "## Please download the new class notes.\n",
    "### Step 1 : Navigate to the directory where your files are stored.  \n",
    "Open a terminal. \n",
    "<br>Using `cd`, navigate to *inside* the ILAS_Python_for_engineers folder on your computer. \n",
    "### Step 3 : Update the course notes by downloading the changes\n",
    "In the terminal type:\n",
    "\n",
    ">`git add -A\n",
    "git commit -m \"commit\"\n",
    "git fetch upstream\n",
    "git merge -X theirs upstream/master`\n"
   ]
  },
  {
   "cell_type": "markdown",
   "metadata": {
    "collapsed": true,
    "slideshow": {
     "slide_type": "slide"
    }
   },
   "source": [
    "# Solving Differential and Integration Equations with Programming and Symbolic Mathematics\n",
    "\n",
    "<br> <a href='#SystemsCoupledEquations'>Systems of Coupled Equations</a>\n",
    "    <br> &emsp;&emsp; <a href='#LinearEquations'>Linear Equations</a> \n",
    "        <br> &emsp;&emsp; &emsp;&emsp; <a href='#ExampleElectricalCircuit'>Example: An Electrical Circuit</a> \n",
    "    <br> &emsp;&emsp; <a href='#NonLinearEquations'>Linear Equations</a> \n",
    "<br> <a href='#RootFinding'>Root Finding</a> \n",
    "\t<br> &emsp;&emsp; <a href='#IterativeSolutions'>Iterative Solutions</a> \n",
    "    <br> &emsp;&emsp; &emsp;&emsp; &emsp;&emsp;<a href='#Bisection'>Bisection</a> \n",
    "        <br> &emsp;&emsp; &emsp;&emsp; &emsp;&emsp; &emsp;&emsp; <a href='#ExampleBisectionAlgorithm'>Example: Bisection Algorithm</a> \n",
    "    <br> &emsp;&emsp;<a href='#ImportingSpecificAlgorithms'>Importing Specific Algorithms </a> \n",
    "    <br> &emsp;&emsp; <a href='#FindingnthRootPeriodicFunction'>Finding the nth Root of a Periodic Function</a> \n",
    "<br> <a href='#CoupledNonLinearEquations'>Coupled Non-Linear Equations (continued)</a> \n",
    "<br> <a href='#Summary'>Summary</a>\n",
    "<br> <a href='#TestYourselfExercises'>Test-Yourself Exercises</a>\n"
   ]
  },
  {
   "cell_type": "markdown",
   "metadata": {
    "slideshow": {
     "slide_type": "slide"
    }
   },
   "source": [
    "### Lesson Goal\n",
    "\n",
    "\n",
    "\n",
    "### Fundamental programming concepts\n"
   ]
  },
  {
   "cell_type": "markdown",
   "metadata": {},
   "source": [
    "Many of the practical situations that engineers have to analyse involve quantities that change with respect to time or another parameter. \n",
    "\n",
    "Examples:\n",
    " - Temperature of a substance/system\n",
    " - Signal voltage\n",
    " - Torque on a turbine blade"
   ]
  },
  {
   "cell_type": "markdown",
   "metadata": {},
   "source": [
    "The calculus techniques that we use to solve these problems are \n",
    "- differentiation\n",
    "- integration"
   ]
  },
  {
   "cell_type": "markdown",
   "metadata": {},
   "source": [
    "You will probably be familiar with all of the techniques we will study today.\n",
    "\n",
    "The main challenge is knowing how to represent processes that you are familiar with solving manually, using the Python syntax. \n",
    "\n"
   ]
  },
  {
   "cell_type": "markdown",
   "metadata": {},
   "source": [
    "There are multiple ways to solve differentiation and integration problems programmatically.\n",
    "\n",
    "Today we will study several of these methods using:\n",
    "- Numpy\n",
    "- Scipy\n",
    "- Sympy : A Python library for __symbolic__ mathematics.\n",
    "\n"
   ]
  },
  {
   "cell_type": "code",
   "execution_count": 145,
   "metadata": {},
   "outputs": [],
   "source": [
    "import numpy as np\n",
    "import scipy\n",
    "import sympy\n",
    "\n",
    "import matplotlib.pyplot as plt\n",
    "%matplotlib inline"
   ]
  },
  {
   "cell_type": "markdown",
   "metadata": {},
   "source": [
    "In the past two seminars we considered functions that can be represented in a 2D coordinate system by considering the relation ship between:\n",
    "- input (independent variable) \n",
    "- output (dependent variable)"
   ]
  },
  {
   "cell_type": "markdown",
   "metadata": {},
   "source": [
    "For example, a function, $f(t)$\n",
    "\n",
    "<img src=\"img/kirchhoffLaws.png\" alt=\"Drawing\" style=\"width: 300px;\"/> "
   ]
  },
  {
   "cell_type": "markdown",
   "metadata": {},
   "source": [
    "The definition of the function $f(t)$ at a point $t$:\n",
    "    \n",
    "$$ f' = \\lim_{x \\to 0} \\frac{f(t + \\Delta t)-f(t)}{\\Delta t} = \\lim_{x \\to 0} \\frac{\\Delta f}{\\Delta t}$$\n",
    "\n",
    "where $\\Delta f$ is the rate of change of $f(t)$ corresponding to a chnage $\\Delta t$ in $t$ "
   ]
  },
  {
   "cell_type": "markdown",
   "metadata": {},
   "source": [
    "This from this definition, we can *approximate* the rate of change of function $f(t)$ with respect to parameter $t$, from the difference in $f$ between two different values of $t$.\n",
    "\n",
    "<img src=\"img/kirchhoffLaws.png\" alt=\"Drawing\" style=\"width: 300px;\"/> "
   ]
  },
  {
   "cell_type": "markdown",
   "metadata": {},
   "source": [
    "Forward difference:\n",
    "    \n",
    "$$ f' \\approx \\frac{f(t + h)-f(t)}{h} $$\n",
    "\n",
    "Backward difference:\n",
    "\n",
    "$$ f' \\approx \\frac{f(t)-f(t - h)}{h} $$\n",
    "\n",
    "Central difference:\n",
    "\n",
    "$$ f' \\approx \\frac{f(t + h)-f(t - h)}{2h} $$"
   ]
  },
  {
   "cell_type": "markdown",
   "metadata": {},
   "source": [
    "## Numerical Derivatives by Difference Methods\n",
    "If your data points are equally space, these equations are very easy to solve programmatically for a data set.\n",
    "\n"
   ]
  },
  {
   "cell_type": "code",
   "execution_count": 42,
   "metadata": {},
   "outputs": [],
   "source": [
    "def forward_diff(x, y):\n",
    "    #all_but_last = (y[1:] - y[:-1]) / (x[1:] - x[:-1])\n",
    "    all_but_last = np.diff(y) / np.diff(x)\n",
    "    # solve last element by backward difference\n",
    "    last = (y[-1] - y[-2]) / (x[-1] - x[-2])\n",
    "    return(np.append(all_but_last, last))\n",
    "\n",
    "\n",
    "def backward_diff(x, y):\n",
    "    #all_but_first = (y[1:] - y[:-1]) / (x[1:] - x[:-1])\n",
    "    all_but_first = np.diff(y) / np.diff(x)\n",
    "    # solve fisrst element by forward difference\n",
    "    first = (y[1] - y[0]) / (x[1] - x[0])\n",
    "    return(np.insert(all_but_first, 0, first))\n",
    "\n",
    "\n",
    "def central_diff(x, y):\n",
    "    centre = (y[2:] - y[:-2]) / (x[2:] - x[:-2])\n",
    "    # solve first and last element \n",
    "    first = (y[1] - y[0]) / (x[1] - x[0])\n",
    "    last = (y[-1] - y[-2]) / (x[-1] - x[-2])\n",
    "    \n",
    "    return(np.insert(np.append(centre, last), 0, first))"
   ]
  },
  {
   "cell_type": "markdown",
   "metadata": {},
   "source": [
    "This gives a very simple method for solving numerical derivatives.\n",
    "\n",
    "Let's test these functions.\n",
    "\n",
    "Analytical solution:\n",
    "\n",
    "$$f(t)=sin(t), \\qquad f'(t)=cos(t)$$\n",
    "\n",
    "<img src=\"img/sin_cos_diff.png\" alt=\"Drawing\" style=\"width: 200px;\"/> "
   ]
  },
  {
   "cell_type": "markdown",
   "metadata": {},
   "source": [
    "To show the accuracy of the solution, we first consider a very small t interval."
   ]
  },
  {
   "cell_type": "code",
   "execution_count": 46,
   "metadata": {},
   "outputs": [
    {
     "data": {
      "image/png": "[encoded data removed]",
      "text/plain": [
       "<Figure size 432x288 with 1 Axes>"
      ]
     },
     "metadata": {},
     "output_type": "display_data"
    }
   ],
   "source": [
    "t = np.linspace(0.78,0.79,100)\n",
    "f = np.sin(t)\n",
    "\n",
    "dfdt_analytical = np.cos(t)\n",
    "\n",
    "dfdt_fwd = forward_diff(t, f)\n",
    "dfdt_bck = backward_diff(t, f)\n",
    "dfdt_ctr = central_diff(t, f)\n",
    "\n",
    "plt.plot(t, dfdt_analytical, label='forward difference approximation')\n",
    "plt.plot(t, dfdt_analytical, label='backward difference approximation')\n",
    "plt.plot(t, dfdt_analytical, label='central difference approximation')\n",
    "plt.plot(t, dfdt_analytical, 'k--', label='analytical derivative')\n",
    "plt.legend();"
   ]
  },
  {
   "cell_type": "markdown",
   "metadata": {},
   "source": [
    "The solution for a greater t interval:"
   ]
  },
  {
   "cell_type": "code",
   "execution_count": 53,
   "metadata": {},
   "outputs": [
    {
     "data": {
      "image/png": "[encoded data removed]",
      "text/plain": [
       "<Figure size 432x288 with 1 Axes>"
      ]
     },
     "metadata": {},
     "output_type": "display_data"
    }
   ],
   "source": [
    "t = np.linspace(0, 2 * np.pi, 100)\n",
    "f = np.sin(t)\n",
    "\n",
    "dfdt_analytical = np.cos(t)\n",
    "\n",
    "dfdt_fwd = forward_diff(t, f)\n",
    "dfdt_bck = backward_diff(t, f)\n",
    "dfdt_ctr = central_diff(t, f)\n",
    "\n",
    "plt.plot(t, dfdt_analytical, label='forward difference approximation')\n",
    "plt.plot(t, dfdt_analytical, label='backward difference approximation')\n",
    "plt.plot(t, dfdt_analytical, label='central difference approximation')\n",
    "plt.plot(t, dfdt_analytical, 'k--', label='analytical derivative')\n",
    "plt.plot(t, f, label='function')\n",
    "plt.legend(loc='best');"
   ]
  },
  {
   "cell_type": "markdown",
   "metadata": {},
   "source": [
    "In computing terms, calculation that use loops are slow.\n",
    "\n",
    "However, for practical purposes, this is a fast way to approximate the numerical derivative for *smooth* function data."
   ]
  },
  {
   "cell_type": "markdown",
   "metadata": {},
   "source": [
    "## Numerical Derivatives by Difference Methods\n",
    "\n",
    "Some of the functions that we considered in the previous classes we generated by fitting a polynomial curve to empirical (and sometimes noisy) data.\n",
    "\n",
    "To find the derivative of a polynomial function, we can use the numpy function, `polyder`\n",
    "\n"
   ]
  },
  {
   "cell_type": "markdown",
   "metadata": {},
   "source": [
    "Example:\n",
    "    $$p(x) = x^3 + x^2 + x^1 + 1$$\n",
    "    \n",
    "Find $p'(x)$"
   ]
  },
  {
   "cell_type": "code",
   "execution_count": 54,
   "metadata": {},
   "outputs": [
    {
     "name": "stdout",
     "output_type": "stream",
     "text": [
      "   2\n",
      "3 x + 2 x + 1\n"
     ]
    }
   ],
   "source": [
    "p = np.poly1d([1,1,1,1])\n",
    "pd = np.polyder(p)\n",
    "print(pd)"
   ]
  },
  {
   "cell_type": "markdown",
   "metadata": {},
   "source": [
    "Find $p'(2)$"
   ]
  },
  {
   "cell_type": "code",
   "execution_count": 56,
   "metadata": {},
   "outputs": [
    {
     "data": {
      "text/plain": [
       "17.0"
      ]
     },
     "execution_count": 56,
     "metadata": {},
     "output_type": "execute_result"
    }
   ],
   "source": [
    "pd(2.)"
   ]
  },
  {
   "cell_type": "markdown",
   "metadata": {},
   "source": [
    "We can check the solution using the forward/backward/central difference approximation.\n",
    "\n",
    "Forward difference approximation:\n",
    "\n",
    "$$ f' \\approx \\frac{f(x + \\Delta x)-f(x)}{\\Delta x} $$\n",
    "\n",
    "let $\\Delta x = 0.001$       "
   ]
  },
  {
   "cell_type": "code",
   "execution_count": 57,
   "metadata": {},
   "outputs": [
    {
     "name": "stdout",
     "output_type": "stream",
     "text": [
      "17.007000999997857\n"
     ]
    }
   ],
   "source": [
    "pd2 = (p(2. + 0.001) - p(2.)) / 0.001\n",
    "print(pd2)"
   ]
  },
  {
   "cell_type": "markdown",
   "metadata": {},
   "source": [
    "`polyder` can be be used to solve higher order derivatives by giving a second argument:"
   ]
  },
  {
   "cell_type": "code",
   "execution_count": 59,
   "metadata": {},
   "outputs": [
    {
     "name": "stdout",
     "output_type": "stream",
     "text": [
      " \n",
      "6 x + 2\n",
      " \n",
      "6\n",
      " \n",
      "0\n"
     ]
    }
   ],
   "source": [
    "# second derivative of p\n",
    "print(np.polyder(p, 2))\n",
    "\n",
    "# third derivative of p\n",
    "print(np.polyder(p, 3))\n",
    "\n",
    "# fourth derivative of p\n",
    "print(np.polyder(p, 4))"
   ]
  },
  {
   "cell_type": "markdown",
   "metadata": {},
   "source": [
    "The fourth derivative of a 3rd-order polynomial is zero."
   ]
  },
  {
   "cell_type": "markdown",
   "metadata": {},
   "source": [
    "## Piecewise Functions\n",
    "Occaisionally we need to define piecewise functions e.g.:\n",
    "\n",
    "$$f(x)=\n",
    "\\begin{cases} \n",
    "      0   & ,x < 0 \\\\\n",
    "      x   & ,0\\leq x \\leq 1 \\\\\n",
    "      2-x & ,1 < x \\leq 2 \\\\\n",
    "      x+1 & ,x > 2 \n",
    "\\end{cases}\n",
    "$$\n"
   ]
  },
  {
   "cell_type": "markdown",
   "metadata": {},
   "source": [
    "A simple way to solve this is to use conditional statements.\n",
    "\n",
    "However, the function is not vectorised (we cannot apply it directly to a data structure)."
   ]
  },
  {
   "cell_type": "code",
   "execution_count": 69,
   "metadata": {},
   "outputs": [
    {
     "name": "stdout",
     "output_type": "stream",
     "text": [
      "0\n"
     ]
    }
   ],
   "source": [
    "def f1(x): \n",
    "    if x < 0:\n",
    "        return 0\n",
    "    elif 0 <= x <= 1:\n",
    "        return x \n",
    "    elif 1 < x <= 2:\n",
    "        return 2.0 - x \n",
    "    else:\n",
    "         return x + 1.0\n",
    "\n",
    "print(f1(-1))\n",
    "\n",
    "# Application to data structure causes an error\n",
    "# print(f1([0, 1, 2, 3, 4]))"
   ]
  },
  {
   "cell_type": "markdown",
   "metadata": {},
   "source": [
    "You can get vectorized behavior (apply the function to each element) by looping through each value in the data structure.\n",
    "\n",
    "This is not ideal e.g. we cannot directly plot or interrogate the function. \n",
    "\n",
    "Ideally we want a function where both of the following statements are allowable:\n",
    "\n",
    "        print(f1([0, 1, 2, 3, 4]))\n",
    "        print(f1(0))"
   ]
  },
  {
   "cell_type": "markdown",
   "metadata": {},
   "source": [
    "In seminar 04_AdvancedFunctions_Libraries.ipynb we learnt to use the numpy function `vectorise` to allow a function to accept both single variables and data structures as input arguments.\n",
    "\n",
    "This is an example of where vectorising a function is really useful."
   ]
  },
  {
   "cell_type": "code",
   "execution_count": 70,
   "metadata": {},
   "outputs": [
    {
     "name": "stdout",
     "output_type": "stream",
     "text": [
      "[0 1 0 4 5]\n",
      "0\n"
     ]
    }
   ],
   "source": [
    "f2 = np.vectorize(f1)\n",
    "print(f2([0, 1, 2, 3, 4]))\n",
    "print(f2(0))"
   ]
  },
  {
   "cell_type": "markdown",
   "metadata": {},
   "source": [
    "The main advantages of vectorization are:\n",
    "- simplicity of code\n",
    "- speed\n",
    "\n",
    "Loops in python are usually very slow compared to vectorized functions.\n"
   ]
  },
  {
   "cell_type": "markdown",
   "metadata": {},
   "source": [
    "## Integrating Equations \n",
    "A common need in engineering calculations is to __integrate__ an equation over some range to determine the total change. \n",
    "\n",
    "\n",
    "For example, find the integral of a function f(x) from a to b i.e.\n",
    "\n",
    "$$V = \\int_{a}^{b} f(x) dx$$\n"
   ]
  },
  {
   "cell_type": "markdown",
   "metadata": {},
   "source": [
    "As a specific example, lets find the integrate:\n",
    "$$y = x^2$$\n",
    "\n",
    "with respect to $x$,\n",
    "<br>within the limits $x=0$ to $x=1$. "
   ]
  },
  {
   "cell_type": "markdown",
   "metadata": {},
   "source": [
    "\\begin{align*}\n",
    "V &= \\int_{0}^{1} x^2 dx\\\\\n",
    "  &= \\frac{1}{3}x^3 \\biggr\\rvert_0^{1}\\\\\n",
    "  &= \\frac{1}{3}(1)^3 - \\frac{1}{3}(0)^3\\\\\n",
    "  &= \\frac{1}{3}\n",
    "\\end{align*}"
   ]
  },
  {
   "cell_type": "markdown",
   "metadata": {},
   "source": [
    "The scipy function `quad` is very convenient for solving integration problems:"
   ]
  },
  {
   "cell_type": "code",
   "execution_count": null,
   "metadata": {},
   "outputs": [],
   "source": [
    "from scipy.integrate import quad"
   ]
  },
  {
   "cell_type": "code",
   "execution_count": 83,
   "metadata": {},
   "outputs": [
    {
     "name": "stdout",
     "output_type": "stream",
     "text": [
      "0.33333333333333337\n",
      "The estimated error is 3.700743415417189e-15\n"
     ]
    }
   ],
   "source": [
    "# create a function to describe the integrand\n",
    "def integrand(x):\n",
    "    return x**2\n",
    "\n",
    "# input arguments : \n",
    "# function\n",
    "# lower limit\n",
    "# upper limit \n",
    "ans, err = quad(integrand, 0, 1)\n",
    "\n",
    "print(ans)\n",
    "print(f'The estimated error is {err}')"
   ]
  },
  {
   "cell_type": "markdown",
   "metadata": {},
   "source": [
    "The change in volumetric flow rate into a tank (with respect to time):\n",
    "\n",
    "$$ \\frac{dv}{dt}=\\alpha t $$\n",
    "\n",
    "where $\\alpha = 1\\textrm{L/s}$ \n",
    "\n",
    "<img src=\"img/kirchhoffLaws.png\" alt=\"Drawing\" style=\"width: 300px;\"/> "
   ]
  },
  {
   "cell_type": "markdown",
   "metadata": {},
   "source": [
    "__How much liquid flows into the tank over 10 minutes?__\n",
    "<br>Initial flow rate:\n",
    "<br>$v_0=5\\textrm{L/s,} \\qquad t=0$\n",
    "\n",
    "__Solution__\n",
    "\n",
    "We can see that at \n",
    "\n",
    "\\begin{align*}\n",
    "v_1 &= v_0 + \\frac{dv}{dt}\\\\\n",
    "    &= v_0 + \\alpha (1) \\\\\n",
    "\\end{align*}\n",
    "\n",
    "i.e.\n",
    "\n",
    "$$v_n = v_0 + \\alpha n$$\n",
    "\n",
    "<img src=\"img/kirchhoffLaws.png\" alt=\"Drawing\" style=\"width: 300px;\"/> "
   ]
  },
  {
   "cell_type": "markdown",
   "metadata": {},
   "source": [
    "To find the total __volume__ of liquid the enters the tank in $n$ seconds:\n",
    "\n",
    "$$V = \\int_{0}^{n} v_0 + \\alpha t \\quad dt$$"
   ]
  },
  {
   "cell_type": "code",
   "execution_count": 86,
   "metadata": {},
   "outputs": [
    {
     "name": "stdout",
     "output_type": "stream",
     "text": [
      "100.0 L flowed into the tank in 10 seconds\n",
      "The estimated error is 1.1102230246251565e-12\n"
     ]
    }
   ],
   "source": [
    "from scipy.integrate import quad\n",
    "\n",
    "t0=0.0\n",
    "tfinal = 10.0\n",
    "v0=5       # L/s\n",
    "alpha = 1  # L/s\n",
    "\n",
    "\n",
    "# create a function to describe the integrand\n",
    "def integrand(t):\n",
    "    return v0 + alpha * t\n",
    "\n",
    "\n",
    "# input arguments : \n",
    "# function\n",
    "# lower limit\n",
    "# upper limit\n",
    "V, err = quad(integrand, t0, tfinal)\n",
    "\n",
    "\n",
    "print(f'{V} L flowed into the tank in 10 seconds')\n",
    "print(f'The estimated error is {err}')"
   ]
  },
  {
   "cell_type": "markdown",
   "metadata": {},
   "source": [
    "We can check the solution:\n",
    "    \n",
    "\\begin{align*}\n",
    "V &= \\int_{0}^{10} v_0 + \\alpha t \\quad dt\\\\\n",
    "  &= v_0(t) + \\frac{1}{2}\\alpha t^2 \\biggr\\rvert_0^{10}\\\\\n",
    "  &=100\n",
    "\\end{align*}"
   ]
  },
  {
   "cell_type": "markdown",
   "metadata": {},
   "source": [
    "### Nested Integrals\n",
    "Sometimes engineering problems require us to integrate an expression multiple times to find the desired solution.\n",
    "\n",
    "In that case, we can instead use the function:\n",
    "- `scipy.integrate.dblquad` : double integral\n",
    "- `scipy.integrate.tplquad` : triple integral\n",
    "- `scipy.integrate.nquad`   : any number of intergals"
   ]
  },
  {
   "cell_type": "code",
   "execution_count": 90,
   "metadata": {},
   "outputs": [],
   "source": [
    "from scipy.integrate import dblquad\n",
    "from scipy.integrate import tplquad\n",
    "from scipy.integrate import nquad"
   ]
  },
  {
   "cell_type": "markdown",
   "metadata": {},
   "source": [
    "__Example:__ Area of a rectangle.\n",
    "    \n",
    "<img src=\"img/area_integrate.png\" alt=\"Drawing\" style=\"width: 300px;\"/>     \n",
    "A very simple application of a nested integral is to find the area, $A$, of a rectangle using the upper and lower x and y limits that define the position of the retangles vertices."
   ]
  },
  {
   "cell_type": "markdown",
   "metadata": {},
   "source": [
    "$$ A = \\int_{y=c}^{d}\\int_{x=a}^{b} \\quad dxdy$$"
   ]
  },
  {
   "cell_type": "code",
   "execution_count": 139,
   "metadata": {},
   "outputs": [
    {
     "name": "stdout",
     "output_type": "stream",
     "text": [
      "(4.5, 9.992007221626409e-14)\n"
     ]
    }
   ],
   "source": [
    "# Some arbitrary values\n",
    "a, b, c, d = 1, 10, 0, 0.5\n",
    "\n",
    "f = lambda x, y: 1\n",
    "\n",
    "# Arguments:\n",
    "# function, outer integral limits --> inner integral limits\n",
    "area = dblquad(f, c, d,     # y limits\n",
    "               lambda x: a, # x limits\n",
    "               lambda x: b)\n",
    "print(area)"
   ]
  },
  {
   "cell_type": "code",
   "execution_count": 141,
   "metadata": {},
   "outputs": [
    {
     "name": "stdout",
     "output_type": "stream",
     "text": [
      "(4.5, 9.992007221626409e-14)\n"
     ]
    }
   ],
   "source": [
    "# Arguments:\n",
    "# function, inner integral limits --> outer integral limits\n",
    "area = nquad(f, [[a, b],   # x limits\n",
    "                 [c, d]])  # y limits\n",
    "print(area)"
   ]
  },
  {
   "cell_type": "markdown",
   "metadata": {},
   "source": [
    "##### Triple Integral\n",
    "$$ A = \\int_{z=e}^{f} \\int_{y=c}^{d}\\int_{x=a}^{b} kxyz\\quad dxdy$$"
   ]
  },
  {
   "cell_type": "code",
   "execution_count": 142,
   "metadata": {},
   "outputs": [
    {
     "name": "stdout",
     "output_type": "stream",
     "text": [
      "(5.625, 9.97393438277222e-14)\n"
     ]
    }
   ],
   "source": [
    "# Some arbitrary values\n",
    "a, b, c, d, e, f = 0, 1, 2, 3, 1, 2\n",
    "\n",
    "f = lambda z, y, x, k: k*x*y*z\n",
    "\n",
    "# Arguments:\n",
    "# function, outer integral limits --> inner integral limits\n",
    "a = tplquad(f, 1, 2,                        # z limits  \n",
    "            lambda x: 2, lambda x: 3,       # y limits\n",
    "            lambda x, y: 0, lambda x, y: 1, # x limits\n",
    "            args=(3,))\n",
    "print(a)\n"
   ]
  },
  {
   "cell_type": "code",
   "execution_count": 143,
   "metadata": {},
   "outputs": [
    {
     "name": "stdout",
     "output_type": "stream",
     "text": [
      "(5.625, 9.97393438277222e-14)\n"
     ]
    }
   ],
   "source": [
    "# Arguments:\n",
    "# function, inner integral limits --> outer integral limits\n",
    "\n",
    "a = nquad(f, [[0, 1],    # x limits \n",
    "              [2, 3],    # y limits\n",
    "              [1, 2]],   # z limits\n",
    "              args=(3,)) # additional arguments of function f\n",
    "\n",
    "print(a)"
   ]
  },
  {
   "cell_type": "markdown",
   "metadata": {},
   "source": [
    "## Symbolic Mathematics\n",
    "Sometimes we want to express the solution in the form of a symbolic expression (rather than an exact solution).\n",
    "\n",
    "The `Sympy` package is designed for symbolic mathematics. "
   ]
  },
  {
   "cell_type": "code",
   "execution_count": 154,
   "metadata": {},
   "outputs": [],
   "source": [
    "from sympy import solve, symbols, pprint \n",
    "\n"
   ]
  },
  {
   "cell_type": "markdown",
   "metadata": {},
   "source": [
    "### Symbolic Polynomials\n",
    "To write a symbolic equation, we first create variables to store the symbols we want to use:"
   ]
  },
  {
   "cell_type": "code",
   "execution_count": 315,
   "metadata": {},
   "outputs": [],
   "source": [
    "a, b, c, x = symbols('a, b, c, x')"
   ]
  },
  {
   "cell_type": "markdown",
   "metadata": {},
   "source": [
    "We then write an equation, using the variable names.\n",
    "\n",
    "$$f(x) = ax^2 + bx + c$$"
   ]
  },
  {
   "cell_type": "code",
   "execution_count": 316,
   "metadata": {},
   "outputs": [],
   "source": [
    "f = a*x**2 + b*x + c"
   ]
  },
  {
   "cell_type": "markdown",
   "metadata": {},
   "source": [
    "Let's *symbolically* find the roots of the function $f(x)$.\n",
    "\n",
    "`scipy.solve()` works in the same way as `numpy.linalg.solve()` (07_RootFinding_CoupledEquations.ipynb) but for symbolic mathematics."
   ]
  },
  {
   "cell_type": "code",
   "execution_count": 317,
   "metadata": {},
   "outputs": [
    {
     "name": "stdout",
     "output_type": "stream",
     "text": [
      "[(-b + sqrt(-4*a*c + b**2))/(2*a), -(b + sqrt(-4*a*c + b**2))/(2*a)]\n"
     ]
    }
   ],
   "source": [
    "solution = solve(f, x)\n",
    "\n",
    "print(solution)"
   ]
  },
  {
   "cell_type": "markdown",
   "metadata": {},
   "source": [
    "This equation takes the familar form  $\\frac{-b \\pm \\sqrt{b^2-4ac}}{2a}$.\n",
    "\n",
    "However, it is difficult to tell from the way it is written.\n",
    "\n",
    "`scipy.pprint` (pretty print) makes the solution more readable:"
   ]
  },
  {
   "cell_type": "code",
   "execution_count": 318,
   "metadata": {},
   "outputs": [
    {
     "name": "stdout",
     "output_type": "stream",
     "text": [
      "⎡        _____________   ⎛       _____________⎞ ⎤\n",
      "⎢       ╱           2    ⎜      ╱           2 ⎟ ⎥\n",
      "⎢-b + ╲╱  -4⋅a⋅c + b    -⎝b + ╲╱  -4⋅a⋅c + b  ⎠ ⎥\n",
      "⎢─────────────────────, ────────────────────────⎥\n",
      "⎣         2⋅a                     2⋅a           ⎦\n"
     ]
    }
   ],
   "source": [
    "pprint(solution)"
   ]
  },
  {
   "cell_type": "markdown",
   "metadata": {},
   "source": [
    "### Symbolic Differentiation\n",
    "`sympy.diff`\n",
    "    "
   ]
  },
  {
   "cell_type": "code",
   "execution_count": 325,
   "metadata": {},
   "outputs": [],
   "source": [
    "from sympy import diff\n",
    "\n",
    "f = a*x**2 + b*x + c"
   ]
  },
  {
   "cell_type": "markdown",
   "metadata": {},
   "source": [
    "$f'(x)$ <br>(first derivative w.r.t $x$)"
   ]
  },
  {
   "cell_type": "code",
   "execution_count": 326,
   "metadata": {},
   "outputs": [
    {
     "name": "stdout",
     "output_type": "stream",
     "text": [
      "2*a*x + b\n"
     ]
    }
   ],
   "source": [
    "print(diff(f, x))"
   ]
  },
  {
   "cell_type": "markdown",
   "metadata": {},
   "source": [
    "$f''(x)$ <br>(second derivative w.r.t $x$)"
   ]
  },
  {
   "cell_type": "code",
   "execution_count": 327,
   "metadata": {},
   "outputs": [
    {
     "name": "stdout",
     "output_type": "stream",
     "text": [
      "2*a\n"
     ]
    }
   ],
   "source": [
    "print(diff(f, x, 2))"
   ]
  },
  {
   "cell_type": "markdown",
   "metadata": {},
   "source": [
    "$f'(a)$ <br>(first derivative w.r.t $a$)"
   ]
  },
  {
   "cell_type": "code",
   "execution_count": 328,
   "metadata": {},
   "outputs": [
    {
     "name": "stdout",
     "output_type": "stream",
     "text": [
      "x**2\n"
     ]
    }
   ],
   "source": [
    "print(diff(f, a))"
   ]
  },
  {
   "cell_type": "markdown",
   "metadata": {},
   "source": [
    "### Symbolic Integration\n",
    "`sympy.integrate`"
   ]
  },
  {
   "cell_type": "code",
   "execution_count": 329,
   "metadata": {},
   "outputs": [
    {
     "name": "stdout",
     "output_type": "stream",
     "text": [
      "a*x**3/3 + b*x**2/2 + c*x\n",
      "a/3 + b/2 + c\n"
     ]
    }
   ],
   "source": [
    "from sympy import integrate\n",
    "\n",
    "print(integrate(f, x))\n",
    "print(integrate(f, (x, 0, 1))) # definite integral from x=0..1"
   ]
  },
  {
   "cell_type": "markdown",
   "metadata": {},
   "source": [
    "### Differentiating a Symbolic Function\n",
    "We can also symbolically represent:\n",
    "- a function.\n",
    "- a *single* symbol using `Symbol()`.\n",
    "<br>*Notice how this differs from `symbols` for creating multiple symbols.*"
   ]
  },
  {
   "cell_type": "code",
   "execution_count": 332,
   "metadata": {},
   "outputs": [],
   "source": [
    "from sympy import Function, Symbol\n",
    "f = Function('f')\n",
    "x = Symbol('x')"
   ]
  },
  {
   "cell_type": "markdown",
   "metadata": {},
   "source": [
    "The syntax for differentiation of a *symbolic function* is also different from the syntax for a function comprised of *symbolic variables*. "
   ]
  },
  {
   "cell_type": "code",
   "execution_count": 333,
   "metadata": {},
   "outputs": [
    {
     "name": "stdout",
     "output_type": "stream",
     "text": [
      "d       \n",
      "──(f(x))\n",
      "dx      \n"
     ]
    }
   ],
   "source": [
    "fd = f(x).diff(x)\n",
    "\n",
    "pprint(fd)"
   ]
  },
  {
   "cell_type": "markdown",
   "metadata": {},
   "source": [
    "## Oridnary Differential Equations\n",
    "__Ordinary differential equation__\n",
    "<br>A differential equation containing one or more functions of one independent variable and its derivatives. \n",
    "\n",
    "Sometimes you want to solve a differential equation.\n",
    "i.e. Given an equation containing the derivatives of the function $f(x)$, find $f(x)$."
   ]
  },
  {
   "cell_type": "markdown",
   "metadata": {},
   "source": [
    "### Symbolic Analytical Solution to ODE\n",
    "The function `sympy.dsolve` can be used to find the solution to any ordinary differential equation."
   ]
  },
  {
   "cell_type": "code",
   "execution_count": 369,
   "metadata": {},
   "outputs": [],
   "source": [
    "from sympy import dsolve, Eq, sin, cos"
   ]
  },
  {
   "cell_type": "markdown",
   "metadata": {},
   "source": [
    "Syntax to represent $f'(x)$\n",
    "        \n",
    "        f(x).diff(x)\n",
    "        \n",
    "Syntax to represent $f''(x)$\n",
    "        \n",
    "        f(x).diff(x, x)"
   ]
  },
  {
   "cell_type": "markdown",
   "metadata": {},
   "source": [
    "In the next examples we will:\n",
    "- solve ODE symbolically to find the general solution, $f(x)$\n",
    "- substitute an initial condition to find constants of the general solution\n",
    "- find the value of the function for a specific input variable."
   ]
  },
  {
   "cell_type": "markdown",
   "metadata": {},
   "source": [
    "Let's start with an example we used earlier: \n",
    "\n",
    "$$f'(x) = cos(x), \\quad f(x) = sin(x)$$"
   ]
  },
  {
   "cell_type": "markdown",
   "metadata": {},
   "source": [
    "We create a variable to represent:\n",
    "- the function $f(x)$\n",
    "- the input variable $x$"
   ]
  },
  {
   "cell_type": "code",
   "execution_count": 370,
   "metadata": {},
   "outputs": [],
   "source": [
    "f = Function('f')\n",
    "x = Symbol('x')"
   ]
  },
  {
   "cell_type": "markdown",
   "metadata": {},
   "source": [
    "We create a Sympy `Eq` equation.\n",
    "\n",
    "The first argument (left hand side of equation) is equal to the second argument (right hand side of equation)."
   ]
  },
  {
   "cell_type": "code",
   "execution_count": 371,
   "metadata": {},
   "outputs": [],
   "source": [
    "ode = Eq(f(x).diff(x), cos(x))"
   ]
  },
  {
   "cell_type": "markdown",
   "metadata": {},
   "source": [
    "We find the general solution, with unknown constant, `C1`:"
   ]
  },
  {
   "cell_type": "code",
   "execution_count": 372,
   "metadata": {},
   "outputs": [
    {
     "name": "stdout",
     "output_type": "stream",
     "text": [
      "f(x) = C₁ + sin(x)\n"
     ]
    }
   ],
   "source": [
    "# General solution\n",
    "gen_sol = dsolve(ode, f(x))\n",
    "\n",
    "pprint(gen_sol)\n"
   ]
  },
  {
   "cell_type": "markdown",
   "metadata": {},
   "source": [
    "The package `display` can also be used to achieve more readable print formatting for mathematical equations:"
   ]
  },
  {
   "cell_type": "code",
   "execution_count": 373,
   "metadata": {},
   "outputs": [],
   "source": [
    "from IPython.display import display"
   ]
  },
  {
   "cell_type": "code",
   "execution_count": 374,
   "metadata": {},
   "outputs": [
    {
     "data": {
      "image/png": "[encoded data removed]",
      "text/latex": [
       "$$f{\\left (x \\right )} = C_{1} + \\sin{\\left (x \\right )}$$"
      ],
      "text/plain": [
       "Eq(f(x), C1 + sin(x))"
      ]
     },
     "metadata": {},
     "output_type": "display_data"
    }
   ],
   "source": [
    "display(gen_sol)"
   ]
  },
  {
   "cell_type": "markdown",
   "metadata": {},
   "source": [
    "Use an initial value, $x=0, \\quad f(x)=0$ to find `C1`.\n",
    "\n",
    "`subs` takes a list og the substitutions we want to make as arguments."
   ]
  },
  {
   "cell_type": "code",
   "execution_count": 375,
   "metadata": {
    "scrolled": true
   },
   "outputs": [
    {
     "data": {
      "image/png": "[encoded data removed]",
      "text/latex": [
       "$$0 = C_{1}$$"
      ],
      "text/plain": [
       "Eq(0, C1)"
      ]
     },
     "metadata": {},
     "output_type": "display_data"
    }
   ],
   "source": [
    "const = gen_sol.subs([(x,0),       # x = 0\n",
    "                      (f(0), 0)])  # f(x) = 0\n",
    "display(const)"
   ]
  },
  {
   "cell_type": "markdown",
   "metadata": {},
   "source": [
    "Substitute `C1` into the general solution"
   ]
  },
  {
   "cell_type": "code",
   "execution_count": 376,
   "metadata": {},
   "outputs": [
    {
     "data": {
      "image/png": "[encoded data removed]",
      "text/latex": [
       "$$f{\\left (x \\right )} = \\sin{\\left (x \\right )}$$"
      ],
      "text/plain": [
       "Eq(f(x), sin(x))"
      ]
     },
     "metadata": {},
     "output_type": "display_data"
    }
   ],
   "source": [
    "ode_sol = gen_sol.subs([(const.rhs, const.lhs)])\n",
    "display (ode_sol) "
   ]
  },
  {
   "cell_type": "markdown",
   "metadata": {},
   "source": [
    "##### What does this code do?\n",
    "\n",
    ">`ode_sol = A_sol.subs([(const.rhs, const.lhs)])`\n",
    "\n",
    "`const` is a Sympy __`Eq`__ (equation) object.\n",
    "\n",
    "The first argument (left hand side of equation) is equal to the second argument (right hand side of equation)."
   ]
  },
  {
   "cell_type": "code",
   "execution_count": 377,
   "metadata": {},
   "outputs": [
    {
     "name": "stdout",
     "output_type": "stream",
     "text": [
      "Eq(0, C1)\n"
     ]
    }
   ],
   "source": [
    "print(const)"
   ]
  },
  {
   "cell_type": "markdown",
   "metadata": {},
   "source": [
    "This means we can conveniently access the left and right hand using `lhs` and `rhs`.\n",
    "\n",
    "The expression on the right hand side of `const` is replaced by the expression on the left hand side of `const` wherever it appears in the general solution."
   ]
  },
  {
   "cell_type": "markdown",
   "metadata": {},
   "source": [
    "We can use `subs` again to find the value of $f(x)$ at any input value $x$."
   ]
  },
  {
   "cell_type": "code",
   "execution_count": 394,
   "metadata": {},
   "outputs": [
    {
     "data": {
      "image/png": "[encoded data removed]",
      "text/latex": [
       "$$f{\\left (1.5707963267949 \\right )} = 1.0$$"
      ],
      "text/plain": [
       "Eq(f(1.5707963267949), 1.00000000000000)"
      ]
     },
     "metadata": {},
     "output_type": "display_data"
    }
   ],
   "source": [
    "spec_sol = ode_sol.subs([(x, np.pi/2)])\n",
    "display(spec_sol) "
   ]
  },
  {
   "cell_type": "markdown",
   "metadata": {},
   "source": [
    "Lastly, we convert the symbolic representation to a numerical value using the method `evalf`."
   ]
  },
  {
   "cell_type": "code",
   "execution_count": 397,
   "metadata": {},
   "outputs": [
    {
     "data": {
      "image/png": "[encoded data removed]",
      "text/latex": [
       "$$f{\\left (1.5707963267949 \\right )} = 1.0$$"
      ],
      "text/plain": [
       "Eq(f(1.5707963267949), 1.00000000000000)"
      ]
     },
     "metadata": {},
     "output_type": "display_data"
    }
   ],
   "source": [
    "display(spec_sol.evalf()) "
   ]
  },
  {
   "cell_type": "markdown",
   "metadata": {},
   "source": [
    "Taking another expression containing higher order derivatives, \n",
    "<br>we can write the equation:\n",
    "\n",
    "$$A=f''(x) + f(x)=sin(x)$$    "
   ]
  },
  {
   "cell_type": "code",
   "execution_count": 398,
   "metadata": {},
   "outputs": [],
   "source": [
    "f = Function('f')\n",
    "x = Symbol('x')\n",
    "\n",
    "A = Eq(f(x).diff(x, x) + f(x), sin(x))"
   ]
  },
  {
   "cell_type": "markdown",
   "metadata": {},
   "source": [
    "...and find the general solution.\n",
    "\n",
    "The highest order differential is a second order differential.\n",
    "\n",
    "We will have two constants in the solution"
   ]
  },
  {
   "cell_type": "code",
   "execution_count": 362,
   "metadata": {},
   "outputs": [
    {
     "name": "stdout",
     "output_type": "stream",
     "text": [
      "       ⎛      x           x       ⎞    \n",
      "       ⎜     ℯ ⋅sin(x)   ℯ ⋅cos(x)⎟  -x\n",
      "f(x) = ⎜C₁ + ───────── - ─────────⎟⋅ℯ  \n",
      "       ⎝         2           2    ⎠    \n"
     ]
    }
   ],
   "source": [
    "# General solution\n",
    "gen_sol = dsolve(A, f(x))\n",
    "\n",
    "pprint(gen_sol)\n",
    "#display(A_sol)"
   ]
  },
  {
   "cell_type": "markdown",
   "metadata": {},
   "source": [
    "Find the constant by substituting in values for $x$ and $f(x)$ at initial condition.\n",
    "\n",
    "`subs` takes a list og the substitutions we want to make as arguments."
   ]
  },
  {
   "cell_type": "code",
   "execution_count": 363,
   "metadata": {
    "scrolled": true
   },
   "outputs": [
    {
     "data": {
      "image/png": "[encoded data removed]",
      "text/latex": [
       "$$0 = C_{1} - \\frac{1}{2}$$"
      ],
      "text/plain": [
       "Eq(0, C1 - 1/2)"
      ]
     },
     "metadata": {},
     "output_type": "display_data"
    }
   ],
   "source": [
    "const = gen_sol.subs([(x,0),       # x = 0\n",
    "                      (f(0), 0)])  # f(x) = 0\n",
    "display(const)"
   ]
  },
  {
   "cell_type": "code",
   "execution_count": 364,
   "metadata": {
    "scrolled": true
   },
   "outputs": [],
   "source": [
    "# const = A_sol.subs([(f(0), 0),  (x,0)     # x = 0\n",
    "#                     ])  # f(x) = 0\n",
    "# display(const)"
   ]
  },
  {
   "cell_type": "markdown",
   "metadata": {},
   "source": [
    "Substitute the constant into the general solution"
   ]
  },
  {
   "cell_type": "code",
   "execution_count": 365,
   "metadata": {},
   "outputs": [
    {
     "data": {
      "image/png": "[encoded data removed]",
      "text/latex": [
       "$$f{\\left (x \\right )} = \\left(\\frac{e^{x}}{2} \\sin{\\left (x \\right )} - \\frac{e^{x}}{2} \\cos{\\left (x \\right )} + \\frac{1}{2}\\right) e^{- x}$$"
      ],
      "text/plain": [
       "Eq(f(x), (exp(x)*sin(x)/2 - exp(x)*cos(x)/2 + 1/2)*exp(-x))"
      ]
     },
     "metadata": {},
     "output_type": "display_data"
    }
   ],
   "source": [
    "ode_sol = gen_sol.subs([(const.rhs, const.lhs)])\n",
    "display (ode_sol) "
   ]
  },
  {
   "cell_type": "markdown",
   "metadata": {},
   "source": [
    "##### What does this code do?\n",
    "\n",
    ">`ode_sol = A_sol.subs([(const.rhs, const.lhs)])`\n",
    "\n",
    "`const` is a Sympy __`Eq`__ (equation) object."
   ]
  },
  {
   "cell_type": "code",
   "execution_count": 366,
   "metadata": {},
   "outputs": [
    {
     "name": "stdout",
     "output_type": "stream",
     "text": [
      "Eq(0, C1 - 1/2)\n"
     ]
    }
   ],
   "source": [
    "print(const)"
   ]
  },
  {
   "cell_type": "markdown",
   "metadata": {},
   "source": [
    "This means we can conveniently access the left and right hand using `lhs` and `rhs`.\n",
    "\n",
    "The expression on the right hand side of `const` is replaced by the expression on the left hand side of `const` wherever it appears in the general solution."
   ]
  },
  {
   "cell_type": "code",
   "execution_count": null,
   "metadata": {},
   "outputs": [],
   "source": []
  },
  {
   "cell_type": "code",
   "execution_count": null,
   "metadata": {},
   "outputs": [],
   "source": []
  },
  {
   "cell_type": "code",
   "execution_count": 341,
   "metadata": {},
   "outputs": [],
   "source": [
    "# #A_sol = dsolve(A, f(x), ics={f(0):0})\n",
    "# A_sol = dsolve(A, f(x)).rhs\n",
    "# print(\"Generic solution:\")\n",
    "# pprint(A_sol)\n",
    "# display(Eq(f(x), A_sol))\n",
    "\n",
    "# # Initial conditions:\n",
    "# cnd0 = sy.Eq(A_sol.subs(x, 0), 4)  # y(0) = 4\n",
    "\n",
    "# #  Solve for C1:\n",
    "# C1 = Symbol('C1')  # generic constants\n",
    "# C1_sl = sy.solve(cnd0, C1)\n",
    "\n",
    "# y_sl1 = sy.Eq(A_sol.subs(C1_sl))\n",
    "\n",
    "\n",
    "# Substitute back into solution:\n",
    "#y_sl1 = sy.simplify(A_sol.subs(C1_sl))\n",
    "# print(\"Solution with initial conditions:\")\n",
    "# display(sy.Eq(f(x), y_sl1))"
   ]
  },
  {
   "cell_type": "code",
   "execution_count": 344,
   "metadata": {},
   "outputs": [
    {
     "data": {
      "image/png": "[encoded data removed]",
      "text/latex": [
       "$$1 = C_{1}$$"
      ],
      "text/plain": [
       "Eq(1, C1)"
      ]
     },
     "metadata": {},
     "output_type": "display_data"
    },
    {
     "data": {
      "image/png": "[encoded data removed]",
      "text/latex": [
       "$$y{\\left (t \\right )} = \\left(t + 1\\right) e^{- t}$$"
      ],
      "text/plain": [
       "Eq(y(t), (t + 1)*exp(-t))"
      ]
     },
     "execution_count": 344,
     "metadata": {},
     "output_type": "execute_result"
    }
   ],
   "source": [
    "# http://maths-with-python.readthedocs.io/en/latest/07-sympy.html\n",
    "ode = sympy.Eq(y(t).diff(t), sympy.exp(-t) - y(t))\n",
    "sympy.dsolve(ode, y(t))\n",
    "general_solution = sympy.dsolve(ode, y(t))\n",
    "value = general_solution.subs([(t,0), (y(0), 1)])\n",
    "display(value)\n",
    "ode_solution = general_solution.subs([(value.rhs,value.lhs)])\n",
    "ode_solution"
   ]
  },
  {
   "cell_type": "code",
   "execution_count": 278,
   "metadata": {},
   "outputs": [
    {
     "name": "stdout",
     "output_type": "stream",
     "text": [
      "ODE:\n"
     ]
    },
    {
     "data": {
      "image/png": "[encoded data removed]",
      "text/latex": [
       "$$k y{\\left (t \\right )} + m \\frac{d^{2}}{d t^{2}}  y{\\left (t \\right )} = 0$$"
      ],
      "text/plain": [
       "Eq(k*y(t) + m*Derivative(y(t), t, t), 0)"
      ]
     },
     "metadata": {},
     "output_type": "display_data"
    },
    {
     "name": "stdout",
     "output_type": "stream",
     "text": [
      "Generic solution:\n"
     ]
    },
    {
     "data": {
      "image/png": "[encoded data removed]",
      "text/latex": [
       "$$y{\\left (t \\right )} = C_{1} e^{- t \\sqrt{- \\frac{k}{m}}} + C_{2} e^{t \\sqrt{- \\frac{k}{m}}}$$"
      ],
      "text/plain": [
       "Eq(y(t), C1*exp(-t*sqrt(-k/m)) + C2*exp(t*sqrt(-k/m)))"
      ]
     },
     "metadata": {},
     "output_type": "display_data"
    },
    {
     "name": "stdout",
     "output_type": "stream",
     "text": [
      "Solution with initial conditions:\n"
     ]
    },
    {
     "data": {
      "image/png": "[encoded data removed]",
      "text/latex": [
       "$$y{\\left (t \\right )} = - \\frac{m \\sqrt{- \\frac{k}{m}}}{2 k} \\left(a_{0} \\sqrt{- \\frac{k}{m}} - b_{0} + \\left(a_{0} \\sqrt{- \\frac{k}{m}} + b_{0}\\right) e^{2 t \\sqrt{- \\frac{k}{m}}}\\right) e^{- t \\sqrt{- \\frac{k}{m}}}$$"
      ],
      "text/plain": [
       "Eq(y(t), -m*sqrt(-k/m)*(a0*sqrt(-k/m) - b0 + (a0*sqrt(-k/m) + b0)*exp(2*t*sqrt(-k/m)))*exp(-t*sqrt(-k/m))/(2*k))"
      ]
     },
     "metadata": {},
     "output_type": "display_data"
    }
   ],
   "source": [
    "#https://stackoverflow.com/questions/34735660/sympy-second-order-ode\n",
    "from IPython.display import display\n",
    "import sympy as sy\n",
    "\n",
    "sy.init_printing()  # LaTeX-like pretty printing for IPython\n",
    "\n",
    "t = sy.Symbol(\"t\", real=True)\n",
    "m, k = sy.symbols('m k', real=True)  # gives C_1 Exp() + C_2 Exp() solution\n",
    "# m, k = sy.symbols('m k', positive=True)  # gives C_1 sin() + C_2 cos() sol.\n",
    "a0, b0 = sy.symbols('a0, b0', real=True)\n",
    "y = sy.Function('y')\n",
    "\n",
    "Eq1 = sy.Eq(m*sy.diff(y(t), t, 2) + k*y(t))\n",
    "print(\"ODE:\")\n",
    "display(Eq1)\n",
    "\n",
    "print(\"Generic solution:\")\n",
    "y_sl0 = sy.dsolve(Eq1, y(t)).rhs  # take only right hand side\n",
    "display(sy.Eq(y(t), y_sl0))\n",
    "\n",
    "# Initial conditions:\n",
    "cnd0 = sy.Eq(y_sl0.subs(t, 0), a0)  # y(0) = a0\n",
    "cnd1 = sy.Eq(y_sl0.diff(t).subs(t, 0), b0)  # y'(0) = b0\n",
    "\n",
    "#  Solve for C1, C2:\n",
    "C1, C2 = sy.symbols(\"C1, C2\")  # generic constants\n",
    "C1C2_sl = sy.solve([cnd0, cnd1], (C1, C2))\n",
    "\n",
    "# Substitute back into solution:\n",
    "y_sl1 = sy.simplify(y_sl0.subs(C1C2_sl))\n",
    "print(\"Solution with initial conditions:\")\n",
    "display(sy.Eq(y(t), y_sl1))"
   ]
  },
  {
   "cell_type": "markdown",
   "metadata": {},
   "source": [
    "We can then substitute in values for x. "
   ]
  },
  {
   "cell_type": "code",
   "execution_count": 206,
   "metadata": {},
   "outputs": [
    {
     "name": "stdout",
     "output_type": "stream",
     "text": [
      "Eq(f(4), (C1 + exp(4)*sin(4)/2 - exp(4)*cos(4)/2)*exp(-4))\n"
     ]
    }
   ],
   "source": [
    "print(A_sol.subs(x,4))\n",
    "\n"
   ]
  },
  {
   "cell_type": "code",
   "execution_count": 227,
   "metadata": {},
   "outputs": [
    {
     "name": "stdout",
     "output_type": "stream",
     "text": [
      "Eq(f(0), C1)\n",
      "Eq(f(0.5), C1 + 0.5*C2 - 0.479425538604203)\n",
      "Eq(f(1), C1 + C2 - sin(1))\n"
     ]
    }
   ],
   "source": [
    "B = [A_sol.subs(x, X) for X in [0, 0.5, 1]]# multiple values\n",
    "print(B[0])\n",
    "print(B[1])\n",
    "print(B[2])\n"
   ]
  },
  {
   "cell_type": "markdown",
   "metadata": {},
   "source": [
    "An example of a second order derivative:\n",
    "\n",
    "So we can write the equation:\n",
    "\n",
    "$$A=f''(x)=sin(x)$$"
   ]
  },
  {
   "cell_type": "code",
   "execution_count": 228,
   "metadata": {},
   "outputs": [],
   "source": [
    "A = Eq(f(x).diff(x,x), sin(x))\n"
   ]
  },
  {
   "cell_type": "markdown",
   "metadata": {},
   "source": [
    "...and find the general solution where `C1` and `C2` are constants of integration."
   ]
  },
  {
   "cell_type": "code",
   "execution_count": 275,
   "metadata": {},
   "outputs": [
    {
     "name": "stdout",
     "output_type": "stream",
     "text": [
      "f(x) = C₁ + sin(x)\n"
     ]
    },
    {
     "data": {
      "text/plain": [
       "Eq(f(x), C1 + sin(x))"
      ]
     },
     "metadata": {},
     "output_type": "display_data"
    }
   ],
   "source": [
    "A_sol = dsolve(A, f(x))\n",
    "pprint(A_sol)\n",
    "\n"
   ]
  },
  {
   "cell_type": "markdown",
   "metadata": {},
   "source": [
    "## Numerial Solutions to  Ordinary Differential Equations"
   ]
  },
  {
   "cell_type": "markdown",
   "metadata": {
    "slideshow": {
     "slide_type": "subslide"
    }
   },
   "source": [
    "The function `scipy.integrate.odeint` solves first order differential equations.\n",
    "\n",
    "In contrast to `dsolve`, this gives the numerical solution for a range of input values, rather than the symbolic expression."
   ]
  },
  {
   "cell_type": "code",
   "execution_count": 263,
   "metadata": {
    "slideshow": {
     "slide_type": "-"
    }
   },
   "outputs": [],
   "source": [
    "from scipy.integrate import odeint"
   ]
  },
  {
   "cell_type": "markdown",
   "metadata": {
    "slideshow": {
     "slide_type": "subslide"
    }
   },
   "source": [
    "The function `odeint` takes a user-defined function as an argument.\n",
    "\n",
    "This input function should define the derivative you want to solve in the form: \n",
    "\n",
    "$f' = \\frac{df}{dt} = g(t)$\n",
    "\n",
    "For example:\n",
    "\n",
    "$f' = cos(t), \\quad f(t=0)=0$"
   ]
  },
  {
   "cell_type": "code",
   "execution_count": 264,
   "metadata": {},
   "outputs": [],
   "source": [
    "def dfdt(x, t):\n",
    "    return np.cos(t)"
   ]
  },
  {
   "cell_type": "markdown",
   "metadata": {
    "slideshow": {
     "slide_type": "subslide"
    }
   },
   "source": [
    "Two additional arguments are needed:\n",
    "- the value(s) of t at which to evaluate x, starting with the initial value\n",
    "- the initial value of x\n",
    "- (if `dx_dt` takes any other argumemts they are entered as a tuple as the third argument)"
   ]
  },
  {
   "cell_type": "code",
   "execution_count": 265,
   "metadata": {
    "slideshow": {
     "slide_type": "subslide"
    }
   },
   "outputs": [],
   "source": [
    "ts = np.linspace(0,5,100) # the value(s) of t at which to evaluate x\n",
    "f0 = 0                    # the initial value\n",
    "\n",
    "# odeint returns x at each value of t\n",
    "fs = odeint(dfdt, # function\n",
    "            f0,   # initial value\n",
    "            ts)   # time span\n"
   ]
  },
  {
   "cell_type": "markdown",
   "metadata": {
    "slideshow": {
     "slide_type": "subslide"
    }
   },
   "source": [
    "The function `odeint` returns an $n\\times 1$ array (2D column).\n",
    "\n",
    "To plot the output we have to \"flatten\" it to a 1D array.\n",
    "\n",
    "Recall, $f' = cos(t), \\quad f = sin(t)$"
   ]
  },
  {
   "cell_type": "code",
   "execution_count": 267,
   "metadata": {
    "scrolled": false,
    "slideshow": {
     "slide_type": "subslide"
    }
   },
   "outputs": [
    {
     "data": {
      "text/plain": [
       "<matplotlib.legend.Legend object at 0x181c1727b8>"
      ]
     },
     "execution_count": 267,
     "metadata": {},
     "output_type": "execute_result"
    },
    {
     "data": {
      "image/png": "[encoded data removed]",
      "text/plain": [
       "<Figure size 432x288 with 1 Axes>"
      ]
     },
     "metadata": {},
     "output_type": "display_data"
    }
   ],
   "source": [
    "fs = np.array(fs).flatten()\n",
    "\n",
    "# plot the function  \n",
    "plt.xlabel(\"t\")\n",
    "plt.ylabel(\"f\")\n",
    "plt.plot(ts, np.sin(ts), label='analytical solution');\n",
    "plt.plot(ts, fs, label='numerical solution');\n",
    "plt.legend(loc='best')\n",
    "\n"
   ]
  },
  {
   "cell_type": "markdown",
   "metadata": {},
   "source": [
    "The numerical and analytical solutions agree."
   ]
  },
  {
   "cell_type": "markdown",
   "metadata": {},
   "source": [
    "We can then obtain the equation of the line using sympy."
   ]
  },
  {
   "cell_type": "code",
   "execution_count": 243,
   "metadata": {},
   "outputs": [
    {
     "name": "stdout",
     "output_type": "stream",
     "text": [
      "f(x) = C₁ + sin(x)\n"
     ]
    }
   ],
   "source": [
    "from sympy import cos\n",
    "f = Function('f')\n",
    "x = Symbol('x')\n",
    "\n",
    "A = Eq(f(x).diff(x), cos(x))\n",
    "A_sol = dsolve(A, f(x))\n",
    "pprint(A_sol)"
   ]
  },
  {
   "cell_type": "markdown",
   "metadata": {},
   "source": [
    "There is one unknown constant of integration.\n",
    "\n",
    "We can find this by substituting the initial condition using the method `subs`:\n"
   ]
  },
  {
   "cell_type": "code",
   "execution_count": null,
   "metadata": {},
   "outputs": [],
   "source": [
    "constants = solve((A_sol.subs(x,0)-x0, \n",
    "                   A_sol.diff(t).subs(t,0)-v0))\n",
    "\n",
    "\n",
    "display(constants)"
   ]
  },
  {
   "cell_type": "code",
   "execution_count": null,
   "metadata": {},
   "outputs": [],
   "source": []
  },
  {
   "cell_type": "code",
   "execution_count": null,
   "metadata": {},
   "outputs": [],
   "source": []
  },
  {
   "cell_type": "markdown",
   "metadata": {},
   "source": [
    "Let's take another example.\n",
    "\n",
    "The derivative of the natural exponential function:\n",
    "\n",
    "$f(x)=e^x, \\quad f'(x)=f(x)=e^x$"
   ]
  },
  {
   "cell_type": "code",
   "execution_count": 253,
   "metadata": {},
   "outputs": [],
   "source": [
    "def fprime(y,t):\n",
    "    return y"
   ]
  },
  {
   "cell_type": "code",
   "execution_count": 261,
   "metadata": {},
   "outputs": [
    {
     "name": "stdout",
     "output_type": "stream",
     "text": [
      "y = 3 at x = 1.098547805640928\n"
     ]
    },
    {
     "data": {
      "image/png": "[encoded data removed]",
      "text/plain": [
       "<Figure size 288x216 with 1 Axes>"
      ]
     },
     "metadata": {},
     "output_type": "display_data"
    }
   ],
   "source": [
    "tspan = np.linspace(0, 25)\n",
    "y0 = 1 \n",
    "\n",
    "ysol = odeint(fprime, y0, tspan)\n",
    "\n",
    "plt.figure(figsize=(4,3))\n",
    "plt.plot(tspan, ysol, label='numerical solution')\n",
    "plt.plot(tspan, np.exp(tspan), 'r--', label='analytical solution')\n",
    "\n",
    "\n",
    "\n",
    "tspan = np.linspace(0, 2)\n",
    "y0=1\n",
    "ysol = odeint(fprime, y0, tspan)\n",
    "\n",
    "from scipy.interpolate import interp1d\n",
    "ip = interp1d(ysol[:,0], tspan) # reverse interpolation\n",
    "ip = interp1d(ysol[:,0], tspan) # reverse interpolation\n",
    "print(f'y = 3 at x = {ip(3)}')\n",
    "\n",
    "#x_int = np.arange(x[0], x[-1]+interval, interval)\n",
    "\n",
    "\n",
    "\n",
    "# function data\n",
    "# plt.plot(x_int, np.exp(x_int), 'k--', label='y = exp(x)')\n",
    "\n",
    "# # interpolated data\n",
    "# func = interp1d(x, y)\n",
    "# plt.plot(x_int, func(x_int), 'g--', label='linear interpolation')"
   ]
  },
  {
   "cell_type": "markdown",
   "metadata": {},
   "source": [
    "Now, suppose you want to know the value of $t$ where $y=3$? \n",
    "\n",
    "There are several approaches to this:\n",
    "- ode solver\n",
    "- event like approach to stop integration at f=3\n",
    "- reverse interpolation. \n",
    "\n",
    "We simply reverse the x and y vectors so that y is the independent variable, and we interpolate the corresponding x-value."
   ]
  },
  {
   "cell_type": "code",
   "execution_count": null,
   "metadata": {},
   "outputs": [],
   "source": [
    "\n",
    "\n",
    " "
   ]
  }
 ],
 "metadata": {
  "kernelspec": {
   "display_name": "Python 3",
   "language": "python",
   "name": "python3"
  },
  "language_info": {
   "codemirror_mode": {
    "name": "ipython",
    "version": 3
   },
   "file_extension": ".py",
   "mimetype": "text/x-python",
   "name": "python",
   "nbconvert_exporter": "python",
   "pygments_lexer": "ipython3",
   "version": "3.6.5"
  }
 },
 "nbformat": 4,
 "nbformat_minor": 2
}
