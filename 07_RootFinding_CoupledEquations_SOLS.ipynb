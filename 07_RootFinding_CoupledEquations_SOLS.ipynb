{
 "cells": [
  {
   "cell_type": "markdown",
   "metadata": {},
   "source": [
    "## Example: Bisection Algorithm \n",
    "We can write a function to find the root solving the bisection method.\n",
    "1. Create a function (arguments and doc string)\n",
    "1. Check that the upper and lower initial values are of opposite sign.\n",
    "1. Find the midpoint \n",
    "1. Return midpoint if solution is within tolerance...\n",
    "1. ...reset high and low if not.\n",
    "1. Set maximum number of iterations\n",
    "\n",
    "\n",
    "*The full solution is given below*"
   ]
  },
  {
   "cell_type": "markdown",
   "metadata": {},
   "source": [
    "Create a function (arguments and doc string)"
   ]
  },
  {
   "cell_type": "code",
   "execution_count": 1,
   "metadata": {
    "scrolled": true
   },
   "outputs": [],
   "source": [
    "# Create a function (arguments and doc string)\n",
    "def bisection(f, lo, hi, tol=1e-6, nmax=30):\n",
    "    \"\"\"\n",
    "    Estimates the root of a function, F(x), using two initial values; x = a and x = b, where F(a)F(b) < 0\n",
    "    \"\"\"\n",
    "    pass"
   ]
  },
  {
   "cell_type": "markdown",
   "metadata": {},
   "source": [
    "Check that the upper and lower initial values are of opposite sign."
   ]
  },
  {
   "cell_type": "code",
   "execution_count": null,
   "metadata": {},
   "outputs": [],
   "source": [
    "# Check that the upper and lower initial values are of opposite sign.\n",
    "def bisection(f, lo, hi):\n",
    "    \"\"\"\n",
    "    Estimates the root of a function, F(x), using two initial values; x = a and x = b, where F(a)F(b) < 0\n",
    "    \"\"\"\n",
    "    # check lo and hi are of opposite sign\n",
    "    if (f(lo) * f(hi) < 0):  \n",
    "                \n",
    "    else:\n",
    "        print(\"invalid starting values, must be of opposite sign\")\n",
    "\n"
   ]
  },
  {
   "cell_type": "markdown",
   "metadata": {},
   "source": [
    "Find the midpoint "
   ]
  },
  {
   "cell_type": "code",
   "execution_count": null,
   "metadata": {},
   "outputs": [],
   "source": [
    "# Find the midpoint \n",
    "# create a function\n",
    "def bisection(f, lo, hi, tol=1e-6):\n",
    "    \"\"\"\n",
    "    Estimates the root of a function, F(x), using two initial values; x = a and x = b, where F(a)F(b) < 0\n",
    "    \"\"\"\n",
    "    # check lo and hi are of opposite sign\n",
    "    if (f(lo) * f(hi) < 0): \n",
    "        \n",
    "        # find the midpoint of lo and hi\n",
    "        xmid = (lo + hi) / 2\n",
    "\n",
    "\n",
    "        # show value of function at mid point\n",
    "        print(round(f(xmid), 5)) \n",
    "                \n",
    "    else:\n",
    "        print(\"invalid starting values, must be of opposite sign\")"
   ]
  },
  {
   "cell_type": "markdown",
   "metadata": {},
   "source": [
    "Return midpoint if solution is within tolerance...\n",
    "\n",
    "...reset high and low if not."
   ]
  },
  {
   "cell_type": "code",
   "execution_count": null,
   "metadata": {},
   "outputs": [],
   "source": [
    "# create a function\n",
    "def bisection(f, lo, hi, tol=1e-6, nmax=30):\n",
    "    \"\"\"\n",
    "    Estimates the root of a function, F(x), using two initial values; x = a and x = b, where F(a)F(b) < 0\n",
    "    \"\"\"\n",
    "    # check lo and hi are of opposite sign\n",
    "    if (f(lo) * f(hi) < 0): \n",
    "        \n",
    "        # find the midpoint of lo and hi\n",
    "        xmid = (lo + hi) / 2\n",
    "\n",
    "        # show value of function at mid point\n",
    "        print(round(f(xmid), 5))\n",
    "\n",
    "        # if value within tolerance return solution\n",
    "        if (abs(f(xmid)) < tol):\n",
    "            return xmid\n",
    "\n",
    "        # if crossing point between mid and lo, mid is new hi\n",
    "        elif f(xmid) * f(lo) < 0:\n",
    "            hi = xmid\n",
    "            xmid = (lo + hi)/2\n",
    "\n",
    "        # if crossing point between mid and hi, mid is new lo \n",
    "        else:\n",
    "            lo = xmid\n",
    "            xmid = (lo + hi)/2  \n",
    "                \n",
    "    else:\n",
    "        print(\"invalid starting values, must be of opposite sign\")"
   ]
  },
  {
   "cell_type": "markdown",
   "metadata": {},
   "source": [
    "Set maximum number of iterations\n",
    " - Add extra argument,\n",
    " - Add `if` statment\n",
    " - Indent code until `else: print(\"invalid starting values, must be of opposite sign\")`\n",
    " "
   ]
  },
  {
   "cell_type": "code",
   "execution_count": null,
   "metadata": {},
   "outputs": [],
   "source": [
    "# create a function\n",
    "def bisection(f, lo, hi, tol=1e-6, nmax=30):\n",
    "    \"\"\"\n",
    "    Estimates the root of a function, F(x), using two initial values; x = a and x = b, where F(a)F(b) < 0\n",
    "    \"\"\"\n",
    "    # check lo and hi are of opposite sign\n",
    "    if (f(lo) * f(hi) < 0): \n",
    "        \n",
    "        # find the midpoint of lo and hi\n",
    "        xmid = (lo + hi) / 2\n",
    "\n",
    "        # loop until max iterations reached\n",
    "        for i in range(nmax):\n",
    "\n",
    "            # show value of function at mid point\n",
    "            # print(round(f(xmid), 5))\n",
    "\n",
    "            # if value within tolerance return solution\n",
    "            if (abs(f(xmid)) < tol):\n",
    "                return xmid\n",
    "\n",
    "            # if crossing point between mid and lo, mid is new hi\n",
    "            elif f(xmid) * f(lo) < 0:\n",
    "                hi = xmid\n",
    "                xmid = (lo + hi)/2\n",
    "                \n",
    "            # if crossing point between mid and hi, mid is new lo \n",
    "            else:\n",
    "                lo = xmid\n",
    "                xmid = (lo + hi)/2  \n",
    "                \n",
    "    else:\n",
    "        print(\"invalid starting values, must be of opposite sign\")\n"
   ]
  },
  {
   "cell_type": "markdown",
   "metadata": {},
   "source": [
    "Call the function.\n",
    "<br>(Full solution.)"
   ]
  },
  {
   "cell_type": "code",
   "execution_count": 40,
   "metadata": {
    "scrolled": true
   },
   "outputs": [
    {
     "name": "stdout",
     "output_type": "stream",
     "text": [
      "root =  3.0\n"
     ]
    }
   ],
   "source": [
    "# create a function\n",
    "def bisection(f, lo, hi, tol=1e-6, nmax=30):\n",
    "    \"\"\"\n",
    "    Estimates the root of a function, F(x), using two initial values; x = a and x = b, where F(a)F(b) < 0\n",
    "    \"\"\"\n",
    "    # check lo and hi are of opposite sign\n",
    "    if (f(lo) * f(hi) < 0): \n",
    "        \n",
    "        # find the midpoint of lo and hi\n",
    "        xmid = (lo + hi) / 2\n",
    "\n",
    "        # loop until max iterations reached\n",
    "        for i in range(nmax):\n",
    "\n",
    "            # show value of function at mid point\n",
    "            # print(round(f(xmid), 5))\n",
    "\n",
    "            # if value within tolerance return solution\n",
    "            if (abs(f(xmid)) < tol):\n",
    "                return xmid\n",
    "\n",
    "            # if crossing point between mid and lo, mid is new hi\n",
    "            elif f(xmid) * f(lo) < 0:\n",
    "                hi = xmid\n",
    "                xmid = (lo + hi)/2\n",
    "                \n",
    "            # if crossing point between mid and hi, mid is new lo \n",
    "            else:\n",
    "                lo = xmid\n",
    "                xmid = (lo + hi)/2  \n",
    "                \n",
    "    else:\n",
    "        print(\"invalid starting values, must be of opposite sign\")\n",
    " \n",
    "\n",
    "r = bisection(F, int_low[2][0], int_hi[2][0])\n",
    "print(\"root = \", round(r, 4))\n",
    "\n",
    "# for low, high in zip(int_low, int_hi):\n",
    "#     r = bisection(F, low[0], high[0])\n",
    "#     print(\"root = \", round(r, 4))\n"
   ]
  },
  {
   "cell_type": "markdown",
   "metadata": {},
   "source": [
    "## Test-Yourself Exercise : <a name=\"back1\"></a>Fitting a wave\n",
    "Consider the following four measurements of quantity $y$ at time $t$: \n",
    "<br>$(t_0,y_0)=(0,3)$\n",
    "<br>$(t_1,y_1)=(0.25,1)$\n",
    "<br>$(t_2,y_2)=(0.5,-3)$\n",
    "<br>$(t_3,y_3)=(0.75,1)$. \n",
    "\n",
    "The measurements are part of a wave with the equation:\n",
    "\n",
    "$y = a\\cos(\\pi t) + b\\cos(2\\pi t) + c\\cos(3\\pi t) + d\\cos(4\\pi t)$\n",
    "\n",
    "where $a$, $b$, $c$, and $d$ are unknown constants. \n",
    "\n",
    "1. Build a system of four linear equations and solve for the four parameters. \n",
    "\n",
    "1. Creates a plot of the wave for $t$ going from 0 to 1 and show the four measurements with dots."
   ]
  },
  {
   "cell_type": "code",
   "execution_count": null,
   "metadata": {},
   "outputs": [],
   "source": []
  },
  {
   "cell_type": "code",
   "execution_count": null,
   "metadata": {},
   "outputs": [],
   "source": [
    "# Example Solution\n",
    "tp = np.array([0, 0.25, 0.5, 0.75])\n",
    "yp = np.array([ 3, 1, -3, 1])\n",
    "A = np.zeros((4, 4))\n",
    "rhs = np.zeros(4)\n",
    "for i in range(4):\n",
    "    A[i] = np.cos(1 * np.pi * tp[i]), np.cos(2 * np.pi * tp[i]), \\\n",
    "           np.cos(3 * np.pi * tp[i]), np.cos(4 * np.pi * tp[i])  # Store one row at a time\n",
    "    rhs[i] = yp[i]\n",
    "sol = np.linalg.solve(A, rhs)\n",
    "print('a,b,c,d: ',sol)\n",
    "\n",
    "t = np.linspace(0, 1, 100)\n",
    "y = sol[0] * np.cos(1 * np.pi * t) + sol[1] * np.cos(2 * np.pi * t) + \\\n",
    "    sol[2] * np.cos(3 * np.pi * t) + sol[3] * np.cos(4 * np.pi * t)\n",
    "plt.plot(t, y, 'b', label='wave')\n",
    "plt.plot(tp, yp, 'ro', label='data')\n",
    "plt.legend(loc='best');"
   ]
  },
  {
   "cell_type": "markdown",
   "metadata": {},
   "source": [
    "## Test-Yourself Exercise : Root Finding\n",
    "\n",
    "1. Estimate the root of the function $f(x) = 2\\sin^2 x - 3\\sin x + 1$:\n",
    "<br> &nbsp; &nbsp; &nbsp; (i) between 0 and $\\frac{\\pi}{6}$\n",
    "<br> &nbsp; &nbsp; &nbsp; (ii) between 1.5 and 2\n",
    "<br> &nbsp; &nbsp; &nbsp; (iii) between $\\frac{3}{4}\\pi$ and $\\pi$\n",
    "\n",
    "1. Estimate the root of the function $3cos(x + 1.4)$\n",
    "<br> &nbsp; &nbsp; &nbsp; (i) between 10 and 15\n",
    "<br> &nbsp; &nbsp; &nbsp; (ii) between 20 and 25"
   ]
  },
  {
   "cell_type": "code",
   "execution_count": 31,
   "metadata": {},
   "outputs": [
    {
     "data": {
      "text/plain": [
       "0.5235987755982023"
      ]
     },
     "execution_count": 31,
     "metadata": {},
     "output_type": "execute_result"
    }
   ],
   "source": [
    "# Example solution\n"
   ]
  },
  {
   "cell_type": "code",
   "execution_count": null,
   "metadata": {},
   "outputs": [],
   "source": []
  }
 ],
 "metadata": {
  "kernelspec": {
   "display_name": "Python 3",
   "language": "python",
   "name": "python3"
  },
  "language_info": {
   "codemirror_mode": {
    "name": "ipython",
    "version": 3
   },
   "file_extension": ".py",
   "mimetype": "text/x-python",
   "name": "python",
   "nbconvert_exporter": "python",
   "pygments_lexer": "ipython3",
   "version": "3.6.5"
  }
 },
 "nbformat": 4,
 "nbformat_minor": 2
}
