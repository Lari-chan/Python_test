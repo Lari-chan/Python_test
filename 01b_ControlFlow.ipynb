{
 "cells": [
  {
   "cell_type": "markdown",
   "metadata": {
    "collapsed": true,
    "slideshow": {
     "slide_type": "slide"
    }
   },
   "source": [
    "# Control Flow \n"
   ]
  },
  {
   "cell_type": "markdown",
   "metadata": {
    "slideshow": {
     "slide_type": "slide"
    }
   },
   "source": [
    "## Lesson structure:\n",
    " - Control Statements\n",
    " - `if` and `else`statements\n",
    " - `for` loops\n",
    " - `while` loops\n",
    " - `break` and `continue` statements\n",
    " - Review Exercises\n",
    " - Summary"
   ]
  },
  {
   "cell_type": "markdown",
   "metadata": {
    "slideshow": {
     "slide_type": "slide"
    }
   },
   "source": [
    "What is a *__control statement__*?\n",
    "\n",
    "Let's start with an example from the last seminar..."
   ]
  },
  {
   "cell_type": "markdown",
   "metadata": {
    "slideshow": {
     "slide_type": "slide"
    }
   },
   "source": [
    "## Control Statements\n",
    "Considerthe time-telling computer program that returned Boolean (True or False) variables... \n",
    "\n"
   ]
  },
  {
   "cell_type": "markdown",
   "metadata": {
    "slideshow": {
     "slide_type": "slide"
    }
   },
   "source": [
    "Based on the current time of day, the program answers two questions:\n",
    "\n",
    ">__Is it lunchtime?__\n",
    "\n",
    ">`True`\n",
    "\n",
    "if it is lunch time.\n",
    "\n",
    "<br>\n",
    "\n",
    ">__Is it time for work?__\n",
    "\n",
    ">`True`\n",
    "\n",
    "if it is `not`:\n",
    "- before work (`time < work_starts`)\n",
    "- after work (`time > work_ends `)\n",
    "- lunchtime (the previous question assigns the value `True` or `False` to variable `lunchtime`)."
   ]
  },
  {
   "cell_type": "code",
   "execution_count": 2,
   "metadata": {
    "slideshow": {
     "slide_type": "slide"
    }
   },
   "outputs": [
    {
     "name": "stdout",
     "output_type": "stream",
     "text": [
      "Is it work time?\n",
      "False\n",
      "Is it lunchtime?\n",
      "True\n"
     ]
    }
   ],
   "source": [
    "# Time-telling program\n",
    "\n",
    "time = 13.05          # current time\n",
    "\n",
    "work_starts = 8.00    # time work starts \n",
    "work_ends =  17.00    # time work ends\n",
    "\n",
    "lunch_starts = 13.00  # time lunch starts\n",
    "lunch_ends =   14.00  # time lunch ends\n",
    "\n",
    "# lunchtime if the time is between the start and end of lunchtime\n",
    "lunchtime = time >= lunch_starts and time < lunch_ends\n",
    "\n",
    "# work_time if the time is not...  \n",
    "work_time = not (   time < work_starts     # ... before work\n",
    "                 or time > work_ends       # ... or after work\n",
    "                 or lunchtime)             # ... or lunchtime\n",
    "                 \n",
    "\n",
    "print(\"Is it work time?\")\n",
    "print(work_time)\n",
    "print(\"Is it lunchtime?\")\n",
    "print(lunchtime)"
   ]
  },
  {
   "cell_type": "markdown",
   "metadata": {
    "slideshow": {
     "slide_type": "slide"
    }
   },
   "source": [
    "What if we now want our computer program to do something based on these answers?\n",
    "\n",
    "To do this, we need to use *control statements*.\n",
    "\n",
    "Control statements allow us to make decisions in a program.\n",
    "\n",
    "This decision making is known as *control flow*. \n",
    "\n",
    "Control statements are a fundamental part of programming."
   ]
  },
  {
   "cell_type": "markdown",
   "metadata": {
    "slideshow": {
     "slide_type": "slide"
    }
   },
   "source": [
    "Here is a control statement in pseudo code:\n",
    "\n",
    "This is an `if` statement.\n",
    "\n",
    "    if A is true    \n",
    "        Perform task X\n",
    "        \n",
    "For example \n",
    "\n",
    "    if lunchtime is true    \n",
    "        Eat lunch\n",
    "\n",
    "<p align=\"center\">\n",
    "  <img src=\"img/flow_diag_if_lunctime.png\" alt=\"Drawing\" style=\"width: 300px;\"/>\n",
    "</p>"
   ]
  },
  {
   "cell_type": "markdown",
   "metadata": {},
   "source": [
    "<img src=\"img/flow_diag_if_lunctime.png\" alt=\"Drawing\" style=\"width: 300px; float: left;\"/>"
   ]
  },
  {
   "cell_type": "markdown",
   "metadata": {
    "slideshow": {
     "slide_type": "subslide"
    }
   },
   "source": [
    "We can check if an alternative to the `if` statement is true using an `else if` statement.\n",
    "\n",
    "\n",
    "    if A is true\n",
    "        Perform task X (only)\n",
    "        \n",
    "    else if B is true\n",
    "        Perform task Y (only)\n",
    "        "
   ]
  },
  {
   "cell_type": "markdown",
   "metadata": {
    "slideshow": {
     "slide_type": "subslide"
    }
   },
   "source": [
    "Example:\n",
    "\n",
    "    if lunchtime is true\n",
    "        Eat lunch\n",
    "        \n",
    "    else if work_time is true\n",
    "        Do work\n",
    "        \n",
    "<p align=\"center\">\n",
    "  <img src=\"img/flow_diag_if_lunctime_elif_work.png\" alt=\"Drawing\" style=\"width: 300px;\"/>\n",
    "</p>"
   ]
  },
  {
   "cell_type": "markdown",
   "metadata": {
    "slideshow": {
     "slide_type": "subslide"
    }
   },
   "source": [
    "Often it is useful to include an `else` statement.\n",
    "\n",
    "If none of the `if` and `else if` statements are satisfied, the code following the `else` statement will be executed.\n",
    "\n",
    "    if A is true\n",
    "        Perform task X (only)\n",
    "        \n",
    "    else if B is true\n",
    "        Perform task Y (only)\n",
    "        \n",
    "    else   \n",
    "        Perform task Z (only)\n",
    "        \n",
    "\n",
    "\n",
    "\n"
   ]
  },
  {
   "cell_type": "markdown",
   "metadata": {
    "slideshow": {
     "slide_type": "subslide"
    }
   },
   "source": [
    "    if lunchtime is true\n",
    "        Eat lunch\n",
    "        \n",
    "    else if work_time is true\n",
    "        Do work\n",
    "        \n",
    "    else   \n",
    "        Go home\n",
    "        \n",
    "<p align=\"center\">\n",
    "  <img src=\"img/flow_diag_if_lunctime_elif_work_else_home.png\" alt=\"Drawing\" style=\"width: 400px;\"/>\n",
    "</p>"
   ]
  },
  {
   "cell_type": "markdown",
   "metadata": {
    "slideshow": {
     "slide_type": "slide"
    }
   },
   "source": [
    "Let's get a better understanding of control flow statements by completing some examples. "
   ]
  },
  {
   "cell_type": "markdown",
   "metadata": {
    "collapsed": true,
    "slideshow": {
     "slide_type": "slide"
    }
   },
   "source": [
    "<a id='IfElse'></a>\n",
    "\n",
    "## `if` and `else` statements\n",
    "\n",
    "Here is what these control statements look like if we include them in the time-telling program...\n",
    "\n",
    "__Note:__ In Python, \"else if\" is written: `elif`"
   ]
  },
  {
   "cell_type": "code",
   "execution_count": 6,
   "metadata": {
    "slideshow": {
     "slide_type": "slide"
    }
   },
   "outputs": [
    {
     "name": "stdout",
     "output_type": "stream",
     "text": [
      "Eat lunch\n"
     ]
    }
   ],
   "source": [
    "# Time-telling program\n",
    "\n",
    "time = 13.05          # current time\n",
    "\n",
    "work_starts = 8.00    # time work starts \n",
    "work_ends =  17.00    # time work ends\n",
    "\n",
    "lunch_starts = 13.00  # time lunch starts\n",
    "lunch_ends =   14.00  # time lunch ends\n",
    "\n",
    "# variable lunchtime is True if the time is between the start and end of lunchtime\n",
    "lunchtime = time >= lunch_starts and time < lunch_ends\n",
    "\n",
    "# variable work_time is True if the time is not...  \n",
    "work_time = not (   time < work_starts     # ... before work\n",
    "                 or time > work_ends       # ... or after work\n",
    "                 or lunchtime)             # ... or lunchtime\n",
    "                 \n",
    "\n",
    "    \n",
    "#print(\"Is it work time?\")\n",
    "#print(work_time)\n",
    "#print(\"Is it lunchtime?\")\n",
    "#print(lunchtime)\n",
    "\n",
    "\n",
    "if lunchtime:  \n",
    "    print(\"Eat lunch\")\n",
    "        \n",
    "elif work_time: \n",
    "    print(\"Do work\")\n",
    "        \n",
    "else:   \n",
    "    print(\"Go home\")\n"
   ]
  },
  {
   "cell_type": "markdown",
   "metadata": {
    "slideshow": {
     "slide_type": "slide"
    }
   },
   "source": [
    "__Remember:__ The program assigns the variables lunchtime and work_time the values `True` or `False`.\n",
    "\n",
    "Therefore when we type: \n",
    "<br>`if lunchtime`\n",
    "\n",
    "<br>the meaning is the same as: \n",
    "<br>`if lunchtime == True`"
   ]
  },
  {
   "cell_type": "markdown",
   "metadata": {
    "slideshow": {
     "slide_type": "slide"
    }
   },
   "source": [
    "Here is another example, using algebraic operators to modify the value of an initial variable, `x`. \n",
    "\n",
    "The __modification of `x`__ and the __message printed__ depend on the initial value of `x`.\n",
    "\n",
    "<p align=\"center\">\n",
    "  <img src=\"img/flow_diag_x_modify.png\" alt=\"Drawing\" style=\"width: 400px;\"/>\n",
    "</p>"
   ]
  },
  {
   "cell_type": "code",
   "execution_count": 4,
   "metadata": {
    "slideshow": {
     "slide_type": "-"
    }
   },
   "outputs": [
    {
     "name": "stdout",
     "output_type": "stream",
     "text": [
      "Initial x is less than zero\n",
      "Modified x =  11.0\n"
     ]
    }
   ],
   "source": [
    "#The input to the program is variable `x`.\n",
    "x = -10.0  # Initial x value\n",
    "\n",
    "if x > 0.0:  \n",
    "    print('Initial x is greater than zero') #The program prints a message... \n",
    "    x -= 20.0                               # ...and modifies `x`.\n",
    "    \n",
    "elif x < 0.0:  \n",
    "    print('Initial x is less than zero')\n",
    "    x += 21.0\n",
    "    \n",
    "else: \n",
    "    print('Initial x is not less than zero and not greater than zero, therefore it must be zero')\n",
    "    x *= 2.5\n",
    "\n",
    "print(\"Modified x = \", x)"
   ]
  },
  {
   "cell_type": "markdown",
   "metadata": {
    "slideshow": {
     "slide_type": "slide"
    }
   },
   "source": [
    "\n",
    "\n",
    "__Note:__ A full explanation of shortcut operators is given in 01a_BasicOperators_DataTypes"
   ]
  },
  {
   "cell_type": "markdown",
   "metadata": {
    "slideshow": {
     "slide_type": "subslide"
    }
   },
   "source": [
    "__Try it yourself__\n",
    "\n",
    "In the cell code cell above, try:\n",
    "\n",
    "- changing the operations performed on `x`\n",
    "\n",
    "- changing the value of `x` a few times.\n",
    "\n",
    "Re-run the cell to see the different paths the program can follow."
   ]
  },
  {
   "cell_type": "markdown",
   "metadata": {
    "slideshow": {
     "slide_type": "slide"
    }
   },
   "source": [
    "### Look carefully at the structure of the `if`, `elif`, `else`, control statement:\n",
    "\n",
    "\n",
    "__The control statement begins with an `if`__, followed by the expression to check.  <br> \n",
    " At the end of the `if` statement you must put a colon (`:`) <br> \n",
    "````python\n",
    "if x > 0.0:    \n",
    "````"
   ]
  },
  {
   "cell_type": "markdown",
   "metadata": {
    "slideshow": {
     "slide_type": "slide"
    }
   },
   "source": [
    "After the `if` statement, indent the code to be run in the case that the `if` statement is `True`. <br>\n",
    "\n",
    "\n",
    " To end the code to be run, simply stop indenting:\n",
    " \n",
    "````python\n",
    "if x > 0.0:\n",
    "    print('Initial x is greater than zero')\n",
    "    x -= 20.0\n",
    "````"
   ]
  },
  {
   "cell_type": "markdown",
   "metadata": {
    "slideshow": {
     "slide_type": "slide"
    }
   },
   "source": [
    "The indent can be any number of spaces.\n",
    "\n",
    "The number of spaces must be the same for all lines of code to be run if the `if` statement is True.\n",
    "\n",
    "Jupyter Notebooks automatically indent 4 spaces.\n",
    "\n",
    "This is considered best practise. "
   ]
  },
  {
   "cell_type": "markdown",
   "metadata": {
    "slideshow": {
     "slide_type": "subslide"
    }
   },
   "source": [
    " `if x > 0.0` is:\n",
    " - `True`:\n",
    "    - The indented code is executed.\n",
    "    - The control block is exited.\n",
    "    - The program moves past any subsequent `elif` or `else` statements.\n",
    "    <br>    \n",
    "    \n",
    "    \n",
    "  - `False`:\n",
    "  the program moves past the inented code to the next (non-indented) part of the program... <br>"
   ]
  },
  {
   "cell_type": "markdown",
   "metadata": {
    "slideshow": {
     "slide_type": "subslide"
    }
   },
   "source": [
    "In this the next (non-indented) part of the program is `elif` (else if).\n",
    "\n",
    "The elif statement is evaluated.\n",
    "\n",
    "(Notice that the code is structured in the same way as the `if` statement.):\n",
    "\n",
    "```python\n",
    "if x > 0.0:\n",
    "    print('Initial x is greater than zero')\n",
    "    x -= 20.0\n",
    "    \n",
    "elif x < 0.0:\n",
    "    print('Initial x is less than zero')\n",
    "    x += 21.0\n",
    "```  "
   ]
  },
  {
   "cell_type": "markdown",
   "metadata": {
    "slideshow": {
     "slide_type": "subslide"
    }
   },
   "source": [
    "`elif x < 0.0`:\n",
    "\n",
    "- `True`:\n",
    "    - The indented code is executed.\n",
    "    - The control block is exited. \n",
    "    - The program moves past any subsequent `elif` or `else` statements.\n",
    "    \n",
    "    \n",
    "- `False`:\n",
    "  the program moves past the indented code to the next (non-indented) part of the program. <br>\n",
    " \n",
    "\n",
    " "
   ]
  },
  {
   "cell_type": "markdown",
   "metadata": {
    "slideshow": {
     "slide_type": "subslide"
    }
   },
   "source": [
    "If none of the preceding `if` or `elif` stements are true.\n",
    "<br> e.g. in this example:\n",
    " - `x > 0.0` is `False` \n",
    " - `x < 0.0` is `False`\n",
    "\n",
    "the code following the `else` statement is executed.\n",
    "\n",
    "```python\n",
    "if x > 0.0:\n",
    "    print('Initial x is greater than zero')\n",
    "    x -= 20.0\n",
    "\n",
    "elif x < 0.0:\n",
    "    print('Initial x is less than zero')\n",
    "    x += 21.0\n",
    "\n",
    "else:\n",
    "    print('Initial x is not less than zero and not greater than zero, therefore it must be zero')\n",
    "```"
   ]
  },
  {
   "cell_type": "markdown",
   "metadata": {
    "slideshow": {
     "slide_type": "slide"
    }
   },
   "source": [
    "Evaluating data against different criteria is extremely useful for solving real-world mathematical problems."
   ]
  },
  {
   "cell_type": "markdown",
   "metadata": {
    "slideshow": {
     "slide_type": "slide"
    }
   },
   "source": [
    "Let's look at a simple example..."
   ]
  },
  {
   "cell_type": "markdown",
   "metadata": {
    "collapsed": true,
    "slideshow": {
     "slide_type": "subslide"
    }
   },
   "source": [
    "### Real-World Example: currency trading\n",
    "\n",
    "To make a comission (profit), a currency trader sells US dollars to travellers above the market rate. \n",
    "\n",
    "The multiplier used to calculate the amount recieved by customer is shown in the table:\n",
    "\n",
    "|Amount (JPY)                                |Multiplier               |\n",
    "|--------------------------------------------|-------------------------|\n",
    "| Less than $100$                            | 0.9                     |   \n",
    "| From $100$ and less than $1,000$           | 0.925                   |   \n",
    "| From $1,000$ and less than $10,000$        | 0.95                    |   \n",
    "| From $10,000$ and less than $100,000$      | 0.97                    |   \n",
    "| Over $100,000$                             | 0.98                    |   \n",
    "\n",
    " The currency trader charges more if the customer pays with cash. \n",
    " <br>If the customer pays with cash, the currency trader reduces the rate by an __additional__ 10% after conversion. \n",
    " <br>(If the transaction is made electronically, they do not).  \n",
    "\n"
   ]
  },
  {
   "cell_type": "markdown",
   "metadata": {
    "slideshow": {
     "slide_type": "subslide"
    }
   },
   "source": [
    "__Current market rate:__ 1 JPY = 0.0091 USD.\n",
    "\n",
    "__Effective rate:__ The rate that the customer receives based on the amount in JPY to be changed."
   ]
  },
  {
   "cell_type": "markdown",
   "metadata": {
    "slideshow": {
     "slide_type": "subslide"
    }
   },
   "source": [
    "The program calculates the __effective rate__ using:\n",
    " - The reduction based on the values in the table.\n",
    " - An additional 10% reduction (mutiplier = 0.9) if the transaction is made in cash."
   ]
  },
  {
   "cell_type": "code",
   "execution_count": 5,
   "metadata": {
    "slideshow": {
     "slide_type": "subslide"
    }
   },
   "outputs": [
    {
     "name": "stdout",
     "output_type": "stream",
     "text": [
      "Amount in JPY sold: 10000\n",
      "Amount in USD purchased: 7659.925000000001\n",
      "Effective rate: 0.7659925000000001\n"
     ]
    }
   ],
   "source": [
    "JPY  = 10_000  # The amount in JPY to be changed into USD\n",
    "cash = False   # True if transaction is in cash, otherwise False\n",
    "\n",
    "market_rate = 0.0091  # 1 JPY is worth this many dollars at the market rate\n",
    "\n",
    "# Apply the appropriate reduction depending on the amount being sold\n",
    "if JPY < 10_000:\n",
    "    multiplier = 0.9 \n",
    "        \n",
    "elif JPY < 100_000:  \n",
    "    multiplier = 0.925 * market_rate * JPY\n",
    "    \n",
    "elif JPY < 1_000_000:\n",
    "    multiplier = 0.95 * market_rate * JPY\n",
    "      \n",
    "elif JPY < 10_000_000:\n",
    "    multiplier = 0.97 * market_rate * JPY\n",
    "\n",
    "else: # JPY > 10,000,000\n",
    "    multiplier = 0.98 * market_rate * JPY\n",
    "    \n",
    "\n",
    "    \n",
    "# Apply the appropriate reduction depending if the transaction is made in cash or not\n",
    "if cash:\n",
    "    cash_multiplier = 0.9\n",
    "else:\n",
    "    cash_multiplier = 1 \n",
    "    \n",
    "    \n",
    "    \n",
    "# Calculate the total amount sold to the customer    \n",
    "USD = JPY * market_rate * multiplier * cash_multiplier\n",
    "    \n",
    "print(\"Amount in JPY sold:\", JPY)\n",
    "print(\"Amount in USD purchased:\", USD)\n",
    "print(\"Effective rate:\", USD/JPY)"
   ]
  },
  {
   "cell_type": "markdown",
   "metadata": {
    "slideshow": {
     "slide_type": "subslide"
    }
   },
   "source": [
    " __Note:__\n",
    " - We can use multiple `elif` statements within a control block.\n",
    " - We can use multipe `if` statements.  <br>When the program executes and exits a control block, it moves to the next `if` statement. \n",
    " - __Readability:__ <br>Underscores _ are placed between 0s in long numbers to make them easier to read. \n",
    " <br>You DO NOT need to include underscores for Python to interpret the number correctly.\n",
    " <br>You can place the underscores wherever you like in the sequence of digits that make up the number. \n",
    " \n"
   ]
  },
  {
   "cell_type": "markdown",
   "metadata": {
    "slideshow": {
     "slide_type": "subslide"
    }
   },
   "source": [
    "__Try it yourself__\n",
    "\n",
    "Try changing the values of `JPY` and `cash` a few times.\n",
    "\n",
    "Re-run the cell to see the different paths the program can follow."
   ]
  },
  {
   "cell_type": "markdown",
   "metadata": {
    "slideshow": {
     "slide_type": "slide"
    }
   },
   "source": [
    "<a id='ForLoops'></a>\n",
    "\n",
    "## `for` loops\n",
    "\n",
    "*Loops* are used to execute a command repeatedly.\n",
    "<br>\n",
    "A loop is a block that repeats an operation a specified number of times (loops). \n",
    "\n",
    "To learn about loops we are going to use the function `range()`."
   ]
  },
  {
   "cell_type": "markdown",
   "metadata": {
    "slideshow": {
     "slide_type": "slide"
    }
   },
   "source": [
    "### `range`\n",
    "\n",
    "The function `range` gives us a sequence of *integer* numbers.\n",
    "\n",
    "`range(3, 6)` returns integer values starting from 3 and ending at 6.\n",
    "\n",
    "i.e.\n",
    "\n",
    "> 3, 4, 5\n",
    "\n",
    "Note this does not include 6.\n",
    "\n"
   ]
  },
  {
   "cell_type": "markdown",
   "metadata": {
    "slideshow": {
     "slide_type": "slide"
    }
   },
   "source": [
    "We can change the starting value.\n",
    " \n",
    "For example for integer values starting at 0 and ending at 4:\n",
    " \n",
    "`range(0,4)`\n",
    "\n",
    "returns:\n",
    "\n",
    "> 0, 1, 2, 3\n",
    "\n",
    "`range(4)` is a __shortcut__ for range(0, 4) "
   ]
  },
  {
   "cell_type": "markdown",
   "metadata": {
    "slideshow": {
     "slide_type": "slide"
    }
   },
   "source": [
    "### Simple `for` loops"
   ]
  },
  {
   "cell_type": "markdown",
   "metadata": {
    "slideshow": {
     "slide_type": "-"
    }
   },
   "source": [
    "The statement \n",
    "```python\n",
    "for i in range(0, 5):\n",
    "```\n",
    "says that we want to run the indented code five times.\n",
    "\n",
    "\n",
    "<p align=\"center\">\n",
    "  <img src=\"img/flow_diag_for_loop.png\" alt=\"Drawing\" style=\"width: 400px;\"/>\n",
    "</p>"
   ]
  },
  {
   "cell_type": "code",
   "execution_count": 6,
   "metadata": {
    "slideshow": {
     "slide_type": "slide"
    }
   },
   "outputs": [
    {
     "name": "stdout",
     "output_type": "stream",
     "text": [
      "0\n",
      "1\n",
      "2\n",
      "3\n",
      "4\n"
     ]
    }
   ],
   "source": [
    "for i in range(0, 5):\n",
    "    print(i)"
   ]
  },
  {
   "cell_type": "markdown",
   "metadata": {
    "slideshow": {
     "slide_type": "subslide"
    }
   },
   "source": [
    "The first time through, the value of i is equal to 0.\n",
    "<br>\n",
    "The second time through, its value is 1.\n",
    "<br>\n",
    "Each loop the value `i` increases by 1 (0, 1, 2, 3, 4) until the last time when its value is 4. "
   ]
  },
  {
   "cell_type": "markdown",
   "metadata": {
    "slideshow": {
     "slide_type": "slide"
    }
   },
   "source": [
    "A similar structure to `if` is used:\n",
    " - `for` is followed by the condition being checked.\n",
    " - : colon at the end of the `for` statement.   \n",
    " - The indented code that follows is run each time the code loops.  <br>\n",
    " (The __same of spaces__ should be used for all indents) \n",
    " <br> \n",
    " - To end the `for` loop, simply stop indenting. "
   ]
  },
  {
   "cell_type": "code",
   "execution_count": 1,
   "metadata": {
    "slideshow": {
     "slide_type": "slide"
    }
   },
   "outputs": [
    {
     "name": "stdout",
     "output_type": "stream",
     "text": [
      "-2\n",
      "-1\n",
      "0\n",
      "1\n",
      "2\n",
      "The end of the loop\n"
     ]
    }
   ],
   "source": [
    "for i in range(-2, 3):\n",
    "    print(i)\n",
    "print('The end of the loop')"
   ]
  },
  {
   "cell_type": "markdown",
   "metadata": {
    "slideshow": {
     "slide_type": "subslide"
    }
   },
   "source": [
    "The above loop starts from -2 and executes the indented code for each value of i in the range (-2, -1, 0, 1, 2).\n",
    "<br>\n",
    "When the loop has executed the code for the final value `i = 2`, it moves on to the next unindented line of code."
   ]
  },
  {
   "cell_type": "code",
   "execution_count": 8,
   "metadata": {
    "slideshow": {
     "slide_type": "subslide"
    }
   },
   "outputs": [
    {
     "name": "stdout",
     "output_type": "stream",
     "text": [
      "----\n",
      "0 0\n",
      "----\n",
      "1 1\n",
      "----\n",
      "2 4\n",
      "----\n",
      "3 9\n"
     ]
    }
   ],
   "source": [
    "for n in range(4):\n",
    "    \n",
    "    print(\"----\")\n",
    "    \n",
    "    print(n, n**2)"
   ]
  },
  {
   "cell_type": "markdown",
   "metadata": {
    "slideshow": {
     "slide_type": "subslide"
    }
   },
   "source": [
    "The above executes 4 loops.\n",
    "\n",
    "The statement \n",
    "```python\n",
    "for n in range(4):\n",
    "```\n",
    "says that we want to loop over four integers, starting from 0. \n",
    "\n",
    "Each loop the value `n` increases by 1 (0, 1, 2 3).\n",
    "\n",
    "\n"
   ]
  },
  {
   "cell_type": "markdown",
   "metadata": {
    "slideshow": {
     "slide_type": "subslide"
    }
   },
   "source": [
    "__Try it yourself__\n",
    "<br>\n",
    "Go back and change the __range__ of input values in the last three cells and observe the change in output. \n"
   ]
  },
  {
   "cell_type": "markdown",
   "metadata": {
    "collapsed": true,
    "slideshow": {
     "slide_type": "slide"
    }
   },
   "source": [
    "If we want to step by three rather than one:"
   ]
  },
  {
   "cell_type": "code",
   "execution_count": 9,
   "metadata": {
    "slideshow": {
     "slide_type": "-"
    }
   },
   "outputs": [
    {
     "name": "stdout",
     "output_type": "stream",
     "text": [
      "0\n",
      "3\n",
      "6\n",
      "9\n"
     ]
    }
   ],
   "source": [
    "for n in range(0, 10, 3):\n",
    "    print(n)"
   ]
  },
  {
   "cell_type": "markdown",
   "metadata": {
    "slideshow": {
     "slide_type": "slide"
    }
   },
   "source": [
    "If we want to step backwards rather than forwards we __must__ include the step size:"
   ]
  },
  {
   "cell_type": "code",
   "execution_count": 10,
   "metadata": {
    "slideshow": {
     "slide_type": "-"
    }
   },
   "outputs": [
    {
     "name": "stdout",
     "output_type": "stream",
     "text": [
      "10\n",
      "9\n",
      "8\n",
      "7\n",
      "6\n",
      "5\n",
      "4\n",
      "3\n",
      "2\n",
      "1\n"
     ]
    }
   ],
   "source": [
    "for n in range(10, 0, -1):\n",
    "    print(n)"
   ]
  },
  {
   "cell_type": "markdown",
   "metadata": {
    "slideshow": {
     "slide_type": "subslide"
    }
   },
   "source": [
    "For example..."
   ]
  },
  {
   "cell_type": "code",
   "execution_count": 11,
   "metadata": {
    "collapsed": true
   },
   "outputs": [],
   "source": [
    "for n in range(10, 0):\n",
    "    print(n)"
   ]
  },
  {
   "cell_type": "markdown",
   "metadata": {},
   "source": [
    "...does not return any values because there are no values that lie between 10 and 0 when counting in the positive direction from 10. "
   ]
  },
  {
   "cell_type": "markdown",
   "metadata": {
    "slideshow": {
     "slide_type": "subslide"
    }
   },
   "source": [
    "__Try it yourself.__\n",
    "\n",
    "In the cell below write a `for` loop that:\n",
    "- starts at `n = 9`\n",
    "- ends at `n = 3` (and includes `n = 3`)\n",
    "- loops __backwards__ through the range in steps of -3 \n",
    "- prints `n`$^2$ at each loop.\n"
   ]
  },
  {
   "cell_type": "code",
   "execution_count": 12,
   "metadata": {
    "collapsed": true
   },
   "outputs": [],
   "source": [
    "# For loop"
   ]
  },
  {
   "cell_type": "markdown",
   "metadata": {
    "slideshow": {
     "slide_type": "subslide"
    }
   },
   "source": [
    "For loops are useful for performing operations on large data sets.\n",
    "\n",
    "We often encounter large data sets in real-world mathematical problems. "
   ]
  },
  {
   "cell_type": "markdown",
   "metadata": {
    "slideshow": {
     "slide_type": "subslide"
    }
   },
   "source": [
    "A simple example of this is converting multiple values using the same mathematical equation to create a look-up table..."
   ]
  },
  {
   "cell_type": "markdown",
   "metadata": {
    "slideshow": {
     "slide_type": "subslide"
    }
   },
   "source": [
    "### Real-world Example: conversion table from degrees Fahrenheit to degrees Celsius\n",
    "\n",
    "We can use a `for` loop to create a conversion table from degrees Fahrenheit ($T_F$) to degrees Celsius ($T_c$).\n",
    "\n",
    "Conversion formula:\n",
    "\n",
    "$$\n",
    "T_c = 5(T_f - 32)/9\n",
    "$$\n",
    "\n",
    "Computing the conversion from -100 F to 200 F in steps of 20 F (not including 200 F):"
   ]
  },
  {
   "cell_type": "code",
   "execution_count": 5,
   "metadata": {},
   "outputs": [
    {
     "name": "stdout",
     "output_type": "stream",
     "text": [
      "Tf \t Tc\n",
      "-100 \t -73.333\n",
      "-80 \t -62.222\n",
      "-60 \t -51.111\n",
      "-40 \t -40.0\n",
      "-20 \t -28.889\n",
      "0 \t -17.778\n",
      "20 \t -6.667\n",
      "40 \t 4.444\n",
      "60 \t 15.556\n",
      "80 \t 26.667\n",
      "100 \t 37.778\n",
      "120 \t 48.889\n",
      "140 \t 60.0\n",
      "160 \t 71.111\n",
      "180 \t 82.222\n"
     ]
    }
   ],
   "source": [
    "print(\"Tf \\t Tc\")\n",
    "\n",
    "for Tf in range(-100, 200, 20):\n",
    "    Tc = ((Tf - 32) * 5 / 9)\n",
    "    Tc = round(Tc, 3)\n",
    "    print(f\"{Tf} \\t {Tc}\")"
   ]
  },
  {
   "cell_type": "markdown",
   "metadata": {
    "slideshow": {
     "slide_type": "slide"
    }
   },
   "source": [
    "<a id='WhileLoops'></a>\n",
    "\n",
    "## `while` loops\n",
    "\n",
    "A __`for`__ loop performs an operation a specified number of times. \n",
    "\n",
    "```python \n",
    "for x in range(5):\n",
    "    print(x)\n",
    "```   \n",
    "\n",
    "A __`while`__ loop performs a task *while* a specified statement is true. \n",
    "\n",
    "```python\n",
    "x = 0\n",
    "while x < 5:\n",
    "    print(x)\n",
    "```\n",
    "\n",
    "<p align=\"center\">\n",
    "  <img src=\"img/flow_diag_while_loop.png\" alt=\"Drawing\" style=\"width: 400px;\"/>\n",
    "</p>"
   ]
  },
  {
   "cell_type": "markdown",
   "metadata": {
    "slideshow": {
     "slide_type": "slide"
    }
   },
   "source": [
    "We use the same structure as for `for` loops and `if-elif-else`:\n",
    "- `while` is followed by the condition being checked.\n",
    "- : colon at the end of the `while` statement.   \n",
    "- The indented code that follows is repeatedly executed until the `while` statement (e.g. `x < 5`) is `False`.  <br>\n",
    "\n",
    " "
   ]
  },
  {
   "cell_type": "markdown",
   "metadata": {
    "slideshow": {
     "slide_type": "slide"
    }
   },
   "source": [
    "It can be quite easy to crash your computer using a `while` loop. \n",
    "\n",
    "e.g. if we don't modify the value of x each time the code loops:\n",
    "```python\n",
    "x = 0\n",
    "while x < 5:\n",
    "    print(x)\n",
    "    # x += 1  \n",
    "```\n",
    "will continue indefinitely since `x < 5 == False`  will never be satisfied.\n",
    "\n",
    "This is called an *infinite loop*.\n",
    "\n"
   ]
  },
  {
   "cell_type": "markdown",
   "metadata": {
    "slideshow": {
     "slide_type": "slide"
    }
   },
   "source": [
    "To perform the same function as the `for` loop we need to increment the value of `x` within the loop:"
   ]
  },
  {
   "cell_type": "code",
   "execution_count": 14,
   "metadata": {
    "slideshow": {
     "slide_type": "-"
    }
   },
   "outputs": [
    {
     "name": "stdout",
     "output_type": "stream",
     "text": [
      "Start of while statement\n",
      "0\n",
      "1\n",
      "2\n",
      "3\n",
      "4\n",
      "End of while statement\n"
     ]
    }
   ],
   "source": [
    "x = 0\n",
    "\n",
    "print(\"Start of while statement\")\n",
    "\n",
    "while x < 5:\n",
    "    print(x)\n",
    "    x += 1  # Increment x\n",
    "    \n",
    "print(\"End of while statement\")"
   ]
  },
  {
   "cell_type": "markdown",
   "metadata": {
    "slideshow": {
     "slide_type": "slide"
    }
   },
   "source": [
    "`for` loops are often safer when performing an operation on a set range of values."
   ]
  },
  {
   "cell_type": "code",
   "execution_count": 15,
   "metadata": {
    "slideshow": {
     "slide_type": "slide"
    }
   },
   "outputs": [
    {
     "name": "stdout",
     "output_type": "stream",
     "text": [
      "Start of for statement\n",
      "-2\n",
      "-1\n",
      "0\n",
      "1\n",
      "2\n",
      "3\n",
      "4\n",
      "End of for statement\n"
     ]
    }
   ],
   "source": [
    "x = -2\n",
    "\n",
    "print(\"Start of for statement\")\n",
    "\n",
    "for y in range(x,5):\n",
    "    print(y)\n",
    "    \n",
    "print(\"End of for statement\")"
   ]
  },
  {
   "cell_type": "markdown",
   "metadata": {
    "slideshow": {
     "slide_type": "subslide"
    }
   },
   "source": [
    "`While` loops are more appropriate when the number of loops required is not known beforehand (e.g. before `x > 0.001` becomes false).\n",
    "\n",
    "__Note:__ If we use an initial value of $x \\ge 1$, an infinite loop will be generated."
   ]
  },
  {
   "cell_type": "code",
   "execution_count": 16,
   "metadata": {},
   "outputs": [
    {
     "name": "stdout",
     "output_type": "stream",
     "text": [
      "0.81\n",
      "0.6561\n",
      "0.430467\n",
      "0.185302\n",
      "0.034337\n",
      "0.001179\n",
      "1e-06\n"
     ]
    }
   ],
   "source": [
    "x = 0.9\n",
    "\n",
    "while x > 0.001:\n",
    "    # Square x (shortcut x *= x)\n",
    "    x = x * x\n",
    "    print(round(x, 6))"
   ]
  },
  {
   "cell_type": "markdown",
   "metadata": {
    "slideshow": {
     "slide_type": "subslide"
    }
   },
   "source": [
    "`x` will increase with each loop, meaning `x` will always be greater than 0.001.\n",
    "\n",
    "e.g. \n",
    "```python\n",
    "x = 2\n",
    "\n",
    "while x > 0.001:\n",
    "    x = x * x\n",
    "    print(x)\n",
    "```"
   ]
  },
  {
   "cell_type": "markdown",
   "metadata": {
    "slideshow": {
     "slide_type": "subslide"
    }
   },
   "source": [
    "To avoid errors, it is good practice to check that $x < 1$ before entering the `while` loop e.g."
   ]
  },
  {
   "cell_type": "code",
   "execution_count": 17,
   "metadata": {},
   "outputs": [
    {
     "name": "stdout",
     "output_type": "stream",
     "text": [
      "0.81\n",
      "0.6561\n",
      "0.430467\n",
      "0.185302\n",
      "0.034337\n",
      "0.001179\n",
      "1e-06\n"
     ]
    }
   ],
   "source": [
    "x = 0.9\n",
    "\n",
    "if x < 1:\n",
    "\n",
    "    while x > 0.001:\n",
    "        # Square x (shortcut x *= x)\n",
    "        x = x * x\n",
    "        print(round(x, 6))\n",
    "        \n",
    "else:\n",
    "    print(\"x is greater than one, infinite loop avoided\")"
   ]
  },
  {
   "cell_type": "markdown",
   "metadata": {
    "collapsed": true,
    "slideshow": {
     "slide_type": "subslide"
    }
   },
   "source": [
    "__Try it for yourself:__\n",
    "\n",
    "In the cell above change the value of x to above or below 1.\n",
    "\n",
    "Observe the output.\n"
   ]
  },
  {
   "cell_type": "markdown",
   "metadata": {
    "slideshow": {
     "slide_type": "subslide"
    }
   },
   "source": [
    "__Try it for yourself:__\n",
    "\n",
    "In the cell below:\n",
    " - Create a variable,`x`, with the initial value 50\n",
    " - Each loop:\n",
    "  1. print x\n",
    "  1. reduce the value of x by half\n",
    " - Exit the loop when `x` < 3"
   ]
  },
  {
   "cell_type": "code",
   "execution_count": 18,
   "metadata": {
    "collapsed": true
   },
   "outputs": [],
   "source": [
    "# While loop"
   ]
  },
  {
   "cell_type": "markdown",
   "metadata": {
    "slideshow": {
     "slide_type": "slide"
    }
   },
   "source": [
    "## `break` and `continue`."
   ]
  },
  {
   "cell_type": "markdown",
   "metadata": {
    "slideshow": {
     "slide_type": "slide"
    }
   },
   "source": [
    "<a id='break'></a>\n",
    "### `break`\n",
    "\n",
    "Sometimes we want to exit a `for` or `while` loop prematurely. \n",
    "\n",
    "<img src=\"img/algorithm-break-statement.jpg\" alt=\"Drawing\" style=\"width: 300px;\"/>"
   ]
  },
  {
   "cell_type": "markdown",
   "metadata": {},
   "source": [
    "<p align=\"center\">\n",
    "  <img src=\"img/flow_diag_break.png\" alt=\"Drawing\" style=\"width: 300px;\"/>\n",
    "</p>"
   ]
  },
  {
   "cell_type": "code",
   "execution_count": 4,
   "metadata": {
    "slideshow": {
     "slide_type": "subslide"
    }
   },
   "outputs": [
    {
     "name": "stdout",
     "output_type": "stream",
     "text": [
      "0\n",
      "1\n",
      "2\n",
      "3\n",
      "4\n",
      "5\n",
      "Time to break out\n"
     ]
    }
   ],
   "source": [
    "for x in range(10):\n",
    "    print(x)\n",
    "    \n",
    "    if x == 5:\n",
    "        print(\"Time to break out\")\n",
    "        break"
   ]
  },
  {
   "cell_type": "markdown",
   "metadata": {
    "slideshow": {
     "slide_type": "slide"
    }
   },
   "source": [
    "Let's look at how we can use this in a program...\n"
   ]
  },
  {
   "cell_type": "markdown",
   "metadata": {
    "slideshow": {
     "slide_type": "slide"
    }
   },
   "source": [
    "We are going to look at a program to __find prime numbers__.\n",
    "\n",
    ">__Prime number:__ A positive integer, greater than 1, that has no positive divisors other than 1 and itself (2, 3, 5, 11, 13, 17....)\n",
    "\n",
    "The program checks (integer) numbers, up to a limit `N`, and prints the prime numbers. \n",
    "\n",
    "We will first look at an inefficient solution.\n",
    "\n",
    "We will write an improved solution using `break`. \n",
    "\n",
    "\n"
   ]
  },
  {
   "cell_type": "markdown",
   "metadata": {
    "slideshow": {
     "slide_type": "slide"
    }
   },
   "source": [
    "We can determine in `n` is a prime nunber by dividing it by every number in the range 2 to `n`.\n",
    "\n",
    "If any of these calculations has a remainder equal to zero, n is *not* a prime number.\n",
    "\n",
    "<p align=\"center\">\n",
    "  <img src=\"img/flow_diag_prime_numbers.png\" alt=\"Drawing\" style=\"width: 300px;\"/>\n",
    "</p>"
   ]
  },
  {
   "cell_type": "code",
   "execution_count": 11,
   "metadata": {},
   "outputs": [
    {
     "name": "stdout",
     "output_type": "stream",
     "text": [
      "2\n",
      "3\n",
      "5\n",
      "7\n",
      "11\n",
      "13\n",
      "17\n",
      "19\n",
      "23\n",
      "29\n",
      "31\n",
      "37\n",
      "41\n",
      "43\n",
      "47\n"
     ]
    }
   ],
   "source": [
    "N = 50  \n",
    "\n",
    "# for loop 1\n",
    "for n in range(2, N):    \n",
    "    n_is_prime = True\n",
    "\n",
    "    # for loop 2\n",
    "    for m in range(2, n): \n",
    "        if n % m == 0:   \n",
    "            n_is_prime = False\n",
    "            \n",
    "    if n_is_prime:\n",
    "        print(n)"
   ]
  },
  {
   "cell_type": "code",
   "execution_count": 20,
   "metadata": {
    "slideshow": {
     "slide_type": "subslide"
    }
   },
   "outputs": [
    {
     "name": "stdout",
     "output_type": "stream",
     "text": [
      "2\n",
      "3\n",
      "5\n",
      "7\n",
      "11\n",
      "13\n",
      "17\n",
      "19\n",
      "23\n",
      "29\n",
      "31\n",
      "37\n",
      "41\n",
      "43\n",
      "47\n"
     ]
    }
   ],
   "source": [
    "N = 50  # Check numbers up 50 for primes (excludes 50)\n",
    "\n",
    "# Loop over all numbers from 2 to 50 (excluding 50)\n",
    "for n in range(2, N):\n",
    "\n",
    "    # Assume that n is prime\n",
    "    n_is_prime = True\n",
    "\n",
    "    # Check if n divided by (any number in the range 2 to n) returns a remainder equal to 0 \n",
    "    for m in range(2, n):\n",
    "        \n",
    "        # If the remainder is zero, n is not a prime number\n",
    "        if n % m == 0: \n",
    "            n_is_prime = False\n",
    "\n",
    "    #  If n is prime, print to screen        \n",
    "    if n_is_prime:\n",
    "        print(n)"
   ]
  },
  {
   "cell_type": "markdown",
   "metadata": {
    "slideshow": {
     "slide_type": "subslide"
    }
   },
   "source": [
    "Notice that our program contains a second `for` loop. \n",
    "\n",
    "For each value of n, it loops through incrementing values of m in the range (2 to n):\n",
    "\n",
    "```python\n",
    "# Check if n can be divided by m\n",
    "# m ranges from 2 to n (excluding n)\n",
    "for m in range(2, n):\n",
    "```\n",
    "before incrementing to the next value of n.\n",
    "\n",
    "We call this a *nested* loop.\n",
    "\n",
    "The indents in the code show where loops are nested.\n",
    " \n",
    "Here it is again without the comments:"
   ]
  },
  {
   "cell_type": "markdown",
   "metadata": {
    "slideshow": {
     "slide_type": "slide"
    }
   },
   "source": [
    "As n gets larger, dividing it by *every* number in the range (2, n) becomes more and more inefficient. \n",
    "\n",
    "A `break` statement exits the loop as soon as a remainder equal to zero is returned <br>(indicating that n is not a prime number). \n",
    "\n"
   ]
  },
  {
   "cell_type": "markdown",
   "metadata": {
    "slideshow": {
     "slide_type": "slide"
    }
   },
   "source": [
    "As soon as a number is found to be not prime, the program:\n",
    "- breaks out of loop 2\n",
    "- goes to the next value of n in loop 1.\n",
    "\n",
    "<p align=\"center\">\n",
    "  <img src=\"img/flow_diag_prime_numbers_break.png\" alt=\"Drawing\" style=\"width: 300px;\"/>\n",
    "</p>"
   ]
  },
  {
   "cell_type": "code",
   "execution_count": 5,
   "metadata": {
    "slideshow": {
     "slide_type": "subslide"
    }
   },
   "outputs": [
    {
     "name": "stdout",
     "output_type": "stream",
     "text": [
      "2\n",
      "3\n",
      "5\n",
      "7\n",
      "11\n",
      "13\n",
      "17\n",
      "19\n",
      "23\n",
      "29\n",
      "31\n",
      "37\n",
      "41\n",
      "43\n",
      "47\n"
     ]
    }
   ],
   "source": [
    "N = 50  \n",
    "# for loop 1\n",
    "for n in range(2, N):\n",
    "    \n",
    "    # for loop 2\n",
    "    for m in range(2, n):\n",
    "        if not (n % m): \n",
    "            #print(n, \"not prime\")\n",
    "            break\n",
    "            \n",
    "    else: \n",
    "         # if n is prime\n",
    "            print(n)\n",
    "            #print(n, \"prime\")"
   ]
  },
  {
   "cell_type": "markdown",
   "metadata": {},
   "source": [
    "### `for-else` and `while-else`. \n",
    "\n",
    "This is an example of the `for-else` construction...\n",
    "\n",
    "`for-else` and `while-else` are similar to `if-else`.\n",
    "<br>The `for` / `while` loop is executed.\n",
    "<br>If the loop is not exited due to the `break` the `else` will be executed. \n",
    "\n",
    "\n",
    "By placing `else` *one level up* from `if` the program will iterate through all values of m before printing n if n is prime. "
   ]
  },
  {
   "cell_type": "markdown",
   "metadata": {
    "collapsed": true,
    "slideshow": {
     "slide_type": "slide"
    }
   },
   "source": [
    "<a id='Continue'></a>\n",
    "### `continue`\n",
    "\n",
    "Sometimes, instead of *skipping all remaining values*, we want to skip *just one value* in a loop. \n",
    "\n",
    "For this we use `continue`. \n",
    "\n",
    "<p align=\"center\">\n",
    "  <img src=\"img/flow_diag_continue.png\" alt=\"Drawing\" style=\"width: 300px;\"/>\n",
    "</p>\n",
    "\n"
   ]
  },
  {
   "cell_type": "markdown",
   "metadata": {
    "slideshow": {
     "slide_type": "slide"
    }
   },
   "source": [
    "<img src=\"img/algorithm-continue-statement.jpg\" alt=\"Drawing\" style=\"width: 300px;\"/>"
   ]
  },
  {
   "cell_type": "markdown",
   "metadata": {
    "slideshow": {
     "slide_type": "slide"
    }
   },
   "source": [
    "Let's compare break and continue...\n",
    "\n",
    "This program loops through numbers in the range 0 to 19.\n",
    "\n",
    "It prints a message about each number.\n",
    "\n",
    "It *stops* when it reaches a number that is not a multiple of 4."
   ]
  },
  {
   "cell_type": "code",
   "execution_count": 14,
   "metadata": {
    "slideshow": {
     "slide_type": "-"
    }
   },
   "outputs": [
    {
     "name": "stdout",
     "output_type": "stream",
     "text": [
      "1 is not a multiple of 4\n",
      "2 is not a multiple of 4\n",
      "3 is not a multiple of 4\n"
     ]
    }
   ],
   "source": [
    "for j in range(1, 20):\n",
    "    \n",
    "    if j % 4 == 0:  # Check remainer of j/4\n",
    "        break    # continue to next value of j\n",
    "        \n",
    "    print(j, \"is not a multiple of 4\")"
   ]
  },
  {
   "cell_type": "markdown",
   "metadata": {
    "slideshow": {
     "slide_type": "slide"
    }
   },
   "source": [
    "This program loops through numbers in the range 0 to 19.\n",
    "\n",
    "It prints a message about each number.\n",
    "\n",
    "It *skips* this operation whenever it reaches a number that is not a multiple of 4.\n",
    "\n",
    "If the number is divisible by 4 it *continues* to the next value in the loop, without printing."
   ]
  },
  {
   "cell_type": "code",
   "execution_count": 23,
   "metadata": {
    "slideshow": {
     "slide_type": "-"
    }
   },
   "outputs": [
    {
     "name": "stdout",
     "output_type": "stream",
     "text": [
      "1 is not a multiple of 4\n",
      "2 is not a multiple of 4\n",
      "3 is not a multiple of 4\n",
      "5 is not a multiple of 4\n",
      "6 is not a multiple of 4\n",
      "7 is not a multiple of 4\n",
      "9 is not a multiple of 4\n",
      "10 is not a multiple of 4\n",
      "11 is not a multiple of 4\n",
      "13 is not a multiple of 4\n",
      "14 is not a multiple of 4\n",
      "15 is not a multiple of 4\n",
      "17 is not a multiple of 4\n",
      "18 is not a multiple of 4\n",
      "19 is not a multiple of 4\n"
     ]
    }
   ],
   "source": [
    "for j in range(1, 20):\n",
    "    \n",
    "    if j % 4 == 0:  # Check remainer of j/4\n",
    "        continue    # continue to next value of j\n",
    "        \n",
    "    print(j, \"is not a multiple of 4\")"
   ]
  },
  {
   "cell_type": "markdown",
   "metadata": {
    "slideshow": {
     "slide_type": "subslide"
    }
   },
   "source": [
    "__Try it yourself__\n",
    "We can use a `for` loop to perform an operation on each character of a string.\n",
    "\n",
    "```Python\n",
    "string = \"string\"\n",
    "\n",
    "for i in range(len(sting)):\n",
    "    print(sting[i])\n",
    "```"
   ]
  },
  {
   "cell_type": "markdown",
   "metadata": {
    "slideshow": {
     "slide_type": "subslide"
    }
   },
   "source": [
    "In the cell below, loop through the characters of the string.\n",
    "Use `continue` to only print the letters of the word *sting*."
   ]
  },
  {
   "cell_type": "code",
   "execution_count": 25,
   "metadata": {
    "collapsed": true
   },
   "outputs": [],
   "source": [
    "# Print the letters of the word sting\n",
    "string = \"string\""
   ]
  },
  {
   "cell_type": "markdown",
   "metadata": {
    "slideshow": {
     "slide_type": "slide"
    }
   },
   "source": [
    "# Summary\n",
    "\n",
    "[*McGrath, Python in easy steps, 2013*]\n",
    "\n",
    " - The Python `if` keyword performs a conditional test on an expression for a Boolean value of True or False.\n",
    " - Alternatives to an `if` test are provided using `elif` and `else` tests.\n",
    " - A `while` loop repeats until a test expression returns `False`.\n",
    " - A `for`...`in`... loop iterates over each item in a specified data structure (or string).\n",
    " - The `range()` function generates a numerical sequence that can be used to specify the length of the `for` loop.\n",
    " - The `break` and `continue` keywords interrupt loop iterations."
   ]
  },
  {
   "cell_type": "markdown",
   "metadata": {
    "slideshow": {
     "slide_type": "slide"
    }
   },
   "source": [
    "# Updating your class notes\n",
    "\n",
    "To add the examples that we covered in class today...\n",
    "\n",
    "In the terminal:\n",
    "1.Navigate to *inside* of the ILAS_python_for_engineers folder on your computer.\n",
    "\n",
    "2.Type:\n",
    "> <br>`git add -A`\n",
    "> <br>`git commit -m \"commit\"`\n",
    "> <br>`git`\n",
    "  "
   ]
  },
  {
   "cell_type": "markdown",
   "metadata": {
    "slideshow": {
     "slide_type": "slide"
    }
   },
   "source": [
    "# Individual Exercise\n",
    "\n",
    "Compete the exercise below.\n",
    "\n",
    "Copy and paste your aswer into an email and send it to:\n",
    "<br>hemma.philamore.5s@kyoto-u.ac.jp\n",
    "\n"
   ]
  },
  {
   "cell_type": "markdown",
   "metadata": {
    "slideshow": {
     "slide_type": "slide"
    }
   },
   "source": [
    "## Review Exercises\n",
    "Here are a series of engineering-related problems for you to practise the new Python skills that you have learnt today in your own time."
   ]
  },
  {
   "cell_type": "markdown",
   "metadata": {
    "slideshow": {
     "slide_type": "subslide"
    }
   },
   "source": [
    "### Review Exercise: `while` loops.\n",
    "In the cell below, write a while loop that with each loop:\n",
    "- prints the value of `x`\n",
    "- then decreases the value of x by 0.5\n",
    "\n",
    "as long as `x` remains positive.\n",
    "\n",
    "<a href='#WhileLoops'>Jump to While Loops</a>"
   ]
  },
  {
   "cell_type": "code",
   "execution_count": 26,
   "metadata": {
    "collapsed": true
   },
   "outputs": [],
   "source": [
    "x = 4"
   ]
  },
  {
   "cell_type": "code",
   "execution_count": null,
   "metadata": {
    "collapsed": true
   },
   "outputs": [],
   "source": [
    "# Example Solution\n",
    "\n",
    "while (x > 0):\n",
    "    print(x)\n",
    "    x -= 0.5"
   ]
  },
  {
   "cell_type": "markdown",
   "metadata": {
    "slideshow": {
     "slide_type": "subslide"
    }
   },
   "source": [
    "### Review Exercise: `for` loops\n",
    "In the cell below, write a `for` loop to print the even numbers from 2 to 100, inclusive."
   ]
  },
  {
   "cell_type": "code",
   "execution_count": 27,
   "metadata": {
    "collapsed": true
   },
   "outputs": [],
   "source": [
    "# for loop to print the even numbers from 2 to 20, inclusive."
   ]
  },
  {
   "cell_type": "code",
   "execution_count": null,
   "metadata": {
    "collapsed": true
   },
   "outputs": [],
   "source": [
    "# Example Solution\n",
    "\n",
    "for i in range(2, 21, 2):\n",
    "    print(i)   "
   ]
  },
  {
   "cell_type": "markdown",
   "metadata": {
    "slideshow": {
     "slide_type": "subslide"
    }
   },
   "source": [
    "### Review Excercise: `for` loops and `if` statements\n",
    "In the cell below, write a for loop to alternately print `Red` then `Blue` 3 times. \n",
    "<br>i.e. \n",
    "<br>Red \n",
    "<br>Blue \n",
    "<br>Red \n",
    "<br>Blue \n",
    "<br>Red \n",
    "<br>Blue "
   ]
  },
  {
   "cell_type": "code",
   "execution_count": 28,
   "metadata": {
    "collapsed": true
   },
   "outputs": [],
   "source": [
    "# Alternately print Red and Blue"
   ]
  },
  {
   "cell_type": "code",
   "execution_count": null,
   "metadata": {
    "collapsed": true
   },
   "outputs": [],
   "source": [
    "# Example Solution\n",
    "\n",
    "colour = \"Red\"\n",
    "\n",
    "for n in range(6):\n",
    "    print(colour)\n",
    "    \n",
    "    if colour == \"Red\":\n",
    "        colour = \"Blue\"\n",
    "        \n",
    "    else:\n",
    "        colour = \"Red\"  "
   ]
  },
  {
   "cell_type": "markdown",
   "metadata": {
    "slideshow": {
     "slide_type": "subslide"
    }
   },
   "source": [
    "### Review Exercise: `continue`\n",
    "In the cell below, loop through the characters of the string.\n",
    "<br>Use `continue` to only print the letters of the word *sing*.\n",
    "<br>Hint: Refer to __Logical Operators__ (Seminar 2). \n",
    "\n",
    "<a href='#Continue'>Jump to continue</a>"
   ]
  },
  {
   "cell_type": "code",
   "execution_count": 29,
   "metadata": {
    "collapsed": true
   },
   "outputs": [],
   "source": [
    "# Print the letters of the word sing\n",
    "string = \"string\""
   ]
  },
  {
   "cell_type": "code",
   "execution_count": null,
   "metadata": {
    "collapsed": true
   },
   "outputs": [],
   "source": [
    "# Example Solution\n",
    "string = \"string\"\n",
    "\n",
    "for i in range(len(string)):\n",
    "    \n",
    "    if string[i] == \"r\" or string[i] == \"t\":\n",
    "        continue\n",
    "    \n",
    "    print(string[i])"
   ]
  },
  {
   "cell_type": "markdown",
   "metadata": {
    "slideshow": {
     "slide_type": "subslide"
    }
   },
   "source": [
    "### Review Exercise: `for` loops and `if`, `else` and `continue` statements.\n",
    "__(A)__ In the cell below, use a for loop to print the square roots of the first 25 odd positive integers.\n",
    "<br> (Remember, the square root of a number, $x$ can be found by $x^{1/2}$)\n",
    "\n",
    "__(B)__ If the number generated is greater than 3 and smaller than 5, print \"`skip`\" and __`continue`__ to the next iteration *without* printing the number.\n",
    "<br>Hint: Refer to __Logical Operators__ (Seminar 2). \n",
    "\n",
    "<a href='#ForLoops'>Jump to for loops</a>\n",
    "\n",
    "<a href='#IfElse'>Jump to if and else statements</a>\n",
    "\n",
    "<a href='#Continue'>Jump to continue</a>"
   ]
  },
  {
   "cell_type": "code",
   "execution_count": 30,
   "metadata": {
    "collapsed": true
   },
   "outputs": [],
   "source": [
    "# square roots of the first 25 odd positive integers\n",
    "\n"
   ]
  },
  {
   "cell_type": "code",
   "execution_count": null,
   "metadata": {
    "collapsed": true
   },
   "outputs": [],
   "source": [
    "# Example Solution\n",
    "\n",
    "for x in range(1, 50, 2):\n",
    "    \n",
    "    if((x ** (1/2) > 3) and (x ** (1/2) < 5)): \n",
    "        print(\"skip\")\n",
    "        continue\n",
    "        \n",
    "    print(x ** (1/2))"
   ]
  }
 ],
 "metadata": {
  "celltoolbar": "Slideshow",
  "kernelspec": {
   "display_name": "Python 3",
   "language": "python",
   "name": "python3"
  },
  "language_info": {
   "codemirror_mode": {
    "name": "ipython",
    "version": 3
   },
   "file_extension": ".py",
   "mimetype": "text/x-python",
   "name": "python",
   "nbconvert_exporter": "python",
   "pygments_lexer": "ipython3",
   "version": "3.6.2"
  }
 },
 "nbformat": 4,
 "nbformat_minor": 2
}
